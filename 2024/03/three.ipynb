{
 "cells": [
  {
   "cell_type": "markdown",
   "id": "10b40da6-d670-4c58-b221-3149c283a3de",
   "metadata": {},
   "source": [
    "--- Day 3: Mull It Over ---\n",
    "\"Our computers are having issues, so I have no idea if we have any Chief Historians in stock! You're welcome to check the warehouse, though,\" says the mildly flustered shopkeeper at the North Pole Toboggan Rental Shop. The Historians head out to take a look.\n",
    "\n",
    "The shopkeeper turns to you. \"Any chance you can see why our computers are having issues again?\"\n",
    "\n",
    "The computer appears to be trying to run a program, but its memory (your puzzle input) is corrupted. All of the instructions have been jumbled up!\n",
    "\n",
    "It seems like the goal of the program is just to multiply some numbers. It does that with instructions like mul(X,Y), where X and Y are each 1-3 digit numbers. For instance, mul(44,46) multiplies 44 by 46 to get a result of 2024. Similarly, mul(123,4) would multiply 123 by 4.\n",
    "\n",
    "However, because the program's memory has been corrupted, there are also many invalid characters that should be ignored, even if they look like part of a mul instruction. Sequences like mul(4*, mul(6,9!, ?(12,34), or mul ( 2 , 4 ) do nothing.\n",
    "\n",
    "For example, consider the following section of corrupted memory:\n",
    "```\n",
    "xmul(2,4)%&mul[3,7]!@^do_not_mul(5,5)+mul(32,64]then(mul(11,8)mul(8,5))\n",
    "```\n",
    "Only the four highlighted sections are real mul instructions. Adding up the result of each instruction produces 161 (2*4 + 5*5 + 11*8 + 8*5).\n",
    "\n",
    "Scan the corrupted memory for uncorrupted mul instructions. What do you get if you add up all of the results of the multiplications?\n",
    "\n",
    "To begin, get your puzzle input."
   ]
  },
  {
   "cell_type": "code",
   "execution_count": 1,
   "id": "7e47288a-6f39-4ddc-b4bf-4e94f7e8e6a9",
   "metadata": {},
   "outputs": [],
   "source": [
    "test_data = \"xmul(2,4)%&mul[3,7]!@^do_not_mul(5,5)+mul(32,64]then(mul(11,8)mul(8,5))\""
   ]
  },
  {
   "cell_type": "code",
   "execution_count": 2,
   "id": "d451926f-3c79-4b18-b982-cf843ae0d918",
   "metadata": {},
   "outputs": [],
   "source": [
    "import re"
   ]
  },
  {
   "cell_type": "code",
   "execution_count": 19,
   "id": "61bf5bb6-073c-4923-a31d-53f8f1b970de",
   "metadata": {},
   "outputs": [],
   "source": [
    "def parse_memory(data):\n",
    "    muls = re.findall(\"mul\\(\\d+,\\d+\\)\", data)\n",
    "    muls =  [x.lstrip(\"mul(\").rstrip(\")\").split(\",\") for x in muls]\n",
    "    muls = [int(x[0])*int(x[1]) for x in muls]\n",
    "    return sum(muls)\n",
    "    "
   ]
  },
  {
   "cell_type": "code",
   "execution_count": 20,
   "id": "2fc7c170-4fe0-4859-b243-14a0bcc295d6",
   "metadata": {},
   "outputs": [
    {
     "data": {
      "text/plain": [
       "161"
      ]
     },
     "execution_count": 20,
     "metadata": {},
     "output_type": "execute_result"
    }
   ],
   "source": [
    "parse_memory(test_data)"
   ]
  },
  {
   "cell_type": "code",
   "execution_count": 21,
   "id": "d124c983-1843-45e0-8103-39e6b0d3bfbb",
   "metadata": {},
   "outputs": [],
   "source": [
    "with open(\"input.txt\", \"r\") as f:\n",
    "    data = f.read()"
   ]
  },
  {
   "cell_type": "code",
   "execution_count": 22,
   "id": "11ed62bc-7169-451c-a0dd-ecd299187e81",
   "metadata": {},
   "outputs": [
    {
     "data": {
      "text/plain": [
       "175015740"
      ]
     },
     "execution_count": 22,
     "metadata": {},
     "output_type": "execute_result"
    }
   ],
   "source": [
    "parse_memory(data)"
   ]
  },
  {
   "cell_type": "markdown",
   "id": "60bc792c-3d17-4b80-8306-5e7a213dcc7b",
   "metadata": {},
   "source": [
    "--- Part Two ---\n",
    "As you scan through the corrupted memory, you notice that some of the conditional statements are also still intact. If you handle some of the uncorrupted conditional statements in the program, you might be able to get an even more accurate result.\n",
    "\n",
    "There are two new instructions you'll need to handle:\n",
    "\n",
    "The do() instruction enables future mul instructions.\n",
    "The don't() instruction disables future mul instructions.\n",
    "Only the most recent do() or don't() instruction applies. At the beginning of the program, mul instructions are enabled.\n",
    "\n",
    "For example:\n",
    "```\n",
    "xmul(2,4)&mul[3,7]!^don't()_mul(5,5)+mul(32,64](mul(11,8)undo()?mul(8,5))\n",
    "```\n",
    "This corrupted memory is similar to the example from before, but this time the mul(5,5) and mul(11,8) instructions are disabled because there is a don't() instruction before them. The other mul instructions function normally, including the one at the end that gets re-enabled by a do() instruction.\n",
    "\n",
    "This time, the sum of the results is 48 (2*4 + 8*5).\n",
    "\n",
    "Handle the new instructions; what do you get if you add up all of the results of just the enabled multiplications?"
   ]
  },
  {
   "cell_type": "code",
   "execution_count": 26,
   "id": "5225f86d-68c0-49bb-afb3-a758be6e10c3",
   "metadata": {},
   "outputs": [],
   "source": [
    "test_data = \"xmul(2,4)&mul[3,7]!^don't()_mul(5,5)+mul(32,64](mul(11,8)undo()?mul(8,5))\""
   ]
  },
  {
   "cell_type": "code",
   "execution_count": 28,
   "id": "73f01028-fe58-496e-b568-f2be697e5c72",
   "metadata": {},
   "outputs": [
    {
     "data": {
      "text/plain": [
       "['xmul(2,4)&mul[3,7]!^', '()_mul(5,5)+mul(32,64](mul(11,8)undo()?mul(8,5))']"
      ]
     },
     "execution_count": 28,
     "metadata": {},
     "output_type": "execute_result"
    }
   ],
   "source": [
    "test_data.split(\"don't\")"
   ]
  },
  {
   "cell_type": "code",
   "execution_count": 44,
   "id": "394493c0-2d11-42fb-973e-3a6bc9bb65ef",
   "metadata": {},
   "outputs": [],
   "source": [
    "def dos_and_donts(data):\n",
    "    \"\"\"builds strings gathering the part of the instruction to do, and to not do\"\"\"\n",
    "    dontsplit = data.split(\"don't()\")\n",
    "    dos = dontsplit[0]\n",
    "    donts = \"\"\n",
    "    for chunk in dontsplit[1:]:\n",
    "        dosplit = chunk.split(\"do()\")\n",
    "        donts += dosplit[0]\n",
    "        if len(dosplit)>1:\n",
    "            dos+= \"\".join(dosplit[1:])\n",
    "    return parse_memory(dos)"
   ]
  },
  {
   "cell_type": "code",
   "execution_count": 45,
   "id": "2c8793e1-38eb-4a68-a1af-511e6a5cd09d",
   "metadata": {},
   "outputs": [
    {
     "data": {
      "text/plain": [
       "48"
      ]
     },
     "execution_count": 45,
     "metadata": {},
     "output_type": "execute_result"
    }
   ],
   "source": [
    "dos_and_donts(test_data)"
   ]
  },
  {
   "cell_type": "code",
   "execution_count": 46,
   "id": "8ab40640-562b-4cda-be1d-6f72c64352ef",
   "metadata": {},
   "outputs": [
    {
     "data": {
      "text/plain": [
       "112272912"
      ]
     },
     "execution_count": 46,
     "metadata": {},
     "output_type": "execute_result"
    }
   ],
   "source": [
    "dos_and_donts(data)"
   ]
  },
  {
   "cell_type": "code",
   "execution_count": null,
   "id": "fc5b1b3d-5fa6-4f44-a214-b7ef2d654572",
   "metadata": {},
   "outputs": [],
   "source": []
  }
 ],
 "metadata": {
  "kernelspec": {
   "display_name": "Python 3 (ipykernel)",
   "language": "python",
   "name": "python3"
  },
  "language_info": {
   "codemirror_mode": {
    "name": "ipython",
    "version": 3
   },
   "file_extension": ".py",
   "mimetype": "text/x-python",
   "name": "python",
   "nbconvert_exporter": "python",
   "pygments_lexer": "ipython3",
   "version": "3.10.12"
  }
 },
 "nbformat": 4,
 "nbformat_minor": 5
}
