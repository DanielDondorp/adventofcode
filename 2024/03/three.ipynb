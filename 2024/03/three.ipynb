{
 "cells": [
  {
   "cell_type": "markdown",
   "id": "10b40da6-d670-4c58-b221-3149c283a3de",
   "metadata": {},
   "source": [
    "## Part One"
   ]
  },
  {
   "cell_type": "code",
   "execution_count": 1,
   "id": "7e47288a-6f39-4ddc-b4bf-4e94f7e8e6a9",
   "metadata": {},
   "outputs": [],
   "source": [
    "test_data = \"xmul(2,4)%&mul[3,7]!@^do_not_mul(5,5)+mul(32,64]then(mul(11,8)mul(8,5))\""
   ]
  },
  {
   "cell_type": "code",
   "execution_count": 2,
   "id": "d451926f-3c79-4b18-b982-cf843ae0d918",
   "metadata": {},
   "outputs": [],
   "source": [
    "import re"
   ]
  },
  {
   "cell_type": "code",
   "execution_count": 19,
   "id": "61bf5bb6-073c-4923-a31d-53f8f1b970de",
   "metadata": {},
   "outputs": [],
   "source": [
    "def parse_memory(data):\n",
    "    muls = re.findall(\"mul\\(\\d+,\\d+\\)\", data)\n",
    "    muls =  [x.lstrip(\"mul(\").rstrip(\")\").split(\",\") for x in muls]\n",
    "    muls = [int(x[0])*int(x[1]) for x in muls]\n",
    "    return sum(muls)\n",
    "    "
   ]
  },
  {
   "cell_type": "code",
   "execution_count": 20,
   "id": "2fc7c170-4fe0-4859-b243-14a0bcc295d6",
   "metadata": {},
   "outputs": [
    {
     "data": {
      "text/plain": [
       "161"
      ]
     },
     "execution_count": 20,
     "metadata": {},
     "output_type": "execute_result"
    }
   ],
   "source": [
    "parse_memory(test_data)"
   ]
  },
  {
   "cell_type": "code",
   "execution_count": 21,
   "id": "d124c983-1843-45e0-8103-39e6b0d3bfbb",
   "metadata": {},
   "outputs": [],
   "source": [
    "with open(\"input.txt\", \"r\") as f:\n",
    "    data = f.read()"
   ]
  },
  {
   "cell_type": "code",
   "execution_count": 22,
   "id": "11ed62bc-7169-451c-a0dd-ecd299187e81",
   "metadata": {},
   "outputs": [
    {
     "data": {
      "text/plain": [
       "175015740"
      ]
     },
     "execution_count": 22,
     "metadata": {},
     "output_type": "execute_result"
    }
   ],
   "source": [
    "parse_memory(data)"
   ]
  },
  {
   "cell_type": "markdown",
   "id": "60bc792c-3d17-4b80-8306-5e7a213dcc7b",
   "metadata": {},
   "source": [
    "## Part Two"
   ]
  },
  {
   "cell_type": "code",
   "execution_count": 26,
   "id": "5225f86d-68c0-49bb-afb3-a758be6e10c3",
   "metadata": {},
   "outputs": [],
   "source": [
    "test_data = \"xmul(2,4)&mul[3,7]!^don't()_mul(5,5)+mul(32,64](mul(11,8)undo()?mul(8,5))\""
   ]
  },
  {
   "cell_type": "code",
   "execution_count": 28,
   "id": "73f01028-fe58-496e-b568-f2be697e5c72",
   "metadata": {},
   "outputs": [
    {
     "data": {
      "text/plain": [
       "['xmul(2,4)&mul[3,7]!^', '()_mul(5,5)+mul(32,64](mul(11,8)undo()?mul(8,5))']"
      ]
     },
     "execution_count": 28,
     "metadata": {},
     "output_type": "execute_result"
    }
   ],
   "source": [
    "test_data.split(\"don't\")"
   ]
  },
  {
   "cell_type": "code",
   "execution_count": 44,
   "id": "394493c0-2d11-42fb-973e-3a6bc9bb65ef",
   "metadata": {},
   "outputs": [],
   "source": [
    "def dos_and_donts(data):\n",
    "    \"\"\"builds strings gathering the part of the instruction to do, and to not do\"\"\"\n",
    "    dontsplit = data.split(\"don't()\")\n",
    "    dos = dontsplit[0]\n",
    "    donts = \"\"\n",
    "    for chunk in dontsplit[1:]:\n",
    "        dosplit = chunk.split(\"do()\")\n",
    "        donts += dosplit[0]\n",
    "        if len(dosplit)>1:\n",
    "            dos+= \"\".join(dosplit[1:])\n",
    "    return parse_memory(dos)"
   ]
  },
  {
   "cell_type": "code",
   "execution_count": 45,
   "id": "2c8793e1-38eb-4a68-a1af-511e6a5cd09d",
   "metadata": {},
   "outputs": [
    {
     "data": {
      "text/plain": [
       "48"
      ]
     },
     "execution_count": 45,
     "metadata": {},
     "output_type": "execute_result"
    }
   ],
   "source": [
    "dos_and_donts(test_data)"
   ]
  },
  {
   "cell_type": "code",
   "execution_count": 46,
   "id": "8ab40640-562b-4cda-be1d-6f72c64352ef",
   "metadata": {},
   "outputs": [
    {
     "data": {
      "text/plain": [
       "112272912"
      ]
     },
     "execution_count": 46,
     "metadata": {},
     "output_type": "execute_result"
    }
   ],
   "source": [
    "dos_and_donts(data)"
   ]
  },
  {
   "cell_type": "code",
   "execution_count": null,
   "id": "fc5b1b3d-5fa6-4f44-a214-b7ef2d654572",
   "metadata": {},
   "outputs": [],
   "source": []
  }
 ],
 "metadata": {
  "kernelspec": {
   "display_name": "Python 3 (ipykernel)",
   "language": "python",
   "name": "python3"
  },
  "language_info": {
   "codemirror_mode": {
    "name": "ipython",
    "version": 3
   },
   "file_extension": ".py",
   "mimetype": "text/x-python",
   "name": "python",
   "nbconvert_exporter": "python",
   "pygments_lexer": "ipython3",
   "version": "3.10.12"
  }
 },
 "nbformat": 4,
 "nbformat_minor": 5
}
