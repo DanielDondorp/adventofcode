{
 "cells": [
  {
   "cell_type": "code",
   "execution_count": 1,
   "id": "bafc2ca8-1e8c-44b9-bd28-21cb8e4e7c78",
   "metadata": {},
   "outputs": [],
   "source": [
    "import numpy as np\n",
    "import aocd\n",
    "import re"
   ]
  },
  {
   "cell_type": "code",
   "execution_count": 2,
   "id": "f4520612-1a53-4e93-834e-14891a1e4ab1",
   "metadata": {},
   "outputs": [],
   "source": [
    "test_input = \"\"\"Button A: X+94, Y+34\n",
    "Button B: X+22, Y+67\n",
    "Prize: X=8400, Y=5400\n",
    "\n",
    "Button A: X+26, Y+66\n",
    "Button B: X+67, Y+21\n",
    "Prize: X=12748, Y=12176\n",
    "\n",
    "Button A: X+17, Y+86\n",
    "Button B: X+84, Y+37\n",
    "Prize: X=7870, Y=6450\n",
    "\n",
    "Button A: X+69, Y+23\n",
    "Button B: X+27, Y+71\n",
    "Prize: X=18641, Y=10279\"\"\""
   ]
  },
  {
   "cell_type": "code",
   "execution_count": 3,
   "id": "5232b49d-6a9f-4984-ab11-7ab2692c9dc8",
   "metadata": {},
   "outputs": [],
   "source": [
    "def parse_input(puzzle_input):\n",
    "    numbers = np.array(re.findall(r'\\b\\d+\\b', puzzle_input)).astype(int)\n",
    "    machines = []\n",
    "    for i in range(0, len(numbers), 6):\n",
    "        machines.append({\"A\": np.array(numbers[i:i+2]), \"B\": np.array(numbers[i+2:i+4]), \"Target\": np.array(numbers[i+4:i+6])})\n",
    "    return machines"
   ]
  },
  {
   "cell_type": "code",
   "execution_count": 20,
   "id": "99e4247c-eacf-4f46-9d48-5a868b58107a",
   "metadata": {},
   "outputs": [],
   "source": [
    "machines= parse_input(test_input)"
   ]
  },
  {
   "cell_type": "code",
   "execution_count": 21,
   "id": "e2bf41f5-bff5-4256-b469-e5a3f5b56e98",
   "metadata": {},
   "outputs": [],
   "source": [
    "machine = machines[0]"
   ]
  },
  {
   "cell_type": "code",
   "execution_count": 22,
   "id": "38f671f1-2323-49fc-85b5-131f21fd93cc",
   "metadata": {},
   "outputs": [],
   "source": [
    "A = np.hstack( [machine[\"A\"].reshape(-1, 1), machine[\"B\"].reshape(-1,1)])"
   ]
  },
  {
   "cell_type": "code",
   "execution_count": 23,
   "id": "6bc8d755-f8b6-4b99-b35d-cecf43b40b43",
   "metadata": {},
   "outputs": [
    {
     "data": {
      "text/plain": [
       "array([[94, 22],\n",
       "       [34, 67]])"
      ]
     },
     "execution_count": 23,
     "metadata": {},
     "output_type": "execute_result"
    }
   ],
   "source": [
    "A"
   ]
  },
  {
   "cell_type": "code",
   "execution_count": 24,
   "id": "8bff99a7-4080-4687-a29b-81aae7db5aff",
   "metadata": {},
   "outputs": [],
   "source": [
    "Ai = np.linalg.inv(A)"
   ]
  },
  {
   "cell_type": "code",
   "execution_count": 25,
   "id": "f870e62a-179b-4a66-937d-db59ab8fe1e5",
   "metadata": {},
   "outputs": [],
   "source": [
    "T = machine[\"Target\"]"
   ]
  },
  {
   "cell_type": "code",
   "execution_count": 33,
   "id": "d2fd59b6-15a3-4555-9474-703ac7fe144d",
   "metadata": {},
   "outputs": [],
   "source": [
    "x = np.dot(Ai, T).astype(float)"
   ]
  },
  {
   "cell_type": "code",
   "execution_count": 35,
   "id": "3a0a594a-80e8-455a-85cc-eb8b1f317c96",
   "metadata": {},
   "outputs": [
    {
     "data": {
      "text/plain": [
       "array([ True, False])"
      ]
     },
     "execution_count": 35,
     "metadata": {},
     "output_type": "execute_result"
    }
   ],
   "source": [
    "x == x.astype(np.int64)"
   ]
  },
  {
   "cell_type": "code",
   "execution_count": 37,
   "id": "7a1b11ed-7da7-48e7-bec9-608a8c6145db",
   "metadata": {},
   "outputs": [],
   "source": [
    "c = x * [3,1]"
   ]
  },
  {
   "cell_type": "code",
   "execution_count": 39,
   "id": "a7eb9186-d5ec-4e8b-8c83-69908164c5f0",
   "metadata": {},
   "outputs": [],
   "source": [
    "c = sum(c)"
   ]
  },
  {
   "cell_type": "code",
   "execution_count": 40,
   "id": "d3f68624-42c7-4b69-a8f5-6b6f6defb909",
   "metadata": {},
   "outputs": [
    {
     "data": {
      "text/plain": [
       "np.True_"
      ]
     },
     "execution_count": 40,
     "metadata": {},
     "output_type": "execute_result"
    }
   ],
   "source": [
    "c == int(c)"
   ]
  },
  {
   "cell_type": "code",
   "execution_count": 13,
   "id": "e273ee53-fceb-46c3-8634-eb97376b1b0b",
   "metadata": {},
   "outputs": [],
   "source": [
    "B = np.array([118.4, 135.2])\n",
    "A = np.array([[3, 3.2],[3.5, 3.6]])"
   ]
  },
  {
   "cell_type": "code",
   "execution_count": 14,
   "id": "56fa6432-9690-4e51-988d-551fa14ea191",
   "metadata": {},
   "outputs": [],
   "source": [
    "Ai = np.linalg.inv(A)"
   ]
  },
  {
   "cell_type": "code",
   "execution_count": 15,
   "id": "876d43e3-21f2-4732-9018-b2f8731f1f83",
   "metadata": {},
   "outputs": [],
   "source": [
    "x = np.dot(Ai,B)"
   ]
  },
  {
   "cell_type": "code",
   "execution_count": 16,
   "id": "076c7853-9c6d-4a38-9462-29b1bd2a9272",
   "metadata": {},
   "outputs": [
    {
     "data": {
      "text/plain": [
       "dtype('float64')"
      ]
     },
     "execution_count": 16,
     "metadata": {},
     "output_type": "execute_result"
    }
   ],
   "source": [
    "x.dtype"
   ]
  },
  {
   "cell_type": "code",
   "execution_count": 17,
   "id": "6aa5a6ad-9793-468b-b064-b61d3ec904c7",
   "metadata": {},
   "outputs": [
    {
     "data": {
      "text/plain": [
       "dtype('float64')"
      ]
     },
     "execution_count": 17,
     "metadata": {},
     "output_type": "execute_result"
    }
   ],
   "source": [
    "A.dtype"
   ]
  },
  {
   "cell_type": "code",
   "execution_count": 18,
   "id": "fff679ed-f5e1-4c68-b981-dc4e05a4bee4",
   "metadata": {},
   "outputs": [
    {
     "data": {
      "text/plain": [
       "array([[3. , 3.2],\n",
       "       [3.5, 3.6]])"
      ]
     },
     "execution_count": 18,
     "metadata": {},
     "output_type": "execute_result"
    }
   ],
   "source": [
    "A"
   ]
  },
  {
   "cell_type": "code",
   "execution_count": 431,
   "id": "b84640b5-e323-432c-81c2-469974d1059f",
   "metadata": {},
   "outputs": [],
   "source": [
    "def parse_input(puzzle_input):\n",
    "    numbers = np.array(re.findall(r'\\b\\d+\\b', puzzle_input)).astype(np.float64)\n",
    "    machines = []\n",
    "    for i in range(0, len(numbers), 6):\n",
    "        machines.append({\"A\": np.array(numbers[i:i+2]), \"B\": np.array(numbers[i+2:i+4]), \"Target\": np.array(numbers[i+4:i+6])})\n",
    "    return machines"
   ]
  },
  {
   "cell_type": "code",
   "execution_count": 435,
   "id": "a06cfc2a-9f9f-424d-9187-21ef8240ed02",
   "metadata": {},
   "outputs": [],
   "source": [
    "def solve_machine(machine, offset = False):\n",
    "    Arr = np.hstack( [machine[\"A\"].reshape(-1, 1), machine[\"B\"].reshape(-1,1)],dtype=np.float64)\n",
    "    T = machine[\"Target\"]\n",
    "    if offset:\n",
    "        T = np.array([T[0]+10000000000000, T[1]+10000000000000], dtype = np.float64)\n",
    "    Arr_i = np.linalg.inv(Arr)\n",
    "    A, B = np.dot(Arr_i, T)\n",
    "    if np.round(A,3).is_integer() and np.round(B, 3).is_integer():\n",
    "        return A*3+B\n",
    "    return 0"
   ]
  },
  {
   "cell_type": "code",
   "execution_count": 438,
   "id": "f20938f9-7702-4169-bb58-8a639e1364fb",
   "metadata": {},
   "outputs": [],
   "source": [
    "def solve_machines(puzzle_input):\n",
    "    machines = parse_input(puzzle_input)\n",
    "    print(f\"Gambling on {len(machines)} machines\")\n",
    "    spent = 0\n",
    "    prizes = 0\n",
    "    for i, m in enumerate(machines):\n",
    "        spent+=solve_machine(m, offset = True)\n",
    "    return int(spent)\n",
    "        "
   ]
  },
  {
   "cell_type": "code",
   "execution_count": 439,
   "id": "9405352e-8a3c-499d-8143-8a9100af3bb1",
   "metadata": {},
   "outputs": [
    {
     "name": "stdout",
     "output_type": "stream",
     "text": [
      "Gambling on 320 machines\n"
     ]
    },
    {
     "data": {
      "text/plain": [
       "94955433618919"
      ]
     },
     "execution_count": 439,
     "metadata": {},
     "output_type": "execute_result"
    }
   ],
   "source": [
    "solve_machines(puzzle_input)"
   ]
  },
  {
   "cell_type": "code",
   "execution_count": 338,
   "id": "38c1dcb4-91b2-41f9-b9f1-14824b5efd86",
   "metadata": {},
   "outputs": [],
   "source": [
    "machines = parse_input(test_input)"
   ]
  },
  {
   "cell_type": "code",
   "execution_count": 339,
   "id": "e6e1ca60-735f-4b8f-ad5c-356e85f14bc4",
   "metadata": {},
   "outputs": [],
   "source": [
    "puzzle_input = aocd.get_data()"
   ]
  },
  {
   "cell_type": "code",
   "execution_count": 340,
   "id": "4e4206cc-4729-45ac-9e53-57f5c00faf4c",
   "metadata": {
    "scrolled": true
   },
   "outputs": [
    {
     "name": "stdout",
     "output_type": "stream",
     "text": [
      "Gambling on 320 machines\n",
      "Machine 1 results in [1.21654501e+11 5.38755649e+10], giving with a cost of 418839068687.105.  solvable=np.False_ prizes for 0 tokens\n",
      "Machine 2 results in [1.62601626e+11 8.13008130e+10], giving with a cost of 569105691176.911.  solvable=np.False_ prizes for 0 tokens\n",
      "Machine 3 results in [2.10016155e+11 1.13085622e+11], giving with a cost of 743134087589.0.  solvable=np.True_ prizes for 743134087589 tokens\n",
      "Machine 4 results in [1.30293160e+11 1.03642286e+11], giving with a cost of 494521765513.0.  solvable=np.True_ prizes for 1237655853102 tokens\n",
      "Machine 5 results in [1.52749491e+11 1.05227427e+11], giving with a cost of 563475900343.0.  solvable=np.True_ prizes for 1801131753445 tokens\n",
      "Machine 6 results in [1.64036545e+11 5.81395349e+10], giving with a cost of 550249169577.216.  solvable=np.False_ prizes for 1801131753445 tokens\n",
      "Machine 7 results in [1.93027946e+11 5.47392682e+10], giving with a cost of 633823105786.218.  solvable=np.False_ prizes for 1801131753445 tokens\n",
      "Machine 8 results in [1.20452903e+11 1.27680077e+11], giving with a cost of 489038786598.0.  solvable=np.True_ prizes for 2290170540043 tokens\n",
      "Machine 9 results in [2.61694472e+10 1.14491331e+11], giving with a cost of 192999673035.91.  solvable=np.False_ prizes for 2290170540043 tokens\n",
      "Machine 10 results in [1.33874240e+11 1.05476674e+11], giving with a cost of 507099392197.0.  solvable=np.True_ prizes for 2797269932240 tokens\n",
      "Machine 11 results in [1.54494382e+11 1.12359551e+11], giving with a cost of 575842696817.0.  solvable=np.True_ prizes for 3373112629057 tokens\n",
      "Machine 12 results in [1.18741977e+11 8.66495508e+10], giving with a cost of 442875481476.393.  solvable=np.False_ prizes for 3373112629057 tokens\n",
      "Machine 13 results in [1.43884892e+11 1.04916067e+11], giving with a cost of 536570743699.0.  solvable=np.True_ prizes for 3909683372756 tokens\n",
      "Machine 14 results in [1.25667609e+11 1.03675778e+11], giving with a cost of 480678605220.538.  solvable=np.False_ prizes for 3909683372756 tokens\n",
      "Machine 15 results in [1.40643624e+11 1.00119190e+11], giving with a cost of 522050060062.0.  solvable=np.True_ prizes for 4431733432818 tokens\n",
      "Machine 16 results in [1.26582279e+11 1.08499096e+11], giving with a cost of 488245932721.0.  solvable=np.True_ prizes for 4919979365539 tokens\n",
      "Machine 17 results in [1.90839696e+10 1.24045802e+11], giving with a cost of 181297710269.664.  solvable=np.False_ prizes for 4919979365539 tokens\n",
      "Machine 18 results in [1.41557128e+11 1.51668352e+11], giving with a cost of 576339737379.0.  solvable=np.True_ prizes for 5496319102918 tokens\n",
      "Machine 19 results in [1.23790232e+11 7.20234076e+10], giving with a cost of 443394103257.502.  solvable=np.False_ prizes for 5496319102918 tokens\n",
      "Machine 20 results in [9.18302724e+10 9.49968335e+10], giving with a cost of 370487650617.653.  solvable=np.False_ prizes for 5496319102918 tokens\n",
      "Machine 21 results in [9.88142293e+10 2.96442688e+10], giving with a cost of 326086956549.739.  solvable=np.False_ prizes for 5496319102918 tokens\n",
      "Machine 22 results in [5.38302278e+10 1.24223603e+11], giving with a cost of 285714286094.286.  solvable=np.False_ prizes for 5496319102918 tokens\n",
      "Machine 23 results in [1.21155639e+11 1.02516309e+11], giving with a cost of 465983225151.0.  solvable=np.True_ prizes for 5962302328069 tokens\n",
      "Machine 24 results in [1.13636364e+11 9.09090909e+10], giving with a cost of 431818181987.182.  solvable=np.False_ prizes for 5962302328069 tokens\n",
      "Machine 25 results in [1.51356994e+11 1.20041754e+11], giving with a cost of 574112735158.0.  solvable=np.True_ prizes for 6536415063227 tokens\n",
      "Machine 26 results in [9.08521303e+10 7.51879700e+10], giving with a cost of 347744360969.256.  solvable=np.False_ prizes for 6536415063227 tokens\n",
      "Machine 27 results in [1.10497238e+11 8.28729282e+10], giving with a cost of 414364641028.978.  solvable=np.False_ prizes for 6536415063227 tokens\n",
      "Machine 28 results in [1.70837344e+11 2.40615977e+10], giving with a cost of 536573628705.932.  solvable=np.False_ prizes for 6536415063227 tokens\n",
      "Machine 29 results in [1.82539683e+11 1.90476191e+11], giving with a cost of 738095238358.238.  solvable=np.False_ prizes for 6536415063227 tokens\n",
      "Machine 30 results in [1.55954632e+11 1.22873346e+11], giving with a cost of 590737241125.0.  solvable=np.True_ prizes for 7127152304352 tokens\n",
      "Machine 31 results in [1.01694915e+11 1.35593220e+11], giving with a cost of 440677966752.0.  solvable=np.True_ prizes for 7567830271104 tokens\n",
      "Machine 32 results in [1.35520685e+11 1.14122682e+11], giving with a cost of 520684737084.0.  solvable=np.True_ prizes for 8088515008188 tokens\n",
      "Machine 33 results in [3.49984092e+10 1.27266942e+11], giving with a cost of 232262169972.368.  solvable=np.False_ prizes for 8088515008188 tokens\n",
      "Machine 34 results in [5.54484089e+10 1.71166827e+11], giving with a cost of 337512054061.929.  solvable=np.False_ prizes for 8088515008188 tokens\n",
      "Machine 35 results in [1.44546649e+11 2.23390276e+11], giving with a cost of 657030223762.0.  solvable=np.True_ prizes for 8745545231950 tokens\n",
      "Machine 36 results in [1.65033523e+11 1.28932440e+11], giving with a cost of 624033007336.0.  solvable=np.True_ prizes for 9369578239286 tokens\n",
      "Machine 37 results in [1.96172249e+11 1.05263158e+11], giving with a cost of 693779905353.0.  solvable=np.True_ prizes for 10063358144639 tokens\n",
      "Machine 38 results in [9.40040651e+10 3.30284554e+10], giving with a cost of 315040650676.504.  solvable=np.False_ prizes for 10063358144639 tokens\n",
      "Machine 39 results in [2.70967743e+11 1.29032258e+11], giving with a cost of 941935486628.0.  solvable=np.True_ prizes for 11005293631267 tokens\n",
      "Machine 40 results in [9.64630226e+10 2.27759915e+10], giving with a cost of 312165059178.625.  solvable=np.False_ prizes for 11005293631267 tokens\n",
      "Machine 41 results in [1.05695831e+11 1.46799765e+11], giving with a cost of 463887258123.0.  solvable=np.True_ prizes for 11469180889390 tokens\n",
      "Machine 42 results in [8.52977668e+10 6.66873450e+10], giving with a cost of 322580645407.29.  solvable=np.False_ prizes for 11469180889390 tokens\n",
      "Machine 43 results in [2.44857983e+11 1.17531831e+11], giving with a cost of 852105780526.0.  solvable=np.True_ prizes for 12321286669916 tokens\n",
      "Machine 44 results in [1.16861436e+11 1.00166945e+11], giving with a cost of 450751252311.0.  solvable=np.True_ prizes for 12772037922227 tokens\n",
      "Machine 45 results in [6.39658849e+10 1.70575693e+11], giving with a cost of 362473347728.974.  solvable=np.False_ prizes for 12772037922227 tokens\n",
      "Machine 46 results in [5.47908593e+10 8.41908326e+10], giving with a cost of 248563410511.9.  solvable=np.False_ prizes for 12772037922227 tokens\n",
      "Machine 47 results in [1.52091255e+11 8.55513309e+10], giving with a cost of 541825095380.034.  solvable=np.False_ prizes for 12772037922227 tokens\n",
      "Machine 48 results in [2.07116304e+11 1.06213489e+11], giving with a cost of 727562400787.854.  solvable=np.False_ prizes for 12772037922227 tokens\n",
      "Machine 49 results in [1.24083474e+11 1.74844896e+11], giving with a cost of 547095319072.0.  solvable=np.True_ prizes for 13319133241299 tokens\n",
      "Machine 50 results in [8.87049084e+10 7.68775873e+10], giving with a cost of 342992312458.277.  solvable=np.False_ prizes for 13319133241299 tokens\n",
      "Machine 51 results in [1.89513582e+10 1.95830701e+11], giving with a cost of 252684775879.262.  solvable=np.False_ prizes for 13319133241299 tokens\n",
      "Machine 52 results in [1.11131354e+11 1.63964293e+10], giving with a cost of 349790490403.051.  solvable=np.False_ prizes for 13319133241299 tokens\n",
      "Machine 53 results in [1.52284264e+11 1.01522843e+11], giving with a cost of 558375634476.0.  solvable=np.True_ prizes for 13877508875775 tokens\n",
      "Machine 54 results in [8.67269985e+10 6.78733032e+10], giving with a cost of 328054298823.534.  solvable=np.False_ prizes for 13877508875775 tokens\n",
      "Machine 55 results in [1.06235566e+11 1.61662818e+11], giving with a cost of 480369515990.0.  solvable=np.True_ prizes for 14357878391765 tokens\n",
      "Machine 56 results in [4.64037124e+10 1.33410673e+11], giving with a cost of 272621810071.78.  solvable=np.False_ prizes for 14357878391765 tokens\n",
      "Machine 57 results in [1.61437710e+11 5.17819068e+10], giving with a cost of 536095035333.937.  solvable=np.False_ prizes for 14357878391765 tokens\n",
      "Machine 58 results in [1.06221548e+11 7.58725342e+10], giving with a cost of 394537177633.73.  solvable=np.False_ prizes for 14357878391765 tokens\n",
      "Machine 59 results in [1.02070575e+11 1.34149898e+11], giving with a cost of 440361621990.0.  solvable=np.True_ prizes for 14798240013755 tokens\n",
      "Machine 60 results in [1.05474636e+11 2.36062281e+11], giving with a cost of 552486187972.0.  solvable=np.True_ prizes for 15350726201727 tokens\n",
      "Machine 61 results in [1.47225368e+11 6.79501700e+10], giving with a cost of 509626274274.685.  solvable=np.False_ prizes for 15350726201727 tokens\n",
      "Machine 62 results in [1.17911286e+11 1.40370578e+11], giving with a cost of 494104437414.0.  solvable=np.True_ prizes for 15844830639141 tokens\n",
      "Machine 63 results in [7.51582279e+10 2.01740506e+11], giving with a cost of 427215190035.418.  solvable=np.False_ prizes for 15844830639141 tokens\n",
      "Machine 64 results in [1.50585611e+11 1.05967652e+11], giving with a cost of 557724484931.0.  solvable=np.True_ prizes for 16402555124072 tokens\n",
      "Machine 65 results in [1.08604846e+11 1.33667502e+11], giving with a cost of 459482039329.0.  solvable=np.True_ prizes for 16862037163401 tokens\n",
      "Machine 66 results in [8.53682748e+10 7.74270400e+10], giving with a cost of 333531864464.884.  solvable=np.False_ prizes for 16862037163401 tokens\n",
      "Machine 67 results in [1.96936543e+11 1.53172867e+11], giving with a cost of 743982495304.0.  solvable=np.True_ prizes for 17606019658705 tokens\n",
      "Machine 68 results in [1.60132524e+11 1.04914412e+11], giving with a cost of 585311982845.0.  solvable=np.True_ prizes for 18191331641550 tokens\n",
      "Machine 69 results in [1.50115474e+11 2.07852194e+11], giving with a cost of 658198614859.0.  solvable=np.True_ prizes for 18849530256409 tokens\n",
      "Machine 70 results in [3.04777595e+11 2.05930807e+10], giving with a cost of 934925865007.39.  solvable=np.False_ prizes for 18849530256409 tokens\n",
      "Machine 71 results in [7.95712894e+10 1.07177655e+11], giving with a cost of 345891523332.825.  solvable=np.False_ prizes for 18849530256409 tokens\n",
      "Machine 72 results in [4.88538144e+10 2.51785043e+11], giving with a cost of 398346486420.352.  solvable=np.False_ prizes for 18849530256409 tokens\n",
      "Machine 73 results in [4.94484595e+10 1.14111830e+11], giving with a cost of 262457208282.902.  solvable=np.False_ prizes for 18849530256409 tokens\n",
      "Machine 74 results in [2.68507864e+11 4.21940929e+10], giving with a cost of 847717683530.721.  solvable=np.False_ prizes for 18849530256409 tokens\n",
      "Machine 75 results in [1.12418301e+11 1.01960784e+11], giving with a cost of 439215686735.0.  solvable=np.True_ prizes for 19288745943144 tokens\n",
      "Machine 76 results in [3.79858657e+11 6.18374559e+10], giving with a cost of 1201413427763.837.  solvable=np.False_ prizes for 19288745943144 tokens\n",
      "Machine 77 results in [8.58737656e+10 1.41691713e+11], giving with a cost of 399313010061.483.  solvable=np.False_ prizes for 19288745943144 tokens\n",
      "Machine 78 results in [5.42392235e+10 1.04196403e+11], giving with a cost of 266914073748.156.  solvable=np.False_ prizes for 19288745943144 tokens\n",
      "Machine 79 results in [1.00207326e+11 1.86592951e+11], giving with a cost of 487214927643.0.  solvable=np.True_ prizes for 19775960870787 tokens\n",
      "Machine 80 results in [1.02739726e+11 1.22716895e+11], giving with a cost of 430936073435.0.  solvable=np.True_ prizes for 20206896944222 tokens\n",
      "Machine 81 results in [1.96324144e+11 1.16959065e+11], giving with a cost of 705931495714.0.  solvable=np.True_ prizes for 20912828439936 tokens\n",
      "Machine 82 results in [1.08719769e+11 1.42001331e+11], giving with a cost of 468160639824.0.  solvable=np.True_ prizes for 21380989079760 tokens\n",
      "Machine 83 results in [2.24019913e+11 1.05787181e+11], giving with a cost of 777846919915.0.  solvable=np.True_ prizes for 22158835999675 tokens\n",
      "Machine 84 results in [4.51206716e+11 6.29590767e+10], giving with a cost of 1416579223773.722.  solvable=np.False_ prizes for 22158835999675 tokens\n",
      "Machine 85 results in [1.08365843e+11 1.82054617e+11], giving with a cost of 507152146523.0.  solvable=np.True_ prizes for 22665988146198 tokens\n",
      "Machine 86 results in [2.18390805e+11 1.14942529e+10], giving with a cost of 666666666836.667.  solvable=np.False_ prizes for 22665988146198 tokens\n",
      "Machine 87 results in [1.23839009e+11 3.19917441e+11], giving with a cost of 691434469350.0.  solvable=np.True_ prizes for 23357422615548 tokens\n",
      "Machine 88 results in [1.05015002e+11 5.78654094e+10], giving with a cost of 372910415999.682.  solvable=np.False_ prizes for 23357422615548 tokens\n",
      "Machine 89 results in [1.20192308e+11 1.68269231e+11], giving with a cost of 528846154370.0.  solvable=np.True_ prizes for 23886268769918 tokens\n",
      "Machine 90 results in [1.63248221e+11 1.46504814e+11], giving with a cost of 636249477114.0.  solvable=np.True_ prizes for 24522518247032 tokens\n",
      "Machine 91 results in [1.43478261e+11 1.13043478e+11], giving with a cost of 543478261775.0.  solvable=np.True_ prizes for 25065996508807 tokens\n",
      "Machine 92 results in [1.00200401e+11 2.20440882e+11], giving with a cost of 521042084629.0.  solvable=np.True_ prizes for 25587038593436 tokens\n",
      "Machine 93 results in [1.16700201e+11 1.36820926e+11], giving with a cost of 486921529477.05.  solvable=np.False_ prizes for 25587038593436 tokens\n",
      "Machine 94 results in [1.14722753e+11 1.56787763e+11], giving with a cost of 500956023294.0.  solvable=np.True_ prizes for 26087994616730 tokens\n",
      "Machine 95 results in [1.16525424e+11 1.05932204e+11], giving with a cost of 455508474704.0.  solvable=np.True_ prizes for 26543503091434 tokens\n",
      "Machine 96 results in [2.87769784e+11 7.19424461e+10], giving with a cost of 935251798701.151.  solvable=np.False_ prizes for 26543503091434 tokens\n",
      "Machine 97 results in [1.57232705e+11 1.25786164e+11], giving with a cost of 597484277223.0.  solvable=np.True_ prizes for 27140987368657 tokens\n",
      "Machine 98 results in [1.43215181e+11 1.03831006e+11], giving with a cost of 533476549359.0.  solvable=np.True_ prizes for 27674463918016 tokens\n",
      "Machine 99 results in [2.13310580e+11 3.83959044e+10], giving with a cost of 678327645140.195.  solvable=np.False_ prizes for 27674463918016 tokens\n",
      "Machine 100 results in [1.02790015e+11 1.46842878e+11], giving with a cost of 455212923337.0.  solvable=np.True_ prizes for 28129676841353 tokens\n",
      "Machine 101 results in [1.27659575e+11 1.03343465e+11], giving with a cost of 486322189132.0.  solvable=np.True_ prizes for 28615999030485 tokens\n",
      "Machine 102 results in [7.19424461e+10 1.79856115e+11], giving with a cost of 395683453471.41.  solvable=np.False_ prizes for 28615999030485 tokens\n",
      "Machine 103 results in [1.19611264e+11 1.37054573e+11], giving with a cost of 495888363442.0.  solvable=np.True_ prizes for 29111887393927 tokens\n",
      "Machine 104 results in [1.23681339e+11 1.78246635e+11], giving with a cost of 549290651657.0.  solvable=np.True_ prizes for 29661178045584 tokens\n",
      "Machine 105 results in [1.60223805e+11 1.04272635e+11], giving with a cost of 584944048980.0.  solvable=np.True_ prizes for 30246122094564 tokens\n",
      "Machine 106 results in [1.14006515e+11 1.05863192e+11], giving with a cost of 447882736878.0.  solvable=np.True_ prizes for 30694004831442 tokens\n",
      "Machine 107 results in [2.04081633e+11 2.04081633e+11], giving with a cost of 816326531238.0.  solvable=np.True_ prizes for 31510331362680 tokens\n",
      "Machine 108 results in [1.90217391e+11 1.08695652e+11], giving with a cost of 679347826284.956.  solvable=np.False_ prizes for 31510331362680 tokens\n",
      "Machine 109 results in [1.02543068e+11 1.14848236e+11], giving with a cost of 422477440697.021.  solvable=np.False_ prizes for 31510331362680 tokens\n",
      "Machine 110 results in [2.15736041e+11 1.01522843e+11], giving with a cost of 748730965419.0.  solvable=np.True_ prizes for 32259062328099 tokens\n",
      "Machine 111 results in [1.21536218e+11 1.31259115e+11], giving with a cost of 495867769441.0.  solvable=np.True_ prizes for 32754930097540 tokens\n",
      "Machine 112 results in [1.38483965e+11 1.89504374e+11], giving with a cost of 604956268999.0.  solvable=np.True_ prizes for 33359886366539 tokens\n",
      "Machine 113 results in [6.41368253e+10 1.97755211e+11], giving with a cost of 390165687046.503.  solvable=np.False_ prizes for 33359886366539 tokens\n",
      "Machine 114 results in [9.72559918e+10 1.00729420e+11], giving with a cost of 392497395205.795.  solvable=np.False_ prizes for 33359886366539 tokens\n",
      "Machine 115 results in [1.82119206e+11 1.26931567e+11], giving with a cost of 673289184901.0.  solvable=np.True_ prizes for 34033175551440 tokens\n",
      "Machine 116 results in [1.09132682e+11 1.49339460e+11], giving with a cost of 476737507471.782.  solvable=np.False_ prizes for 34033175551440 tokens\n",
      "Machine 117 results in [2.00708383e+11 1.06257379e+11], giving with a cost of 708382527047.0.  solvable=np.True_ prizes for 34741558078487 tokens\n",
      "Machine 118 results in [ 7.78727445e+11 -9.49667613e+09], giving with a cost of 2326685660097.993.  solvable=np.False_ prizes for 34741558078487 tokens\n",
      "Machine 119 results in [1.74978128e+11 1.18110236e+11], giving with a cost of 643044620122.0.  solvable=np.True_ prizes for 35384602698609 tokens\n",
      "Machine 120 results in [ 1.11808853e+11 -9.18976867e+09], giving with a cost of 326236789906.459.  solvable=np.False_ prizes for 35384602698609 tokens\n",
      "Machine 121 results in [1.68776371e+11 1.26582279e+11], giving with a cost of 632911392962.0.  solvable=np.True_ prizes for 36017514091571 tokens\n",
      "Machine 122 results in [1.00349040e+11 1.43979058e+11], giving with a cost of 445026178672.0.  solvable=np.True_ prizes for 36462540270243 tokens\n",
      "Machine 123 results in [7.67346939e+10 8.16326531e+10], giving with a cost of 311836734924.877.  solvable=np.False_ prizes for 36462540270243 tokens\n",
      "Machine 124 results in [5.14138818e+10 4.88431877e+11], giving with a cost of 642673522061.9.  solvable=np.False_ prizes for 36462540270243 tokens\n",
      "Machine 125 results in [2.57186082e+11 1.36157338e+11], giving with a cost of 907715582635.0.  solvable=np.True_ prizes for 37370255852878 tokens\n",
      "Machine 126 results in [2.01109570e+11 1.04022191e+11], giving with a cost of 707350901795.0.  solvable=np.True_ prizes for 38077606754673 tokens\n",
      "Machine 127 results in [1.48192057e+11 1.12625963e+11], giving with a cost of 557202134368.0.  solvable=np.True_ prizes for 38634808889041 tokens\n",
      "Machine 128 results in [1.74781523e+11 1.12359551e+11], giving with a cost of 636704120664.0.  solvable=np.True_ prizes for 39271513009705 tokens\n",
      "Machine 129 results in [5.23321957e+10 1.20591581e+11], giving with a cost of 277588168459.151.  solvable=np.False_ prizes for 39271513009705 tokens\n",
      "Machine 130 results in [6.39853748e+10 9.79367982e+10], giving with a cost of 289892922483.056.  solvable=np.False_ prizes for 39271513009705 tokens\n",
      "Machine 131 results in [8.12312955e+10 1.11158615e+11], giving with a cost of 354852501303.833.  solvable=np.False_ prizes for 39271513009705 tokens\n",
      "Machine 132 results in [1.43295804e+11 1.74002047e+11], giving with a cost of 603889457703.03.  solvable=np.False_ prizes for 39271513009705 tokens\n",
      "Machine 133 results in [1.10722611e+11 7.57575758e+10], giving with a cost of 407925408175.408.  solvable=np.False_ prizes for 39271513009705 tokens\n",
      "Machine 134 results in [1.47058823e+11 1.14889706e+11], giving with a cost of 556066176489.0.  solvable=np.True_ prizes for 39827579186194 tokens\n",
      "Machine 135 results in [2.61437909e+11 9.80392158e+10], giving with a cost of 882352941361.471.  solvable=np.False_ prizes for 39827579186194 tokens\n",
      "Machine 136 results in [1.08559499e+11 1.37787056e+11], giving with a cost of 463465553409.908.  solvable=np.False_ prizes for 39827579186194 tokens\n",
      "Machine 137 results in [1.25313283e+11 1.18152524e+11], giving with a cost of 494092374125.0.  solvable=np.True_ prizes for 40321671560319 tokens\n",
      "Machine 138 results in [1.20669521e+11 8.17438693e+10], giving with a cost of 443752433051.25.  solvable=np.False_ prizes for 40321671560319 tokens\n",
      "Machine 139 results in [9.98263889e+10 9.11458334e+10], giving with a cost of 390625000196.0.  solvable=np.True_ prizes for 40712296560515 tokens\n",
      "Machine 140 results in [1.52838428e+11 1.36462882e+11], giving with a cost of 594978166638.0.  solvable=np.True_ prizes for 41307274727153 tokens\n",
      "Machine 141 results in [9.16030535e+10 1.06870229e+11], giving with a cost of 381679389439.977.  solvable=np.False_ prizes for 41307274727153 tokens\n",
      "Machine 142 results in [1.34924754e+11 1.16761806e+11], giving with a cost of 521536066508.494.  solvable=np.False_ prizes for 41307274727153 tokens\n",
      "Machine 143 results in [1.71102661e+11 2.09125476e+11], giving with a cost of 722433459711.0.  solvable=np.True_ prizes for 42029708186864 tokens\n",
      "Machine 144 results in [5.86332391e+10 1.07157299e+11], giving with a cost of 283057016068.319.  solvable=np.False_ prizes for 42029708186864 tokens\n",
      "Machine 145 results in [1.52138158e+11 1.15131579e+11], giving with a cost of 571546053941.0.  solvable=np.True_ prizes for 42601254240805 tokens\n",
      "Machine 146 results in [1.07526882e+11 1.07526882e+11], giving with a cost of 430107527302.0.  solvable=np.True_ prizes for 43031361768107 tokens\n",
      "Machine 147 results in [1.16533139e+11 1.38383103e+11], giving with a cost of 487982520648.0.  solvable=np.True_ prizes for 43519344288755 tokens\n",
      "Machine 148 results in [1.72839507e+11 1.31687243e+11], giving with a cost of 650205762561.0.  solvable=np.True_ prizes for 44169550051316 tokens\n",
      "Machine 149 results in [1.48612946e+11 5.61426685e+10], giving with a cost of 501981506103.518.  solvable=np.False_ prizes for 44169550051316 tokens\n",
      "Machine 150 results in [1.95899772e+11 8.65603645e+10], giving with a cost of 674259681188.394.  solvable=np.False_ prizes for 44169550051316 tokens\n",
      "Machine 151 results in [1.60714286e+11 2.85714286e+11], giving with a cost of 767857143991.0.  solvable=np.True_ prizes for 44937407195307 tokens\n",
      "Machine 152 results in [1.03092783e+11 1.54639175e+11], giving with a cost of 463917525937.0.  solvable=np.True_ prizes for 45401324721244 tokens\n",
      "Machine 153 results in [1.57828283e+11 1.19949495e+11], giving with a cost of 593434343299.0.  solvable=np.True_ prizes for 45994759064543 tokens\n",
      "Machine 154 results in [1.80528691e+11 9.67117989e+10], giving with a cost of 638297872538.425.  solvable=np.False_ prizes for 45994759064543 tokens\n",
      "Machine 155 results in [1.49253732e+11 1.06609808e+11], giving with a cost of 554371003021.0.  solvable=np.True_ prizes for 46549130067564 tokens\n",
      "Machine 156 results in [ 1.23900879e+11 -9.99200634e+09], giving with a cost of 361710631629.804.  solvable=np.False_ prizes for 46549130067564 tokens\n",
      "Machine 157 results in [8.55826202e+10 1.05332456e+11], giving with a cost of 362080316294.367.  solvable=np.False_ prizes for 46549130067564 tokens\n",
      "Machine 158 results in [1.00401606e+11 1.30522088e+11], giving with a cost of 431726907813.522.  solvable=np.False_ prizes for 46549130067564 tokens\n",
      "Machine 159 results in [1.08695652e+11 1.26811594e+11], giving with a cost of 452898551251.0.  solvable=np.True_ prizes for 47002028618815 tokens\n",
      "Machine 160 results in [1.06221548e+11 1.36570561e+11], giving with a cost of 455235205465.0.  solvable=np.True_ prizes for 47457263824280 tokens\n",
      "Machine 161 results in [1.18376551e+11 1.12739572e+11], giving with a cost of 467869223490.0.  solvable=np.True_ prizes for 47925133047770 tokens\n",
      "Machine 162 results in [1.20580981e+11 1.06878597e+11], giving with a cost of 468621540335.0.  solvable=np.True_ prizes for 48393754588105 tokens\n",
      "Machine 163 results in [7.83817952e+10 9.10240203e+10], giving with a cost of 326169406015.423.  solvable=np.False_ prizes for 48393754588105 tokens\n",
      "Machine 164 results in [9.28505108e+10 1.57845868e+11], giving with a cost of 436397400415.701.  solvable=np.False_ prizes for 48393754588105 tokens\n",
      "Machine 165 results in [1.32480585e+11 1.78163545e+11], giving with a cost of 575605299465.0.  solvable=np.True_ prizes for 48969359887570 tokens\n",
      "Machine 166 results in [2.02069985e+11 5.42138985e+10], giving with a cost of 660423854157.328.  solvable=np.False_ prizes for 48969359887570 tokens\n",
      "Machine 167 results in [1.09612142e+11 1.01180438e+11], giving with a cost of 430016863814.0.  solvable=np.True_ prizes for 49399376751384 tokens\n",
      "Machine 168 results in [1.43884892e+11 1.16906475e+11], giving with a cost of 548561151483.0.  solvable=np.True_ prizes for 49947937902867 tokens\n",
      "Machine 169 results in [1.09185854e+11 1.02065037e+11], giving with a cost of 429622597389.0.  solvable=np.True_ prizes for 50377560500256 tokens\n",
      "Machine 170 results in [1.00258732e+11 1.35834412e+11], giving with a cost of 436610608217.0.  solvable=np.True_ prizes for 50814171108473 tokens\n",
      "Machine 171 results in [1.36518772e+10 1.33105802e+11], giving with a cost of 174061433574.099.  solvable=np.False_ prizes for 50814171108473 tokens\n",
      "Machine 172 results in [1.07135205e+11 1.04992501e+11], giving with a cost of 426398115098.0.  solvable=np.True_ prizes for 51240569223571 tokens\n",
      "Machine 173 results in [1.01648352e+11 1.37362638e+11], giving with a cost of 442307692488.0.  solvable=np.True_ prizes for 51682876916059 tokens\n",
      "Machine 174 results in [1.26478988e+11 7.75193799e+10], giving with a cost of 456956344507.245.  solvable=np.False_ prizes for 51682876916059 tokens\n",
      "Machine 175 results in [2.25988701e+11 1.69491525e+11], giving with a cost of 847457628166.0.  solvable=np.True_ prizes for 52530334544225 tokens\n",
      "Machine 176 results in [1.30293160e+11 1.19435396e+11], giving with a cost of 510314876215.0.  solvable=np.True_ prizes for 53040649420440 tokens\n",
      "Machine 177 results in [1.23034860e+10 9.97949419e+10], giving with a cost of 136705399987.295.  solvable=np.False_ prizes for 53040649420440 tokens\n",
      "Machine 178 results in [1.44927536e+11 2.05949657e+11], giving with a cost of 640732266012.0.  solvable=np.True_ prizes for 53681381686452 tokens\n",
      "Machine 179 results in [2.46690735e+11 1.02286402e+11], giving with a cost of 842358605920.0.  solvable=np.True_ prizes for 54523740292372 tokens\n",
      "Machine 180 results in [1.01694915e+11 3.38983051e+10], giving with a cost of 338983051011.458.  solvable=np.False_ prizes for 54523740292372 tokens\n",
      "Machine 181 results in [1.17591721e+11 1.55221073e+11], giving with a cost of 507996237079.0.  solvable=np.True_ prizes for 55031736529451 tokens\n",
      "Machine 182 results in [2.92942743e+10 1.14513981e+11], giving with a cost of 202396804470.985.  solvable=np.False_ prizes for 55031736529451 tokens\n",
      "Machine 183 results in [7.08215298e+10 1.84135977e+11], giving with a cost of 396600566755.238.  solvable=np.False_ prizes for 55031736529451 tokens\n",
      "Machine 184 results in [1.61681488e+11 1.05092967e+11], giving with a cost of 590137429897.0.  solvable=np.True_ prizes for 55621873959348 tokens\n",
      "Machine 185 results in [1.16340561e+11 1.08408250e+11], giving with a cost of 457429931682.0.  solvable=np.True_ prizes for 56079303891030 tokens\n",
      "Machine 186 results in [1.02016031e+11 1.14160797e+11], giving with a cost of 420208890249.0.  solvable=np.True_ prizes for 56499512781279 tokens\n",
      "Machine 187 results in [4.63678517e+11 1.08191653e+11], giving with a cost of 1499227205660.0.  solvable=np.True_ prizes for 57998739986939 tokens\n",
      "Machine 188 results in [8.55871277e+10 1.06128038e+11], giving with a cost of 362889421525.017.  solvable=np.False_ prizes for 57998739986939 tokens\n",
      "Machine 189 results in [1.30486359e+11 1.06761566e+11], giving with a cost of 498220641415.0.  solvable=np.True_ prizes for 58496960628354 tokens\n",
      "Machine 190 results in [1.23001230e+11 1.01476015e+11], giving with a cost of 470479705086.048.  solvable=np.False_ prizes for 58496960628354 tokens\n",
      "Machine 191 results in [1.15718419e+11 1.83220829e+11], giving with a cost of 530376085392.0.  solvable=np.True_ prizes for 59027336713746 tokens\n",
      "Machine 192 results in [1.30260521e+11 1.20240481e+11], giving with a cost of 511022044928.0.  solvable=np.True_ prizes for 59538358758674 tokens\n",
      "Machine 193 results in [1.21580547e+11 1.13981763e+10], giving with a cost of 376139817656.179.  solvable=np.False_ prizes for 59538358758674 tokens\n",
      "Machine 194 results in [4.77453582e+10 1.48541114e+11], giving with a cost of 291777188568.912.  solvable=np.False_ prizes for 59538358758674 tokens\n",
      "Machine 195 results in [9.00900902e+10 1.12612613e+11], giving with a cost of 382882883185.883.  solvable=np.False_ prizes for 59538358758674 tokens\n",
      "Machine 196 results in [1.63090129e+11 1.33047211e+11], giving with a cost of 622317597331.0.  solvable=np.True_ prizes for 60160676356005 tokens\n",
      "Machine 197 results in [1.05831085e+11 1.03755966e+11], giving with a cost of 421249221823.0.  solvable=np.True_ prizes for 60581925577828 tokens\n",
      "Machine 198 results in [6.53961137e+10 1.06502242e+11], giving with a cost of 302690583113.641.  solvable=np.False_ prizes for 60581925577828 tokens\n",
      "Machine 199 results in [1.16911365e+11 1.25067972e+11], giving with a cost of 475802066863.0.  solvable=np.True_ prizes for 61057727644691 tokens\n",
      "Machine 200 results in [1.29902573e+11 1.02423183e+11], giving with a cost of 492130901942.0.  solvable=np.True_ prizes for 61549858546633 tokens\n",
      "Machine 201 results in [5.82411183e+10 1.48514852e+11], giving with a cost of 323238206456.558.  solvable=np.False_ prizes for 61549858546633 tokens\n",
      "Machine 202 results in [-1.39275765e+10  1.62488394e+11], giving with a cost of 120705664175.151.  solvable=np.False_ prizes for 61549858546633 tokens\n",
      "Machine 203 results in [7.02075703e+10 1.22100122e+11], giving with a cost of 332722833068.833.  solvable=np.False_ prizes for 61549858546633 tokens\n",
      "Machine 204 results in [1.77809388e+11 1.13798009e+11], giving with a cost of 647226174117.0.  solvable=np.True_ prizes for 62197084720750 tokens\n",
      "Machine 205 results in [2.48194946e+10 1.26353791e+11], giving with a cost of 200812274442.231.  solvable=np.False_ prizes for 62197084720750 tokens\n",
      "Machine 206 results in [6.70372793e+10 1.07913669e+11], giving with a cost of 309025507172.234.  solvable=np.False_ prizes for 62197084720750 tokens\n",
      "Machine 207 results in [1.10277900e+11 1.58800177e+11], giving with a cost of 489633878113.0.  solvable=np.True_ prizes for 62686718598863 tokens\n",
      "Machine 208 results in [8.37898808e+10 7.25104737e+10], giving with a cost of 323880116149.758.  solvable=np.False_ prizes for 62686718598863 tokens\n",
      "Machine 209 results in [1.18959108e+11 2.00743494e+11], giving with a cost of 557620818297.0.  solvable=np.True_ prizes for 63244339417160 tokens\n",
      "Machine 210 results in [7.42311772e+10 9.80911984e+10], giving with a cost of 320784729935.426.  solvable=np.False_ prizes for 63244339417160 tokens\n",
      "Machine 211 results in [1.03857567e+11 4.00593473e+11], giving with a cost of 712166172594.0.  solvable=np.True_ prizes for 63956505589754 tokens\n",
      "Machine 212 results in [1.12570357e+11 1.31332083e+11], giving with a cost of 469043152590.0.  solvable=np.True_ prizes for 64425548742344 tokens\n",
      "Machine 213 results in [1.13499155e+11 1.03839652e+11], giving with a cost of 444337116816.0.  solvable=np.True_ prizes for 64869885859160 tokens\n",
      "Machine 214 results in [7.20268007e+10 8.20770519e+10], giving with a cost of 298157453965.348.  solvable=np.False_ prizes for 64869885859160 tokens\n",
      "Machine 215 results in [1.34638923e+11 3.05997552e+11], giving with a cost of 709914321430.0.  solvable=np.True_ prizes for 65579800180590 tokens\n",
      "Machine 216 results in [2.53807107e+11 6.46054454e+10], giving with a cost of 826026765374.06.  solvable=np.False_ prizes for 65579800180590 tokens\n",
      "Machine 217 results in [1.68612192e+11 1.03761349e+11], giving with a cost of 609597925518.0.  solvable=np.True_ prizes for 66189398106108 tokens\n",
      "Machine 218 results in [9.33488915e+10 6.41773629e+10], giving with a cost of 344224037471.556.  solvable=np.False_ prizes for 66189398106108 tokens\n",
      "Machine 219 results in [1.17028899e+11 1.40912348e+11], giving with a cost of 491999044965.0.  solvable=np.True_ prizes for 66681397151073 tokens\n",
      "Machine 220 results in [1.36986302e+11 1.64383562e+11], giving with a cost of 575342466561.0.  solvable=np.True_ prizes for 67256739617634 tokens\n",
      "Machine 221 results in [1.34301270e+11 1.37931035e+11], giving with a cost of 540834845857.0.  solvable=np.True_ prizes for 67797574463491 tokens\n",
      "Machine 222 results in [1.65094340e+11 1.45440252e+11], giving with a cost of 640723271285.0.  solvable=np.True_ prizes for 68438297734776 tokens\n",
      "Machine 223 results in [1.21681416e+11 1.47492625e+11], giving with a cost of 512536873863.0.  solvable=np.True_ prizes for 68950834608639 tokens\n",
      "Machine 224 results in [3.23928945e+11 1.14942529e+11], giving with a cost of 1086729362794.0.  solvable=np.True_ prizes for 70037563971433 tokens\n",
      "Machine 225 results in [3.66088632e+11 1.92678228e+11], giving with a cost of 1290944124193.0.  solvable=np.True_ prizes for 71328508095626 tokens\n",
      "Machine 226 results in [3.52609310e+10 1.44569817e+11], giving with a cost of 250352609522.886.  solvable=np.False_ prizes for 71328508095626 tokens\n",
      "Machine 227 results in [9.56106041e+10 6.73620166e+10], giving with a cost of 354193828855.1.  solvable=np.False_ prizes for 71328508095626 tokens\n",
      "Machine 228 results in [8.97097626e+10 2.26912929e+11], giving with a cost of 496042216701.839.  solvable=np.False_ prizes for 71328508095626 tokens\n",
      "Machine 229 results in [-3.26950023e+10  3.36291453e+11], giving with a cost of 238206445843.175.  solvable=np.False_ prizes for 71328508095626 tokens\n",
      "Machine 230 results in [1.24101894e+11 1.63291966e+11], giving with a cost of 535597649420.0.  solvable=np.True_ prizes for 71864105745046 tokens\n",
      "Machine 231 results in [2.94117647e+11 5.34759359e+10], giving with a cost of 935828877199.348.  solvable=np.False_ prizes for 71864105745046 tokens\n",
      "Machine 232 results in [1.77671068e+11 2.40096044e+09], giving with a cost of 535414165819.266.  solvable=np.False_ prizes for 71864105745046 tokens\n",
      "Machine 233 results in [1.19153477e+11 8.18068647e+10], giving with a cost of 439267295128.236.  solvable=np.False_ prizes for 71864105745046 tokens\n",
      "Machine 234 results in [1.12933584e+11 1.26378059e+11], giving with a cost of 465178811533.0.  solvable=np.True_ prizes for 72329284556579 tokens\n",
      "Machine 235 results in [1.02899907e+11 1.07577175e+11], giving with a cost of 416276894614.733.  solvable=np.False_ prizes for 72329284556579 tokens\n",
      "Machine 236 results in [1.03092783e+11 1.34020619e+11], giving with a cost of 443298968947.0.  solvable=np.True_ prizes for 72772583525526 tokens\n",
      "Machine 237 results in [8.67789689e+10 9.06074528e+10], giving with a cost of 350944359482.024.  solvable=np.False_ prizes for 72772583525526 tokens\n",
      "Machine 238 results in [1.05708245e+11 5.16795866e+10], giving with a cost of 368804322632.694.  solvable=np.False_ prizes for 72772583525526 tokens\n",
      "Machine 239 results in [1.87969925e+11 1.12781955e+11], giving with a cost of 676691730823.0.  solvable=np.True_ prizes for 73449275256349 tokens\n",
      "Machine 240 results in [1.24902420e+11 1.79547229e+11], giving with a cost of 554254489857.0.  solvable=np.True_ prizes for 74003529746206 tokens\n",
      "Machine 241 results in [1.15074799e+11 1.49597238e+11], giving with a cost of 494821635465.0.  solvable=np.True_ prizes for 74498351381671 tokens\n",
      "Machine 242 results in [7.32807216e+10 9.01916573e+10], giving with a cost of 310033822138.477.  solvable=np.False_ prizes for 74498351381671 tokens\n",
      "Machine 243 results in [1.03757712e+11 1.14974762e+11], giving with a cost of 426247897598.0.  solvable=np.True_ prizes for 74924599279269 tokens\n",
      "Machine 244 results in [1.26279864e+11 1.12627986e+11], giving with a cost of 491467577327.0.  solvable=np.True_ prizes for 75416066856596 tokens\n",
      "Machine 245 results in [1.29819802e+11 1.08506104e+11], giving with a cost of 497965510762.969.  solvable=np.False_ prizes for 75416066856596 tokens\n",
      "Machine 246 results in [1.82663567e+10 1.31185653e+11], giving with a cost of 185984722744.494.  solvable=np.False_ prizes for 75416066856596 tokens\n",
      "Machine 247 results in [1.01290963e+11 1.17179742e+11], giving with a cost of 421052632212.0.  solvable=np.True_ prizes for 75837119488808 tokens\n",
      "Machine 248 results in [1.26315790e+11 1.63157895e+11], giving with a cost of 542105264207.0.  solvable=np.True_ prizes for 76379224753015 tokens\n",
      "Machine 249 results in [2.19318712e+11 7.93280448e+10], giving with a cost of 737284181158.596.  solvable=np.False_ prizes for 76379224753015 tokens\n",
      "Machine 250 results in [1.20423892e+11 1.58959538e+11], giving with a cost of 520231214951.0.  solvable=np.True_ prizes for 76899455967966 tokens\n",
      "Machine 251 results in [1.31763387e+11 1.20549482e+11], giving with a cost of 515839641867.0.  solvable=np.True_ prizes for 77415295609833 tokens\n",
      "Machine 252 results in [9.39849625e+10 1.69172932e+11], giving with a cost of 451127819741.872.  solvable=np.False_ prizes for 77415295609833 tokens\n",
      "Machine 253 results in [1.08585002e+11 1.05191721e+11], giving with a cost of 430946725675.0.  solvable=np.True_ prizes for 77846242335508 tokens\n",
      "Machine 254 results in [8.22737472e+10 1.19670905e+11], giving with a cost of 366492146795.859.  solvable=np.False_ prizes for 77846242335508 tokens\n",
      "Machine 255 results in [1.28593041e+11 1.66414523e+11], giving with a cost of 552193646922.0.  solvable=np.True_ prizes for 78398435982430 tokens\n",
      "Machine 256 results in [1.23435625e+11 1.01148637e+11], giving with a cost of 471455512234.0.  solvable=np.True_ prizes for 78869891494664 tokens\n",
      "Machine 257 results in [9.06488550e+10 6.20229008e+10], giving with a cost of 333969465735.855.  solvable=np.False_ prizes for 78869891494664 tokens\n",
      "Machine 258 results in [1.30434783e+11 1.01449276e+11], giving with a cost of 492753623084.0.  solvable=np.True_ prizes for 79362645117748 tokens\n",
      "Machine 259 results in [1.77514793e+11 9.29839392e+10], giving with a cost of 625528318122.01.  solvable=np.False_ prizes for 79362645117748 tokens\n",
      "Machine 260 results in [1.24178232e+11 1.02264427e+11], giving with a cost of 474799123560.772.  solvable=np.False_ prizes for 79362645117748 tokens\n",
      "Machine 261 results in [1.40332640e+11 4.15800416e+10], giving with a cost of 462577962801.962.  solvable=np.False_ prizes for 79362645117748 tokens\n",
      "Machine 262 results in [1.47058824e+11 1.47058824e+11], giving with a cost of 588235295223.0.  solvable=np.True_ prizes for 79950880412971 tokens\n",
      "Machine 263 results in [1.02040817e+11 3.06122449e+11], giving with a cost of 612244899059.0.  solvable=np.True_ prizes for 80563125312030 tokens\n",
      "Machine 264 results in [1.04529617e+11 1.74216028e+11], giving with a cost of 487804878261.0.  solvable=np.True_ prizes for 81050930190291 tokens\n",
      "Machine 265 results in [1.14155251e+11 1.08447489e+11], giving with a cost of 450913242464.0.  solvable=np.True_ prizes for 81501843432755 tokens\n",
      "Machine 266 results in [1.09162491e+11 1.00214746e+11], giving with a cost of 427702219355.0.  solvable=np.True_ prizes for 81929545652110 tokens\n",
      "Machine 267 results in [1.35501355e+11 5.42005420e+10], giving with a cost of 460704607242.07.  solvable=np.False_ prizes for 81929545652110 tokens\n",
      "Machine 268 results in [1.75438597e+11 8.77192983e+10], giving with a cost of 614035087880.298.  solvable=np.False_ prizes for 81929545652110 tokens\n",
      "Machine 269 results in [6.40279395e+10 2.32828871e+11], giving with a cost of 424912689457.458.  solvable=np.False_ prizes for 81929545652110 tokens\n",
      "Machine 270 results in [1.12977099e+11 8.54961833e+10], giving with a cost of 424427481153.03.  solvable=np.False_ prizes for 81929545652110 tokens\n",
      "Machine 271 results in [ 1.41775102e+11 -1.94212468e+10], giving with a cost of 405904059298.59.  solvable=np.False_ prizes for 81929545652110 tokens\n",
      "Machine 272 results in [1.42118863e+11 1.93798450e+11], giving with a cost of 620155039451.0.  solvable=np.True_ prizes for 82549700691561 tokens\n",
      "Machine 273 results in [5.44348384e+10 9.60614794e+10], giving with a cost of 259365994620.311.  solvable=np.False_ prizes for 82549700691561 tokens\n",
      "Machine 274 results in [1.47323033e+11 1.58102767e+11], giving with a cost of 600071865913.0.  solvable=np.True_ prizes for 83149772557474 tokens\n",
      "Machine 275 results in [1.78571429e+11 4.62962963e+10], giving with a cost of 582010582229.582.  solvable=np.False_ prizes for 83149772557474 tokens\n",
      "Machine 276 results in [1.73482032e+11 3.09789343e+11], giving with a cost of 830235440216.868.  solvable=np.False_ prizes for 83149772557474 tokens\n",
      "Machine 277 results in [2.90544110e+10 1.61119915e+11], giving with a cost of 248283148527.627.  solvable=np.False_ prizes for 83149772557474 tokens\n",
      "Machine 278 results in [7.79598309e+10 7.39957717e+10], giving with a cost of 307875264409.613.  solvable=np.False_ prizes for 83149772557474 tokens\n",
      "Machine 279 results in [1.58730159e+11 1.58730159e+11], giving with a cost of 634920635108.635.  solvable=np.False_ prizes for 83149772557474 tokens\n",
      "Machine 280 results in [1.20481928e+11 1.20481928e+11], giving with a cost of 481927712138.0.  solvable=np.True_ prizes for 83631700269612 tokens\n",
      "Machine 281 results in [1.02267675e+11 1.46731881e+11], giving with a cost of 453534904816.0.  solvable=np.True_ prizes for 84085235174428 tokens\n",
      "Machine 282 results in [1.56486623e+11 4.79555780e+10], giving with a cost of 517415446970.069.  solvable=np.False_ prizes for 84085235174428 tokens\n",
      "Machine 283 results in [1.58013544e+11 1.01580136e+11], giving with a cost of 575620768120.0.  solvable=np.True_ prizes for 84660855942548 tokens\n",
      "Machine 284 results in [1.24031008e+11 1.82170543e+11], giving with a cost of 554263566919.0.  solvable=np.True_ prizes for 85215119509467 tokens\n",
      "Machine 285 results in [9.69018698e+10 6.27814932e+10], giving with a cost of 353487102576.612.  solvable=np.False_ prizes for 85215119509467 tokens\n",
      "Machine 286 results in [1.32890366e+11 1.16279070e+11], giving with a cost of 514950167078.0.  solvable=np.True_ prizes for 85730069676545 tokens\n",
      "Machine 287 results in [1.06007067e+11 1.49497146e+11], giving with a cost of 467518347958.0.  solvable=np.True_ prizes for 86197588024503 tokens\n",
      "Machine 288 results in [1.23652505e+11 9.82878884e+10], giving with a cost of 469245402678.285.  solvable=np.False_ prizes for 86197588024503 tokens\n",
      "Machine 289 results in [1.10717449e+11 1.17360496e+11], giving with a cost of 449512843998.0.  solvable=np.True_ prizes for 86647100868501 tokens\n",
      "Machine 290 results in [1.21776504e+11 1.36103152e+11], giving with a cost of 501432665549.0.  solvable=np.True_ prizes for 87148533534050 tokens\n",
      "Machine 291 results in [1.01256983e+11 1.29189944e+11], giving with a cost of 432960894516.0.  solvable=np.True_ prizes for 87581494428566 tokens\n",
      "Machine 292 results in [1.17586912e+11 1.09918200e+11], giving with a cost of 462678937233.0.  solvable=np.True_ prizes for 88044173365799 tokens\n",
      "Machine 293 results in [9.62927300e+10 1.29995185e+11], giving with a cost of 418873375424.183.  solvable=np.False_ prizes for 88044173365799 tokens\n",
      "Machine 294 results in [1.46750524e+11 1.25786164e+11], giving with a cost of 566037736254.0.  solvable=np.True_ prizes for 88610211102053 tokens\n",
      "Machine 295 results in [6.47571607e+10 1.27023661e+11], giving with a cost of 321295143517.952.  solvable=np.False_ prizes for 88610211102053 tokens\n",
      "Machine 296 results in [1.18987342e+11 1.11392405e+11], giving with a cost of 468354430544.747.  solvable=np.False_ prizes for 88610211102053 tokens\n",
      "Machine 297 results in [2.35849057e+11 1.10062893e+11], giving with a cost of 817610064099.0.  solvable=np.True_ prizes for 89427821166152 tokens\n",
      "Machine 298 results in [1.36260409e+11 2.64950795e+11], giving with a cost of 673732022170.0.  solvable=np.True_ prizes for 90101553188322 tokens\n",
      "Machine 299 results in [7.06137969e+10 8.55513309e+10], giving with a cost of 297392721639.094.  solvable=np.False_ prizes for 90101553188322 tokens\n",
      "Machine 300 results in [1.05414471e+11 1.38955439e+11], giving with a cost of 455198850068.0.  solvable=np.True_ prizes for 90556752038390 tokens\n",
      "Machine 301 results in [1.12881806e+11 1.79282869e+11], giving with a cost of 517928287500.0.  solvable=np.True_ prizes for 91074680325890 tokens\n",
      "Machine 302 results in [1.14416476e+11 2.74599543e+11], giving with a cost of 617848970085.0.  solvable=np.True_ prizes for 91692529295975 tokens\n",
      "Machine 303 results in [1.34426230e+11 1.14754098e+11], giving with a cost of 518032787654.0.  solvable=np.True_ prizes for 92210562083629 tokens\n",
      "Machine 304 results in [1.51989272e+11 1.29637908e+11], giving with a cost of 585605722686.0.  solvable=np.True_ prizes for 92796167806315 tokens\n",
      "Machine 305 results in [3.00300301e+10 4.20420420e+11], giving with a cost of 510510510856.51.  solvable=np.False_ prizes for 92796167806315 tokens\n",
      "Machine 306 results in [1.38470801e+11 1.08368453e+11], giving with a cost of 523780855596.0.  solvable=np.True_ prizes for 93319948661911 tokens\n",
      "Machine 307 results in [1.07382550e+11 1.74496644e+11], giving with a cost of 496644295374.0.  solvable=np.True_ prizes for 93816592957285 tokens\n",
      "Machine 308 results in [9.73291083e+10 7.69578995e+10], giving with a cost of 368945224323.296.  solvable=np.False_ prizes for 93816592957285 tokens\n",
      "Machine 309 results in [1.10397100e+11 1.02158511e+11], giving with a cost of 433349811061.0.  solvable=np.True_ prizes for 94249942768346 tokens\n",
      "Machine 310 results in [4.19463087e+10 2.76845638e+11], giving with a cost of 402684563872.389.  solvable=np.False_ prizes for 94249942768346 tokens\n",
      "Machine 311 results in [1.18235562e+11 1.22783083e+11], giving with a cost of 477489768444.398.  solvable=np.False_ prizes for 94249942768346 tokens\n",
      "Machine 312 results in [1.01510275e+11 9.65585541e+10], giving with a cost of 401089378807.049.  solvable=np.False_ prizes for 94249942768346 tokens\n",
      "Machine 313 results in [1.09519798e+11 2.61162595e+11], giving with a cost of 589721988255.0.  solvable=np.True_ prizes for 94839664756601 tokens\n",
      "Machine 314 results in [9.55168695e+10 4.46772455e+10], giving with a cost of 331227854103.625.  solvable=np.False_ prizes for 94839664756601 tokens\n",
      "Machine 315 results in [1.80447078e+11 8.61836790e+10], giving with a cost of 627524912610.701.  solvable=np.False_ prizes for 94839664756601 tokens\n",
      "Machine 316 results in [1.74035748e+11 1.17591722e+11], giving with a cost of 639698965339.851.  solvable=np.False_ prizes for 94839664756601 tokens\n",
      "Machine 317 results in [5.55555564e+09 1.00000000e+11], giving with a cost of 116666667023.667.  solvable=np.False_ prizes for 94839664756601 tokens\n",
      "Machine 318 results in [1.27877238e+11 1.22762149e+11], giving with a cost of 506393862514.0.  solvable=np.True_ prizes for 95346058619115 tokens\n",
      "Machine 319 results in [9.82318271e+10 4.06960427e+10], giving with a cost of 335391524049.632.  solvable=np.False_ prizes for 95346058619115 tokens\n",
      "Machine 320 results in [3.20573261e+10 1.45200830e+11], giving with a cost of 241372808011.616.  solvable=np.False_ prizes for 95346058619115 tokens\n"
     ]
    }
   ],
   "source": [
    "tokens_spent = solve_machines(puzzle_input)"
   ]
  },
  {
   "cell_type": "code",
   "execution_count": 341,
   "id": "d0c116ad-6871-4122-a677-15a43c2e6e69",
   "metadata": {},
   "outputs": [
    {
     "data": {
      "text/plain": [
       "(95346058619115, 169)"
      ]
     },
     "execution_count": 341,
     "metadata": {},
     "output_type": "execute_result"
    }
   ],
   "source": [
    "tokens_spent"
   ]
  },
  {
   "cell_type": "code",
   "execution_count": 342,
   "id": "190fa201-b003-4c88-9462-e60760d0f00d",
   "metadata": {},
   "outputs": [
    {
     "name": "stderr",
     "output_type": "stream",
     "text": [
      "answer a: 29711\n",
      "submitting for part b (part a is already completed)\n",
      "wrong answer: That's not the right answer.  If you're stuck, make sure you're using the full input data; there are also some general tips on the about page, or you can ask for hints on the subreddit.  Because you have guessed incorrectly 9 times on this puzzle, please wait 10 minutes before trying again. [Return to Day 13]\n"
     ]
    },
    {
     "name": "stdout",
     "output_type": "stream",
     "text": [
      "\u001b[31mThat's not the right answer.  If you're stuck, make sure you're using the full input data; there are also some general tips on the about page, or you can ask for hints on the subreddit.  Because you have guessed incorrectly 9 times on this puzzle, please wait 10 minutes before trying again. [Return to Day 13]\u001b[0m\n"
     ]
    },
    {
     "data": {
      "text/plain": [
       "<urllib3.response.HTTPResponse at 0x7f8c78d98850>"
      ]
     },
     "execution_count": 342,
     "metadata": {},
     "output_type": "execute_result"
    }
   ],
   "source": [
    "aocd.submit(10000000000000)"
   ]
  },
  {
   "cell_type": "markdown",
   "id": "c155c2ba-432e-4c57-88cb-201c89368743",
   "metadata": {},
   "source": [
    "tokens_spent"
   ]
  },
  {
   "cell_type": "code",
   "execution_count": 156,
   "id": "80c2760a-d8de-4a3d-bc04-73c19ac326f7",
   "metadata": {},
   "outputs": [],
   "source": [
    "x += 10000"
   ]
  },
  {
   "cell_type": "code",
   "execution_count": 207,
   "id": "b639b8ee-e2d5-4d81-8091-ffe0996bac0f",
   "metadata": {},
   "outputs": [
    {
     "data": {
      "text/plain": [
       "array([30080., 30040.])"
      ]
     },
     "execution_count": 207,
     "metadata": {},
     "output_type": "execute_result"
    }
   ],
   "source": [
    "x"
   ]
  },
  {
   "cell_type": "code",
   "execution_count": 209,
   "id": "f50056f4-49cd-4859-a573-dd7ccf1d354d",
   "metadata": {},
   "outputs": [
    {
     "data": {
      "text/plain": [
       "[True, True]"
      ]
     },
     "execution_count": 209,
     "metadata": {},
     "output_type": "execute_result"
    }
   ],
   "source": [
    "[i.is_integer() for i in x]"
   ]
  },
  {
   "cell_type": "code",
   "execution_count": 158,
   "id": "0cf46822-f169-41b5-ab3c-4e90d90a0bab",
   "metadata": {},
   "outputs": [],
   "source": [
    "import math"
   ]
  },
  {
   "cell_type": "code",
   "execution_count": 346,
   "id": "6e23d972-85a3-41b8-939d-b89fc103de23",
   "metadata": {},
   "outputs": [],
   "source": [
    "def parse_input(puzzle_input):\n",
    "    numbers = re.findall(r'\\b\\d+\\b', puzzle_input)\n",
    "    machines = []\n",
    "    for i in range(0, len(numbers), 6):\n",
    "        machines.append([int(numbers[i+j]) for j in range(6)])\n",
    "        # machines.append({\"A\": np.array(numbers[i:i+2]), \"B\": np.array(numbers[i+2:i+4]), \"Target\": np.array(numbers[i+4:i+6])})\n",
    "    return machines"
   ]
  },
  {
   "cell_type": "code",
   "execution_count": 347,
   "id": "824cc535-fdcd-425f-b994-3ff4c915cce7",
   "metadata": {},
   "outputs": [
    {
     "data": {
      "text/plain": [
       "[[94, 34, 22, 67, 8400, 5400],\n",
       " [26, 66, 67, 21, 12748, 12176],\n",
       " [17, 86, 84, 37, 7870, 6450],\n",
       " [69, 23, 27, 71, 18641, 10279]]"
      ]
     },
     "execution_count": 347,
     "metadata": {},
     "output_type": "execute_result"
    }
   ],
   "source": [
    "parse_input(test_input)"
   ]
  },
  {
   "cell_type": "code",
   "execution_count": 348,
   "id": "03a98912-f8df-46e3-97b3-2d9bb18721d6",
   "metadata": {},
   "outputs": [],
   "source": [
    "machines = parse_input(test_input)"
   ]
  },
  {
   "cell_type": "code",
   "execution_count": 349,
   "id": "cf5039ca-75a4-4d0a-ab93-5ede0276ce17",
   "metadata": {},
   "outputs": [
    {
     "ename": "TypeError",
     "evalue": "solve_machine() got an unexpected keyword argument 'offset'",
     "output_type": "error",
     "traceback": [
      "\u001b[0;31m---------------------------------------------------------------------------\u001b[0m",
      "\u001b[0;31mTypeError\u001b[0m                                 Traceback (most recent call last)",
      "Cell \u001b[0;32mIn[349], line 1\u001b[0m\n\u001b[0;32m----> 1\u001b[0m button_presses \u001b[38;5;241m=\u001b[39m \u001b[43msolve_machine\u001b[49m\u001b[43m(\u001b[49m\u001b[43mmachines\u001b[49m\u001b[43m[\u001b[49m\u001b[38;5;241;43m0\u001b[39;49m\u001b[43m]\u001b[49m\u001b[43m,\u001b[49m\u001b[43m \u001b[49m\u001b[43moffset\u001b[49m\u001b[43m \u001b[49m\u001b[38;5;241;43m=\u001b[39;49m\u001b[43m \u001b[49m\u001b[38;5;241;43m0\u001b[39;49m\u001b[43m)\u001b[49m\n",
      "\u001b[0;31mTypeError\u001b[0m: solve_machine() got an unexpected keyword argument 'offset'"
     ]
    }
   ],
   "source": [
    "button_presses = solve_machine(machines[0], offset = 0)"
   ]
  },
  {
   "cell_type": "code",
   "execution_count": 350,
   "id": "29187560-4713-4b97-a865-e7768c7de713",
   "metadata": {},
   "outputs": [
    {
     "data": {
      "text/plain": [
       "array([ True, False])"
      ]
     },
     "execution_count": 350,
     "metadata": {},
     "output_type": "execute_result"
    }
   ],
   "source": [
    "(button_presses % 1) == 0"
   ]
  },
  {
   "cell_type": "code",
   "execution_count": 388,
   "id": "de8082d9-528c-47d7-bef0-2d1a0d1c70a4",
   "metadata": {},
   "outputs": [
    {
     "data": {
      "text/plain": [
       "15615857404098.0"
      ]
     },
     "execution_count": 388,
     "metadata": {},
     "output_type": "execute_result"
    }
   ],
   "source": [
    "tokens"
   ]
  },
  {
   "cell_type": "code",
   "execution_count": 389,
   "id": "dc6f7b3b-a332-4853-98e2-bd1b2feed74a",
   "metadata": {},
   "outputs": [],
   "source": [
    "machines = parse_input(puzzle_input)"
   ]
  },
  {
   "cell_type": "code",
   "execution_count": 422,
   "id": "7c4ecb28-1ebc-4e06-8d55-c0a1a96d8f5e",
   "metadata": {},
   "outputs": [],
   "source": [
    "def solve_machine(machine, offset = True):\n",
    "    Arr = np.array([[machine[0], machine[2]], [machine[1], machine[3]]], dtype=np.float64)\n",
    "    T = np.array(machine[4:], dtype=np.float64)\n",
    "    if offset:\n",
    "        T = np.array([T[0] + 10000000000000, T[1] + 10000000000000], dtype = np.float64)\n",
    "    A, B = np.dot(np.linalg.inv(Arr), T)\n",
    "    if np.round(A, 3).is_integer() and np.round(B, 3).is_integer():\n",
    "        return A*3 + B\n",
    "    return 0\n",
    "\n",
    "\n",
    "def solve_machines(puzzle_input, offset =  10000000000000):\n",
    "    machines = parse_input(puzzle_input)\n",
    "    print(f\"Gambling on {len(machines)} machines\")\n",
    "    spent = 0\n",
    "    for i, m in enumerate(machines):\n",
    "        spent+= solve_machine(m, offset) \n",
    "        # print(f\"Machine {i+1} results in {button_presses}, giving with a cost of {cost}.  {solvable=} prizes for {spent} tokens\")\n",
    "    return spent"
   ]
  },
  {
   "cell_type": "code",
   "execution_count": 423,
   "id": "a02af39a-025f-493a-8ec5-5f9b8489da99",
   "metadata": {},
   "outputs": [
    {
     "name": "stdout",
     "output_type": "stream",
     "text": [
      "Gambling on 320 machines\n"
     ]
    }
   ],
   "source": [
    "spent = solve_machines(puzzle_input)"
   ]
  },
  {
   "cell_type": "code",
   "execution_count": 424,
   "id": "b87c9504-6253-4d05-8794-5c632d90a9bf",
   "metadata": {},
   "outputs": [
    {
     "data": {
      "text/plain": [
       "94955433618919"
      ]
     },
     "execution_count": 424,
     "metadata": {},
     "output_type": "execute_result"
    }
   ],
   "source": [
    "int(spent)"
   ]
  },
  {
   "cell_type": "code",
   "execution_count": 421,
   "id": "f6d4c179-20aa-4fe7-9974-346963274339",
   "metadata": {},
   "outputs": [
    {
     "name": "stderr",
     "output_type": "stream",
     "text": [
      "answer a: 29711\n",
      "submitting for part b (part a is already completed)\n",
      "coerced float64 value np.float64(94955433618919.0) for 2024/13 to '94955433618919'\n"
     ]
    },
    {
     "name": "stdout",
     "output_type": "stream",
     "text": [
      "\u001b[32mThat's the right answer!  You are one gold star closer to finding the Chief Historian.You have completed Day 13! You can [Shareon\n",
      "  Bluesky\n",
      "Twitter\n",
      "Mastodon] this victory or [Return to Your Advent Calendar].\u001b[0m\n"
     ]
    },
    {
     "data": {
      "text/plain": [
       "<urllib3.response.HTTPResponse at 0x7f8c78174850>"
      ]
     },
     "execution_count": 421,
     "metadata": {},
     "output_type": "execute_result"
    }
   ],
   "source": [
    "aocd.submit(spent)"
   ]
  },
  {
   "cell_type": "code",
   "execution_count": null,
   "id": "0b8cc268-7491-497a-8c1f-ad75358987a1",
   "metadata": {},
   "outputs": [],
   "source": []
  }
 ],
 "metadata": {
  "kernelspec": {
   "display_name": "Python 3 (ipykernel)",
   "language": "python",
   "name": "python3"
  },
  "language_info": {
   "codemirror_mode": {
    "name": "ipython",
    "version": 3
   },
   "file_extension": ".py",
   "mimetype": "text/x-python",
   "name": "python",
   "nbconvert_exporter": "python",
   "pygments_lexer": "ipython3",
   "version": "3.10.12"
  }
 },
 "nbformat": 4,
 "nbformat_minor": 5
}
