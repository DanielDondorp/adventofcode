{
 "cells": [
  {
   "cell_type": "code",
   "execution_count": 1,
   "id": "af8da33a-921d-472b-a649-8dc5464b5f71",
   "metadata": {},
   "outputs": [],
   "source": [
    "import numpy as np\n",
    "from aocd import get_data, submit"
   ]
  },
  {
   "cell_type": "code",
   "execution_count": 2,
   "id": "11fdaf1b-7be3-4978-9c82-48e2f20c6f02",
   "metadata": {},
   "outputs": [],
   "source": [
    "test_input = \"2333133121414131402\"\n",
    "real_input = get_data()"
   ]
  },
  {
   "cell_type": "code",
   "execution_count": 3,
   "id": "19f8b0aa-9810-4f0f-a934-9b86fe3aa7b4",
   "metadata": {},
   "outputs": [],
   "source": [
    "def parse_input(data):\n",
    "    return np.array([int(x) for x in data])\n"
   ]
  },
  {
   "cell_type": "code",
   "execution_count": 4,
   "id": "161e464e-5312-4aa7-b83a-5590ac3dce16",
   "metadata": {},
   "outputs": [],
   "source": [
    "test_data = parse_input(test_input)"
   ]
  },
  {
   "cell_type": "code",
   "execution_count": 5,
   "id": "c085ecb7-83c6-4496-bd9d-a71262539902",
   "metadata": {},
   "outputs": [
    {
     "data": {
      "text/plain": [
       "0"
      ]
     },
     "execution_count": 5,
     "metadata": {},
     "output_type": "execute_result"
    }
   ],
   "source": [
    "0%2"
   ]
  },
  {
   "cell_type": "code",
   "execution_count": 6,
   "id": "064fde95-c386-4413-bee0-c9d3f089f835",
   "metadata": {},
   "outputs": [],
   "source": [
    "def create_blocks(data):\n",
    "    blocks = []\n",
    "    for i, block in enumerate(data):\n",
    "        if i%2 == 0:\n",
    "            #data block\n",
    "            blocks += [i//2 for _ in range(block)]\n",
    "        else:\n",
    "            blocks += [-1 for _ in range(block)]\n",
    "    return blocks\n",
    "        \n",
    "        "
   ]
  },
  {
   "cell_type": "code",
   "execution_count": 7,
   "id": "7b0f7755-5d58-4f3e-bf5e-e332f708d884",
   "metadata": {},
   "outputs": [
    {
     "data": {
      "text/plain": [
       "[0, -1, -1, 1, 1, 1, -1, -1, -1, -1, 2, 2, 2, 2, 2]"
      ]
     },
     "execution_count": 7,
     "metadata": {},
     "output_type": "execute_result"
    }
   ],
   "source": [
    "create_blocks(parse_input(\"12345\"))"
   ]
  },
  {
   "cell_type": "code",
   "execution_count": 12,
   "id": "80bbd35f-4201-4300-a19e-97814f7199cf",
   "metadata": {},
   "outputs": [],
   "source": [
    "def defragment(data):\n",
    "    left_index = 0\n",
    "    right_index = len(data)-1\n",
    "    #once the indexes meet in the middle we are done\n",
    "    while left_index < right_index:\n",
    "        #next gap location\n",
    "        while data[left_index] >= 0:\n",
    "            left_index+=1\n",
    "        #next file block locations\n",
    "        while data[right_index] < 0:\n",
    "            right_index-=1\n",
    "        #dont proceed on last loop!!!\n",
    "        if left_index >= right_index:\n",
    "            break\n",
    "        #swap places of the free space and file block\n",
    "        data[left_index], data[right_index] = data[right_index], data[left_index]\n",
    "    return data\n",
    "    "
   ]
  },
  {
   "cell_type": "code",
   "execution_count": 13,
   "id": "a0fc3d02-4c56-4ba5-bb25-305e1f61b078",
   "metadata": {},
   "outputs": [],
   "source": [
    "data = defragment(create_blocks(parse_input(test_input)))"
   ]
  },
  {
   "cell_type": "code",
   "execution_count": 14,
   "id": "f83f4f2b-205e-4fb8-93fb-0481cecc9c29",
   "metadata": {},
   "outputs": [],
   "source": [
    "def checksum(defragmented_data):\n",
    "    prods = [x*i for i, x in enumerate(defragmented_data) if x > 0]\n",
    "    return np.sum(prods)\n",
    "    "
   ]
  },
  {
   "cell_type": "code",
   "execution_count": 15,
   "id": "ae4a0210-b766-472f-b99c-d858155e65f1",
   "metadata": {},
   "outputs": [
    {
     "data": {
      "text/plain": [
       "np.int64(1928)"
      ]
     },
     "execution_count": 15,
     "metadata": {},
     "output_type": "execute_result"
    }
   ],
   "source": [
    "checksum(data)"
   ]
  },
  {
   "cell_type": "code",
   "execution_count": 16,
   "id": "b5625ec9-0652-4a69-be01-944fac28c4a9",
   "metadata": {},
   "outputs": [],
   "source": [
    "def run_defragmenter(puzzle_input):\n",
    "    data = parse_input(puzzle_input)\n",
    "    blocks = create_blocks(data)\n",
    "    return(checksum(defragment(blocks)))"
   ]
  },
  {
   "cell_type": "code",
   "execution_count": 17,
   "id": "adbfc7a5-256f-4e0c-93ef-2be11ecb6c62",
   "metadata": {},
   "outputs": [],
   "source": [
    "real_input = get_data()\n",
    "part1 = run_defragmenter(real_input)"
   ]
  },
  {
   "cell_type": "markdown",
   "id": "81738099-b1ea-41e1-a2ba-0e032a2b07f8",
   "metadata": {},
   "source": [
    "### Part two"
   ]
  },
  {
   "cell_type": "code",
   "execution_count": 253,
   "id": "a1b002a0-a7b8-44a4-9092-413d5abc0eda",
   "metadata": {},
   "outputs": [],
   "source": [
    "def find_spaces(blocks):\n",
    "    spaces = []\n",
    "    start_index = None\n",
    "    for i, block in enumerate(blocks):\n",
    "        if block == -1:\n",
    "            if start_index  is None:\n",
    "                start_index = i\n",
    "        else:\n",
    "            if start_index is not None:\n",
    "                space_len = i - start_index\n",
    "                spaces.append((start_index, space_len))\n",
    "                start_index = None\n",
    "    if start_index is not None:\n",
    "        space_len = len(blocks) - start_index\n",
    "        spaces.append((start_index, space_len))\n",
    "    return spaces\n",
    "\n",
    "\n",
    "#why was this so hard to extend to all numbers from just the spaces...\n",
    "def find_files(blocks):\n",
    "    spaces = []\n",
    "    start_index = None\n",
    "\n",
    "    for i, block in enumerate(blocks):\n",
    "        if block != -1: \n",
    "            if start_index is None:\n",
    "                start_index = i\n",
    "            elif blocks[start_index] != block:\n",
    "                space_len = i - start_index\n",
    "                spaces.append((start_index, space_len))\n",
    "                start_index = i\n",
    "        else:\n",
    "            if start_index is not None:\n",
    "                space_len = i - start_index\n",
    "                spaces.append((start_index, space_len))\n",
    "                start_index = None\n",
    "\n",
    "    if start_index is not None:\n",
    "        space_len = len(blocks) - start_index\n",
    "        spaces.append((start_index, space_len))\n",
    "\n",
    "    return spaces"
   ]
  },
  {
   "cell_type": "code",
   "execution_count": 260,
   "id": "8aac18f9-11fb-49b1-aff8-167722023bbe",
   "metadata": {},
   "outputs": [],
   "source": [
    "def defragment2(blocks):\n",
    "    spaces = find_spaces(blocks)\n",
    "    files = find_files(blocks)\n",
    "    # return\n",
    "\n",
    "    for f in files[::-1]:\n",
    "        file_ind, file_len = f\n",
    "        # print(f\"processing {f} of value {blocks[file_ind:file_ind+file_len]}\")\n",
    "        # print(spaces)\n",
    "        for i, s in enumerate(spaces):\n",
    "            # print(spaces)\n",
    "            space_ind, space_len = s\n",
    "            if space_ind >= file_ind:\n",
    "                #no spaces to the left\n",
    "                break\n",
    "            if space_len >= file_len:\n",
    "                # print(f\"Found a suitable space of {space_len=} at loc {space_ind}\")\n",
    "                blocks[space_ind:space_ind+file_len], blocks[file_ind:file_ind+file_len] = blocks[file_ind:file_ind+file_len], blocks[space_ind:space_ind+file_len]\n",
    "                # print(f'{\"\".join([str(x) if x >= 0 else \".\" for x in blocks])}')\n",
    "                \n",
    "                # correct_spaces = find_spaces(blocks)- #correct but sloooow\n",
    "\n",
    "                #modifying spaces index on the go is faster than going to find spaces\n",
    "                if  space_len - file_len > 0:\n",
    "                    spaces[i] = (space_ind+file_len, space_len-file_len)\n",
    "                else:\n",
    "                    spaces.pop(i)\n",
    "                # print(spaces, \"\\n\", correct_spaces)\n",
    "                \n",
    "                break\n",
    "        \n",
    "    return blocks"
   ]
  },
  {
   "cell_type": "code",
   "execution_count": 261,
   "id": "6df2df0e-9572-401c-aad0-838720ea8884",
   "metadata": {},
   "outputs": [],
   "source": [
    "test_data = parse_input(test_input)\n",
    "\n",
    "test_blocks = create_blocks(test_data)"
   ]
  },
  {
   "cell_type": "code",
   "execution_count": 262,
   "id": "89b2c1cc-a5c3-4251-b125-5cad5bcac3bb",
   "metadata": {},
   "outputs": [],
   "source": [
    "test_blocks = defragment2(test_blocks)"
   ]
  },
  {
   "cell_type": "code",
   "execution_count": 263,
   "id": "27de5b4a-3191-4349-bf28-5112fb1a1a36",
   "metadata": {},
   "outputs": [
    {
     "data": {
      "text/plain": [
       "np.int64(2858)"
      ]
     },
     "execution_count": 263,
     "metadata": {},
     "output_type": "execute_result"
    }
   ],
   "source": [
    "checksum(test_blocks)"
   ]
  },
  {
   "cell_type": "code",
   "execution_count": 264,
   "id": "2f5a2d53-c0c0-4886-90c2-53a92696d6d7",
   "metadata": {},
   "outputs": [],
   "source": [
    "def run_defragmenter2(puzzle_input):\n",
    "    data = parse_input(puzzle_input)\n",
    "    blocks = create_blocks(data)\n",
    "    return checksum(defragment2(blocks))"
   ]
  },
  {
   "cell_type": "code",
   "execution_count": 265,
   "id": "02ce972e-c48b-4a4d-9de2-f60518e8a6a8",
   "metadata": {},
   "outputs": [
    {
     "name": "stdout",
     "output_type": "stream",
     "text": [
      "CPU times: user 94.2 ms, sys: 10.1 ms, total: 104 ms\n",
      "Wall time: 104 ms\n"
     ]
    },
    {
     "data": {
      "text/plain": [
       "np.int64(6351801932670)"
      ]
     },
     "execution_count": 265,
     "metadata": {},
     "output_type": "execute_result"
    }
   ],
   "source": [
    "%%time\n",
    "run_defragmenter2(real_input)"
   ]
  },
  {
   "cell_type": "code",
   "execution_count": null,
   "id": "127df5a9-ab26-49b2-8d92-e8df2b21dbcd",
   "metadata": {},
   "outputs": [],
   "source": []
  }
 ],
 "metadata": {
  "kernelspec": {
   "display_name": "Python 3 (ipykernel)",
   "language": "python",
   "name": "python3"
  },
  "language_info": {
   "codemirror_mode": {
    "name": "ipython",
    "version": 3
   },
   "file_extension": ".py",
   "mimetype": "text/x-python",
   "name": "python",
   "nbconvert_exporter": "python",
   "pygments_lexer": "ipython3",
   "version": "3.10.12"
  }
 },
 "nbformat": 4,
 "nbformat_minor": 5
}
