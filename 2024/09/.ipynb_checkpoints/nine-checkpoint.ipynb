{
 "cells": [
  {
   "cell_type": "code",
   "execution_count": 1,
   "id": "af8da33a-921d-472b-a649-8dc5464b5f71",
   "metadata": {},
   "outputs": [],
   "source": [
    "import numpy as np\n",
    "from aocd import get_data, submit"
   ]
  },
  {
   "cell_type": "code",
   "execution_count": 2,
   "id": "11fdaf1b-7be3-4978-9c82-48e2f20c6f02",
   "metadata": {},
   "outputs": [],
   "source": [
    "test_input = \"2333133121414131402\"\n",
    "real_input = get_data()"
   ]
  },
  {
   "cell_type": "code",
   "execution_count": 4,
   "id": "19f8b0aa-9810-4f0f-a934-9b86fe3aa7b4",
   "metadata": {},
   "outputs": [],
   "source": [
    "def parse_input(data):\n",
    "    return np.array([int(x) for x in data])\n"
   ]
  },
  {
   "cell_type": "code",
   "execution_count": 7,
   "id": "161e464e-5312-4aa7-b83a-5590ac3dce16",
   "metadata": {},
   "outputs": [],
   "source": [
    "test_data = parse_input(test_input)"
   ]
  },
  {
   "cell_type": "code",
   "execution_count": 8,
   "id": "c085ecb7-83c6-4496-bd9d-a71262539902",
   "metadata": {},
   "outputs": [
    {
     "data": {
      "text/plain": [
       "0"
      ]
     },
     "execution_count": 8,
     "metadata": {},
     "output_type": "execute_result"
    }
   ],
   "source": [
    "0%2"
   ]
  },
  {
   "cell_type": "code",
   "execution_count": 14,
   "id": "064fde95-c386-4413-bee0-c9d3f089f835",
   "metadata": {},
   "outputs": [],
   "source": [
    "def create_blocks(data):\n",
    "    blocks = []\n",
    "    for i, block in enumerate(data):\n",
    "        if i%2 == 0:\n",
    "            #data block\n",
    "            blocks += [i//2 for _ in range(block)]\n",
    "        else:\n",
    "            blocks += [-1 for _ in range(block)]\n",
    "    return blocks\n",
    "        \n",
    "        "
   ]
  },
  {
   "cell_type": "code",
   "execution_count": 27,
   "id": "7b0f7755-5d58-4f3e-bf5e-e332f708d884",
   "metadata": {},
   "outputs": [
    {
     "data": {
      "text/plain": [
       "[0, -1, -1, 1, 1, 1, -1, -1, -1, -1, 2, 2, 2, 2, 2]"
      ]
     },
     "execution_count": 27,
     "metadata": {},
     "output_type": "execute_result"
    }
   ],
   "source": [
    "create_blocks(parse_input(\"12345\"))"
   ]
  },
  {
   "cell_type": "code",
   "execution_count": 29,
   "id": "511ccdc8-a4cc-4b39-b224-69ebd79ff577",
   "metadata": {},
   "outputs": [
    {
     "data": {
      "text/plain": [
       "[0,\n",
       " 0,\n",
       " -1,\n",
       " -1,\n",
       " -1,\n",
       " 1,\n",
       " 1,\n",
       " 1,\n",
       " -1,\n",
       " -1,\n",
       " -1,\n",
       " 2,\n",
       " -1,\n",
       " -1,\n",
       " -1,\n",
       " 3,\n",
       " 3,\n",
       " 3,\n",
       " -1,\n",
       " 4,\n",
       " 4,\n",
       " -1,\n",
       " 5,\n",
       " 5,\n",
       " 5,\n",
       " 5,\n",
       " -1,\n",
       " 6,\n",
       " 6,\n",
       " 6,\n",
       " 6,\n",
       " -1,\n",
       " 7,\n",
       " 7,\n",
       " 7,\n",
       " -1,\n",
       " 8,\n",
       " 8,\n",
       " 8,\n",
       " 8,\n",
       " 9,\n",
       " 9]"
      ]
     },
     "execution_count": 29,
     "metadata": {},
     "output_type": "execute_result"
    }
   ],
   "source": [
    "create_blocks(parse_input(test_data))"
   ]
  },
  {
   "cell_type": "code",
   "execution_count": 83,
   "id": "f3611930-016c-4728-bf4e-a1ba9f0d7973",
   "metadata": {},
   "outputs": [
    {
     "data": {
      "text/plain": [
       "(0, 0)"
      ]
     },
     "execution_count": 83,
     "metadata": {},
     "output_type": "execute_result"
    }
   ],
   "source": [
    "next(fw)"
   ]
  },
  {
   "cell_type": "code",
   "execution_count": 88,
   "id": "27f9c41b-bc3b-43c4-aec5-00c64a2507bd",
   "metadata": {},
   "outputs": [
    {
     "name": "stdout",
     "output_type": "stream",
     "text": [
      "11 2\n"
     ]
    }
   ],
   "source": [
    "\n",
    "print(i, f)"
   ]
  },
  {
   "cell_type": "code",
   "execution_count": 89,
   "id": "188e31b2-e834-46b3-9d34-77c80ec8c9cb",
   "metadata": {},
   "outputs": [],
   "source": [
    "def get_next_file_block(g):\n",
    "    i, f = next(fw)\n",
    "    while f < 0:\n",
    "        i, f = next(fw)\n",
    "    return i, f\n",
    "    \n",
    "    \n",
    "    "
   ]
  },
  {
   "cell_type": "code",
   "execution_count": 156,
   "id": "80bbd35f-4201-4300-a19e-97814f7199cf",
   "metadata": {},
   "outputs": [],
   "source": [
    "def defragment(data):\n",
    "    left_index = 0\n",
    "    right_index = len(data)-1\n",
    "    #once the indexes meet in the middle we are done\n",
    "    while left_index < right_index:\n",
    "        #next gap location\n",
    "        while data[left_index] >= 0:\n",
    "            left_index+=1\n",
    "        #next file block locations\n",
    "        while data[right_index] < 0:\n",
    "            right_index-=1\n",
    "        #dont proceed on last loop!!!\n",
    "        if left_index >= right_index:\n",
    "            break\n",
    "        #swap places of the free space and file block\n",
    "        data[left_index], data[right_index] = data[right_index], data[left_index]\n",
    "    return data\n",
    "    "
   ]
  },
  {
   "cell_type": "code",
   "execution_count": 157,
   "id": "a0fc3d02-4c56-4ba5-bb25-305e1f61b078",
   "metadata": {},
   "outputs": [],
   "source": [
    "data = defragment(create_blocks(parse_input(test_input)))"
   ]
  },
  {
   "cell_type": "code",
   "execution_count": 158,
   "id": "f83f4f2b-205e-4fb8-93fb-0481cecc9c29",
   "metadata": {},
   "outputs": [],
   "source": [
    "def checksum(defragmented_data):\n",
    "    prods = [x*i for i, x in enumerate(defragmented_data) if x > 0]\n",
    "    return np.sum(prods)\n",
    "    "
   ]
  },
  {
   "cell_type": "code",
   "execution_count": 159,
   "id": "ae4a0210-b766-472f-b99c-d858155e65f1",
   "metadata": {},
   "outputs": [
    {
     "data": {
      "text/plain": [
       "np.int64(1928)"
      ]
     },
     "execution_count": 159,
     "metadata": {},
     "output_type": "execute_result"
    }
   ],
   "source": [
    "checksum(data)"
   ]
  },
  {
   "cell_type": "code",
   "execution_count": 160,
   "id": "b5625ec9-0652-4a69-be01-944fac28c4a9",
   "metadata": {},
   "outputs": [],
   "source": [
    "def run_defragmenter(puzzle_input):\n",
    "    data = parse_input(puzzle_input)\n",
    "    blocks = create_blocks(data)\n",
    "    return(checksum(defragment(blocks)))"
   ]
  },
  {
   "cell_type": "code",
   "execution_count": 161,
   "id": "adbfc7a5-256f-4e0c-93ef-2be11ecb6c62",
   "metadata": {},
   "outputs": [],
   "source": [
    "real_input = get_data()\n",
    "part1 = run_defragmenter(real_input)"
   ]
  },
  {
   "cell_type": "markdown",
   "id": "81738099-b1ea-41e1-a2ba-0e032a2b07f8",
   "metadata": {},
   "source": [
    "### Part two"
   ]
  },
  {
   "cell_type": "code",
   "execution_count": 164,
   "id": "1113b5ee-5537-4e58-894d-465f26882ca5",
   "metadata": {},
   "outputs": [],
   "source": [
    "test_data = parse_input(test_input)"
   ]
  },
  {
   "cell_type": "code",
   "execution_count": 166,
   "id": "cdb9b1e9-9744-42ca-a91a-7b33ff742939",
   "metadata": {},
   "outputs": [],
   "source": [
    "test_blocks = create_blocks(test_data)"
   ]
  },
  {
   "cell_type": "code",
   "execution_count": 172,
   "id": "b88569fa-6c4d-4e68-8e10-0431960e5fdc",
   "metadata": {},
   "outputs": [
    {
     "data": {
      "text/plain": [
       "array([ 2,  3,  4,  8,  9, 10, 12, 13, 14, 18, 21, 26, 31, 35])"
      ]
     },
     "execution_count": 172,
     "metadata": {},
     "output_type": "execute_result"
    }
   ],
   "source": []
  },
  {
   "cell_type": "code",
   "execution_count": 174,
   "id": "9ad17e6b-423c-412d-8aef-a3bea23cf900",
   "metadata": {},
   "outputs": [],
   "source": [
    "def map_free_space(blocks):\n",
    "    free_space_indices = np.ravel(np.argwhere(np.array(test_blocks) == -1))\n",
    "    space_map = []\n",
    "    i = 0\n",
    "    while i < len(free_space_indices):\n",
    "        l = 1\n",
    "        num = free_space_indices[i]\n",
    "        current_i = i\n",
    "        while free_space_indices[i+1] - free_space_indices[i] == 1:\n",
    "            l+=1\n",
    "            i+=1\n",
    "            print(i, l)\n",
    "        space_map.append([current_i, l])\n",
    "    return space_mape\n",
    "            \n",
    "            "
   ]
  },
  {
   "cell_type": "code",
   "execution_count": null,
   "id": "0e78b569-7fb7-4018-b112-97515dc6a34c",
   "metadata": {},
   "outputs": [],
   "source": [
    "map_free_space(test_blocks)"
   ]
  },
  {
   "cell_type": "code",
   "execution_count": null,
   "id": "9e9811cc-9a4d-45cd-8026-95789457e496",
   "metadata": {},
   "outputs": [],
   "source": []
  }
 ],
 "metadata": {
  "kernelspec": {
   "display_name": "Python 3 (ipykernel)",
   "language": "python",
   "name": "python3"
  },
  "language_info": {
   "codemirror_mode": {
    "name": "ipython",
    "version": 3
   },
   "file_extension": ".py",
   "mimetype": "text/x-python",
   "name": "python",
   "nbconvert_exporter": "python",
   "pygments_lexer": "ipython3",
   "version": "3.10.12"
  }
 },
 "nbformat": 4,
 "nbformat_minor": 5
}
