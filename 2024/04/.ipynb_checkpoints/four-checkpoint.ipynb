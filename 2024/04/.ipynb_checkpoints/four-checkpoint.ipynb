{
 "cells": [
  {
   "cell_type": "code",
   "execution_count": 8,
   "id": "506d142c-df4b-4711-b11a-aea1ee6ecb6d",
   "metadata": {},
   "outputs": [],
   "source": [
    "import numpy as np"
   ]
  },
  {
   "cell_type": "markdown",
   "id": "5830b500-c91b-4ae6-b5f1-b70a28ecacd8",
   "metadata": {},
   "source": [
    "## Part One"
   ]
  },
  {
   "cell_type": "code",
   "execution_count": 227,
   "id": "8171e641-932f-475c-9df6-8a92604bf197",
   "metadata": {},
   "outputs": [],
   "source": [
    "test_puzzle_input = \"\"\"MMMSXXMASM\n",
    "MSAMXMSMSA\n",
    "AMXSXMAAMM\n",
    "MSAMASMSMX\n",
    "XMASAMXAMM\n",
    "XXAMMXXAMA\n",
    "SMSMSASXSS\n",
    "SAXAMASAAA\n",
    "MAMMMXMMMM\n",
    "MXMXAXMASX\"\"\""
   ]
  },
  {
   "cell_type": "code",
   "execution_count": 228,
   "id": "2c8444bd-f255-49f4-b3fa-eff7d85b0e01",
   "metadata": {},
   "outputs": [],
   "source": [
    "def make_xmas_array(data):\n",
    "    arrays = np.array([np.array([x for x in line]) for line in data.split(\"\\n\")])\n",
    "    return arrays"
   ]
  },
  {
   "cell_type": "code",
   "execution_count": 229,
   "id": "53edad68-4035-4d99-80d4-a24f9f376f6d",
   "metadata": {},
   "outputs": [],
   "source": [
    "test_data = make_xmas_array(test_puzzle_input)"
   ]
  },
  {
   "cell_type": "code",
   "execution_count": 230,
   "id": "59cf6ba2-a8c1-41c0-b481-dfccf6891fb8",
   "metadata": {},
   "outputs": [
    {
     "data": {
      "text/plain": [
       "array([['M', 'M', 'M', 'S', 'X', 'X', 'M', 'A', 'S', 'M'],\n",
       "       ['M', 'S', 'A', 'M', 'X', 'M', 'S', 'M', 'S', 'A'],\n",
       "       ['A', 'M', 'X', 'S', 'X', 'M', 'A', 'A', 'M', 'M'],\n",
       "       ['M', 'S', 'A', 'M', 'A', 'S', 'M', 'S', 'M', 'X'],\n",
       "       ['X', 'M', 'A', 'S', 'A', 'M', 'X', 'A', 'M', 'M'],\n",
       "       ['X', 'X', 'A', 'M', 'M', 'X', 'X', 'A', 'M', 'A'],\n",
       "       ['S', 'M', 'S', 'M', 'S', 'A', 'S', 'X', 'S', 'S'],\n",
       "       ['S', 'A', 'X', 'A', 'M', 'A', 'S', 'A', 'A', 'A'],\n",
       "       ['M', 'A', 'M', 'M', 'M', 'X', 'M', 'M', 'M', 'M'],\n",
       "       ['M', 'X', 'M', 'X', 'A', 'X', 'M', 'A', 'S', 'X']], dtype='<U1')"
      ]
     },
     "execution_count": 230,
     "metadata": {},
     "output_type": "execute_result"
    }
   ],
   "source": [
    "test_data"
   ]
  },
  {
   "cell_type": "code",
   "execution_count": 257,
   "id": "d4d19614-d027-4a7b-bc62-fd6f01c61c45",
   "metadata": {},
   "outputs": [],
   "source": [
    "def find_xmas(data):\n",
    "    xmasses = 0\n",
    "    w, h = data.shape \n",
    "    for x in range(w):\n",
    "        for y in range(h):\n",
    "            words = []\n",
    "            #horizontal, for all y values\n",
    "            if y<=h-4:\n",
    "                forward = data[y:y+4, x]\n",
    "                words.append(forward)\n",
    "            #vertical\n",
    "            if x<=w-4:\n",
    "                down = data[y, x:x+4]\n",
    "                words.append(down)\n",
    "            #diagonals\n",
    "            if x<=w-4 and y<=h-4:\n",
    "                diag = data[[y+i for i in range(4)], [x+i for i in range(4)]]\n",
    "                diag2 = data[[y+3 - i for i in range(4)], [x+i for i in range(4)]]\n",
    "                words += [diag, diag2]\n",
    "            for word in words:\n",
    "                word = \"\".join(word)\n",
    "                if word == \"XMAS\" or word == \"SAMX\":\n",
    "                    xmasses+=1\n",
    "        \n",
    "    return xmasses"
   ]
  },
  {
   "cell_type": "code",
   "execution_count": 258,
   "id": "8765371f-a530-442a-8aa8-4d023982b2ea",
   "metadata": {},
   "outputs": [
    {
     "data": {
      "text/plain": [
       "18"
      ]
     },
     "execution_count": 258,
     "metadata": {},
     "output_type": "execute_result"
    }
   ],
   "source": [
    "find_xmas(test_data)"
   ]
  },
  {
   "cell_type": "code",
   "execution_count": 259,
   "id": "2a0b9f57-df4d-4fde-9b27-b331c11a115e",
   "metadata": {},
   "outputs": [
    {
     "data": {
      "text/plain": [
       "(10, 10)"
      ]
     },
     "execution_count": 259,
     "metadata": {},
     "output_type": "execute_result"
    }
   ],
   "source": [
    "test_data.shape"
   ]
  },
  {
   "cell_type": "code",
   "execution_count": 260,
   "id": "0f9ff044-c121-4248-bec0-c783eaf701fc",
   "metadata": {},
   "outputs": [],
   "source": [
    "with open(\"puzzle_input.txt\", \"r\") as f:\n",
    "    puzzle_input = f.read()\n",
    "data = make_xmas_array(puzzle_input)"
   ]
  },
  {
   "cell_type": "code",
   "execution_count": 261,
   "id": "35947ec8-b2f8-41e5-8571-295bd5cd6651",
   "metadata": {},
   "outputs": [
    {
     "data": {
      "text/plain": [
       "(140, 140)"
      ]
     },
     "execution_count": 261,
     "metadata": {},
     "output_type": "execute_result"
    }
   ],
   "source": [
    "data.shape"
   ]
  },
  {
   "cell_type": "code",
   "execution_count": 262,
   "id": "67079f76-2c38-4edb-80d5-23529553e6e3",
   "metadata": {},
   "outputs": [
    {
     "data": {
      "text/plain": [
       "2654"
      ]
     },
     "execution_count": 262,
     "metadata": {},
     "output_type": "execute_result"
    }
   ],
   "source": [
    "find_xmas(data)"
   ]
  },
  {
   "cell_type": "markdown",
   "id": "b0fb2444-be4d-408b-8bda-cced9f80a56a",
   "metadata": {},
   "source": [
    "## Part Two"
   ]
  },
  {
   "cell_type": "code",
   "execution_count": 263,
   "id": "13b72e6a-62b4-48f3-8590-02e0eab2faf2",
   "metadata": {},
   "outputs": [],
   "source": [
    "xmas_kernel = make_xmas_array(\"\"\"M.S\n",
    ".A.\n",
    "M.S\"\"\")"
   ]
  },
  {
   "cell_type": "code",
   "execution_count": 264,
   "id": "2bab3f65-cb08-4816-9ea9-f48c054aedd6",
   "metadata": {},
   "outputs": [
    {
     "data": {
      "text/plain": [
       "array([['M', '.', 'S'],\n",
       "       ['.', 'A', '.'],\n",
       "       ['M', '.', 'S']], dtype='<U1')"
      ]
     },
     "execution_count": 264,
     "metadata": {},
     "output_type": "execute_result"
    }
   ],
   "source": [
    "xmas_kernel"
   ]
  },
  {
   "cell_type": "code",
   "execution_count": 281,
   "id": "e03d45af-e0c8-4e03-9ef3-d75214b2778a",
   "metadata": {},
   "outputs": [],
   "source": [
    "xks = [xmas_kernel]\n",
    "for i in range(3):\n",
    "    xks.append(np.rot90(xks[-1]))"
   ]
  },
  {
   "cell_type": "code",
   "execution_count": 282,
   "id": "0b6f2fcd-6bcf-47bf-81d1-8c12f35ae982",
   "metadata": {},
   "outputs": [
    {
     "data": {
      "text/plain": [
       "[array([['M', '.', 'S'],\n",
       "        ['.', 'A', '.'],\n",
       "        ['M', '.', 'S']], dtype='<U1'),\n",
       " array([['S', '.', 'S'],\n",
       "        ['.', 'A', '.'],\n",
       "        ['M', '.', 'M']], dtype='<U1'),\n",
       " array([['S', '.', 'M'],\n",
       "        ['.', 'A', '.'],\n",
       "        ['S', '.', 'M']], dtype='<U1'),\n",
       " array([['M', '.', 'M'],\n",
       "        ['.', 'A', '.'],\n",
       "        ['S', '.', 'S']], dtype='<U1')]"
      ]
     },
     "execution_count": 282,
     "metadata": {},
     "output_type": "execute_result"
    }
   ],
   "source": [
    "xks"
   ]
  },
  {
   "cell_type": "code",
   "execution_count": 286,
   "id": "d62bb80f-c2a2-450e-ab88-904a4896e182",
   "metadata": {},
   "outputs": [],
   "source": [
    "def find_xmas2(data):\n",
    "    w,h = data.shape\n",
    "    xmasses = 0\n",
    "    for x in range(w-2):\n",
    "        for y in range(h-2):\n",
    "            sub = data[x:x+3, y:y+3]\n",
    "            for k in xks:\n",
    "                if np.sum(sub==k) >= 5:\n",
    "                    xmasses+=1\n",
    "                    break\n",
    "    return xmasses\n",
    "            \n",
    "            \n",
    "            \n",
    "            "
   ]
  },
  {
   "cell_type": "code",
   "execution_count": 289,
   "id": "7553ea16-e758-45e1-b464-e95da7986c69",
   "metadata": {},
   "outputs": [
    {
     "data": {
      "text/plain": [
       "9"
      ]
     },
     "execution_count": 289,
     "metadata": {},
     "output_type": "execute_result"
    }
   ],
   "source": [
    "find_xmas2(test_data)"
   ]
  },
  {
   "cell_type": "code",
   "execution_count": 290,
   "id": "5e3c122f-f333-42b3-8526-5eb39118ddf4",
   "metadata": {},
   "outputs": [
    {
     "data": {
      "text/plain": [
       "1990"
      ]
     },
     "execution_count": 290,
     "metadata": {},
     "output_type": "execute_result"
    }
   ],
   "source": [
    "find_xmas2(data)"
   ]
  },
  {
   "cell_type": "code",
   "execution_count": null,
   "id": "0c7ae411-e0f5-40d3-875d-5040645503bf",
   "metadata": {},
   "outputs": [],
   "source": []
  }
 ],
 "metadata": {
  "kernelspec": {
   "display_name": "Python 3 (ipykernel)",
   "language": "python",
   "name": "python3"
  },
  "language_info": {
   "codemirror_mode": {
    "name": "ipython",
    "version": 3
   },
   "file_extension": ".py",
   "mimetype": "text/x-python",
   "name": "python",
   "nbconvert_exporter": "python",
   "pygments_lexer": "ipython3",
   "version": "3.10.12"
  }
 },
 "nbformat": 4,
 "nbformat_minor": 5
}
