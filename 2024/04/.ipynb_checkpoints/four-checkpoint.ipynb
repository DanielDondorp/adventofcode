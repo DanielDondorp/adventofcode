{
 "cells": [
  {
   "cell_type": "code",
   "execution_count": 8,
   "id": "506d142c-df4b-4711-b11a-aea1ee6ecb6d",
   "metadata": {},
   "outputs": [],
   "source": [
    "import numpy as np"
   ]
  },
  {
   "cell_type": "markdown",
   "id": "5830b500-c91b-4ae6-b5f1-b70a28ecacd8",
   "metadata": {},
   "source": [
    "--- Day 4: Ceres Search ---\n",
    "\"Looks like the Chief's not here. Next!\" One of The Historians pulls out a device and pushes the only button on it. After a brief flash, you recognize the interior of the Ceres monitoring station!\n",
    "\n",
    "As the search for the Chief continues, a small Elf who lives on the station tugs on your shirt; she'd like to know if you could help her with her word search (your puzzle input). She only has to find one word: XMAS.\n",
    "\n",
    "This word search allows words to be horizontal, vertical, diagonal, written backwards, or even overlapping other words. It's a little unusual, though, as you don't merely need to find one instance of XMAS - you need to find all of them. Here are a few ways XMAS might appear, where irrelevant characters have been replaced with .:\n",
    "\n",
    "```\n",
    "..X...\n",
    ".SAMX.\n",
    ".A..A.\n",
    "XMAS.S\n",
    ".X....\n",
    "```\n",
    "The actual word search will be full of letters instead. For example:\n",
    "```\n",
    "MMMSXXMASM\n",
    "MSAMXMSMSA\n",
    "AMXSXMAAMM\n",
    "MSAMASMSMX\n",
    "XMASAMXAMM\n",
    "XXAMMXXAMA\n",
    "SMSMSASXSS\n",
    "SAXAMASAAA\n",
    "MAMMMXMMMM\n",
    "MXMXAXMASX\n",
    "```\n",
    "In this word search, XMAS occurs a total of 18 times; here's the same word search again, but where letters not involved in any XMAS have been replaced with .:\n",
    "```\n",
    "....XXMAS.\n",
    ".SAMXMS...\n",
    "...S..A...\n",
    "..A.A.MS.X\n",
    "XMASAMX.MM\n",
    "X.....XA.A\n",
    "S.S.S.S.SS\n",
    ".A.A.A.A.A\n",
    "..M.M.M.MM\n",
    ".X.X.XMASX\n",
    "```\n",
    "Take a look at the little Elf's word search. How many times does XMAS appear?"
   ]
  },
  {
   "cell_type": "code",
   "execution_count": 9,
   "id": "8171e641-932f-475c-9df6-8a92604bf197",
   "metadata": {},
   "outputs": [],
   "source": [
    "puzzle_input = \"\"\"MMMSXXMASM\n",
    "MSAMXMSMSA\n",
    "AMXSXMAAMM\n",
    "MSAMASMSMX\n",
    "XMASAMXAMM\n",
    "XXAMMXXAMA\n",
    "SMSMSASXSS\n",
    "SAXAMASAAA\n",
    "MAMMMXMMMM\n",
    "MXMXAXMASX\n",
    "\"\"\""
   ]
  },
  {
   "cell_type": "code",
   "execution_count": 12,
   "id": "064330da-45c8-4727-935f-3a9e713982de",
   "metadata": {},
   "outputs": [
    {
     "data": {
      "text/plain": [
       "array('MMMSXXMASM\\nMSAMXMSMSA\\nAMXSXMAAMM\\nMSAMASMSMX\\nXMASAMXAMM\\nXXAMMXXAMA\\nSMSMSASXSS\\nSAXAMASAAA\\nMAMMMXMMMM\\nMXMXAXMASX\\n',\n",
       "      dtype='<U110')"
      ]
     },
     "execution_count": 12,
     "metadata": {},
     "output_type": "execute_result"
    }
   ],
   "source": [
    "np.array(puzzle_input.split9\")"
   ]
  },
  {
   "cell_type": "code",
   "execution_count": 207,
   "id": "2c8444bd-f255-49f4-b3fa-eff7d85b0e01",
   "metadata": {},
   "outputs": [],
   "source": [
    "def make_xmas_array(data):\n",
    "    arrays = np.array([np.array([x for x in line]) for line in data.split(\"\\n\")])\n",
    "    if len(arrays[-1]) == 0:\n",
    "        arrays = arrays[:-1]\n",
    "    return arrays"
   ]
  },
  {
   "cell_type": "code",
   "execution_count": 208,
   "id": "53edad68-4035-4d99-80d4-a24f9f376f6d",
   "metadata": {},
   "outputs": [],
   "source": [
    "test_data = make_xmas_array(puzzle_input)"
   ]
  },
  {
   "cell_type": "code",
   "execution_count": 209,
   "id": "59cf6ba2-a8c1-41c0-b481-dfccf6891fb8",
   "metadata": {},
   "outputs": [
    {
     "data": {
      "text/plain": [
       "array([['X', 'M', 'M', ..., 'A', 'S', 'M'],\n",
       "       ['S', 'A', 'M', ..., 'A', 'M', 'X'],\n",
       "       ['M', 'A', 'A', ..., 'X', 'M', 'X'],\n",
       "       ...,\n",
       "       ['M', 'A', 'S', ..., 'A', 'A', 'M'],\n",
       "       ['S', 'A', 'M', ..., 'S', 'M', 'S'],\n",
       "       ['M', 'X', 'S', ..., 'X', 'A', 'X']], dtype='<U1')"
      ]
     },
     "execution_count": 209,
     "metadata": {},
     "output_type": "execute_result"
    }
   ],
   "source": [
    "test_data"
   ]
  },
  {
   "cell_type": "code",
   "execution_count": 198,
   "id": "d4d19614-d027-4a7b-bc62-fd6f01c61c45",
   "metadata": {},
   "outputs": [],
   "source": [
    "def find_xmas(data):\n",
    "    xmasses = 0\n",
    "    w, h = data.shape\n",
    "    diag2 = [[0][0]]\n",
    "    for x in range(w):\n",
    "        for y in range(h):\n",
    "            if x+4<w:\n",
    "                forward = data[y, x:x+4]\n",
    "            if y+4<h:\n",
    "                down = data[y:y+4, x, ]\n",
    "            if x+4< w and y+4<h:\n",
    "                diag = data[[y+i for i in range(4)], [x+i for i in range(4)]]\n",
    "                diag2 = data[[y+3 - i for i in range(4)], [x+i for i in range(4)]]\n",
    "            for word in [forward, down, diag, diag2]:\n",
    "                try:\n",
    "                    word = \"\".join(word)\n",
    "                    if word == \"XMAS\" or word == \"SAMX\":\n",
    "                        xmasses+=1\n",
    "                except:\n",
    "                    pass\n",
    "        \n",
    "    return xmasses"
   ]
  },
  {
   "cell_type": "code",
   "execution_count": 199,
   "id": "8765371f-a530-442a-8aa8-4d023982b2ea",
   "metadata": {},
   "outputs": [
    {
     "data": {
      "text/plain": [
       "18"
      ]
     },
     "execution_count": 199,
     "metadata": {},
     "output_type": "execute_result"
    }
   ],
   "source": [
    "find_xmas(test_data)"
   ]
  },
  {
   "cell_type": "code",
   "execution_count": 214,
   "id": "0f9ff044-c121-4248-bec0-c783eaf701fc",
   "metadata": {},
   "outputs": [],
   "source": [
    "with open(\"puzzle_input.txt\", \"r\") as f:\n",
    "    puzzle_input = f.read()\n",
    "data = make_xmas_array(puzzle_input)"
   ]
  },
  {
   "cell_type": "code",
   "execution_count": 215,
   "id": "35947ec8-b2f8-41e5-8571-295bd5cd6651",
   "metadata": {},
   "outputs": [
    {
     "data": {
      "text/plain": [
       "(140, 140)"
      ]
     },
     "execution_count": 215,
     "metadata": {},
     "output_type": "execute_result"
    }
   ],
   "source": [
    "data.shape"
   ]
  },
  {
   "cell_type": "code",
   "execution_count": 216,
   "id": "67079f76-2c38-4edb-80d5-23529553e6e3",
   "metadata": {},
   "outputs": [
    {
     "data": {
      "text/plain": [
       "2655"
      ]
     },
     "execution_count": 216,
     "metadata": {},
     "output_type": "execute_result"
    }
   ],
   "source": [
    "find_xmas(data)"
   ]
  },
  {
   "cell_type": "code",
   "execution_count": 213,
   "id": "1d4548c8-2320-4e53-9d13-b4af23668840",
   "metadata": {},
   "outputs": [
    {
     "data": {
      "text/plain": [
       "array([['X', 'M', 'M', ..., 'A', 'S', 'M'],\n",
       "       ['S', 'A', 'M', ..., 'A', 'M', 'X'],\n",
       "       ['M', 'A', 'A', ..., 'X', 'M', 'X'],\n",
       "       ...,\n",
       "       ['M', 'A', 'S', ..., 'A', 'A', 'M'],\n",
       "       ['S', 'A', 'M', ..., 'S', 'M', 'S'],\n",
       "       ['M', 'X', 'S', ..., 'X', 'A', 'X']], dtype='<U1')"
      ]
     },
     "execution_count": 213,
     "metadata": {},
     "output_type": "execute_result"
    }
   ],
   "source": [
    "data"
   ]
  },
  {
   "cell_type": "code",
   "execution_count": null,
   "id": "71f01147-e39d-4a9f-bc0d-5e97e0e03603",
   "metadata": {},
   "outputs": [],
   "source": []
  }
 ],
 "metadata": {
  "kernelspec": {
   "display_name": "Python 3 (ipykernel)",
   "language": "python",
   "name": "python3"
  },
  "language_info": {
   "codemirror_mode": {
    "name": "ipython",
    "version": 3
   },
   "file_extension": ".py",
   "mimetype": "text/x-python",
   "name": "python",
   "nbconvert_exporter": "python",
   "pygments_lexer": "ipython3",
   "version": "3.10.12"
  }
 },
 "nbformat": 4,
 "nbformat_minor": 5
}
