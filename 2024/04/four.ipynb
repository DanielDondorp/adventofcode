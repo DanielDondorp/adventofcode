{
 "cells": [
  {
   "cell_type": "code",
   "execution_count": 8,
   "id": "506d142c-df4b-4711-b11a-aea1ee6ecb6d",
   "metadata": {},
   "outputs": [],
   "source": [
    "import numpy as np"
   ]
  },
  {
   "cell_type": "markdown",
   "id": "5830b500-c91b-4ae6-b5f1-b70a28ecacd8",
   "metadata": {},
   "source": [
    "--- Day 4: Ceres Search ---\n",
    "\"Looks like the Chief's not here. Next!\" One of The Historians pulls out a device and pushes the only button on it. After a brief flash, you recognize the interior of the Ceres monitoring station!\n",
    "\n",
    "As the search for the Chief continues, a small Elf who lives on the station tugs on your shirt; she'd like to know if you could help her with her word search (your puzzle input). She only has to find one word: XMAS.\n",
    "\n",
    "This word search allows words to be horizontal, vertical, diagonal, written backwards, or even overlapping other words. It's a little unusual, though, as you don't merely need to find one instance of XMAS - you need to find all of them. Here are a few ways XMAS might appear, where irrelevant characters have been replaced with .:\n",
    "\n",
    "```\n",
    "..X...\n",
    ".SAMX.\n",
    ".A..A.\n",
    "XMAS.S\n",
    ".X....\n",
    "```\n",
    "The actual word search will be full of letters instead. For example:\n",
    "```\n",
    "MMMSXXMASM\n",
    "MSAMXMSMSA\n",
    "AMXSXMAAMM\n",
    "MSAMASMSMX\n",
    "XMASAMXAMM\n",
    "XXAMMXXAMA\n",
    "SMSMSASXSS\n",
    "SAXAMASAAA\n",
    "MAMMMXMMMM\n",
    "MXMXAXMASX\n",
    "```\n",
    "In this word search, XMAS occurs a total of 18 times; here's the same word search again, but where letters not involved in any XMAS have been replaced with .:\n",
    "```\n",
    "....XXMAS.\n",
    ".SAMXMS...\n",
    "...S..A...\n",
    "..A.A.MS.X\n",
    "XMASAMX.MM\n",
    "X.....XA.A\n",
    "S.S.S.S.SS\n",
    ".A.A.A.A.A\n",
    "..M.M.M.MM\n",
    ".X.X.XMASX\n",
    "```\n",
    "Take a look at the little Elf's word search. How many times does XMAS appear?"
   ]
  },
  {
   "cell_type": "code",
   "execution_count": 227,
   "id": "8171e641-932f-475c-9df6-8a92604bf197",
   "metadata": {},
   "outputs": [],
   "source": [
    "test_puzzle_input = \"\"\"MMMSXXMASM\n",
    "MSAMXMSMSA\n",
    "AMXSXMAAMM\n",
    "MSAMASMSMX\n",
    "XMASAMXAMM\n",
    "XXAMMXXAMA\n",
    "SMSMSASXSS\n",
    "SAXAMASAAA\n",
    "MAMMMXMMMM\n",
    "MXMXAXMASX\"\"\""
   ]
  },
  {
   "cell_type": "code",
   "execution_count": 228,
   "id": "2c8444bd-f255-49f4-b3fa-eff7d85b0e01",
   "metadata": {},
   "outputs": [],
   "source": [
    "def make_xmas_array(data):\n",
    "    arrays = np.array([np.array([x for x in line]) for line in data.split(\"\\n\")])\n",
    "    return arrays"
   ]
  },
  {
   "cell_type": "code",
   "execution_count": 229,
   "id": "53edad68-4035-4d99-80d4-a24f9f376f6d",
   "metadata": {},
   "outputs": [],
   "source": [
    "test_data = make_xmas_array(test_puzzle_input)"
   ]
  },
  {
   "cell_type": "code",
   "execution_count": 230,
   "id": "59cf6ba2-a8c1-41c0-b481-dfccf6891fb8",
   "metadata": {},
   "outputs": [
    {
     "data": {
      "text/plain": [
       "array([['M', 'M', 'M', 'S', 'X', 'X', 'M', 'A', 'S', 'M'],\n",
       "       ['M', 'S', 'A', 'M', 'X', 'M', 'S', 'M', 'S', 'A'],\n",
       "       ['A', 'M', 'X', 'S', 'X', 'M', 'A', 'A', 'M', 'M'],\n",
       "       ['M', 'S', 'A', 'M', 'A', 'S', 'M', 'S', 'M', 'X'],\n",
       "       ['X', 'M', 'A', 'S', 'A', 'M', 'X', 'A', 'M', 'M'],\n",
       "       ['X', 'X', 'A', 'M', 'M', 'X', 'X', 'A', 'M', 'A'],\n",
       "       ['S', 'M', 'S', 'M', 'S', 'A', 'S', 'X', 'S', 'S'],\n",
       "       ['S', 'A', 'X', 'A', 'M', 'A', 'S', 'A', 'A', 'A'],\n",
       "       ['M', 'A', 'M', 'M', 'M', 'X', 'M', 'M', 'M', 'M'],\n",
       "       ['M', 'X', 'M', 'X', 'A', 'X', 'M', 'A', 'S', 'X']], dtype='<U1')"
      ]
     },
     "execution_count": 230,
     "metadata": {},
     "output_type": "execute_result"
    }
   ],
   "source": [
    "test_data"
   ]
  },
  {
   "cell_type": "code",
   "execution_count": null,
   "id": "0b18cce4-b162-4ec7-9a59-ee531ba1ae16",
   "metadata": {},
   "outputs": [],
   "source": [
    "        if y<=16:\n",
    "            h_prod = np.product(grid[y:y+4, x])\n",
    "        if x<=16:\n",
    "            v_prod = np.product(grid[y, x:x+4])\n",
    "        if x<=16 and y<= 16:\n",
    "            d_prod1 = np.product(grid[[y+i for i in range(4)],[x+i for i in range(4)]])\n",
    "            d_prod2 = np.product(grid[[y+3-i for i in range(4)], [x+i for i in range(4)]])"
   ]
  },
  {
   "cell_type": "code",
   "execution_count": 257,
   "id": "d4d19614-d027-4a7b-bc62-fd6f01c61c45",
   "metadata": {},
   "outputs": [],
   "source": [
    "def find_xmas(data):\n",
    "    xmasses = 0\n",
    "    w, h = data.shape \n",
    "    for x in range(w):\n",
    "        for y in range(h):\n",
    "            words = []\n",
    "            #horizontal, for all y values\n",
    "            if y<=h-4:\n",
    "                forward = data[y:y+4, x]\n",
    "                words.append(forward)\n",
    "            #vertical\n",
    "            if x<=w-4:\n",
    "                down = data[y, x:x+4]\n",
    "                words.append(down)\n",
    "            #diagonals\n",
    "            if x<=w-4 and y<=h-4:\n",
    "                diag = data[[y+i for i in range(4)], [x+i for i in range(4)]]\n",
    "                diag2 = data[[y+3 - i for i in range(4)], [x+i for i in range(4)]]\n",
    "                words += [diag, diag2]\n",
    "            for word in words:\n",
    "                word = \"\".join(word)\n",
    "                if word == \"XMAS\" or word == \"SAMX\":\n",
    "                    xmasses+=1\n",
    "        \n",
    "    return xmasses"
   ]
  },
  {
   "cell_type": "code",
   "execution_count": 258,
   "id": "8765371f-a530-442a-8aa8-4d023982b2ea",
   "metadata": {},
   "outputs": [
    {
     "data": {
      "text/plain": [
       "18"
      ]
     },
     "execution_count": 258,
     "metadata": {},
     "output_type": "execute_result"
    }
   ],
   "source": [
    "find_xmas(test_data)"
   ]
  },
  {
   "cell_type": "code",
   "execution_count": 259,
   "id": "2a0b9f57-df4d-4fde-9b27-b331c11a115e",
   "metadata": {},
   "outputs": [
    {
     "data": {
      "text/plain": [
       "(10, 10)"
      ]
     },
     "execution_count": 259,
     "metadata": {},
     "output_type": "execute_result"
    }
   ],
   "source": [
    "test_data.shape"
   ]
  },
  {
   "cell_type": "code",
   "execution_count": 260,
   "id": "0f9ff044-c121-4248-bec0-c783eaf701fc",
   "metadata": {},
   "outputs": [],
   "source": [
    "with open(\"puzzle_input.txt\", \"r\") as f:\n",
    "    puzzle_input = f.read()\n",
    "data = make_xmas_array(puzzle_input)"
   ]
  },
  {
   "cell_type": "code",
   "execution_count": 261,
   "id": "35947ec8-b2f8-41e5-8571-295bd5cd6651",
   "metadata": {},
   "outputs": [
    {
     "data": {
      "text/plain": [
       "(140, 140)"
      ]
     },
     "execution_count": 261,
     "metadata": {},
     "output_type": "execute_result"
    }
   ],
   "source": [
    "data.shape"
   ]
  },
  {
   "cell_type": "code",
   "execution_count": 262,
   "id": "67079f76-2c38-4edb-80d5-23529553e6e3",
   "metadata": {},
   "outputs": [
    {
     "data": {
      "text/plain": [
       "2654"
      ]
     },
     "execution_count": 262,
     "metadata": {},
     "output_type": "execute_result"
    }
   ],
   "source": [
    "find_xmas(data)"
   ]
  },
  {
   "cell_type": "markdown",
   "id": "b0fb2444-be4d-408b-8bda-cced9f80a56a",
   "metadata": {},
   "source": [
    "The Elf looks quizzically at you. Did you misunderstand the assignment?\n",
    "\n",
    "Looking for the instructions, you flip over the word search to find that this isn't actually an XMAS puzzle; it's an X-MAS puzzle in which you're supposed to find two MAS in the shape of an X. One way to achieve that is like this:\n",
    "```\n",
    "M.S\n",
    ".A.\n",
    "M.S\n",
    "```\n",
    "Irrelevant characters have again been replaced with . in the above diagram. Within the X, each MAS can be written forwards or backwards.\n",
    "\n",
    "Here's the same example from before, but this time all of the X-MASes have been kept instead:\n",
    "```\n",
    ".M.S......\n",
    "..A..MSMS.\n",
    ".M.S.MAA..\n",
    "..A.ASMSM.\n",
    ".M.S.M....\n",
    "..........\n",
    "S.S.S.S.S.\n",
    ".A.A.A.A..\n",
    "M.M.M.M.M.\n",
    "..........\n",
    "```\n",
    "In this example, an X-MAS appears 9 times.\n",
    "\n",
    "Flip the word search from the instructions back over to the word search side and try again. How many times does an X-MAS appear?"
   ]
  },
  {
   "cell_type": "code",
   "execution_count": 263,
   "id": "13b72e6a-62b4-48f3-8590-02e0eab2faf2",
   "metadata": {},
   "outputs": [],
   "source": [
    "xmas_kernel = make_xmas_array(\"\"\"M.S\n",
    ".A.\n",
    "M.S\"\"\")"
   ]
  },
  {
   "cell_type": "code",
   "execution_count": 264,
   "id": "2bab3f65-cb08-4816-9ea9-f48c054aedd6",
   "metadata": {},
   "outputs": [
    {
     "data": {
      "text/plain": [
       "array([['M', '.', 'S'],\n",
       "       ['.', 'A', '.'],\n",
       "       ['M', '.', 'S']], dtype='<U1')"
      ]
     },
     "execution_count": 264,
     "metadata": {},
     "output_type": "execute_result"
    }
   ],
   "source": [
    "xmas_kernel"
   ]
  },
  {
   "cell_type": "code",
   "execution_count": null,
   "id": "3420743d-b0c0-498c-adb6-42cd28343f20",
   "metadata": {},
   "outputs": [],
   "source": []
  },
  {
   "cell_type": "code",
   "execution_count": 269,
   "id": "a394f0a4-2d6b-4c14-b5c6-8edcc85a19ef",
   "metadata": {},
   "outputs": [
    {
     "data": {
      "text/plain": [
       "np.int64(2)"
      ]
     },
     "execution_count": 269,
     "metadata": {},
     "output_type": "execute_result"
    }
   ],
   "source": [
    "np.sum(data[:3, :3] == xmas_kernel)"
   ]
  },
  {
   "cell_type": "code",
   "execution_count": 275,
   "id": "5b085514-18da-40c9-beed-99ced6eafcbc",
   "metadata": {},
   "outputs": [
    {
     "data": {
      "text/plain": [
       "array([['S', '.', 'M'],\n",
       "       ['.', 'A', '.'],\n",
       "       ['S', '.', 'M']], dtype='<U1')"
      ]
     },
     "execution_count": 275,
     "metadata": {},
     "output_type": "execute_result"
    }
   ],
   "source": [
    "np.flip(xmas_kernel)"
   ]
  },
  {
   "cell_type": "code",
   "execution_count": 281,
   "id": "e03d45af-e0c8-4e03-9ef3-d75214b2778a",
   "metadata": {},
   "outputs": [],
   "source": [
    "xks = [xmas_kernel]\n",
    "for i in range(3):\n",
    "    xks.append(np.rot90(xks[-1]))"
   ]
  },
  {
   "cell_type": "code",
   "execution_count": 282,
   "id": "0b6f2fcd-6bcf-47bf-81d1-8c12f35ae982",
   "metadata": {},
   "outputs": [
    {
     "data": {
      "text/plain": [
       "[array([['M', '.', 'S'],\n",
       "        ['.', 'A', '.'],\n",
       "        ['M', '.', 'S']], dtype='<U1'),\n",
       " array([['S', '.', 'S'],\n",
       "        ['.', 'A', '.'],\n",
       "        ['M', '.', 'M']], dtype='<U1'),\n",
       " array([['S', '.', 'M'],\n",
       "        ['.', 'A', '.'],\n",
       "        ['S', '.', 'M']], dtype='<U1'),\n",
       " array([['M', '.', 'M'],\n",
       "        ['.', 'A', '.'],\n",
       "        ['S', '.', 'S']], dtype='<U1')]"
      ]
     },
     "execution_count": 282,
     "metadata": {},
     "output_type": "execute_result"
    }
   ],
   "source": [
    "xks"
   ]
  },
  {
   "cell_type": "code",
   "execution_count": 286,
   "id": "d62bb80f-c2a2-450e-ab88-904a4896e182",
   "metadata": {},
   "outputs": [],
   "source": [
    "def find_xmas2(data):\n",
    "    w,h = data.shape\n",
    "    xmasses = 0\n",
    "    for x in range(w-2):\n",
    "        for y in range(h-2):\n",
    "            sub = data[x:x+3, y:y+3]\n",
    "            for k in xks:\n",
    "                if np.sum(sub==k) >= 5:\n",
    "                    xmasses+=1\n",
    "                    break\n",
    "    return xmasses\n",
    "            \n",
    "            \n",
    "            \n",
    "            "
   ]
  },
  {
   "cell_type": "code",
   "execution_count": 287,
   "id": "35fabbfe-4e38-484f-8552-f573c998b684",
   "metadata": {},
   "outputs": [
    {
     "data": {
      "text/plain": [
       "9"
      ]
     },
     "execution_count": 287,
     "metadata": {},
     "output_type": "execute_result"
    }
   ],
   "source": [
    "find_xmas2(test_data)"
   ]
  },
  {
   "cell_type": "code",
   "execution_count": 288,
   "id": "9719bf43-0f8c-42f9-a2a8-3b4449fe2568",
   "metadata": {},
   "outputs": [
    {
     "data": {
      "text/plain": [
       "1990"
      ]
     },
     "execution_count": 288,
     "metadata": {},
     "output_type": "execute_result"
    }
   ],
   "source": [
    "find_xmas2(data)"
   ]
  },
  {
   "cell_type": "code",
   "execution_count": null,
   "id": "7553ea16-e758-45e1-b464-e95da7986c69",
   "metadata": {},
   "outputs": [],
   "source": []
  }
 ],
 "metadata": {
  "kernelspec": {
   "display_name": "Python 3 (ipykernel)",
   "language": "python",
   "name": "python3"
  },
  "language_info": {
   "codemirror_mode": {
    "name": "ipython",
    "version": 3
   },
   "file_extension": ".py",
   "mimetype": "text/x-python",
   "name": "python",
   "nbconvert_exporter": "python",
   "pygments_lexer": "ipython3",
   "version": "3.10.12"
  }
 },
 "nbformat": 4,
 "nbformat_minor": 5
}
