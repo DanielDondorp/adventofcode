{
 "cells": [
  {
   "cell_type": "code",
   "execution_count": 2,
   "id": "f3689bb7-1e7d-48f3-9195-685141f6bc54",
   "metadata": {},
   "outputs": [],
   "source": [
    "import aocd\n",
    "import numpy as np"
   ]
  },
  {
   "cell_type": "code",
   "execution_count": 3,
   "id": "9b431db4-1361-46ba-bef4-ab478c12c963",
   "metadata": {},
   "outputs": [],
   "source": [
    "test_input = \"\"\"x00: 1\n",
    "x01: 1\n",
    "x02: 1\n",
    "y00: 0\n",
    "y01: 1\n",
    "y02: 0\n",
    "\n",
    "x00 AND y00 -> z00\n",
    "x01 XOR y01 -> z01\n",
    "x02 OR y02 -> z02\"\"\""
   ]
  },
  {
   "cell_type": "code",
   "execution_count": 29,
   "id": "5852c3c3-2cb8-4c34-b06b-1508f9667e97",
   "metadata": {},
   "outputs": [],
   "source": [
    "def parse_input(data):\n",
    "    wires, connections = data.split(\"\\n\\n\")\n",
    "    wires = {x[0]:int(x[1]) for line in wires.split(\"\\n\") for x in [line.split(\": \")]}\n",
    "    return wires, connections"
   ]
  },
  {
   "cell_type": "code",
   "execution_count": 139,
   "id": "aca8e549-17c8-48d6-976e-9e918d7508ce",
   "metadata": {},
   "outputs": [],
   "source": [
    "OR = lambda x, y: x|y\n",
    "AND = lambda x, y: x&y\n",
    "XOR = lambda x, y: x^y"
   ]
  },
  {
   "cell_type": "code",
   "execution_count": 140,
   "id": "329da23c-ea21-4d7c-a310-37da7e97dc8a",
   "metadata": {},
   "outputs": [],
   "source": [
    "def evaluate(instruction, wires):\n",
    "    instruction, wire = instruction.split(\" -> \")\n",
    "    instruction = instruction.split(\" \")\n",
    "    instruction = instruction[1]+\"(\"+\",\".join([str(wires[instruction[0]]), str(wires[instruction[-1]])])+\")\"\n",
    "    return {wire: eval(instruction)}"
   ]
  },
  {
   "cell_type": "code",
   "execution_count": 176,
   "id": "29e4c958-7ea0-46a6-b170-b4a9883b4b75",
   "metadata": {},
   "outputs": [],
   "source": [
    "def solve1(data):\n",
    "    wires, connections = parse_input(data)\n",
    "    print(len(connections))\n",
    "    instructions = connections.splitlines()\n",
    "    managed = []\n",
    "    l = len(instructions)\n",
    "    i = 0\n",
    "    while instructions:\n",
    "        instruction = instructions.pop(0)\n",
    "\n",
    "        i+=1\n",
    "        # if i > 100*l:\n",
    "        #     break\n",
    "        try:\n",
    "            wires.update(evaluate(instruction, wires))\n",
    "            managed.append(instruction)\n",
    "            \n",
    "        except:\n",
    "            instructions.append(instruction)\n",
    "            # print(instruction)\n",
    "    \n",
    "    final_string = \"\"\n",
    "    sorted_wires = sorted(wires)\n",
    "    for wire in sorted_wires[::-1]:\n",
    "        if not wire.startswith(\"z\"):\n",
    "            break\n",
    "        else:\n",
    "            final_string += str(wires[wire])\n",
    "    return final_string, wires\n",
    "    \n",
    "    "
   ]
  },
  {
   "cell_type": "code",
   "execution_count": 177,
   "id": "c1eff276-9bf9-4a63-9849-819fff2c04c9",
   "metadata": {},
   "outputs": [
    {
     "name": "stdout",
     "output_type": "stream",
     "text": [
      "666\n"
     ]
    }
   ],
   "source": [
    "fs, w = solve1(test_input2)"
   ]
  },
  {
   "cell_type": "code",
   "execution_count": 178,
   "id": "0b321bf1-a793-4010-b1c4-1ac65de63780",
   "metadata": {},
   "outputs": [],
   "source": [
    "real_data = aocd.get_data()"
   ]
  },
  {
   "cell_type": "code",
   "execution_count": 179,
   "id": "d3ee77fc-2498-4a04-94d6-8e0692f71f22",
   "metadata": {},
   "outputs": [
    {
     "name": "stdout",
     "output_type": "stream",
     "text": [
      "4173\n"
     ]
    }
   ],
   "source": [
    "fs, w = solve1(real_data)"
   ]
  },
  {
   "cell_type": "code",
   "execution_count": 181,
   "id": "561b4c7e-6556-4694-a182-c5de1e082398",
   "metadata": {},
   "outputs": [
    {
     "data": {
      "text/plain": [
       "55920211035878"
      ]
     },
     "execution_count": 181,
     "metadata": {},
     "output_type": "execute_result"
    }
   ],
   "source": [
    "int(fs,2)"
   ]
  },
  {
   "cell_type": "code",
   "execution_count": 167,
   "id": "98edc6c8-079e-4012-a6e6-335e1dbf5dc9",
   "metadata": {},
   "outputs": [],
   "source": [
    "test_input2 = \"\"\"x00: 1\n",
    "x01: 0\n",
    "x02: 1\n",
    "x03: 1\n",
    "x04: 0\n",
    "y00: 1\n",
    "y01: 1\n",
    "y02: 1\n",
    "y03: 1\n",
    "y04: 1\n",
    "\n",
    "ntg XOR fgs -> mjb\n",
    "y02 OR x01 -> tnw\n",
    "kwq OR kpj -> z05\n",
    "x00 OR x03 -> fst\n",
    "tgd XOR rvg -> z01\n",
    "vdt OR tnw -> bfw\n",
    "bfw AND frj -> z10\n",
    "ffh OR nrd -> bqk\n",
    "y00 AND y03 -> djm\n",
    "y03 OR y00 -> psh\n",
    "bqk OR frj -> z08\n",
    "tnw OR fst -> frj\n",
    "gnj AND tgd -> z11\n",
    "bfw XOR mjb -> z00\n",
    "x03 OR x00 -> vdt\n",
    "gnj AND wpb -> z02\n",
    "x04 AND y00 -> kjc\n",
    "djm OR pbm -> qhw\n",
    "nrd AND vdt -> hwm\n",
    "kjc AND fst -> rvg\n",
    "y04 OR y02 -> fgs\n",
    "y01 AND x02 -> pbm\n",
    "ntg OR kjc -> kwq\n",
    "psh XOR fgs -> tgd\n",
    "qhw XOR tgd -> z09\n",
    "pbm OR djm -> kpj\n",
    "x03 XOR y03 -> ffh\n",
    "x00 XOR y04 -> ntg\n",
    "bfw OR bqk -> z06\n",
    "nrd XOR fgs -> wpb\n",
    "frj XOR qhw -> z04\n",
    "bqk OR frj -> z07\n",
    "y03 OR x01 -> nrd\n",
    "hwm AND bqk -> z03\n",
    "tgd XOR rvg -> z12\n",
    "tnw OR pbm -> gnj\"\"\""
   ]
  },
  {
   "cell_type": "code",
   "execution_count": null,
   "id": "cff44ea7-cfe2-4aa4-b5e7-1888a0e9fbb8",
   "metadata": {},
   "outputs": [],
   "source": []
  }
 ],
 "metadata": {
  "kernelspec": {
   "display_name": "Python 3 (ipykernel)",
   "language": "python",
   "name": "python3"
  },
  "language_info": {
   "codemirror_mode": {
    "name": "ipython",
    "version": 3
   },
   "file_extension": ".py",
   "mimetype": "text/x-python",
   "name": "python",
   "nbconvert_exporter": "python",
   "pygments_lexer": "ipython3",
   "version": "3.10.12"
  }
 },
 "nbformat": 4,
 "nbformat_minor": 5
}
