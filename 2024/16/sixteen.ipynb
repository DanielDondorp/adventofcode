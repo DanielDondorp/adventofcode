{
 "cells": [
  {
   "cell_type": "code",
   "execution_count": 1,
   "id": "586e0623-a034-47ba-bc12-25aa9208d6f7",
   "metadata": {},
   "outputs": [],
   "source": [
    "import numpy as np\n",
    "import aocd"
   ]
  },
  {
   "cell_type": "code",
   "execution_count": 2,
   "id": "f98bfcc8-72c3-47b5-a8e0-0a776f9cd80c",
   "metadata": {},
   "outputs": [],
   "source": [
    "test_input = \"\"\"###############\n",
    "#.......#....E#\n",
    "#.#.###.#.###.#\n",
    "#.....#.#...#.#\n",
    "#.###.#####.#.#\n",
    "#.#.#.......#.#\n",
    "#.#.#####.###.#\n",
    "#...........#.#\n",
    "###.#.#####.#.#\n",
    "#...#.....#.#.#\n",
    "#.#.#.###.#.#.#\n",
    "#.....#...#.#.#\n",
    "#.###.#.#.#.#.#\n",
    "#S..#.....#...#\n",
    "###############\"\"\""
   ]
  },
  {
   "cell_type": "code",
   "execution_count": 3,
   "id": "c3951f35-351c-46b3-9d57-46fcb7638eec",
   "metadata": {},
   "outputs": [],
   "source": [
    "def parse_input(data):\n",
    "    return np.array([[x for x in line] for line in data.split(\"\\n\")])"
   ]
  },
  {
   "cell_type": "code",
   "execution_count": 4,
   "id": "87577cbb-2f7b-411b-bc36-905dbfbcae8a",
   "metadata": {},
   "outputs": [],
   "source": [
    "dirs = {\"u\": [-1,0],\n",
    "        \"d\": [1, 0],\n",
    "        \"r\": [0, 1],\n",
    "        \"l\": [0,-1]}"
   ]
  },
  {
   "cell_type": "code",
   "execution_count": 5,
   "id": "17837f1a-5faa-41e5-9ea1-68fe6b44c918",
   "metadata": {},
   "outputs": [],
   "source": [
    "def turn_left(direction):\n",
    "    # Define the 90-degree counterclockwise rotation matrix\n",
    "    turn_left_matrix = np.array([[0, -1], [1, 0]])\n",
    "    \n",
    "    # Multiply the direction by the rotation matrix\n",
    "    return tuple(np.dot(turn_left_matrix, direction))\n",
    "\n",
    "def turn_right(direction):\n",
    "    # Define the 90-degree clockwise rotation matrix\n",
    "    turn_right_matrix = np.array([[0, 1], [-1, 0]])\n",
    "    \n",
    "    # Multiply the direction by the rotation matrix\n",
    "    return tuple(np.dot(turn_right_matrix, direction))"
   ]
  },
  {
   "cell_type": "code",
   "execution_count": 6,
   "id": "237fe605-a273-44d7-ac63-8d8fb72ae27c",
   "metadata": {},
   "outputs": [],
   "source": [
    "d = dirs[\"r\"]"
   ]
  },
  {
   "cell_type": "code",
   "execution_count": 7,
   "id": "87da387a-9029-4e2b-a5c0-28215caccb38",
   "metadata": {},
   "outputs": [
    {
     "data": {
      "text/plain": [
       "(np.int64(-1), np.int64(0))"
      ]
     },
     "execution_count": 7,
     "metadata": {},
     "output_type": "execute_result"
    }
   ],
   "source": [
    "turn_left(d)"
   ]
  },
  {
   "cell_type": "code",
   "execution_count": 8,
   "id": "f8cd3d95-d8f0-4741-8d9d-d3bb04a5de38",
   "metadata": {},
   "outputs": [
    {
     "data": {
      "text/plain": [
       "False"
      ]
     },
     "execution_count": 8,
     "metadata": {},
     "output_type": "execute_result"
    }
   ],
   "source": [
    "turn_right(d) == dirs[\"d\"]"
   ]
  },
  {
   "cell_type": "code",
   "execution_count": 9,
   "id": "4851b139-a271-42d5-a8ce-062c2f182dde",
   "metadata": {},
   "outputs": [],
   "source": [
    "def make_stringmap(arr):\n",
    "    stringmap = []\n",
    "    for line in arr:\n",
    "        stringmap.append(\"\".join(line))\n",
    "    stringmap = \"\\n\".join(stringmap)\n",
    "    return stringmap"
   ]
  },
  {
   "cell_type": "markdown",
   "id": "8055e424-edc9-4ccf-9c27-e1a4f3a5890f",
   "metadata": {},
   "source": [
    "Had lots of issues and removed a ton of mess. BFS as with the hiking trails does not work. Recursion does not work. I have to somehow implement Dijkstra or A*. Did a ton of reading and sketching... Got up with the following: \n",
    "\n",
    "heapq library makes a list into a sort of priority queue, where heappop pops the tuple with lowest first value, meaning we can at any given point inspect the next step with the lowest cost. \n"
   ]
  },
  {
   "cell_type": "code",
   "execution_count": 10,
   "id": "b56a31ba-c803-411d-b8a5-33c4fbbf7554",
   "metadata": {},
   "outputs": [],
   "source": [
    "import heapq"
   ]
  },
  {
   "cell_type": "code",
   "execution_count": 11,
   "id": "a9b74787-0297-4633-9f9f-ccb9bec765e8",
   "metadata": {},
   "outputs": [],
   "source": [
    "#HEAPQ IS SUPER USEFUL HERE"
   ]
  },
  {
   "cell_type": "code",
   "execution_count": 20,
   "id": "c9f27be2-239b-46d0-85b2-57c4911b8fb1",
   "metadata": {},
   "outputs": [],
   "source": [
    "def dijkstra(arr):\n",
    "    start = np.argwhere(arr == \"S\")[0]\n",
    "    visited = set()\n",
    "    q = [(0, start, [0,1])] #cost, pos, direction\n",
    "    while q:\n",
    "        cost, loc, direction = heapq.heappop(q) #retrieve the lowest cost next step from the queue for checking\n",
    "        if (tuple(loc), tuple(direction)) in visited: #if we have already been here, we are on the way back from a bad route and need to ignore the loc\n",
    "            continue #we have done this\n",
    "        if arr[loc[0], loc[1]] == \"E\": #if we stumble upon the target tile, we have found the (or at least one) lowest cost route.\n",
    "            #arrived, we return cost\n",
    "            return cost, visited\n",
    "        visited.add((tuple(loc), tuple(direction))) #we record our current position and direction\n",
    "        one_ahead = [loc[0] + direction[0], loc[1]+direction[1]] #look at the space one ahead of us:\n",
    "        if arr[one_ahead[0], one_ahead[1]] != \"#\":\n",
    "            heapq.heappush(q, (cost+1, [one_ahead[0], one_ahead[1]], direction)) #if the space one ahead of us is not a wall, it is an empty space or the end, and we need to explore it for a cost of 1\n",
    "        #we also need to explore what happens if we turn left and right, for a cost of 1000 each.\n",
    "        heapq.heappush(q, (cost+1000, loc, turn_left(direction)))\n",
    "        heapq.heappush(q, (cost+1000, loc, turn_right(direction)))\n",
    "        \n",
    "        "
   ]
  },
  {
   "cell_type": "code",
   "execution_count": 24,
   "id": "8a2de050-b6ac-4bd3-af8f-616ed1e47eab",
   "metadata": {},
   "outputs": [],
   "source": [
    "cost, locs = dijkstra(parse_input(puzzle_input))"
   ]
  },
  {
   "cell_type": "code",
   "execution_count": 25,
   "id": "7fe0dd9d-d82c-466c-9610-4b0c403d04c6",
   "metadata": {
    "scrolled": true
   },
   "outputs": [
    {
     "data": {
      "text/plain": [
       "82460"
      ]
     },
     "execution_count": 25,
     "metadata": {},
     "output_type": "execute_result"
    }
   ],
   "source": [
    "cost"
   ]
  },
  {
   "cell_type": "code",
   "execution_count": null,
   "id": "a01259b4-0f21-4e02-a7dd-a6b34fc309e4",
   "metadata": {},
   "outputs": [],
   "source": [
    "# aocd.submit(cost)"
   ]
  },
  {
   "cell_type": "code",
   "execution_count": 26,
   "id": "9105bb5e-7f88-4b47-b1b6-80a3d82f49b3",
   "metadata": {},
   "outputs": [],
   "source": [
    "max_cost = cost #this can be the exit criterium for recursion"
   ]
  },
  {
   "cell_type": "code",
   "execution_count": 34,
   "id": "9f396ca3-2049-4848-a9ae-9b7cbe5677cd",
   "metadata": {},
   "outputs": [],
   "source": [
    "from collections import defaultdict"
   ]
  },
  {
   "cell_type": "code",
   "execution_count": 49,
   "id": "af7fec95-3870-4069-b7f0-b664657cfd4f",
   "metadata": {},
   "outputs": [],
   "source": [
    "def dijkstra_max_cost(arr, max_cost):\n",
    "    start = np.argwhere(arr == \"S\")[0]\n",
    "    all_paths = []\n",
    "    visited = {}\n",
    "    nodes = defaultdict(set) #collect all tiles with the connected tiles on correct paths\n",
    "    q = [(0, [[start[0],start[1]]], [0,1], None)] #cost, pos, direction\n",
    "    while q:\n",
    "        cost, path, direction, prev = heapq.heappop(q) #retrieve the lowest cost next step from the queue for checking\n",
    "        loc = path[-1]\n",
    "                    \n",
    "        if cost > max_cost:\n",
    "            break #no more good paths will be found with our lowest_cost_first approaah\n",
    "        \n",
    "        if (tuple(loc), tuple(direction)) in visited:  # finding a path that merges with a previously approved tile?\n",
    "            if cost == visited[(tuple(loc), tuple(direction))]:\n",
    "                tiles[(tuple(loc), tuple(direction))].add(prev) # we still want to add a link of what tiles we visited from here\n",
    "            continue\n",
    "\n",
    "        visited[(tuple(loc), tuple(direction))] = cost #record the cost of the current tile\n",
    "        tiles[(tuple(loc), tuple(direction))].add(prev)#record the connection\n",
    "        prev = (tuple(loc), tuple(direction))#update the previous loc and direction\n",
    "        # add possible next moves to the queue\n",
    "       \n",
    "        # need to explore what happens if we turn left and right, for a cost of 1000 each.\n",
    "        heapq.heappush(q, (cost+1000, path, turn_left(direction), prev))\n",
    "        heapq.heappush(q, (cost+1000, path, turn_right(direction), prev))\n",
    "        one_ahead = [loc[0] + direction[0], loc[1]+direction[1]] #look at the space one ahead of us:\n",
    "        if arr[one_ahead[0], one_ahead[1]] != \"#\":\n",
    "            path_plus_ahead = path + [one_ahead]\n",
    "            # print(path_plus_ahead)\n",
    "            heapq.heappush(q, (cost+1, path_plus_ahead, direction, prev))#if the space one ahead of us is not a wall, it is an empty space or the end, and we need to explore it for a cost of 1\n",
    "            #WE HAVE FOUND THE NEXT STEP AND NEED TO ADD IT TO A PATH SOMEHOW        \n",
    "\n",
    "    return tiles"
   ]
  },
  {
   "cell_type": "code",
   "execution_count": 50,
   "id": "355d0f8b-6b59-4600-9671-e2d0d7b5bd69",
   "metadata": {},
   "outputs": [
    {
     "data": {
      "text/plain": [
       "82460"
      ]
     },
     "execution_count": 50,
     "metadata": {},
     "output_type": "execute_result"
    }
   ],
   "source": [
    "max_cost"
   ]
  },
  {
   "cell_type": "code",
   "execution_count": 51,
   "id": "6f9ee405-daee-4b53-ad0e-802e1fe9638a",
   "metadata": {},
   "outputs": [],
   "source": [
    "puzzle_input = aocd.get_data()\n",
    "arr = parse_input(puzzle_input)"
   ]
  },
  {
   "cell_type": "code",
   "execution_count": 56,
   "id": "33dec9e1-2425-4c30-9b65-e9ce5b2c5b96",
   "metadata": {},
   "outputs": [],
   "source": [
    "nodes = dijkstra_max_cost(arr, cost)"
   ]
  },
  {
   "cell_type": "markdown",
   "id": "6a1ac8c5-1f8e-4511-839d-3f4cf694f09f",
   "metadata": {},
   "source": [
    "Nodes is now a list of tiles connected to the set of locs and directions we reached it through without exceeding the max cost, which means we can find the finishing tile, and walk backwards in all directions we potentially reached it through, accumulating a set of visited tiles on the way"
   ]
  },
  {
   "cell_type": "code",
   "execution_count": 93,
   "id": "0ac33761-e67e-4855-b20f-f3546016151b",
   "metadata": {},
   "outputs": [],
   "source": [
    "tiles_visited, routes = set(), set()\n",
    "def walk_backwards(position, direction):\n",
    "    if type(position)!=None and tuple(position) not in routes:\n",
    "        routes.add((tuple(position), tuple(direction)))\n",
    "        tiles_visited.add(tuple(position))\n",
    "        for new_pos in nodes[(tuple(position), tuple(direction))]:\n",
    "            if new_pos:\n",
    "                walk_backwards(new_pos[0], new_pos[1])\n"
   ]
  },
  {
   "cell_type": "code",
   "execution_count": 94,
   "id": "600c41a9-bfee-4d99-9b4e-e9af9f8e0681",
   "metadata": {},
   "outputs": [],
   "source": [
    "target = np.argwhere(arr == \"E\")[0]"
   ]
  },
  {
   "cell_type": "code",
   "execution_count": 95,
   "id": "30c2cf20-8034-436d-9830-73e3ae77f856",
   "metadata": {},
   "outputs": [
    {
     "data": {
      "text/plain": [
       "array([  1, 139])"
      ]
     },
     "execution_count": 95,
     "metadata": {},
     "output_type": "execute_result"
    }
   ],
   "source": [
    "target"
   ]
  },
  {
   "cell_type": "code",
   "execution_count": 96,
   "id": "80532ffe-ea63-4c0f-ac99-a45e92658026",
   "metadata": {},
   "outputs": [],
   "source": [
    "for d in dirs:\n",
    "    walk_backwards(target, d)"
   ]
  },
  {
   "cell_type": "code",
   "execution_count": 97,
   "id": "2abc78ab-0577-48c2-920a-b990c792077d",
   "metadata": {},
   "outputs": [
    {
     "data": {
      "text/plain": [
       "590"
      ]
     },
     "execution_count": 97,
     "metadata": {},
     "output_type": "execute_result"
    }
   ],
   "source": [
    "len(tiles_visited)"
   ]
  },
  {
   "cell_type": "code",
   "execution_count": 101,
   "id": "1387ac96-802c-475f-809c-ccd45ad0a59f",
   "metadata": {},
   "outputs": [
    {
     "ename": "TypeError",
     "evalue": "'set' object is not subscriptable",
     "output_type": "error",
     "traceback": [
      "\u001b[0;31m---------------------------------------------------------------------------\u001b[0m",
      "\u001b[0;31mTypeError\u001b[0m                                 Traceback (most recent call last)",
      "Cell \u001b[0;32mIn[101], line 1\u001b[0m\n\u001b[0;32m----> 1\u001b[0m \u001b[38;5;28mlen\u001b[39m(\u001b[43mroutes\u001b[49m\u001b[43m[\u001b[49m\u001b[38;5;241;43m0\u001b[39;49m\u001b[43m]\u001b[49m)\n",
      "\u001b[0;31mTypeError\u001b[0m: 'set' object is not subscriptable"
     ]
    }
   ],
   "source": []
  },
  {
   "cell_type": "code",
   "execution_count": null,
   "id": "1a28934c-7f20-4616-9d32-a19af891833d",
   "metadata": {},
   "outputs": [],
   "source": [
    "  def walk(cur):\n",
    "        if cur and cur not in routes:\n",
    "            routes.add(cur)\n",
    "            tiles.add(cur[0])\n",
    "            for npos in links[cur]: walk(npos)\n",
    "    for d in range(4): walk((target, d))"
   ]
  }
 ],
 "metadata": {
  "kernelspec": {
   "display_name": "Python 3 (ipykernel)",
   "language": "python",
   "name": "python3"
  },
  "language_info": {
   "codemirror_mode": {
    "name": "ipython",
    "version": 3
   },
   "file_extension": ".py",
   "mimetype": "text/x-python",
   "name": "python",
   "nbconvert_exporter": "python",
   "pygments_lexer": "ipython3",
   "version": "3.10.12"
  }
 },
 "nbformat": 4,
 "nbformat_minor": 5
}
