{
 "cells": [
  {
   "cell_type": "code",
   "execution_count": 1,
   "id": "6b680ead-4808-444f-b188-f3c870934af2",
   "metadata": {},
   "outputs": [],
   "source": [
    "import aocd"
   ]
  },
  {
   "cell_type": "code",
   "execution_count": null,
   "id": "b3e1e39e-26e7-498f-9979-b786625f90a5",
   "metadata": {},
   "outputs": [],
   "source": []
  },
  {
   "cell_type": "code",
   "execution_count": 2,
   "id": "ee2d5736-dbe0-422b-84e1-e70330fb14d4",
   "metadata": {},
   "outputs": [],
   "source": [
    "def evaluate_stone(s):\n",
    "    if s == 0:\n",
    "        return [1]\n",
    "    elif len(str(s))%2==0:\n",
    "        strs = str(s)\n",
    "        lstrst = len(strs)\n",
    "        return [int(strs[:lstrst//2]), int(strs[lstrst//2:])]\n",
    "    else:\n",
    "        return [s*2024]"
   ]
  },
  {
   "cell_type": "code",
   "execution_count": 3,
   "id": "2e44b69b-3529-4768-b69b-2b5cfa8eedc0",
   "metadata": {},
   "outputs": [
    {
     "data": {
      "text/plain": [
       "[20, 24]"
      ]
     },
     "execution_count": 3,
     "metadata": {},
     "output_type": "execute_result"
    }
   ],
   "source": [
    "evaluate_stone(2024)"
   ]
  },
  {
   "cell_type": "code",
   "execution_count": 4,
   "id": "b32f01b5-feff-4bf7-b81a-f4387cbd6128",
   "metadata": {},
   "outputs": [],
   "source": [
    "s = \"2024\"\n",
    "ls = len(s)"
   ]
  },
  {
   "cell_type": "code",
   "execution_count": 5,
   "id": "d14e890c-9f00-44ee-8f05-300e91a23d83",
   "metadata": {},
   "outputs": [
    {
     "data": {
      "text/plain": [
       "2"
      ]
     },
     "execution_count": 5,
     "metadata": {},
     "output_type": "execute_result"
    }
   ],
   "source": [
    "ls//2"
   ]
  },
  {
   "cell_type": "code",
   "execution_count": 6,
   "id": "13210033-c3e0-44e2-87cb-06afbf63587b",
   "metadata": {},
   "outputs": [
    {
     "data": {
      "text/plain": [
       "'20'"
      ]
     },
     "execution_count": 6,
     "metadata": {},
     "output_type": "execute_result"
    }
   ],
   "source": [
    "s[:ls//2]"
   ]
  },
  {
   "cell_type": "code",
   "execution_count": 7,
   "id": "87e975e3-30cd-492b-8162-e1173efee54d",
   "metadata": {},
   "outputs": [
    {
     "data": {
      "text/plain": [
       "'24'"
      ]
     },
     "execution_count": 7,
     "metadata": {},
     "output_type": "execute_result"
    }
   ],
   "source": [
    "s[ls//2:]"
   ]
  },
  {
   "cell_type": "code",
   "execution_count": 8,
   "id": "d57aaa28-1866-4001-a25e-bfc51c08e5d5",
   "metadata": {},
   "outputs": [],
   "source": [
    "import tqdm"
   ]
  },
  {
   "cell_type": "code",
   "execution_count": 9,
   "id": "78261d0f-26b2-4502-a17d-c06a949bf97b",
   "metadata": {},
   "outputs": [],
   "source": [
    "def blink(stones, n):\n",
    "    nl = []\n",
    "    print(stones)\n",
    "    blinks = 0\n",
    "    for blink in tqdm.tqdm(range(n)):\n",
    "        \n",
    "        for stone in stones:\n",
    "            nl.extend(evaluate_stone(stone))\n",
    "        stones = nl\n",
    "        nl = []\n",
    "        # print(stones)\n",
    "    return len(stones)\n",
    "\n",
    "    "
   ]
  },
  {
   "cell_type": "code",
   "execution_count": 10,
   "id": "d073986b-0c93-4c89-ba88-ecc8d013d9c1",
   "metadata": {
    "scrolled": true
   },
   "outputs": [
    {
     "name": "stdout",
     "output_type": "stream",
     "text": [
      "[125, 17]\n"
     ]
    },
    {
     "name": "stderr",
     "output_type": "stream",
     "text": [
      "100%|██████████████████████████████████████████████████████████████████████████████████| 25/25 [00:00<00:00, 338.23it/s]\n"
     ]
    },
    {
     "data": {
      "text/plain": [
       "55312"
      ]
     },
     "execution_count": 10,
     "metadata": {},
     "output_type": "execute_result"
    }
   ],
   "source": [
    "blink([125, 17], 25)"
   ]
  },
  {
   "cell_type": "code",
   "execution_count": 11,
   "id": "55907e6d-7bd9-4009-8821-b04fbf2e9ded",
   "metadata": {},
   "outputs": [],
   "source": [
    "data = aocd.get_data()"
   ]
  },
  {
   "cell_type": "code",
   "execution_count": 12,
   "id": "e1e517c2-af57-480e-8a9f-acf510c9057d",
   "metadata": {},
   "outputs": [],
   "source": [
    "data = [int(x) for x in data.split(\" \")]"
   ]
  },
  {
   "cell_type": "code",
   "execution_count": 13,
   "id": "aa4c83d0-8664-4b42-be88-b372b7d4899a",
   "metadata": {},
   "outputs": [],
   "source": [
    "#does not work!!! blink(data, 75)"
   ]
  },
  {
   "cell_type": "code",
   "execution_count": 14,
   "id": "f9db2b6e-fc12-4434-a398-6787e40fb7e9",
   "metadata": {},
   "outputs": [],
   "source": [
    "def blink2(stones, blinks):\n",
    "    current_stones= { stone: 1 for stone in stones } #since global order does not really matter we can accumulate counts\n",
    "    #encountering the same number n times means we can just us that count to add to the count of all new stones instead of calculating for each stone\n",
    "    \n",
    "    for blink in range(blinks): #for every blink\n",
    "        next_stones = {} #accumulate next step stones\n",
    "\n",
    "        for stone in current_stones: #for every current stone\n",
    "            for new_stone in evaluate_stone(stone): #find out what stones it becomes\n",
    "                #the total count of this stone is how often it already was in next_stones, plus how often the step creating this stone was in current_stones \n",
    "                next_stones[new_stone] = next_stones.get(new_stone, 0) + current_stones[stone] \n",
    "        current_stones = next_stones\n",
    "\n",
    "    return sum(current_stones.values())\n"
   ]
  },
  {
   "cell_type": "code",
   "execution_count": 15,
   "id": "0f7989b0-7aaa-4c25-be7b-23e6edefb3eb",
   "metadata": {},
   "outputs": [
    {
     "data": {
      "text/plain": [
       "259755538429618"
      ]
     },
     "execution_count": 15,
     "metadata": {},
     "output_type": "execute_result"
    }
   ],
   "source": [
    "blink2(data, 75)"
   ]
  },
  {
   "cell_type": "code",
   "execution_count": 16,
   "id": "f426d5dc-34cf-4c51-9993-1036d44a5c61",
   "metadata": {},
   "outputs": [],
   "source": [
    "#test"
   ]
  },
  {
   "cell_type": "code",
   "execution_count": 17,
   "id": "ea16222e-e2e2-4e5b-a226-1a2a5e878523",
   "metadata": {},
   "outputs": [],
   "source": [
    "from functools import cache"
   ]
  },
  {
   "cell_type": "code",
   "execution_count": 20,
   "id": "01b8f764-30f5-49a6-ae79-19beee780902",
   "metadata": {},
   "outputs": [],
   "source": [
    "@cache\n",
    "def evaluate_stone(s):\n",
    "    if s == 0:\n",
    "        return [1]\n",
    "    elif len(str(s))%2==0:\n",
    "        strs = str(s)\n",
    "        lstrst = len(strs)\n",
    "        return [int(strs[:lstrst//2]), int(strs[lstrst//2:])]\n",
    "    else:\n",
    "        return [s*2024]\n",
    "\n",
    "\n",
    "def blink(stones, n):\n",
    "    nl = []\n",
    "    print(stones)\n",
    "    blinks = 0\n",
    "    for blink in tqdm.tqdm(range(n)):\n",
    "        \n",
    "        for stone in stones:\n",
    "            nl.extend(evaluate_stone(stone))\n",
    "        stones = nl\n",
    "        nl = []\n",
    "        # print(stones)\n",
    "    return len(stones)\n",
    "\n"
   ]
  },
  {
   "cell_type": "code",
   "execution_count": 21,
   "id": "28cc3e7d-7efc-414e-92cb-2eeaddab0bc6",
   "metadata": {},
   "outputs": [
    {
     "name": "stdout",
     "output_type": "stream",
     "text": [
      "[4329, 385, 0, 1444386, 600463, 19, 1, 56615]\n"
     ]
    },
    {
     "name": "stderr",
     "output_type": "stream",
     "text": [
      " 61%|██████████████████████████████████████████████████▉                                | 46/75 [05:11<03:16,  6.77s/it]\n",
      "Exception ignored in: <bound method IPythonKernel._clean_thread_parent_frames of <ipykernel.ipkernel.IPythonKernel object at 0x7f6fcf5eb7f0>>\n",
      "Traceback (most recent call last):\n",
      "  File \"/home/daniel/repos/adventofcode/.venv/lib/python3.10/site-packages/ipykernel/ipkernel.py\", line 775, in _clean_thread_parent_frames\n",
      "    def _clean_thread_parent_frames(\n",
      "KeyboardInterrupt: \n"
     ]
    },
    {
     "ename": "KeyboardInterrupt",
     "evalue": "",
     "output_type": "error",
     "traceback": [
      "\u001b[0;31m---------------------------------------------------------------------------\u001b[0m",
      "\u001b[0;31mKeyboardInterrupt\u001b[0m                         Traceback (most recent call last)",
      "Cell \u001b[0;32mIn[21], line 1\u001b[0m\n\u001b[0;32m----> 1\u001b[0m \u001b[43mblink\u001b[49m\u001b[43m(\u001b[49m\u001b[43mdata\u001b[49m\u001b[43m,\u001b[49m\u001b[43m \u001b[49m\u001b[38;5;241;43m75\u001b[39;49m\u001b[43m)\u001b[49m\n",
      "Cell \u001b[0;32mIn[20], line 20\u001b[0m, in \u001b[0;36mblink\u001b[0;34m(stones, n)\u001b[0m\n\u001b[1;32m     17\u001b[0m \u001b[38;5;28;01mfor\u001b[39;00m blink \u001b[38;5;129;01min\u001b[39;00m tqdm\u001b[38;5;241m.\u001b[39mtqdm(\u001b[38;5;28mrange\u001b[39m(n)):\n\u001b[1;32m     19\u001b[0m     \u001b[38;5;28;01mfor\u001b[39;00m stone \u001b[38;5;129;01min\u001b[39;00m stones:\n\u001b[0;32m---> 20\u001b[0m         nl\u001b[38;5;241m.\u001b[39mextend(\u001b[43mevaluate_stone\u001b[49m\u001b[43m(\u001b[49m\u001b[43mstone\u001b[49m\u001b[43m)\u001b[49m)\n\u001b[1;32m     21\u001b[0m     stones \u001b[38;5;241m=\u001b[39m nl\n\u001b[1;32m     22\u001b[0m     nl \u001b[38;5;241m=\u001b[39m []\n",
      "\u001b[0;31mKeyboardInterrupt\u001b[0m: "
     ]
    }
   ],
   "source": [
    "blink(data, 75)"
   ]
  },
  {
   "cell_type": "code",
   "execution_count": null,
   "id": "ae683155-aaf3-4e7f-81a3-234428042498",
   "metadata": {},
   "outputs": [],
   "source": []
  }
 ],
 "metadata": {
  "kernelspec": {
   "display_name": "Python 3 (ipykernel)",
   "language": "python",
   "name": "python3"
  },
  "language_info": {
   "codemirror_mode": {
    "name": "ipython",
    "version": 3
   },
   "file_extension": ".py",
   "mimetype": "text/x-python",
   "name": "python",
   "nbconvert_exporter": "python",
   "pygments_lexer": "ipython3",
   "version": "3.10.12"
  }
 },
 "nbformat": 4,
 "nbformat_minor": 5
}
