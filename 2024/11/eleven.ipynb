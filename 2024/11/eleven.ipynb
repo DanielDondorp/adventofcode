{
 "cells": [
  {
   "cell_type": "code",
   "execution_count": 11,
   "id": "6b680ead-4808-444f-b188-f3c870934af2",
   "metadata": {},
   "outputs": [],
   "source": [
    "import aocd"
   ]
  },
  {
   "cell_type": "code",
   "execution_count": null,
   "id": "b3e1e39e-26e7-498f-9979-b786625f90a5",
   "metadata": {},
   "outputs": [],
   "source": []
  },
  {
   "cell_type": "code",
   "execution_count": 12,
   "id": "ee2d5736-dbe0-422b-84e1-e70330fb14d4",
   "metadata": {},
   "outputs": [],
   "source": [
    "def evaluate_stone(s):\n",
    "    if s == 0:\n",
    "        return [1]\n",
    "    elif len(str(s))%2==0:\n",
    "        strs = str(s)\n",
    "        lstrst = len(strs)\n",
    "        return [int(strs[:lstrst//2]), int(strs[lstrst//2:])]\n",
    "    else:\n",
    "        return [s*2024]"
   ]
  },
  {
   "cell_type": "code",
   "execution_count": 13,
   "id": "2e44b69b-3529-4768-b69b-2b5cfa8eedc0",
   "metadata": {},
   "outputs": [
    {
     "data": {
      "text/plain": [
       "[20, 24]"
      ]
     },
     "execution_count": 13,
     "metadata": {},
     "output_type": "execute_result"
    }
   ],
   "source": [
    "evaluate_stone(2024)"
   ]
  },
  {
   "cell_type": "code",
   "execution_count": 14,
   "id": "b32f01b5-feff-4bf7-b81a-f4387cbd6128",
   "metadata": {},
   "outputs": [],
   "source": [
    "s = \"2024\"\n",
    "ls = len(s)"
   ]
  },
  {
   "cell_type": "code",
   "execution_count": 15,
   "id": "d14e890c-9f00-44ee-8f05-300e91a23d83",
   "metadata": {},
   "outputs": [
    {
     "data": {
      "text/plain": [
       "2"
      ]
     },
     "execution_count": 15,
     "metadata": {},
     "output_type": "execute_result"
    }
   ],
   "source": [
    "ls//2"
   ]
  },
  {
   "cell_type": "code",
   "execution_count": 16,
   "id": "13210033-c3e0-44e2-87cb-06afbf63587b",
   "metadata": {},
   "outputs": [
    {
     "data": {
      "text/plain": [
       "'20'"
      ]
     },
     "execution_count": 16,
     "metadata": {},
     "output_type": "execute_result"
    }
   ],
   "source": [
    "s[:ls//2]"
   ]
  },
  {
   "cell_type": "code",
   "execution_count": 17,
   "id": "87e975e3-30cd-492b-8162-e1173efee54d",
   "metadata": {},
   "outputs": [
    {
     "data": {
      "text/plain": [
       "'24'"
      ]
     },
     "execution_count": 17,
     "metadata": {},
     "output_type": "execute_result"
    }
   ],
   "source": [
    "s[ls//2:]"
   ]
  },
  {
   "cell_type": "code",
   "execution_count": 18,
   "id": "d57aaa28-1866-4001-a25e-bfc51c08e5d5",
   "metadata": {},
   "outputs": [],
   "source": [
    "import tqdm"
   ]
  },
  {
   "cell_type": "code",
   "execution_count": 19,
   "id": "78261d0f-26b2-4502-a17d-c06a949bf97b",
   "metadata": {},
   "outputs": [],
   "source": [
    "def blink(stones, n):\n",
    "    nl = []\n",
    "    print(stones)\n",
    "    blinks = 0\n",
    "    for blink in tqdm.tqdm(range(n)):\n",
    "        \n",
    "        for stone in stones:\n",
    "            nl.extend(evaluate_stone(stone))\n",
    "        stones = nl\n",
    "        nl = []\n",
    "        # print(stones)\n",
    "    return len(stones)\n",
    "\n",
    "    "
   ]
  },
  {
   "cell_type": "code",
   "execution_count": 20,
   "id": "d073986b-0c93-4c89-ba88-ecc8d013d9c1",
   "metadata": {
    "scrolled": true
   },
   "outputs": [
    {
     "name": "stdout",
     "output_type": "stream",
     "text": [
      "[125, 17]\n"
     ]
    },
    {
     "name": "stderr",
     "output_type": "stream",
     "text": [
      "100%|██████████████████████████████████████████████████████████████████████████████████| 25/25 [00:00<00:00, 211.82it/s]\n"
     ]
    },
    {
     "data": {
      "text/plain": [
       "55312"
      ]
     },
     "execution_count": 20,
     "metadata": {},
     "output_type": "execute_result"
    }
   ],
   "source": [
    "blink([125, 17], 25)"
   ]
  },
  {
   "cell_type": "code",
   "execution_count": 48,
   "id": "55907e6d-7bd9-4009-8821-b04fbf2e9ded",
   "metadata": {},
   "outputs": [],
   "source": [
    "data = aocd.get_data()"
   ]
  },
  {
   "cell_type": "code",
   "execution_count": 49,
   "id": "e1e517c2-af57-480e-8a9f-acf510c9057d",
   "metadata": {},
   "outputs": [],
   "source": [
    "data = [int(x) for x in data.split(\" \")]"
   ]
  },
  {
   "cell_type": "code",
   "execution_count": 50,
   "id": "aa4c83d0-8664-4b42-be88-b372b7d4899a",
   "metadata": {},
   "outputs": [],
   "source": [
    "#does not work!!! blink(data, 75)"
   ]
  },
  {
   "cell_type": "code",
   "execution_count": 55,
   "id": "f9db2b6e-fc12-4434-a398-6787e40fb7e9",
   "metadata": {},
   "outputs": [],
   "source": [
    "def blink2(stones, blinks):\n",
    "    current_stones= { stone: 1 for stone in stones } #since global order does not really matter we can accumulate counts\n",
    "    #encountering the same number n times means we can just us that count to add to the count of all new stones instead of calculating for each stone\n",
    "    \n",
    "    for blink in range(blinks): #for every blink\n",
    "        next_stones = {} #accumulate next step stones\n",
    "\n",
    "        for stone in current_stones: #for every current stone\n",
    "            for new_stone in evaluate_stone(stone): #find out what stones it becomes\n",
    "                #the total count of this stone is how often it already was in next_stones, plus how often the step creating this stone was in current_stones \n",
    "                next_stones[new_stone] = next_stones.get(new_stone, 0) + current_stones[stone] \n",
    "        current_stones = next_stones\n",
    "\n",
    "    return sum(current_stones.values())\n"
   ]
  },
  {
   "cell_type": "code",
   "execution_count": 56,
   "id": "0f7989b0-7aaa-4c25-be7b-23e6edefb3eb",
   "metadata": {},
   "outputs": [
    {
     "data": {
      "text/plain": [
       "259755538429618"
      ]
     },
     "execution_count": 56,
     "metadata": {},
     "output_type": "execute_result"
    }
   ],
   "source": [
    "blink2(data, 75)"
   ]
  }
 ],
 "metadata": {
  "kernelspec": {
   "display_name": "Python 3 (ipykernel)",
   "language": "python",
   "name": "python3"
  },
  "language_info": {
   "codemirror_mode": {
    "name": "ipython",
    "version": 3
   },
   "file_extension": ".py",
   "mimetype": "text/x-python",
   "name": "python",
   "nbconvert_exporter": "python",
   "pygments_lexer": "ipython3",
   "version": "3.10.12"
  }
 },
 "nbformat": 4,
 "nbformat_minor": 5
}
