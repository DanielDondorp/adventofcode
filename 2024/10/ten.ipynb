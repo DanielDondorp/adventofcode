{
 "cells": [
  {
   "cell_type": "code",
   "execution_count": 1,
   "id": "235d6529-ddcc-4e9f-a60f-04b581eda5b0",
   "metadata": {},
   "outputs": [],
   "source": [
    "import numpy as np\n",
    "from aocd import get_data, submit"
   ]
  },
  {
   "cell_type": "code",
   "execution_count": 2,
   "id": "0724a59c-3194-40a0-9cfc-f0a5142177ac",
   "metadata": {},
   "outputs": [],
   "source": [
    "test_input = \"\"\"89010123\n",
    "78121874\n",
    "87430965\n",
    "96549874\n",
    "45678903\n",
    "32019012\n",
    "01329801\n",
    "10456732\"\"\""
   ]
  },
  {
   "cell_type": "code",
   "execution_count": 176,
   "id": "6b47499c-490d-4944-a81a-866c3bebe42f",
   "metadata": {},
   "outputs": [],
   "source": [
    "def parse_input(data):\n",
    "    return np.array([[int(x) for x in line] for line in data.split(\"\\n\")])"
   ]
  },
  {
   "cell_type": "code",
   "execution_count": 190,
   "id": "38eff622-3eca-4db7-a142-b3f79c3c5d2e",
   "metadata": {},
   "outputs": [],
   "source": [
    "test_data = parse_input(test_input)"
   ]
  },
  {
   "cell_type": "code",
   "execution_count": 191,
   "id": "a2ad9acd-490e-43c2-a972-d0d93740cdc9",
   "metadata": {},
   "outputs": [
    {
     "data": {
      "text/plain": [
       "array([[8, 9, 0, 1, 0, 1, 2, 3],\n",
       "       [7, 8, 1, 2, 1, 8, 7, 4],\n",
       "       [8, 7, 4, 3, 0, 9, 6, 5],\n",
       "       [9, 6, 5, 4, 9, 8, 7, 4],\n",
       "       [4, 5, 6, 7, 8, 9, 0, 3],\n",
       "       [3, 2, 0, 1, 9, 0, 1, 2],\n",
       "       [0, 1, 3, 2, 9, 8, 0, 1],\n",
       "       [1, 0, 4, 5, 6, 7, 3, 2]])"
      ]
     },
     "execution_count": 191,
     "metadata": {},
     "output_type": "execute_result"
    }
   ],
   "source": [
    "test_data"
   ]
  },
  {
   "cell_type": "code",
   "execution_count": 192,
   "id": "01b5f244-ea9b-42ae-9140-a8f2b2c2c951",
   "metadata": {},
   "outputs": [],
   "source": [
    "test_data = np.pad(test_data, 1, \"constant\", constant_values = [-1])"
   ]
  },
  {
   "cell_type": "code",
   "execution_count": 193,
   "id": "271498fc-f9c9-437b-bcd4-8b643b36067f",
   "metadata": {},
   "outputs": [
    {
     "data": {
      "text/plain": [
       "array([[-1, -1, -1, -1, -1, -1, -1, -1, -1, -1],\n",
       "       [-1,  8,  9,  0,  1,  0,  1,  2,  3, -1],\n",
       "       [-1,  7,  8,  1,  2,  1,  8,  7,  4, -1],\n",
       "       [-1,  8,  7,  4,  3,  0,  9,  6,  5, -1],\n",
       "       [-1,  9,  6,  5,  4,  9,  8,  7,  4, -1],\n",
       "       [-1,  4,  5,  6,  7,  8,  9,  0,  3, -1],\n",
       "       [-1,  3,  2,  0,  1,  9,  0,  1,  2, -1],\n",
       "       [-1,  0,  1,  3,  2,  9,  8,  0,  1, -1],\n",
       "       [-1,  1,  0,  4,  5,  6,  7,  3,  2, -1],\n",
       "       [-1, -1, -1, -1, -1, -1, -1, -1, -1, -1]])"
      ]
     },
     "execution_count": 193,
     "metadata": {},
     "output_type": "execute_result"
    }
   ],
   "source": [
    "test_data"
   ]
  },
  {
   "cell_type": "code",
   "execution_count": 194,
   "id": "26a04b28-3053-4825-a668-b52c65494731",
   "metadata": {},
   "outputs": [],
   "source": [
    "starting_positions = np.argwhere(test_data == 0)"
   ]
  },
  {
   "cell_type": "code",
   "execution_count": 195,
   "id": "0dedeb4b-3872-41c8-a7c5-e69d2063c09f",
   "metadata": {},
   "outputs": [
    {
     "data": {
      "text/plain": [
       "[array([1, 3]),\n",
       " array([1, 5]),\n",
       " array([3, 5]),\n",
       " array([5, 7]),\n",
       " array([6, 3]),\n",
       " array([6, 6]),\n",
       " array([7, 1]),\n",
       " array([7, 7]),\n",
       " array([8, 2])]"
      ]
     },
     "execution_count": 195,
     "metadata": {},
     "output_type": "execute_result"
    }
   ],
   "source": [
    "list(starting_positions)"
   ]
  },
  {
   "cell_type": "code",
   "execution_count": 196,
   "id": "45cf6a28-1133-4d87-8193-dae4a493399c",
   "metadata": {},
   "outputs": [
    {
     "data": {
      "text/plain": [
       "array([-1, -1])"
      ]
     },
     "execution_count": 196,
     "metadata": {},
     "output_type": "execute_result"
    }
   ],
   "source": [
    "test_data.take(starting_positions[0])"
   ]
  },
  {
   "cell_type": "code",
   "execution_count": 197,
   "id": "339b4c21-7a6c-4955-a168-424699e62891",
   "metadata": {},
   "outputs": [
    {
     "data": {
      "text/plain": [
       "(10, 10)"
      ]
     },
     "execution_count": 197,
     "metadata": {},
     "output_type": "execute_result"
    }
   ],
   "source": [
    "test_data.shape"
   ]
  },
  {
   "cell_type": "code",
   "execution_count": 198,
   "id": "1e1707a0-2b88-4a94-8acb-28f805360949",
   "metadata": {},
   "outputs": [],
   "source": [
    "##this smells of recursion, breath-first-search stuff...."
   ]
  },
  {
   "cell_type": "code",
   "execution_count": 219,
   "id": "1cd58079-d7de-4292-8488-4da45e11bc5b",
   "metadata": {},
   "outputs": [],
   "source": [
    "def walk(x,y, data):\n",
    "    path = [(x,y)]\n",
    "    tops = set() #we are only collecting unique tops reached\n",
    "    while path:\n",
    "        x, y = path.pop() #get last path position\n",
    "        if (height := data[x,y]) == 9: #if it is 9 we are at a top\n",
    "            tops.add((x,y))\n",
    "        if data[x-1, y] == height+1: #up\n",
    "            path.append((x-1, y))\n",
    "        if data[x+1, y] == height+1: #down\n",
    "            path.append((x+1, y))\n",
    "        if data[x, y+1] == height+1: #right\n",
    "            path.append((x, y+1))\n",
    "        if data[x, y-1] == height+1: #left\n",
    "            path.append((x, y-1))\n",
    "    return len(tops)"
   ]
  },
  {
   "cell_type": "code",
   "execution_count": 220,
   "id": "53b6158a-1b9b-4ebd-8a14-eaec2fa3d63d",
   "metadata": {},
   "outputs": [],
   "source": [
    "def find_trailhead_paths(puzzle_input):\n",
    "    data = parse_input(puzzle_input)\n",
    "    data =  np.pad(data, 1, \"constant\", constant_values = [-1])\n",
    "    start_positions = np.argwhere(data == 0)\n",
    "    total_score = 0\n",
    "    for sp in start_positions:\n",
    "        total_score += walk(sp[0], sp[1], data)\n",
    "    return total_score\n"
   ]
  },
  {
   "cell_type": "code",
   "execution_count": 221,
   "id": "67bcd96e-f568-4d5a-8021-3e1cb1148d0d",
   "metadata": {},
   "outputs": [
    {
     "data": {
      "text/plain": [
       "36"
      ]
     },
     "execution_count": 221,
     "metadata": {},
     "output_type": "execute_result"
    }
   ],
   "source": [
    "find_trailhead_paths(test_input)"
   ]
  },
  {
   "cell_type": "code",
   "execution_count": 212,
   "id": "395b4d98-57bd-4a62-a923-6ad976478eef",
   "metadata": {},
   "outputs": [
    {
     "data": {
      "text/plain": [
       "667"
      ]
     },
     "execution_count": 212,
     "metadata": {},
     "output_type": "execute_result"
    }
   ],
   "source": [
    "find_trailhead_paths(get_data(day=10, year=2024))"
   ]
  },
  {
   "cell_type": "markdown",
   "id": "30b78b58-5e05-407e-a447-fee834b6f8d2",
   "metadata": {},
   "source": [
    "## part two\n",
    "Just swap the set with a list?"
   ]
  },
  {
   "cell_type": "code",
   "execution_count": 227,
   "id": "cc98f257-ed62-4a71-b8aa-044e9b6fe786",
   "metadata": {},
   "outputs": [],
   "source": [
    "def walk(x,y, data):\n",
    "    path = [(x,y)]\n",
    "    tops = [] #we want to know about every time we reach a top through some route\n",
    "    while path:\n",
    "        x, y = path.pop()\n",
    "        if (height := data[x,y]) == 9:\n",
    "            tops.append((x,y))\n",
    "        if data[x-1, y] == height+1: #up\n",
    "            path.append((x-1, y))\n",
    "        if data[x+1, y] == height+1: #down\n",
    "            path.append((x+1, y))\n",
    "        if data[x, y+1] == height+1: #right\n",
    "            path.append((x, y+1))\n",
    "        if data[x, y-1] == height+1: #left\n",
    "            path.append((x, y-1))\n",
    "    return len(tops)"
   ]
  },
  {
   "cell_type": "code",
   "execution_count": 228,
   "id": "ece9a08a-bede-44f5-b6b3-7550f4030f0b",
   "metadata": {},
   "outputs": [
    {
     "data": {
      "text/plain": [
       "81"
      ]
     },
     "execution_count": 228,
     "metadata": {},
     "output_type": "execute_result"
    }
   ],
   "source": [
    "find_trailhead_paths(test_input)"
   ]
  },
  {
   "cell_type": "code",
   "execution_count": 229,
   "id": "db2db6b4-dd18-44c3-9bf4-20442d841cc5",
   "metadata": {},
   "outputs": [
    {
     "data": {
      "text/plain": [
       "1344"
      ]
     },
     "execution_count": 229,
     "metadata": {},
     "output_type": "execute_result"
    }
   ],
   "source": [
    "find_trailhead_paths(get_data(day=10, year=2024))"
   ]
  }
 ],
 "metadata": {
  "kernelspec": {
   "display_name": "Python 3 (ipykernel)",
   "language": "python",
   "name": "python3"
  },
  "language_info": {
   "codemirror_mode": {
    "name": "ipython",
    "version": 3
   },
   "file_extension": ".py",
   "mimetype": "text/x-python",
   "name": "python",
   "nbconvert_exporter": "python",
   "pygments_lexer": "ipython3",
   "version": "3.10.12"
  }
 },
 "nbformat": 4,
 "nbformat_minor": 5
}
