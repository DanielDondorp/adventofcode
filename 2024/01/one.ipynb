{
 "cells": [
  {
   "cell_type": "code",
   "execution_count": 21,
   "id": "26cd8ce6-2073-4534-8dd5-c6eba8c86d25",
   "metadata": {},
   "outputs": [],
   "source": [
    "import numpy as np"
   ]
  },
  {
   "cell_type": "code",
   "execution_count": 1,
   "id": "6bead653-e852-4f89-9b54-455ee13f6073",
   "metadata": {},
   "outputs": [],
   "source": [
    "## Part One"
   ]
  },
  {
   "cell_type": "code",
   "execution_count": 35,
   "id": "7fe89af6-9e49-4c9c-822f-637debaceb2e",
   "metadata": {},
   "outputs": [],
   "source": [
    "#read the data\n",
    "with open(\"input.txt\", \"r\") as f:\n",
    "    input_file = f.read()\n",
    "input_file = input_file.replace(\"   \", \"-\")\n",
    "data = input_file.split(\"\\n\")\n",
    "\n",
    "left = []\n",
    "right = []\n",
    "for pair in data:\n",
    "    split = pair.split(\"-\")\n",
    "    l = split[0]\n",
    "    r = split[1]\n",
    "    left.append(int(l))\n",
    "    right.append(int(r))\n",
    "\n"
   ]
  },
  {
   "cell_type": "code",
   "execution_count": 37,
   "id": "895c2c45-4128-4499-a942-40a03b44f8ee",
   "metadata": {},
   "outputs": [],
   "source": [
    "#sort both lists\n",
    "leftarr = np.array(sorted(left))\n",
    "rightarr = np.array(sorted(right))\n",
    "\n",
    "#calculate the difference\n",
    "dists = np.abs(leftarr-rightarr)"
   ]
  },
  {
   "cell_type": "code",
   "execution_count": 40,
   "id": "4c00a870-5c1f-4107-90f8-18e19c11d107",
   "metadata": {},
   "outputs": [
    {
     "name": "stdout",
     "output_type": "stream",
     "text": [
      "The total distance between the lists is 1222801\n"
     ]
    }
   ],
   "source": [
    "print(f\"The total distance between the lists is {np.sum(dists)}\")"
   ]
  },
  {
   "cell_type": "markdown",
   "id": "70f8ffc7-fb41-4bba-b5a0-a44cc913c028",
   "metadata": {},
   "source": [
    "## part two"
   ]
  },
  {
   "cell_type": "code",
   "execution_count": 41,
   "id": "fb146193-96ab-4dde-a9e4-0e623531f2f7",
   "metadata": {},
   "outputs": [],
   "source": [
    "#make a dictionary of all counts of numbers in the right array\n",
    "right_counts = dict(zip(*np.unique(rightarr, return_counts = True)))"
   ]
  },
  {
   "cell_type": "code",
   "execution_count": 42,
   "id": "689d6896-ec75-4bfb-bf07-2e6933312342",
   "metadata": {},
   "outputs": [],
   "source": [
    "#Calculate the number*incidence rate for each number in the left list\n",
    "dists = []\n",
    "for l in leftarr:\n",
    "    if l in right_counts.keys():\n",
    "        dists.append(l*right_counts[l])"
   ]
  },
  {
   "cell_type": "code",
   "execution_count": 43,
   "id": "806c6854-02b2-40b7-bb07-109d20c6f803",
   "metadata": {},
   "outputs": [
    {
     "name": "stdout",
     "output_type": "stream",
     "text": [
      "The similarity score is 22545250\n"
     ]
    }
   ],
   "source": [
    "print(f\"The similarity score is {np.sum(dists)}\")"
   ]
  },
  {
   "cell_type": "code",
   "execution_count": null,
   "id": "faed5610-1c10-4e6c-ab7e-ecd6f31531f4",
   "metadata": {},
   "outputs": [],
   "source": []
  }
 ],
 "metadata": {
  "kernelspec": {
   "display_name": "Python 3 (ipykernel)",
   "language": "python",
   "name": "python3"
  },
  "language_info": {
   "codemirror_mode": {
    "name": "ipython",
    "version": 3
   },
   "file_extension": ".py",
   "mimetype": "text/x-python",
   "name": "python",
   "nbconvert_exporter": "python",
   "pygments_lexer": "ipython3",
   "version": "3.10.12"
  }
 },
 "nbformat": 4,
 "nbformat_minor": 5
}
