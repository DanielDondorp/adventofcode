{
 "cells": [
  {
   "cell_type": "code",
   "execution_count": 21,
   "id": "26cd8ce6-2073-4534-8dd5-c6eba8c86d25",
   "metadata": {},
   "outputs": [],
   "source": [
    "import numpy as np"
   ]
  },
  {
   "cell_type": "markdown",
   "id": "28cfe35b-e4dc-44a9-8e1b-d502c0ac8e3d",
   "metadata": {},
   "source": [
    "## Part One\n",
    "Throughout the Chief's office, the historically significant locations are listed not by name but by a unique number called the location ID. To make sure they don't miss anything, The Historians split into two groups, each searching the office and trying to create their own complete list of location IDs.\n",
    "\n",
    "There's just one problem: by holding the two lists up side by side (your puzzle input), it quickly becomes clear that the lists aren't very similar. Maybe you can help The Historians reconcile their lists?\n",
    "\n",
    "For example:\n",
    "```\n",
    "3   4\n",
    "4   3\n",
    "2   5\n",
    "1   3\n",
    "3   9\n",
    "3   3\n",
    "```\n",
    "Maybe the lists are only off by a small amount! To find out, pair up the numbers and measure how far apart they are. Pair up the smallest number in the left list with the smallest number in the right list, then the second-smallest left number with the second-smallest right number, and so on.\n",
    "\n",
    "Within each pair, figure out how far apart the two numbers are; you'll need to add up all of those distances. For example, if you pair up a 3 from the left list with a 7 from the right list, the distance apart is 4; if you pair up a 9 with a 3, the distance apart is 6.\n",
    "\n",
    "In the example list above, the pairs and distances would be as follows:\n",
    "\n",
    "The smallest number in the left list is 1, and the smallest number in the right list is 3. The distance between them is 2.\n",
    "The second-smallest number in the left list is 2, and the second-smallest number in the right list is another 3. The distance between them is 1.\n",
    "The third-smallest number in both lists is 3, so the distance between them is 0.\n",
    "The next numbers to pair up are 3 and 4, a distance of 1.\n",
    "The fifth-smallest numbers in each list are 3 and 5, a distance of 2.\n",
    "Finally, the largest number in the left list is 4, while the largest number in the right list is 9; these are a distance 5 apart.\n",
    "To find the total distance between the left list and the right list, add up the distances between all of the pairs you found. In the example above, this is 2 + 1 + 0 + 1 + 2 + 5, a total distance of 11!\n",
    "\n",
    "Your actual left and right lists contain many location IDs. What is the total distance between your lists?"
   ]
  },
  {
   "cell_type": "code",
   "execution_count": 35,
   "id": "7fe89af6-9e49-4c9c-822f-637debaceb2e",
   "metadata": {},
   "outputs": [],
   "source": [
    "#read the data\n",
    "with open(\"input.txt\", \"r\") as f:\n",
    "    input_file = f.read()\n",
    "input_file = input_file.replace(\"   \", \"-\")\n",
    "data = input_file.split(\"\\n\")\n",
    "\n",
    "left = []\n",
    "right = []\n",
    "for pair in data:\n",
    "    split = pair.split(\"-\")\n",
    "    l = split[0]\n",
    "    r = split[1]\n",
    "    left.append(int(l))\n",
    "    right.append(int(r))\n",
    "\n"
   ]
  },
  {
   "cell_type": "code",
   "execution_count": 37,
   "id": "895c2c45-4128-4499-a942-40a03b44f8ee",
   "metadata": {},
   "outputs": [],
   "source": [
    "#sort both lists\n",
    "leftarr = np.array(sorted(left))\n",
    "rightarr = np.array(sorted(right))\n",
    "\n",
    "#calculate the difference\n",
    "dists = np.abs(leftarr-rightarr)"
   ]
  },
  {
   "cell_type": "code",
   "execution_count": 40,
   "id": "4c00a870-5c1f-4107-90f8-18e19c11d107",
   "metadata": {},
   "outputs": [
    {
     "name": "stdout",
     "output_type": "stream",
     "text": [
      "The total distance between the lists is 1222801\n"
     ]
    }
   ],
   "source": [
    "print(f\"The total distance between the lists is {np.sum(dists)}\")"
   ]
  },
  {
   "cell_type": "markdown",
   "id": "70f8ffc7-fb41-4bba-b5a0-a44cc913c028",
   "metadata": {},
   "source": [
    "## Part Two\n",
    "Your analysis only confirmed what everyone feared: the two lists of location IDs are indeed very different.\n",
    "\n",
    "Or are they?\n",
    "\n",
    "The Historians can't agree on which group made the mistakes or how to read most of the Chief's handwriting, but in the commotion you notice an interesting detail: a lot of location IDs appear in both lists! Maybe the other numbers aren't location IDs at all but rather misinterpreted handwriting.\n",
    "\n",
    "This time, you'll need to figure out exactly how often each number from the left list appears in the right list. Calculate a total similarity score by adding up each number in the left list after multiplying it by the number of times that number appears in the right list.\n",
    "\n",
    "Here are the same example lists again:\n",
    "```\n",
    "3   4\n",
    "4   3\n",
    "2   5\n",
    "1   3\n",
    "3   9\n",
    "3   3\n",
    "```\n",
    "For these example lists, here is the process of finding the similarity score:\n",
    "\n",
    "The first number in the left list is 3. It appears in the right list three times, so the similarity score increases by 3 * 3 = 9.\n",
    "The second number in the left list is 4. It appears in the right list once, so the similarity score increases by 4 * 1 = 4.\n",
    "The third number in the left list is 2. It does not appear in the right list, so the similarity score does not increase (2 * 0 = 0).\n",
    "The fourth number, 1, also does not appear in the right list.\n",
    "The fifth number, 3, appears in the right list three times; the similarity score increases by 9.\n",
    "The last number, 3, appears in the right list three times; the similarity score again increases by 9.\n",
    "So, for these example lists, the similarity score at the end of this process is 31 (9 + 4 + 0 + 0 + 9 + 9).\n",
    "\n",
    "Once again consider your left and right lists. What is their similarity score?"
   ]
  },
  {
   "cell_type": "code",
   "execution_count": 41,
   "id": "fb146193-96ab-4dde-a9e4-0e623531f2f7",
   "metadata": {},
   "outputs": [],
   "source": [
    "#make a dictionary of all counts of numbers in the right array\n",
    "right_counts = dict(zip(*np.unique(rightarr, return_counts = True)))"
   ]
  },
  {
   "cell_type": "code",
   "execution_count": 42,
   "id": "689d6896-ec75-4bfb-bf07-2e6933312342",
   "metadata": {},
   "outputs": [],
   "source": [
    "#Calculate the number*incidence rate for each number in the left list\n",
    "dists = []\n",
    "for l in leftarr:\n",
    "    if l in right_counts.keys():\n",
    "        dists.append(l*right_counts[l])"
   ]
  },
  {
   "cell_type": "code",
   "execution_count": 43,
   "id": "806c6854-02b2-40b7-bb07-109d20c6f803",
   "metadata": {},
   "outputs": [
    {
     "name": "stdout",
     "output_type": "stream",
     "text": [
      "The similarity score is 22545250\n"
     ]
    }
   ],
   "source": [
    "print(f\"The similarity score is {np.sum(dists)}\")"
   ]
  },
  {
   "cell_type": "code",
   "execution_count": null,
   "id": "faed5610-1c10-4e6c-ab7e-ecd6f31531f4",
   "metadata": {},
   "outputs": [],
   "source": []
  }
 ],
 "metadata": {
  "kernelspec": {
   "display_name": "Python 3 (ipykernel)",
   "language": "python",
   "name": "python3"
  },
  "language_info": {
   "codemirror_mode": {
    "name": "ipython",
    "version": 3
   },
   "file_extension": ".py",
   "mimetype": "text/x-python",
   "name": "python",
   "nbconvert_exporter": "python",
   "pygments_lexer": "ipython3",
   "version": "3.10.12"
  }
 },
 "nbformat": 4,
 "nbformat_minor": 5
}
