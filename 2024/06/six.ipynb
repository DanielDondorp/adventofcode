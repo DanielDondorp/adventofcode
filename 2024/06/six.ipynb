{
 "cells": [
  {
   "cell_type": "code",
   "execution_count": 35,
   "id": "a4ccef0e-566e-4cb4-9eb5-4972239cd7c4",
   "metadata": {},
   "outputs": [],
   "source": [
    "import numpy as np\n",
    "import numba\n",
    "import tqdm"
   ]
  },
  {
   "cell_type": "code",
   "execution_count": 36,
   "id": "c740d1b9-eea1-4d19-9453-857a5d71bd23",
   "metadata": {},
   "outputs": [],
   "source": [
    "test_input = \"\"\"....#.....\n",
    ".........#\n",
    "..........\n",
    "..#.......\n",
    ".......#..\n",
    "..........\n",
    ".#..^.....\n",
    "........#.\n",
    "#.........\n",
    "......#...\"\"\""
   ]
  },
  {
   "cell_type": "code",
   "execution_count": 37,
   "id": "68f742f4-cb8e-4cc8-9561-204c4c497d66",
   "metadata": {},
   "outputs": [],
   "source": [
    "def parse_input(data):\n",
    "    # numarr = np.array([np.array([0 if x == \".\" else 1 for x in row]) for row in data.split(\"\\n\")])\n",
    "    arr = np.array([np.array([x for x in row]) for row in data.split(\"\\n\")])\n",
    "    return arr"
   ]
  },
  {
   "cell_type": "code",
   "execution_count": 47,
   "id": "e681b6fd-2dbc-4bb9-a53d-56a81b3f6a7a",
   "metadata": {},
   "outputs": [],
   "source": [
    "def rotate_direction(direction):\n",
    "    return np.array([direction[1], -direction[0]])"
   ]
  },
  {
   "cell_type": "code",
   "execution_count": 39,
   "id": "10702815-8ece-4e36-90e8-8801c5ffb3a3",
   "metadata": {},
   "outputs": [],
   "source": [
    "def step(current_loc, direction, data):\n",
    "    next_loc = current_loc+direction\n",
    "\n",
    "    #if we move out of bounds\n",
    "    if any(next_loc) < 0 or any(next_loc > data.shape):\n",
    "        return next_loc, direction\n",
    "    #if next loc is obstacle\n",
    "    if data[tuple(next_loc)] == \"#\":\n",
    "        turns = 0\n",
    "        while data[tuple(next_loc)] == \"#\":\n",
    "            direction = rotate_direction(direction)\n",
    "            next_loc = current_loc\n",
    "            turns += 1\n",
    "            if turns > 4: \n",
    "                raise Exception(\"STUCK!\")           \n",
    "    \n",
    "    return next_loc, direction"
   ]
  },
  {
   "cell_type": "code",
   "execution_count": 40,
   "id": "3d997855-72a1-4fb6-936a-7aea5f5b276b",
   "metadata": {},
   "outputs": [],
   "source": [
    "def walk(puzzle_data):\n",
    "    data = parse_input(puzzle_data)\n",
    "    # print(data)\n",
    "    h, w = data.shape\n",
    "    guard = np.argwhere(data==\"^\")[0]\n",
    "    direction = np.array([-1,0])\n",
    "    path = np.zeros(data.shape)\n",
    "    path[tuple(guard)] = 1\n",
    "    #while guard on the map:\n",
    "    print(guard)\n",
    "    while all(guard > 0) and all(guard < (np.array(data.shape) - 1)):\n",
    "        path[tuple(guard)] = 1\n",
    "        next_loc, direction = step(guard, direction, data)\n",
    "        guard = next_loc\n",
    "        \n",
    "    \n",
    "    # print(path)\n",
    "    return(np.sum(path>0)+1)\n",
    "    \n",
    "        \n",
    "        \n",
    "        "
   ]
  },
  {
   "cell_type": "code",
   "execution_count": 41,
   "id": "ee9e5b63-a6ca-48c0-9fb9-78a3f31c1802",
   "metadata": {},
   "outputs": [
    {
     "name": "stdout",
     "output_type": "stream",
     "text": [
      "[6 4]\n"
     ]
    },
    {
     "data": {
      "text/plain": [
       "np.int64(41)"
      ]
     },
     "execution_count": 41,
     "metadata": {},
     "output_type": "execute_result"
    }
   ],
   "source": [
    "walk(test_input)"
   ]
  },
  {
   "cell_type": "code",
   "execution_count": 42,
   "id": "4eb5dfae-7ac6-44e8-b30c-465f153d3912",
   "metadata": {},
   "outputs": [
    {
     "name": "stdout",
     "output_type": "stream",
     "text": [
      "[60 60]\n"
     ]
    },
    {
     "data": {
      "text/plain": [
       "np.int64(4663)"
      ]
     },
     "execution_count": 42,
     "metadata": {},
     "output_type": "execute_result"
    }
   ],
   "source": [
    "with open(\"puzzle_input.txt\", \"r\") as f:\n",
    "    puzzle_input = f.read()\n",
    "\n",
    "walk(puzzle_input)"
   ]
  },
  {
   "cell_type": "markdown",
   "id": "5674e940-ec8e-49e5-bb5f-087bc9c40d34",
   "metadata": {},
   "source": [
    "## part two:\n",
    "amend our walk function to log locations and directions. if we are in a location and direction we have been in before, we are in a loop. "
   ]
  },
  {
   "cell_type": "code",
   "execution_count": 57,
   "id": "b03d318e-afe3-4946-98c0-f796382278d8",
   "metadata": {},
   "outputs": [],
   "source": [
    "\n",
    "def step(current_loc, direction, data):\n",
    "    next_loc = current_loc+direction\n",
    "\n",
    "    #if we move out of bounds\n",
    "    if any(next_loc) < 0 or any(next_loc > data.shape):\n",
    "        return next_loc, direction\n",
    "    #if next loc is obstacle\n",
    "    if data[tuple(next_loc)] == \"#\":\n",
    "        turns = 0\n",
    "        while data[tuple(next_loc)] == \"#\":\n",
    "            direction = rotate_direction(direction)\n",
    "            next_loc = current_loc\n",
    "            turns += 1\n",
    "            if turns > 4: \n",
    "                raise Exception(\"STUCK!\")           \n",
    "    \n",
    "    return next_loc, direction\n",
    "\n",
    "def walk(data, start_spot):\n",
    "    guard = start_spot\n",
    "    direction = np.array([-1,0])\n",
    "    path = np.zeros(data.shape)\n",
    "    path[tuple(guard)] = 1\n",
    "    been_there = set()\n",
    "    been_there.add((tuple(guard), tuple(direction)))\n",
    "    #while guard on the map:\n",
    "    history = [[guard, direction]]\n",
    "    while all(guard > 0) and all(guard < (np.array(data.shape) - 1)):\n",
    "        path[tuple(guard)] = 1\n",
    "        next_loc, direction = step(guard, direction, data)\n",
    "        if (tuple(next_loc), tuple(direction)) in been_there:\n",
    "            return path, True\n",
    "        guard = next_loc\n",
    "        been_there.add((tuple(guard), tuple(direction)))\n",
    "    #final path update\n",
    "    path[tuple(guard)] = 1\n",
    "        \n",
    "    \n",
    "    # print(path)\n",
    "    return path, False\n",
    "    "
   ]
  },
  {
   "cell_type": "code",
   "execution_count": 58,
   "id": "baf6443a-d964-4067-ab8b-f6a297173b99",
   "metadata": {},
   "outputs": [],
   "source": [
    "#test by placing an object next to the start spot\n",
    "test_data = parse_input(test_input)\n",
    "start_spot = np.argwhere(test_data==\"^\")[0] \n",
    "object_spot =start_spot+ np.array([0,-1])\n",
    "new_map = test_data.copy()\n",
    "new_map[tuple(object_spot)] = \"#\"\n",
    "p, c = walk(new_map, start_spot)"
   ]
  },
  {
   "cell_type": "code",
   "execution_count": 59,
   "id": "a868f0cd-4726-4d7f-bfdb-e46a760a1490",
   "metadata": {},
   "outputs": [],
   "source": [
    "def place_obstructions(data):\n",
    "    #find the original path\n",
    "    start_spot = np.argwhere(data==\"^\")[0]\n",
    "    orig_path, is_cycle = walk(data, start_spot=start_spot)\n",
    "    #find inceces of the path. here we can place objects\n",
    "    places = np.argwhere(orig_path!=0)\n",
    "    good_places = 0\n",
    "    #for every place we can place an object:\n",
    "    print(len(places))\n",
    "    for place in places:\n",
    "        #copy the map\n",
    "        new = data.copy()\n",
    "        #place an object\n",
    "        new[tuple(place)] = \"#\"\n",
    "        #walk the path\n",
    "        p, cycle = walk(new, start_spot)\n",
    "        if cycle:\n",
    "            good_places+=1\n",
    "    return good_places\n",
    "        "
   ]
  },
  {
   "cell_type": "code",
   "execution_count": 60,
   "id": "7a39bf13-92ec-44d4-bf8a-868523576669",
   "metadata": {},
   "outputs": [
    {
     "name": "stdout",
     "output_type": "stream",
     "text": [
      "4663\n",
      "CPU times: user 2min 16s, sys: 29.1 ms, total: 2min 16s\n",
      "Wall time: 2min 17s\n"
     ]
    },
    {
     "data": {
      "text/plain": [
       "1530"
      ]
     },
     "execution_count": 60,
     "metadata": {},
     "output_type": "execute_result"
    }
   ],
   "source": [
    "%%time\n",
    "data = parse_input(puzzle_input)\n",
    "\n",
    "\n",
    "place_obstructions(data)"
   ]
  },
  {
   "cell_type": "markdown",
   "id": "e5546075-0dca-4fcd-aa0b-d18993dba4f2",
   "metadata": {},
   "source": [
    "That is nice and all but should be faster...."
   ]
  },
  {
   "cell_type": "code",
   "execution_count": 61,
   "id": "ce7eceb4-3b7b-4836-8b50-fcd7448237fb",
   "metadata": {},
   "outputs": [],
   "source": [
    "from itertools import cycle"
   ]
  },
  {
   "cell_type": "code",
   "execution_count": 76,
   "id": "11eb3e0c-afd4-47bc-bdbc-fbdf5b24c4e6",
   "metadata": {},
   "outputs": [],
   "source": [
    "direction = np.array([1, 0])\n",
    "directions = [direction]\n",
    "for i in range(3):\n",
    "    directions.append(rotate_direction(directions[-1]))\n",
    "directions = cycle(directions)"
   ]
  },
  {
   "cell_type": "code",
   "execution_count": 78,
   "id": "c41c40b4-f98e-4a0b-b781-3c69208913eb",
   "metadata": {},
   "outputs": [],
   "source": [
    "direction = next(directions)"
   ]
  },
  {
   "cell_type": "code",
   "execution_count": 81,
   "id": "b2748dd8-2aac-47a2-be90-92a696a8577d",
   "metadata": {},
   "outputs": [
    {
     "data": {
      "text/plain": [
       "array([1, 0])"
      ]
     },
     "execution_count": 81,
     "metadata": {},
     "output_type": "execute_result"
    }
   ],
   "source": [
    "direction"
   ]
  },
  {
   "cell_type": "raw",
   "id": "34b496a5-b934-4f6e-80ff-329873dd556d",
   "metadata": {},
   "source": [
    "direction = next(direction)"
   ]
  },
  {
   "cell_type": "code",
   "execution_count": 82,
   "id": "2d589895-40d5-4747-9916-d531da263df7",
   "metadata": {},
   "outputs": [
    {
     "data": {
      "text/plain": [
       "array([1, 0])"
      ]
     },
     "execution_count": 82,
     "metadata": {},
     "output_type": "execute_result"
    }
   ],
   "source": [
    "direction"
   ]
  },
  {
   "cell_type": "code",
   "execution_count": null,
   "id": "84d4d486-2a35-461e-80cc-d89d2c32f26a",
   "metadata": {},
   "outputs": [],
   "source": []
  }
 ],
 "metadata": {
  "kernelspec": {
   "display_name": "Python 3 (ipykernel)",
   "language": "python",
   "name": "python3"
  },
  "language_info": {
   "codemirror_mode": {
    "name": "ipython",
    "version": 3
   },
   "file_extension": ".py",
   "mimetype": "text/x-python",
   "name": "python",
   "nbconvert_exporter": "python",
   "pygments_lexer": "ipython3",
   "version": "3.10.12"
  }
 },
 "nbformat": 4,
 "nbformat_minor": 5
}
