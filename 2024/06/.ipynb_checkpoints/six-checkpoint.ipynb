{
 "cells": [
  {
   "cell_type": "code",
   "execution_count": 15,
   "id": "a4ccef0e-566e-4cb4-9eb5-4972239cd7c4",
   "metadata": {},
   "outputs": [],
   "source": [
    "import numpy as np\n",
    "import numba\n",
    "import tqdm"
   ]
  },
  {
   "cell_type": "code",
   "execution_count": 16,
   "id": "c740d1b9-eea1-4d19-9453-857a5d71bd23",
   "metadata": {},
   "outputs": [],
   "source": [
    "test_input = \"\"\"....#.....\n",
    ".........#\n",
    "..........\n",
    "..#.......\n",
    ".......#..\n",
    "..........\n",
    ".#..^.....\n",
    "........#.\n",
    "#.........\n",
    "......#...\"\"\""
   ]
  },
  {
   "cell_type": "code",
   "execution_count": 17,
   "id": "68f742f4-cb8e-4cc8-9561-204c4c497d66",
   "metadata": {},
   "outputs": [],
   "source": [
    "def parse_input(data):\n",
    "    # numarr = np.array([np.array([0 if x == \".\" else 1 for x in row]) for row in data.split(\"\\n\")])\n",
    "    arr = np.array([np.array([x for x in row]) for row in data.split(\"\\n\")])\n",
    "    return arr"
   ]
  },
  {
   "cell_type": "code",
   "execution_count": 18,
   "id": "e681b6fd-2dbc-4bb9-a53d-56a81b3f6a7a",
   "metadata": {},
   "outputs": [],
   "source": [
    "def rotate_direction(direction):\n",
    "    return np.array([direction[1], -direction[0]])"
   ]
  },
  {
   "cell_type": "code",
   "execution_count": 19,
   "id": "10702815-8ece-4e36-90e8-8801c5ffb3a3",
   "metadata": {},
   "outputs": [],
   "source": [
    "def step(current_loc, direction, data):\n",
    "    next_loc = current_loc+direction\n",
    "\n",
    "    #if we move out of bounds\n",
    "    if any(next_loc) < 0 or any(next_loc > data.shape):\n",
    "        return next_loc, direction\n",
    "    #if next loc is obstacle\n",
    "    if data[tuple(next_loc)] == \"#\":\n",
    "        turns = 0\n",
    "        while data[tuple(next_loc)] == \"#\":\n",
    "            direction = rotate_direction(direction)\n",
    "            next_loc = current_loc\n",
    "            turns += 1\n",
    "            if turns > 4: \n",
    "                raise Exception(\"STUCK!\")           \n",
    "    \n",
    "    return next_loc, direction"
   ]
  },
  {
   "cell_type": "code",
   "execution_count": 20,
   "id": "3d997855-72a1-4fb6-936a-7aea5f5b276b",
   "metadata": {},
   "outputs": [],
   "source": [
    "def walk(puzzle_data):\n",
    "    data = parse_input(puzzle_data)\n",
    "    # print(data)\n",
    "    h, w = data.shape\n",
    "    guard = np.argwhere(data==\"^\")[0]\n",
    "    direction = np.array([-1,0])\n",
    "    path = np.zeros(data.shape)\n",
    "    path[tuple(guard)] = 1\n",
    "    #while guard on the map:\n",
    "    print(guard)\n",
    "    while all(guard > 0) and all(guard < (np.array(data.shape) - 1)):\n",
    "        path[tuple(guard)] = 1\n",
    "        next_loc, direction = step(guard, direction, data)\n",
    "        guard = next_loc\n",
    "        \n",
    "    \n",
    "    # print(path)\n",
    "    return(np.sum(path>0)+1)\n",
    "    \n",
    "        \n",
    "        \n",
    "        "
   ]
  },
  {
   "cell_type": "code",
   "execution_count": 21,
   "id": "ee9e5b63-a6ca-48c0-9fb9-78a3f31c1802",
   "metadata": {},
   "outputs": [
    {
     "name": "stdout",
     "output_type": "stream",
     "text": [
      "[6 4]\n"
     ]
    },
    {
     "data": {
      "text/plain": [
       "np.int64(41)"
      ]
     },
     "execution_count": 21,
     "metadata": {},
     "output_type": "execute_result"
    }
   ],
   "source": [
    "walk(test_input)"
   ]
  },
  {
   "cell_type": "code",
   "execution_count": 22,
   "id": "4eb5dfae-7ac6-44e8-b30c-465f153d3912",
   "metadata": {},
   "outputs": [
    {
     "name": "stdout",
     "output_type": "stream",
     "text": [
      "[60 60]\n"
     ]
    },
    {
     "data": {
      "text/plain": [
       "np.int64(4663)"
      ]
     },
     "execution_count": 22,
     "metadata": {},
     "output_type": "execute_result"
    }
   ],
   "source": [
    "with open(\"puzzle_input.txt\", \"r\") as f:\n",
    "    puzzle_input = f.read()\n",
    "\n",
    "walk(puzzle_input)"
   ]
  },
  {
   "cell_type": "markdown",
   "id": "5674e940-ec8e-49e5-bb5f-087bc9c40d34",
   "metadata": {},
   "source": [
    "## part two:\n",
    "amend our walk function to log locations and directions. if we are in a location and direction we have been in before, we are in a loop. "
   ]
  },
  {
   "cell_type": "code",
   "execution_count": 23,
   "id": "b03d318e-afe3-4946-98c0-f796382278d8",
   "metadata": {},
   "outputs": [],
   "source": [
    "\n",
    "def step(current_loc, direction, data):\n",
    "    next_loc = current_loc+direction\n",
    "\n",
    "    #if we move out of bounds\n",
    "    if any(next_loc) < 0 or any(next_loc > data.shape):\n",
    "        return next_loc, direction\n",
    "    #if next loc is obstacle\n",
    "    if data[tuple(next_loc)] == \"#\":\n",
    "        turns = 0\n",
    "        while data[tuple(next_loc)] == \"#\":\n",
    "            direction = rotate_direction(direction)\n",
    "            next_loc = current_loc\n",
    "            turns += 1\n",
    "            if turns > 4: \n",
    "                raise Exception(\"STUCK!\")           \n",
    "    \n",
    "    return next_loc, direction\n",
    "\n",
    "def walk(data, start_spot):\n",
    "    guard = start_spot\n",
    "    direction = np.array([-1,0])\n",
    "    path = np.zeros(data.shape)\n",
    "    path[tuple(guard)] = 1\n",
    "    been_there = set()\n",
    "    been_there.add((tuple(guard), tuple(direction)))\n",
    "    #while guard on the map:\n",
    "    history = [[guard, direction]]\n",
    "    while all(guard > 0) and all(guard < (np.array(data.shape) - 1)):\n",
    "        path[tuple(guard)] = 1\n",
    "        next_loc, direction = step(guard, direction, data)\n",
    "        if (tuple(next_loc), tuple(direction)) in been_there:\n",
    "            return path, True\n",
    "        guard = next_loc\n",
    "        been_there.add((tuple(guard), tuple(direction)))\n",
    "    #final path update\n",
    "    path[tuple(guard)] = 1\n",
    "        \n",
    "    \n",
    "    # print(path)\n",
    "    return path, False\n",
    "    "
   ]
  },
  {
   "cell_type": "code",
   "execution_count": 24,
   "id": "baf6443a-d964-4067-ab8b-f6a297173b99",
   "metadata": {},
   "outputs": [],
   "source": [
    "#test by placing an object next to the start spot\n",
    "test_data = parse_input(test_input)\n",
    "start_spot = np.argwhere(test_data==\"^\")[0] \n",
    "object_spot =start_spot+ np.array([0,-1])\n",
    "new_map = test_data.copy()\n",
    "new_map[tuple(object_spot)] = \"#\"\n",
    "p, c = walk(new_map, start_spot)"
   ]
  },
  {
   "cell_type": "code",
   "execution_count": 25,
   "id": "a868f0cd-4726-4d7f-bfdb-e46a760a1490",
   "metadata": {},
   "outputs": [],
   "source": [
    "def place_obstructions(data):\n",
    "    #find the original path\n",
    "    start_spot = np.argwhere(data==\"^\")[0]\n",
    "    orig_path, is_cycle = walk(data, start_spot=start_spot)\n",
    "    #find inceces of the path. here we can place objects\n",
    "    places = np.argwhere(orig_path!=0)\n",
    "    good_places = 0\n",
    "    #for every place we can place an object:\n",
    "    print(len(places))\n",
    "    for place in tqdm.tqdm(places):\n",
    "        #copy the map\n",
    "        new = data.copy()\n",
    "        #place an object\n",
    "        new[tuple(place)] = \"#\"\n",
    "        #walk the path\n",
    "        p, cycle = walk(new, start_spot)\n",
    "        if cycle:\n",
    "            good_places+=1\n",
    "    return good_places\n",
    "        "
   ]
  },
  {
   "cell_type": "code",
   "execution_count": 26,
   "id": "139b9855-e70a-4c89-950c-54b2f23c39cd",
   "metadata": {},
   "outputs": [
    {
     "name": "stdout",
     "output_type": "stream",
     "text": [
      "41\n"
     ]
    },
    {
     "name": "stderr",
     "output_type": "stream",
     "text": [
      "100%|████████████████████████████████████████████████████████████████████████████████████████| 41/41 [00:00<00:00, 2154.67it/s]\n"
     ]
    },
    {
     "data": {
      "text/plain": [
       "6"
      ]
     },
     "execution_count": 26,
     "metadata": {},
     "output_type": "execute_result"
    }
   ],
   "source": [
    "test_data = parse_input(test_input)\n",
    "\n",
    "place_obstructions(test_data)"
   ]
  },
  {
   "cell_type": "code",
   "execution_count": 27,
   "id": "f7adda4b-c3b2-479b-81e6-96394faab32c",
   "metadata": {},
   "outputs": [],
   "source": [
    "data = parse_input(puzzle_input)"
   ]
  },
  {
   "cell_type": "code",
   "execution_count": null,
   "id": "e78c39ef-a1cc-441c-b700-50cd856b2b32",
   "metadata": {},
   "outputs": [
    {
     "name": "stdout",
     "output_type": "stream",
     "text": [
      "4663\n"
     ]
    },
    {
     "name": "stderr",
     "output_type": "stream",
     "text": [
      " 58%|█████████████████████████████████████████████████▊                                    | 2703/4663 [01:48<01:05, 29.85it/s]"
     ]
    }
   ],
   "source": [
    "places = place_obstructions(data)"
   ]
  },
  {
   "cell_type": "code",
   "execution_count": null,
   "id": "405baa35-e1c7-4ee7-a8e1-cb3c77130756",
   "metadata": {},
   "outputs": [],
   "source": [
    "places"
   ]
  },
  {
   "cell_type": "code",
   "execution_count": null,
   "id": "c6f36b1f-557c-4f90-bdae-7a90750081e6",
   "metadata": {},
   "outputs": [],
   "source": []
  }
 ],
 "metadata": {
  "kernelspec": {
   "display_name": "Python 3 (ipykernel)",
   "language": "python",
   "name": "python3"
  },
  "language_info": {
   "codemirror_mode": {
    "name": "ipython",
    "version": 3
   },
   "file_extension": ".py",
   "mimetype": "text/x-python",
   "name": "python",
   "nbconvert_exporter": "python",
   "pygments_lexer": "ipython3",
   "version": "3.10.12"
  }
 },
 "nbformat": 4,
 "nbformat_minor": 5
}
