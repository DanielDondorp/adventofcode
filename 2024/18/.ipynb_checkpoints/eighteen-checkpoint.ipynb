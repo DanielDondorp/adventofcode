{
 "cells": [
  {
   "cell_type": "code",
   "execution_count": 1,
   "id": "001c4af0-7f15-4f94-9273-7f53bd41870d",
   "metadata": {},
   "outputs": [],
   "source": [
    "import numpy as np"
   ]
  },
  {
   "cell_type": "code",
   "execution_count": 2,
   "id": "a9766e1d-3486-43d9-b74c-42ef777caa07",
   "metadata": {},
   "outputs": [],
   "source": [
    "dirs = {\"u\": [-1,0],\n",
    "        \"d\": [1, 0],\n",
    "        \"r\": [0, 1],\n",
    "        \"l\": [0,-1]}"
   ]
  },
  {
   "cell_type": "code",
   "execution_count": null,
   "id": "fc2be261-35ca-4a0d-8627-0532c9092490",
   "metadata": {},
   "outputs": [],
   "source": [
    "def make_stringmap(arr):\n",
    "    stringmap = []\n",
    "    for line in arr:\n",
    "        stringmap.append(\"\".join(line))\n",
    "    stringmap = \"\\n\".join(stringmap)\n",
    "    return stringmap"
   ]
  },
  {
   "cell_type": "code",
   "execution_count": null,
   "id": "8a451075-80fc-40bc-a634-ccd4e93c0da4",
   "metadata": {},
   "outputs": [],
   "source": [
    "def turn_left(direction):\n",
    "    # Define the 90-degree counterclockwise rotation matrix\n",
    "    turn_left_matrix = np.array([[0, -1], [1, 0]])\n",
    "    \n",
    "    # Multiply the direction by the rotation matrix\n",
    "    return tuple(np.dot(turn_left_matrix, direction))\n",
    "\n",
    "def turn_right(direction):\n",
    "    # Define the 90-degree clockwise rotation matrix\n",
    "    turn_right_matrix = np.array([[0, 1], [-1, 0]])\n",
    "    \n",
    "    # Multiply the direction by the rotation matrix\n",
    "    return tuple(np.dot(turn_right_matrix, direction))"
   ]
  },
  {
   "cell_type": "code",
   "execution_count": null,
   "id": "d5900f95-6b57-4165-915e-941f47e989f4",
   "metadata": {},
   "outputs": [],
   "source": [
    "def dijkstra(arr):\n",
    "    start = np.argwhere(arr == \"S\")[0]\n",
    "    visited = set()\n",
    "    q = [(0, start, [0,1])] #cost, pos, direction\n",
    "    while q:\n",
    "        cost, loc, direction = heapq.heappop(q) #retrieve the lowest cost next step from the queue for checking\n",
    "        if (tuple(loc), tuple(direction)) in visited: #if we have already been here, we are on the way back from a bad route and need to ignore the loc\n",
    "            continue #we have done this\n",
    "        if arr[loc[0], loc[1]] == \"E\": #if we stumble upon the target tile, we have found the (or at least one) lowest cost route.\n",
    "            #arrived, we return cost\n",
    "            return cost, visited\n",
    "        visited.add((tuple(loc), tuple(direction))) #we record our current position and direction\n",
    "        one_ahead = [loc[0] + direction[0], loc[1]+direction[1]] #look at the space one ahead of us:\n",
    "        if arr[one_ahead[0], one_ahead[1]] != \"#\":\n",
    "            heapq.heappush(q, (cost+1, [one_ahead[0], one_ahead[1]], direction)) #if the space one ahead of us is not a wall, it is an empty space or the end, and we need to explore it for a cost of 1\n",
    "        #we also need to explore what happens if we turn left and right, for a cost of 1000 each.\n",
    "        heapq.heappush(q, (cost+1000, loc, turn_left(direction)))\n",
    "        heapq.heappush(q, (cost+1000, loc, turn_right(direction)))"
   ]
  }
 ],
 "metadata": {
  "kernelspec": {
   "display_name": "Python 3 (ipykernel)",
   "language": "python",
   "name": "python3"
  },
  "language_info": {
   "codemirror_mode": {
    "name": "ipython",
    "version": 3
   },
   "file_extension": ".py",
   "mimetype": "text/x-python",
   "name": "python",
   "nbconvert_exporter": "python",
   "pygments_lexer": "ipython3",
   "version": "3.10.12"
  }
 },
 "nbformat": 4,
 "nbformat_minor": 5
}
