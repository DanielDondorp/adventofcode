{
 "cells": [
  {
   "cell_type": "code",
   "execution_count": 111,
   "id": "001c4af0-7f15-4f94-9273-7f53bd41870d",
   "metadata": {},
   "outputs": [],
   "source": [
    "import numpy as np\n",
    "import heapq\n",
    "import aocd"
   ]
  },
  {
   "cell_type": "code",
   "execution_count": 112,
   "id": "a9766e1d-3486-43d9-b74c-42ef777caa07",
   "metadata": {},
   "outputs": [],
   "source": [
    "dirs = {\"u\": [-1,0],\n",
    "        \"d\": [1, 0],\n",
    "        \"r\": [0, 1],\n",
    "        \"l\": [0,-1]}"
   ]
  },
  {
   "cell_type": "code",
   "execution_count": 113,
   "id": "fc2be261-35ca-4a0d-8627-0532c9092490",
   "metadata": {},
   "outputs": [],
   "source": [
    "def make_stringmap(arr):\n",
    "    stringmap = []\n",
    "    for line in arr:\n",
    "        stringmap.append(\"\".join(line))\n",
    "    stringmap = \"\\n\".join(stringmap)\n",
    "    return stringmap"
   ]
  },
  {
   "cell_type": "code",
   "execution_count": 114,
   "id": "8a451075-80fc-40bc-a634-ccd4e93c0da4",
   "metadata": {},
   "outputs": [],
   "source": [
    "def turn_left(direction):\n",
    "    # Define the 90-degree counterclockwise rotation matrix\n",
    "    turn_left_matrix = np.array([[0, -1], [1, 0]])\n",
    "    \n",
    "    # Multiply the direction by the rotation matrix\n",
    "    return tuple(np.dot(turn_left_matrix, direction))\n",
    "\n",
    "def turn_right(direction):\n",
    "    # Define the 90-degree clockwise rotation matrix\n",
    "    turn_right_matrix = np.array([[0, 1], [-1, 0]])\n",
    "    \n",
    "    # Multiply the direction by the rotation matrix\n",
    "    return tuple(np.dot(turn_right_matrix, direction))"
   ]
  },
  {
   "cell_type": "code",
   "execution_count": 115,
   "id": "ea4290b8-ff8c-4f2f-8d10-152e5591f30d",
   "metadata": {},
   "outputs": [],
   "source": [
    "test_input = \"\"\"5,4\n",
    "4,2\n",
    "4,5\n",
    "3,0\n",
    "2,1\n",
    "6,3\n",
    "2,4\n",
    "1,5\n",
    "0,6\n",
    "3,3\n",
    "2,6\n",
    "5,1\n",
    "1,2\n",
    "5,5\n",
    "2,5\n",
    "6,5\n",
    "1,4\n",
    "0,4\n",
    "6,4\n",
    "1,1\n",
    "6,1\n",
    "1,0\n",
    "0,5\n",
    "1,6\n",
    "2,0\"\"\""
   ]
  },
  {
   "cell_type": "code",
   "execution_count": 116,
   "id": "43543470-0b4a-499c-aa41-4e20c76899e3",
   "metadata": {},
   "outputs": [],
   "source": [
    "def parse_input(puzzle_input):\n",
    "    return np.array([[int(x) for x in line.split(\",\")] for line in puzzle_input.split(\"\\n\")])\n",
    "    "
   ]
  },
  {
   "cell_type": "code",
   "execution_count": 117,
   "id": "46f385a9-746a-43c4-971c-038da29ab40b",
   "metadata": {},
   "outputs": [],
   "source": [
    "eb = parse_input(test_input)"
   ]
  },
  {
   "cell_type": "code",
   "execution_count": 142,
   "id": "978be054-6c1f-4ab0-aaea-7ab5328541ba",
   "metadata": {},
   "outputs": [],
   "source": [
    "def make_map(w, h, puzzle_input, n_bytes  = 12):\n",
    "    errant_bytes = parse_input(puzzle_input)\n",
    "    m = np.full(shape = (w,h), fill_value=\".\")\n",
    "    for b in errant_bytes[:n_bytes]:\n",
    "        m[b[1], b[0]] = \"#\"\n",
    "    m[0,0] = \"S\"\n",
    "    m[w-1,h-1] = \"E\"\n",
    "    # print(make_stringmap(m))\n",
    "    m = np.pad(m, 1, mode=\"constant\", constant_values = \"#\")\n",
    "    return m"
   ]
  },
  {
   "cell_type": "code",
   "execution_count": 143,
   "id": "3ab1ebed-0b84-445a-8605-2809727dc796",
   "metadata": {},
   "outputs": [
    {
     "data": {
      "text/plain": [
       "array([['#', '#', '#', '#', '#', '#', '#', '#', '#'],\n",
       "       ['#', 'S', '.', '.', '#', '.', '.', '.', '#'],\n",
       "       ['#', '.', '.', '#', '.', '.', '#', '.', '#'],\n",
       "       ['#', '.', '.', '.', '.', '#', '.', '.', '#'],\n",
       "       ['#', '.', '.', '.', '#', '.', '.', '#', '#'],\n",
       "       ['#', '.', '.', '#', '.', '.', '#', '.', '#'],\n",
       "       ['#', '.', '#', '.', '.', '#', '.', '.', '#'],\n",
       "       ['#', '#', '.', '#', '.', '.', '.', 'E', '#'],\n",
       "       ['#', '#', '#', '#', '#', '#', '#', '#', '#']], dtype='<U1')"
      ]
     },
     "execution_count": 143,
     "metadata": {},
     "output_type": "execute_result"
    }
   ],
   "source": [
    "make_map(7,7, test_input)"
   ]
  },
  {
   "cell_type": "code",
   "execution_count": 144,
   "id": "55f8d816-2698-488e-9b55-f15f66dd3543",
   "metadata": {},
   "outputs": [],
   "source": [
    "arr = make_map(7,7, test_input)"
   ]
  },
  {
   "cell_type": "code",
   "execution_count": 145,
   "id": "d5900f95-6b57-4165-915e-941f47e989f4",
   "metadata": {},
   "outputs": [],
   "source": [
    "#alter this from day 16 to increase cost by one for a step forward, making cost length of path\n",
    "def dijkstra(arr):\n",
    "    start = np.argwhere(arr == \"S\")[0]\n",
    "    visited = set()\n",
    "    q = [(0, start, [0,1])] #cost, pos, direction\n",
    "    while q:\n",
    "        cost, loc, direction = heapq.heappop(q) #retrieve the lowest cost next step from the queue for checking\n",
    "        if (tuple(loc), tuple(direction)) in visited: #if we have already been here, we are on the way back from a bad route and need to ignore the loc\n",
    "            continue #we have done this\n",
    "        if arr[loc[0], loc[1]] == \"E\": #if we stumble upon the target tile, we have found the (or at least one) lowest cost route.\n",
    "            #arrived, we return cost\n",
    "            return cost\n",
    "        visited.add((tuple(loc), tuple(direction))) #we record our current position and direction\n",
    "        one_ahead = [loc[0] + direction[0], loc[1]+direction[1]] #look at the space one ahead of us:\n",
    "        if arr[one_ahead[0], one_ahead[1]] != \"#\":\n",
    "            heapq.heappush(q, (cost+1, [one_ahead[0], one_ahead[1]], direction)) #if the space one ahead of us is not a wall, it is an empty space or the end, and we need to explore it for a cost of 1\n",
    "        #we also need to explore what happens if we turn left and right, for a cost of 1000 each.\n",
    "        heapq.heappush(q, (cost, loc, turn_left(direction)))\n",
    "        heapq.heappush(q, (cost, loc, turn_right(direction)))"
   ]
  },
  {
   "cell_type": "code",
   "execution_count": 146,
   "id": "2b5644e8-642c-4426-a601-17d3e362ce7a",
   "metadata": {},
   "outputs": [
    {
     "name": "stdout",
     "output_type": "stream",
     "text": [
      "22\n"
     ]
    }
   ],
   "source": [
    "print(dijkstra(arr))"
   ]
  },
  {
   "cell_type": "code",
   "execution_count": 147,
   "id": "b28543a9-13c4-4f94-9edd-908d569445e3",
   "metadata": {},
   "outputs": [],
   "source": [
    "puzzle_input = aocd.get_data()"
   ]
  },
  {
   "cell_type": "code",
   "execution_count": 148,
   "id": "ec7c1076-77bf-4f13-b3d1-cf0fa1a992aa",
   "metadata": {},
   "outputs": [],
   "source": [
    "arr = make_map(71, 71, puzzle_input, n_bytes=1024)"
   ]
  },
  {
   "cell_type": "code",
   "execution_count": 149,
   "id": "c0bb0310-d5a4-4160-9473-117178272644",
   "metadata": {},
   "outputs": [
    {
     "data": {
      "text/plain": [
       "312"
      ]
     },
     "execution_count": 149,
     "metadata": {},
     "output_type": "execute_result"
    }
   ],
   "source": [
    "dijkstra(arr)"
   ]
  },
  {
   "cell_type": "code",
   "execution_count": 150,
   "id": "11a955b4-ca19-4b80-91f7-d2b96e1699c2",
   "metadata": {},
   "outputs": [],
   "source": [
    "def can_get_out(arr):\n",
    "    if dijkstra(arr):\n",
    "        return True\n",
    "    return False"
   ]
  },
  {
   "cell_type": "code",
   "execution_count": 160,
   "id": "f01fc034-7d39-4b06-b40b-f982d42afa66",
   "metadata": {},
   "outputs": [],
   "source": [
    "import tqdm"
   ]
  },
  {
   "cell_type": "code",
   "execution_count": 175,
   "id": "fe384e71-6abb-44a2-bfcb-f4dc0df6d594",
   "metadata": {},
   "outputs": [],
   "source": [
    "def brute_force(puzzle_input):\n",
    "    errant_bytes = parse_input(puzzle_input)\n",
    "    w, h = 71,71\n",
    "    for i in tqdm.tqdm(range(2000,len(errant_bytes))):\n",
    "        arr = make_map(w, h, puzzle_input, n_bytes=i)\n",
    "        if not can_get_out(arr):\n",
    "            return i-1, errant_bytes[i-1]"
   ]
  },
  {
   "cell_type": "code",
   "execution_count": 176,
   "id": "3d7fedb1-1de8-4286-919f-607f46309cf3",
   "metadata": {},
   "outputs": [
    {
     "name": "stderr",
     "output_type": "stream",
     "text": [
      " 72%|████████████████████████████████████████████████████████▌                      | 1038/1450 [01:01<00:24, 17.01it/s]\n"
     ]
    },
    {
     "data": {
      "text/plain": [
       "(3037, array([28, 26]))"
      ]
     },
     "execution_count": 176,
     "metadata": {},
     "output_type": "execute_result"
    }
   ],
   "source": [
    "brute_force(puzzle_input)"
   ]
  },
  {
   "cell_type": "code",
   "execution_count": 151,
   "id": "962277af-48ff-4e88-973d-b78cc2b4451b",
   "metadata": {},
   "outputs": [],
   "source": [
    "arr0 = make_map(7, 7, test_input, len(eb))"
   ]
  },
  {
   "cell_type": "code",
   "execution_count": 152,
   "id": "18d05b69-808f-407f-bc39-27c45981ae66",
   "metadata": {},
   "outputs": [],
   "source": [
    "arr1 = make_map(7,7, test_input, 0)"
   ]
  },
  {
   "cell_type": "code",
   "execution_count": 153,
   "id": "101304a3-c789-4b12-b68e-f1d04d5b729c",
   "metadata": {},
   "outputs": [
    {
     "data": {
      "text/plain": [
       "False"
      ]
     },
     "execution_count": 153,
     "metadata": {},
     "output_type": "execute_result"
    }
   ],
   "source": [
    "can_get_out(arr0)"
   ]
  },
  {
   "cell_type": "code",
   "execution_count": 154,
   "id": "fa683b78-cd26-41f1-90f5-f4ff8853f754",
   "metadata": {},
   "outputs": [
    {
     "data": {
      "text/plain": [
       "True"
      ]
     },
     "execution_count": 154,
     "metadata": {},
     "output_type": "execute_result"
    }
   ],
   "source": [
    "can_get_out(arr1)"
   ]
  },
  {
   "cell_type": "code",
   "execution_count": 155,
   "id": "45243272-0a49-4196-9db3-195c4fbb0016",
   "metadata": {},
   "outputs": [
    {
     "data": {
      "text/plain": [
       "3"
      ]
     },
     "execution_count": 155,
     "metadata": {},
     "output_type": "execute_result"
    }
   ],
   "source": [
    "7//2"
   ]
  },
  {
   "cell_type": "code",
   "execution_count": 156,
   "id": "a7c0959f-5461-476c-89bb-f6710fe91e4b",
   "metadata": {},
   "outputs": [],
   "source": [
    "def find_if_exit(puzzle_input, test = True):\n",
    "    errant_bytes = parse_input(puzzle_input)\n",
    "    if test:\n",
    "        w, h = 7,7\n",
    "    else:\n",
    "        w,h = 71, 71\n",
    "    n_bytes = len(errant_bytes)\n",
    "    arr0 = make_map(w, h, puzzle_input, n_bytes=0)\n",
    "    arr1 = make_map(w, h, puzzle_input, n_bytes=n_bytes)\n",
    "    lower_bound, lower_bound_check = (0, can_get_out(arr0))\n",
    "    upper_bound, upper_bound_check = (n_bytes, can_get_out(arr1))\n",
    "    while True:\n",
    "        #find next index:\n",
    "        if lower_bound_check != upper_bound_check:\n",
    "            if upper_bound-lower_bound==1:\n",
    "                if upper_bound_check:\n",
    "                    return errant_bytes[upper_bound]\n",
    "                else:\n",
    "                    return errant_bytes[lower_bound]\n",
    "            if upper_bound\n",
    "    \n",
    "    \n",
    "    return prev_check, next_check\n",
    "    \n",
    "    \n",
    "    "
   ]
  },
  {
   "cell_type": "code",
   "execution_count": 157,
   "id": "fa7b259b-3105-4fc1-9cb0-2a6b9a04f493",
   "metadata": {},
   "outputs": [
    {
     "data": {
      "text/plain": [
       "((0, True), (25, False))"
      ]
     },
     "execution_count": 157,
     "metadata": {},
     "output_type": "execute_result"
    }
   ],
   "source": [
    "find_if_exit(test_input)"
   ]
  },
  {
   "cell_type": "code",
   "execution_count": null,
   "id": "4a584d2d-7e65-4592-8365-47ee819c1422",
   "metadata": {},
   "outputs": [],
   "source": []
  }
 ],
 "metadata": {
  "kernelspec": {
   "display_name": "Python 3 (ipykernel)",
   "language": "python",
   "name": "python3"
  },
  "language_info": {
   "codemirror_mode": {
    "name": "ipython",
    "version": 3
   },
   "file_extension": ".py",
   "mimetype": "text/x-python",
   "name": "python",
   "nbconvert_exporter": "python",
   "pygments_lexer": "ipython3",
   "version": "3.10.12"
  }
 },
 "nbformat": 4,
 "nbformat_minor": 5
}
