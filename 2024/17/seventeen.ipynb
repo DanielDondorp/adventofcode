{
 "cells": [
  {
   "cell_type": "code",
   "execution_count": 1,
   "id": "3f44ba6d-011d-4406-bce9-96f887d1bc3e",
   "metadata": {},
   "outputs": [],
   "source": [
    "import numpy as np\n",
    "import re\n",
    "import aocd"
   ]
  },
  {
   "cell_type": "code",
   "execution_count": 2,
   "id": "7ec464f8-2673-4a42-9092-0706ff41dc54",
   "metadata": {},
   "outputs": [],
   "source": [
    "test_input = \"\"\"Register A: 729\n",
    "Register B: 0\n",
    "Register C: 0\n",
    "\n",
    "Program: 0,1,5,4,3,0\"\"\""
   ]
  },
  {
   "cell_type": "code",
   "execution_count": 3,
   "id": "ed8f8ef6-29f2-454a-a767-cba466bfa451",
   "metadata": {},
   "outputs": [],
   "source": [
    "def parse_input(puzzle_input):\n",
    "    numbers = [int(x) for x in re.findall(r'\\b\\d+\\b', puzzle_input)]\n",
    "    A = numbers[0]\n",
    "    B = numbers[1]\n",
    "    C = numbers[2]\n",
    "    program = numbers[3:]\n",
    "    return A, B, C, program"
   ]
  },
  {
   "cell_type": "code",
   "execution_count": 4,
   "id": "182c3bf7-53e2-4cca-be44-f5f034a86e09",
   "metadata": {},
   "outputs": [
    {
     "data": {
      "text/plain": [
       "(729, 0, 0, [0, 1, 5, 4, 3, 0])"
      ]
     },
     "execution_count": 4,
     "metadata": {},
     "output_type": "execute_result"
    }
   ],
   "source": [
    "parse_input(test_input)"
   ]
  },
  {
   "cell_type": "code",
   "execution_count": 5,
   "id": "929f3e6b-90f7-4bcf-80c8-8a28632b6ef5",
   "metadata": {},
   "outputs": [],
   "source": [
    "def run_program(puzzle_input):\n",
    "    A, B, C, program = parse_input(puzzle_input)\n",
    "    instruction_pointer = 0\n",
    "    outputs = []\n",
    "    old_instruction_pointers = []\n",
    "    print(f\"#INITIAL STATE# \\n {program=}, {len(program)=}, {instruction_pointer}, {A=}, {B=}, {C=}\")\n",
    "    steps = 0\n",
    "\n",
    "    \n",
    "    while instruction_pointer < len(program):\n",
    "        # old_instruction_pointers.append(instruction_pointer)\n",
    "        # if len(old_instruction_pointers) >= 10: #implement some sort of recursion depth\n",
    "        #     old_instruction_pointers = old_instruction_pointers[:-100000]\n",
    "        #     if len(np.unique(old_instruction_pointers)) == len(old_instruction_pointers):\n",
    "        #         print(f\"Recursion depth of 10 reached on {opcode, operand} at ip {instruction_pointer}, {A=}, {B=}, {C=} after {steps} steps\")\n",
    "        #         break\n",
    "        \n",
    "        opcode, operand = program[instruction_pointer: instruction_pointer+2]\n",
    "        # print(f\"Running code {opcode, operand} at ip {instruction_pointer}, {A=}, {B=}, {C=}\")\n",
    "        match operand:\n",
    "            case operand if operand <= 3:\n",
    "                combo_operand = operand\n",
    "            case 4:\n",
    "                combo_operand = A\n",
    "            case 5:\n",
    "                combo_operand = B\n",
    "            case 6:\n",
    "                combo_operand = C\n",
    "            case 7:\n",
    "                raise Exception(\"Invalid operand!\")\n",
    "        #run the code\n",
    "        match opcode:\n",
    "            case 0:\n",
    "                #division\n",
    "                A = A// (2**combo_operand)\n",
    "                instruction_pointer += 2\n",
    "            case 1:\n",
    "                B = np.bitwise_xor(B, operand)\n",
    "                instruction_pointer += 2\n",
    "            case 2:\n",
    "                B = combo_operand%8\n",
    "                instruction_pointer+=2\n",
    "            case 3:\n",
    "                if A != 0:\n",
    "                    instruction_pointer = operand\n",
    "                else:\n",
    "                    instruction_pointer+=2\n",
    "            case 4:\n",
    "                B = np.bitwise_xor(B, C)\n",
    "                instruction_pointer+=2\n",
    "            case 5:\n",
    "                outputs.append(combo_operand%8)\n",
    "                instruction_pointer+=2\n",
    "            case 6:\n",
    "                B = A// (2**combo_operand)\n",
    "                instruction_pointer += 2\n",
    "            case 7:\n",
    "                C = A// (2**combo_operand)\n",
    "                instruction_pointer += 2\n",
    "        steps+=1\n",
    "    return \",\".join([str(output) for output in outputs])\n",
    "                \n",
    "                \n",
    "                \n",
    "        \n",
    "        "
   ]
  },
  {
   "cell_type": "code",
   "execution_count": 6,
   "id": "c1c70739-3d73-4531-9668-9f4549da0c66",
   "metadata": {},
   "outputs": [
    {
     "name": "stdout",
     "output_type": "stream",
     "text": [
      "#INITIAL STATE# \n",
      " program=[2, 6], len(program)=2, 0, A=0, B=0, C=9\n"
     ]
    },
    {
     "data": {
      "text/plain": [
       "''"
      ]
     },
     "execution_count": 6,
     "metadata": {},
     "output_type": "execute_result"
    }
   ],
   "source": [
    "test_program1 = \"\"\"Register A: 0\n",
    "Register B: 0\n",
    "Register C: 9\n",
    "\n",
    "Program: 2,6\"\"\"\n",
    "run_program(test_program1)"
   ]
  },
  {
   "cell_type": "code",
   "execution_count": 7,
   "id": "e1f78e79-3d6f-41de-88c9-9bd1ffc22c2e",
   "metadata": {},
   "outputs": [
    {
     "name": "stdout",
     "output_type": "stream",
     "text": [
      "#INITIAL STATE# \n",
      " program=[0, 1, 5, 4, 3, 0], len(program)=6, 0, A=729, B=0, C=0\n"
     ]
    },
    {
     "data": {
      "text/plain": [
       "'4,6,3,5,6,3,5,2,1,0'"
      ]
     },
     "execution_count": 7,
     "metadata": {},
     "output_type": "execute_result"
    }
   ],
   "source": [
    "run_program(test_input)"
   ]
  },
  {
   "cell_type": "code",
   "execution_count": 8,
   "id": "5f00928f-81ec-41e5-a53a-5e8de845b84c",
   "metadata": {},
   "outputs": [],
   "source": [
    "puzzle_input = aocd.get_data()"
   ]
  },
  {
   "cell_type": "code",
   "execution_count": 9,
   "id": "29432e41-1f06-4a80-b5a2-3857daadebb1",
   "metadata": {},
   "outputs": [
    {
     "name": "stdout",
     "output_type": "stream",
     "text": [
      "Register A: 30118712\n",
      "Register B: 0\n",
      "Register C: 0\n",
      "\n",
      "Program: 2,4,1,3,7,5,4,2,0,3,1,5,5,5,3,0\n"
     ]
    }
   ],
   "source": [
    "print(puzzle_input)"
   ]
  },
  {
   "cell_type": "code",
   "execution_count": 10,
   "id": "75b912bd-0581-4495-b991-82e906635ae4",
   "metadata": {
    "scrolled": true
   },
   "outputs": [
    {
     "name": "stdout",
     "output_type": "stream",
     "text": [
      "#INITIAL STATE# \n",
      " program=[2, 4, 1, 3, 7, 5, 4, 2, 0, 3, 1, 5, 5, 5, 3, 0], len(program)=16, 0, A=30118712, B=0, C=0\n",
      "1,7,6,5,1,0,5,0,7\n"
     ]
    }
   ],
   "source": [
    "outputs = run_program(puzzle_input)\n",
    "print(outputs)"
   ]
  },
  {
   "cell_type": "markdown",
   "id": "ff855af9-193e-4735-9111-dfe26c67e695",
   "metadata": {},
   "source": [
    "### part 2\n"
   ]
  },
  {
   "cell_type": "code",
   "execution_count": 85,
   "id": "3d6e4f88-20a9-4034-ba50-75d4e845905a",
   "metadata": {},
   "outputs": [],
   "source": [
    "#change program to accept a separate value for A\n",
    "def run_program(puzzle_input, A, logging = False):\n",
    "    _, B, C, program = parse_input(puzzle_input)\n",
    "    instruction_pointer = 0\n",
    "    outputs = []\n",
    "    old_instruction_pointers = []\n",
    "    # print(f\"#INITIAL STATE# \\n {program=}, {len(program)=}, {instruction_pointer}, {A=}, {B=}, {C=}\")\n",
    "    steps = 0\n",
    "\n",
    "    \n",
    "    while instruction_pointer < len(program):\n",
    "        # old_instruction_pointers.append(instruction_pointer)\n",
    "        # if len(old_instruction_pointers) >= 10: #implement some sort of recursion depth\n",
    "        #     old_instruction_pointers = old_instruction_pointers[:-100000]\n",
    "        #     if len(np.unique(old_instruction_pointers)) == len(old_instruction_pointers):\n",
    "        #         print(f\"Recursion depth of 10 reached on {opcode, operand} at ip {instruction_pointer}, {A=}, {B=}, {C=} after {steps} steps\")\n",
    "        #         break\n",
    "        \n",
    "        opcode, operand = program[instruction_pointer: instruction_pointer+2]\n",
    "        if logging:\n",
    "            print(f\"Running code {opcode, operand} at ip {instruction_pointer}, {A=}, {B=}, {C=}, {outputs=} \")\n",
    "        match operand:\n",
    "            case operand if operand <= 3:\n",
    "                combo_operand = operand\n",
    "            case 4:\n",
    "                combo_operand = A\n",
    "            case 5:\n",
    "                combo_operand = B\n",
    "            case 6:\n",
    "                combo_operand = C\n",
    "            case 7:\n",
    "                raise Exception(\"Invalid operand!\")\n",
    "        #run the code\n",
    "        match opcode:\n",
    "            case 0:\n",
    "                #division\n",
    "                # A = A// (2**combo_operand)\n",
    "                A = A>>combo_operand\n",
    "                instruction_pointer += 2\n",
    "            case 1:\n",
    "                B = np.bitwise_xor(B, operand)\n",
    "                instruction_pointer += 2\n",
    "            case 2:\n",
    "                B = combo_operand%8\n",
    "                instruction_pointer+=2\n",
    "            case 3:\n",
    "                if A != 0:\n",
    "                    instruction_pointer = operand\n",
    "                else:\n",
    "                    instruction_pointer+=2\n",
    "            case 4:\n",
    "                B = np.bitwise_xor(B, C)\n",
    "                instruction_pointer+=2\n",
    "            case 5:\n",
    "                outputs.append(combo_operand%8)\n",
    "                instruction_pointer+=2\n",
    "            case 6:\n",
    "                # B = A// (2**combo_operand)\n",
    "                B = A>>combo_operand\n",
    "                instruction_pointer += 2\n",
    "            case 7:\n",
    "                C = A>>combo_operand\n",
    "                instruction_pointer += 2\n",
    "        steps+=1\n",
    "    return \",\".join([str(output) for output in outputs])\n",
    "                "
   ]
  },
  {
   "cell_type": "code",
   "execution_count": 86,
   "id": "437ed8c0-ad8b-44f7-844f-e1243e76ed33",
   "metadata": {},
   "outputs": [],
   "source": [
    "test_input = \"\"\"Register A: 2024\n",
    "Register B: 0\n",
    "Register C: 0\n",
    "\n",
    "Program: 0,3,5,4,3,0\"\"\""
   ]
  },
  {
   "cell_type": "code",
   "execution_count": 87,
   "id": "c0a14e5d-8045-4e37-b45c-a2bf3b5f4285",
   "metadata": {},
   "outputs": [],
   "source": [
    "#so what happens with A? "
   ]
  },
  {
   "cell_type": "code",
   "execution_count": 88,
   "id": "002a6502-3fb3-4196-ad80-eceb1b9ffa02",
   "metadata": {},
   "outputs": [
    {
     "name": "stdout",
     "output_type": "stream",
     "text": [
      "Running code (0, 3) at ip 0, A=2024, B=0, C=0, outputs=[] \n",
      "Running code (5, 4) at ip 2, A=253, B=0, C=0, outputs=[] \n",
      "Running code (3, 0) at ip 4, A=253, B=0, C=0, outputs=[5] \n",
      "Running code (0, 3) at ip 0, A=253, B=0, C=0, outputs=[5] \n",
      "Running code (5, 4) at ip 2, A=31, B=0, C=0, outputs=[5] \n",
      "Running code (3, 0) at ip 4, A=31, B=0, C=0, outputs=[5, 7] \n",
      "Running code (0, 3) at ip 0, A=31, B=0, C=0, outputs=[5, 7] \n",
      "Running code (5, 4) at ip 2, A=3, B=0, C=0, outputs=[5, 7] \n",
      "Running code (3, 0) at ip 4, A=3, B=0, C=0, outputs=[5, 7, 3] \n",
      "Running code (0, 3) at ip 0, A=3, B=0, C=0, outputs=[5, 7, 3] \n",
      "Running code (5, 4) at ip 2, A=0, B=0, C=0, outputs=[5, 7, 3] \n",
      "Running code (3, 0) at ip 4, A=0, B=0, C=0, outputs=[5, 7, 3, 0] \n"
     ]
    },
    {
     "data": {
      "text/plain": [
       "'5,7,3,0'"
      ]
     },
     "execution_count": 88,
     "metadata": {},
     "output_type": "execute_result"
    }
   ],
   "source": [
    "run_program(test_input, 2024, logging = True)"
   ]
  },
  {
   "cell_type": "code",
   "execution_count": 89,
   "id": "7307256b-9b81-40e5-a0ba-b4fb82029ef6",
   "metadata": {},
   "outputs": [
    {
     "data": {
      "text/plain": [
       "31"
      ]
     },
     "execution_count": 89,
     "metadata": {},
     "output_type": "execute_result"
    }
   ],
   "source": [
    "3*8+7"
   ]
  },
  {
   "cell_type": "code",
   "execution_count": 90,
   "id": "4f2fa14c-487e-4da8-93e8-45bb0893ed93",
   "metadata": {},
   "outputs": [
    {
     "data": {
      "text/plain": [
       "253"
      ]
     },
     "execution_count": 90,
     "metadata": {},
     "output_type": "execute_result"
    }
   ],
   "source": [
    "31*8+5"
   ]
  },
  {
   "cell_type": "code",
   "execution_count": 91,
   "id": "c402590a-6855-4a98-900f-d1156d2ddfa0",
   "metadata": {},
   "outputs": [
    {
     "data": {
      "text/plain": [
       "2024"
      ]
     },
     "execution_count": 91,
     "metadata": {},
     "output_type": "execute_result"
    }
   ],
   "source": [
    "253*8"
   ]
  },
  {
   "cell_type": "code",
   "execution_count": 92,
   "id": "fab3b2f5-752b-4cfe-ad07-0772ff133383",
   "metadata": {},
   "outputs": [
    {
     "data": {
      "text/plain": [
       "'Register A: 0\\nRegister B: 0\\nRegister C: 9\\n\\nProgram: 2,6'"
      ]
     },
     "execution_count": 92,
     "metadata": {},
     "output_type": "execute_result"
    }
   ],
   "source": [
    "test_program1"
   ]
  },
  {
   "cell_type": "code",
   "execution_count": 94,
   "id": "40324dd5-7b24-406d-ab00-c184ede71829",
   "metadata": {},
   "outputs": [
    {
     "name": "stdout",
     "output_type": "stream",
     "text": [
      "Running code (2, 6) at ip 0, A=0, B=0, C=9, outputs=[] \n"
     ]
    },
    {
     "data": {
      "text/plain": [
       "''"
      ]
     },
     "execution_count": 94,
     "metadata": {},
     "output_type": "execute_result"
    }
   ],
   "source": [
    "run_program(test_program1, 0, logging=True)"
   ]
  },
  {
   "cell_type": "code",
   "execution_count": 95,
   "id": "414f374a-338b-4cba-a15c-ade7c5677f90",
   "metadata": {},
   "outputs": [],
   "source": [
    "test_program2 = \"\"\"Register A: 729\n",
    "Register B: 0\n",
    "Register C: 0\n",
    "\n",
    "Program: 0,1,5,4,3,0\"\"\""
   ]
  },
  {
   "cell_type": "code",
   "execution_count": 96,
   "id": "6cf85061-afc2-46ae-836f-26eb8213b095",
   "metadata": {},
   "outputs": [
    {
     "name": "stdout",
     "output_type": "stream",
     "text": [
      "Running code (0, 1) at ip 0, A=729, B=0, C=0, outputs=[] \n",
      "Running code (5, 4) at ip 2, A=364, B=0, C=0, outputs=[] \n",
      "Running code (3, 0) at ip 4, A=364, B=0, C=0, outputs=[4] \n",
      "Running code (0, 1) at ip 0, A=364, B=0, C=0, outputs=[4] \n",
      "Running code (5, 4) at ip 2, A=182, B=0, C=0, outputs=[4] \n",
      "Running code (3, 0) at ip 4, A=182, B=0, C=0, outputs=[4, 6] \n",
      "Running code (0, 1) at ip 0, A=182, B=0, C=0, outputs=[4, 6] \n",
      "Running code (5, 4) at ip 2, A=91, B=0, C=0, outputs=[4, 6] \n",
      "Running code (3, 0) at ip 4, A=91, B=0, C=0, outputs=[4, 6, 3] \n",
      "Running code (0, 1) at ip 0, A=91, B=0, C=0, outputs=[4, 6, 3] \n",
      "Running code (5, 4) at ip 2, A=45, B=0, C=0, outputs=[4, 6, 3] \n",
      "Running code (3, 0) at ip 4, A=45, B=0, C=0, outputs=[4, 6, 3, 5] \n",
      "Running code (0, 1) at ip 0, A=45, B=0, C=0, outputs=[4, 6, 3, 5] \n",
      "Running code (5, 4) at ip 2, A=22, B=0, C=0, outputs=[4, 6, 3, 5] \n",
      "Running code (3, 0) at ip 4, A=22, B=0, C=0, outputs=[4, 6, 3, 5, 6] \n",
      "Running code (0, 1) at ip 0, A=22, B=0, C=0, outputs=[4, 6, 3, 5, 6] \n",
      "Running code (5, 4) at ip 2, A=11, B=0, C=0, outputs=[4, 6, 3, 5, 6] \n",
      "Running code (3, 0) at ip 4, A=11, B=0, C=0, outputs=[4, 6, 3, 5, 6, 3] \n",
      "Running code (0, 1) at ip 0, A=11, B=0, C=0, outputs=[4, 6, 3, 5, 6, 3] \n",
      "Running code (5, 4) at ip 2, A=5, B=0, C=0, outputs=[4, 6, 3, 5, 6, 3] \n",
      "Running code (3, 0) at ip 4, A=5, B=0, C=0, outputs=[4, 6, 3, 5, 6, 3, 5] \n",
      "Running code (0, 1) at ip 0, A=5, B=0, C=0, outputs=[4, 6, 3, 5, 6, 3, 5] \n",
      "Running code (5, 4) at ip 2, A=2, B=0, C=0, outputs=[4, 6, 3, 5, 6, 3, 5] \n",
      "Running code (3, 0) at ip 4, A=2, B=0, C=0, outputs=[4, 6, 3, 5, 6, 3, 5, 2] \n",
      "Running code (0, 1) at ip 0, A=2, B=0, C=0, outputs=[4, 6, 3, 5, 6, 3, 5, 2] \n",
      "Running code (5, 4) at ip 2, A=1, B=0, C=0, outputs=[4, 6, 3, 5, 6, 3, 5, 2] \n",
      "Running code (3, 0) at ip 4, A=1, B=0, C=0, outputs=[4, 6, 3, 5, 6, 3, 5, 2, 1] \n",
      "Running code (0, 1) at ip 0, A=1, B=0, C=0, outputs=[4, 6, 3, 5, 6, 3, 5, 2, 1] \n",
      "Running code (5, 4) at ip 2, A=0, B=0, C=0, outputs=[4, 6, 3, 5, 6, 3, 5, 2, 1] \n",
      "Running code (3, 0) at ip 4, A=0, B=0, C=0, outputs=[4, 6, 3, 5, 6, 3, 5, 2, 1, 0] \n"
     ]
    },
    {
     "data": {
      "text/plain": [
       "'4,6,3,5,6,3,5,2,1,0'"
      ]
     },
     "execution_count": 96,
     "metadata": {},
     "output_type": "execute_result"
    }
   ],
   "source": [
    "run_program(test_program2, 729, logging=True)"
   ]
  },
  {
   "cell_type": "markdown",
   "id": "02e0e1a4-628d-4309-b94a-5106435d7482",
   "metadata": {},
   "source": [
    " Every time the instruction pointer is 0, the difference in A is a factor 8 + 0-7 in difference, and a new digit shows up in the output. that feels intuitive, but I cant quite put my finger on the why exactly. We can try if plussing helps us find outputs:"
   ]
  },
  {
   "cell_type": "code",
   "execution_count": 50,
   "id": "95aaac7f-1408-48e8-a5a0-a419b3a00681",
   "metadata": {},
   "outputs": [
    {
     "name": "stdout",
     "output_type": "stream",
     "text": [
      "25 3,0\n"
     ]
    }
   ],
   "source": [
    "#we must find the first value where A outputs [3,0]\n",
    "A = 0\n",
    "output = \"\"\n",
    "while output != \"3,0\":\n",
    "    output = run_program(test_input, A)\n",
    "    A+=1\n",
    "print(A, output)"
   ]
  },
  {
   "cell_type": "markdown",
   "id": "f9214dca-fe51-44bb-b8b0-fc9b3b89fd88",
   "metadata": {},
   "source": [
    "Maybe we can find the answer by reverse engineering the observed pattern? Add 1 to A until a new correct digit shows up and then shift A three bits to look for the next digit. If that works it is magic..."
   ]
  },
  {
   "cell_type": "code",
   "execution_count": 124,
   "id": "fc6166bd-f405-4456-beee-3aeda21a669a",
   "metadata": {},
   "outputs": [],
   "source": [
    "def find_a(puzzle_input):\n",
    "    print(puzzle_input)\n",
    "    _, B, C, program = parse_input(puzzle_input)\n",
    "    A = 0\n",
    "    matched_digits = \"x\"\n",
    "    correct_output = \",\".join([str(x) for x in program])\n",
    "    while True:\n",
    "        output = run_program(puzzle_input, A)\n",
    "        if output == correct_output:\n",
    "            return A, output, program\n",
    "        if correct_output.endswith(output) and len(output) > len(matched_digits):\n",
    "            A = A << 3\n",
    "            matched_digits = output\n",
    "        else:\n",
    "            A+=1\n",
    "    "
   ]
  },
  {
   "cell_type": "code",
   "execution_count": 126,
   "id": "96a98f91-7442-4a5d-892c-4ae0aaab8f45",
   "metadata": {},
   "outputs": [
    {
     "name": "stdout",
     "output_type": "stream",
     "text": [
      "Register A: 2024\n",
      "Register B: 0\n",
      "Register C: 0\n",
      "\n",
      "Program: 0,3,5,4,3,0\n"
     ]
    },
    {
     "data": {
      "text/plain": [
       "(117440, '0,3,5,4,3,0', [0, 3, 5, 4, 3, 0])"
      ]
     },
     "execution_count": 126,
     "metadata": {},
     "output_type": "execute_result"
    }
   ],
   "source": [
    "find_a(test_input)"
   ]
  },
  {
   "cell_type": "markdown",
   "id": "9e0e3546-f163-45a7-a71d-7326e4830ca8",
   "metadata": {},
   "source": [
    "omg that is correct"
   ]
  },
  {
   "cell_type": "code",
   "execution_count": 127,
   "id": "3192aaed-c8cb-47b1-b1a0-5bfd85fd5096",
   "metadata": {},
   "outputs": [
    {
     "name": "stdout",
     "output_type": "stream",
     "text": [
      "Register A: 30118712\n",
      "Register B: 0\n",
      "Register C: 0\n",
      "\n",
      "Program: 2,4,1,3,7,5,4,2,0,3,1,5,5,5,3,0\n"
     ]
    }
   ],
   "source": [
    "A, output, program = find_a(puzzle_input)"
   ]
  },
  {
   "cell_type": "code",
   "execution_count": 128,
   "id": "d2b105ea-90a9-49f8-a5b2-1fd9a4418f62",
   "metadata": {},
   "outputs": [
    {
     "data": {
      "text/plain": [
       "236555995274861"
      ]
     },
     "execution_count": 128,
     "metadata": {},
     "output_type": "execute_result"
    }
   ],
   "source": [
    "A"
   ]
  },
  {
   "cell_type": "code",
   "execution_count": 129,
   "id": "8f360b2a-b1fc-4f04-a8a5-46ee6cf3e0b2",
   "metadata": {},
   "outputs": [
    {
     "data": {
      "text/plain": [
       "'2,4,1,3,7,5,4,2,0,3,1,5,5,5,3,0'"
      ]
     },
     "execution_count": 129,
     "metadata": {},
     "output_type": "execute_result"
    }
   ],
   "source": [
    "output"
   ]
  },
  {
   "cell_type": "code",
   "execution_count": 130,
   "id": "42f93dd2-26eb-4622-98d6-12c665b4c4f9",
   "metadata": {},
   "outputs": [
    {
     "data": {
      "text/plain": [
       "'2,4,1,3,7,5,4,2,0,3,1,5,5,5,3,0'"
      ]
     },
     "execution_count": 130,
     "metadata": {},
     "output_type": "execute_result"
    }
   ],
   "source": [
    "\",\".join([str(x) for x in program])"
   ]
  },
  {
   "cell_type": "code",
   "execution_count": 131,
   "id": "364ece64-1655-45ca-b669-1a8fabf82882",
   "metadata": {},
   "outputs": [
    {
     "name": "stderr",
     "output_type": "stream",
     "text": [
      "answer a: 1,7,6,5,1,0,5,0,7\n",
      "submitting for part b (part a is already completed)\n"
     ]
    },
    {
     "name": "stdout",
     "output_type": "stream",
     "text": [
      "\u001b[32mThat's the right answer!  You are one gold star closer to finding the Chief Historian.You have completed Day 17! You can [Shareon\n",
      "  Bluesky\n",
      "Twitter\n",
      "Mastodon] this victory or [Return to Your Advent Calendar].\u001b[0m\n"
     ]
    },
    {
     "data": {
      "text/plain": [
       "<urllib3.response.HTTPResponse at 0x7f099ef88400>"
      ]
     },
     "execution_count": 131,
     "metadata": {},
     "output_type": "execute_result"
    }
   ],
   "source": [
    "aocd.submit(A)"
   ]
  },
  {
   "cell_type": "code",
   "execution_count": 15,
   "id": "cdbdfbc3-f695-47cc-8849-03b62531f7ee",
   "metadata": {},
   "outputs": [],
   "source": [
    "import sys"
   ]
  },
  {
   "cell_type": "code",
   "execution_count": 19,
   "id": "aa99a3c5-342a-4a7d-9756-c28c972386e0",
   "metadata": {},
   "outputs": [
    {
     "ename": "KeyboardInterrupt",
     "evalue": "",
     "output_type": "error",
     "traceback": [
      "\u001b[0;31m---------------------------------------------------------------------------\u001b[0m",
      "\u001b[0;31mKeyboardInterrupt\u001b[0m                         Traceback (most recent call last)",
      "Cell \u001b[0;32mIn[19], line 7\u001b[0m\n\u001b[1;32m      5\u001b[0m matched_digits \u001b[38;5;241m=\u001b[39m \u001b[38;5;241m0\u001b[39m\n\u001b[1;32m      6\u001b[0m \u001b[38;5;28;01mwhile\u001b[39;00m \u001b[38;5;28;01mTrue\u001b[39;00m:\n\u001b[0;32m----> 7\u001b[0m     output \u001b[38;5;241m=\u001b[39m \u001b[43mrun_program\u001b[49m\u001b[43m(\u001b[49m\u001b[43mtest_input\u001b[49m\u001b[43m,\u001b[49m\u001b[43m \u001b[49m\u001b[43mA\u001b[49m\u001b[43m)\u001b[49m\n\u001b[1;32m      8\u001b[0m     \u001b[38;5;28;01mif\u001b[39;00m output \u001b[38;5;241m==\u001b[39m correct_output:\n\u001b[1;32m      9\u001b[0m         \u001b[38;5;28mprint\u001b[39m(A)\n",
      "Cell \u001b[0;32mIn[11], line 3\u001b[0m, in \u001b[0;36mrun_program\u001b[0;34m(puzzle_input, A)\u001b[0m\n\u001b[1;32m      2\u001b[0m \u001b[38;5;28;01mdef\u001b[39;00m \u001b[38;5;21mrun_program\u001b[39m(puzzle_input, A):\n\u001b[0;32m----> 3\u001b[0m     _, B, C, program \u001b[38;5;241m=\u001b[39m \u001b[43mparse_input\u001b[49m\u001b[43m(\u001b[49m\u001b[43mpuzzle_input\u001b[49m\u001b[43m)\u001b[49m\n\u001b[1;32m      4\u001b[0m     instruction_pointer \u001b[38;5;241m=\u001b[39m \u001b[38;5;241m0\u001b[39m\n\u001b[1;32m      5\u001b[0m     outputs \u001b[38;5;241m=\u001b[39m []\n",
      "Cell \u001b[0;32mIn[3], line 2\u001b[0m, in \u001b[0;36mparse_input\u001b[0;34m(puzzle_input)\u001b[0m\n\u001b[1;32m      1\u001b[0m \u001b[38;5;28;01mdef\u001b[39;00m \u001b[38;5;21mparse_input\u001b[39m(puzzle_input):\n\u001b[0;32m----> 2\u001b[0m     numbers \u001b[38;5;241m=\u001b[39m [\u001b[38;5;28mint\u001b[39m(x) \u001b[38;5;28;01mfor\u001b[39;00m x \u001b[38;5;129;01min\u001b[39;00m \u001b[43mre\u001b[49m\u001b[38;5;241;43m.\u001b[39;49m\u001b[43mfindall\u001b[49m\u001b[43m(\u001b[49m\u001b[38;5;124;43mr\u001b[39;49m\u001b[38;5;124;43m'\u001b[39;49m\u001b[38;5;124;43m\\\u001b[39;49m\u001b[38;5;124;43mb\u001b[39;49m\u001b[38;5;124;43m\\\u001b[39;49m\u001b[38;5;124;43md+\u001b[39;49m\u001b[38;5;124;43m\\\u001b[39;49m\u001b[38;5;124;43mb\u001b[39;49m\u001b[38;5;124;43m'\u001b[39;49m\u001b[43m,\u001b[49m\u001b[43m \u001b[49m\u001b[43mpuzzle_input\u001b[49m\u001b[43m)\u001b[49m]\n\u001b[1;32m      3\u001b[0m     A \u001b[38;5;241m=\u001b[39m numbers[\u001b[38;5;241m0\u001b[39m]\n\u001b[1;32m      4\u001b[0m     B \u001b[38;5;241m=\u001b[39m numbers[\u001b[38;5;241m1\u001b[39m]\n",
      "File \u001b[0;32m/usr/lib/python3.10/re.py:240\u001b[0m, in \u001b[0;36mfindall\u001b[0;34m(pattern, string, flags)\u001b[0m\n\u001b[1;32m    232\u001b[0m \u001b[38;5;28;01mdef\u001b[39;00m \u001b[38;5;21mfindall\u001b[39m(pattern, string, flags\u001b[38;5;241m=\u001b[39m\u001b[38;5;241m0\u001b[39m):\n\u001b[1;32m    233\u001b[0m \u001b[38;5;250m    \u001b[39m\u001b[38;5;124;03m\"\"\"Return a list of all non-overlapping matches in the string.\u001b[39;00m\n\u001b[1;32m    234\u001b[0m \n\u001b[1;32m    235\u001b[0m \u001b[38;5;124;03m    If one or more capturing groups are present in the pattern, return\u001b[39;00m\n\u001b[0;32m   (...)\u001b[0m\n\u001b[1;32m    238\u001b[0m \n\u001b[1;32m    239\u001b[0m \u001b[38;5;124;03m    Empty matches are included in the result.\"\"\"\u001b[39;00m\n\u001b[0;32m--> 240\u001b[0m     \u001b[38;5;28;01mreturn\u001b[39;00m \u001b[43m_compile\u001b[49m\u001b[43m(\u001b[49m\u001b[43mpattern\u001b[49m\u001b[43m,\u001b[49m\u001b[43m \u001b[49m\u001b[43mflags\u001b[49m\u001b[43m)\u001b[49m\u001b[38;5;241;43m.\u001b[39;49m\u001b[43mfindall\u001b[49m\u001b[43m(\u001b[49m\u001b[43mstring\u001b[49m\u001b[43m)\u001b[49m\n",
      "\u001b[0;31mKeyboardInterrupt\u001b[0m: "
     ]
    }
   ],
   "source": [
    "A = 0\n",
    "correct_output = \"0,3,5,4,3,0\"\n",
    "output = \"WRONG\"\n",
    "step = 0\n",
    "matched_digits = 0\n",
    "while True:\n",
    "    output = run_program(test_input, A)\n",
    "    if output == correct_output:\n",
    "        print(A)\n",
    "        break\n",
    "    if A > 117440:\n",
    "        print(\"A too big\")\n",
    "        break\n",
    "    if not correct_output.endswith(output):\n",
    "        A+=1\n",
    "    else:\n",
    "        new_matched_digits = len(output.split(\",\"))\n",
    "        if new_matched_digits > matched_digits:\n",
    "            A = A*8\n",
    "        else: \n",
    "            A+=1\n",
    "\n"
   ]
  },
  {
   "cell_type": "code",
   "execution_count": 17,
   "id": "afcc8a00-47d7-4bf0-b474-2a8fa56b39b0",
   "metadata": {},
   "outputs": [
    {
     "data": {
      "text/plain": [
       "'3,0'"
      ]
     },
     "execution_count": 17,
     "metadata": {},
     "output_type": "execute_result"
    }
   ],
   "source": [
    "output"
   ]
  },
  {
   "cell_type": "code",
   "execution_count": 37,
   "id": "f3375fc5-569f-47a6-bc41-b8a80ea3d847",
   "metadata": {},
   "outputs": [
    {
     "data": {
      "text/plain": [
       "200"
      ]
     },
     "execution_count": 37,
     "metadata": {},
     "output_type": "execute_result"
    }
   ],
   "source": [
    "25 * 8"
   ]
  },
  {
   "cell_type": "code",
   "execution_count": 39,
   "id": "17192035-8708-4d47-980b-10d7f60cc3b8",
   "metadata": {},
   "outputs": [
    {
     "data": {
      "text/plain": [
       "200"
      ]
     },
     "execution_count": 39,
     "metadata": {},
     "output_type": "execute_result"
    }
   ],
   "source": [
    "25 << 3"
   ]
  },
  {
   "cell_type": "code",
   "execution_count": 24,
   "id": "25d1017c-7132-4502-bf92-4045b90eef09",
   "metadata": {},
   "outputs": [
    {
     "data": {
      "text/plain": [
       "28"
      ]
     },
     "execution_count": 24,
     "metadata": {},
     "output_type": "execute_result"
    }
   ],
   "source": [
    "7 << 2"
   ]
  },
  {
   "cell_type": "code",
   "execution_count": 25,
   "id": "8cd0450c-8e58-43f0-839b-1342f21d237b",
   "metadata": {},
   "outputs": [
    {
     "data": {
      "text/plain": [
       "28"
      ]
     },
     "execution_count": 25,
     "metadata": {},
     "output_type": "execute_result"
    }
   ],
   "source": [
    "7 * 2**2"
   ]
  },
  {
   "cell_type": "code",
   "execution_count": null,
   "id": "457cb170-e27f-4c32-bfbc-e3a4a5aa968a",
   "metadata": {},
   "outputs": [],
   "source": []
  }
 ],
 "metadata": {
  "kernelspec": {
   "display_name": "Python 3 (ipykernel)",
   "language": "python",
   "name": "python3"
  },
  "language_info": {
   "codemirror_mode": {
    "name": "ipython",
    "version": 3
   },
   "file_extension": ".py",
   "mimetype": "text/x-python",
   "name": "python",
   "nbconvert_exporter": "python",
   "pygments_lexer": "ipython3",
   "version": "3.10.12"
  }
 },
 "nbformat": 4,
 "nbformat_minor": 5
}
