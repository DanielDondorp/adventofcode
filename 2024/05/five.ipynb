{
 "cells": [
  {
   "cell_type": "code",
   "execution_count": 1,
   "id": "4d7f5e69-c26d-464a-a557-6db11991a298",
   "metadata": {},
   "outputs": [],
   "source": [
    "import numpy as np"
   ]
  },
  {
   "cell_type": "code",
   "execution_count": 2,
   "id": "bffdb9be-78fb-4b8a-abf9-df2af55fc0c5",
   "metadata": {},
   "outputs": [],
   "source": [
    "test_input = \"\"\"47|53\n",
    "97|13\n",
    "97|61\n",
    "97|47\n",
    "75|29\n",
    "61|13\n",
    "75|53\n",
    "29|13\n",
    "97|29\n",
    "53|29\n",
    "61|53\n",
    "97|53\n",
    "61|29\n",
    "47|13\n",
    "75|47\n",
    "97|75\n",
    "47|61\n",
    "75|61\n",
    "47|29\n",
    "75|13\n",
    "53|13\n",
    "\n",
    "75,47,61,53,29\n",
    "97,61,53,29,13\n",
    "75,29,13\n",
    "75,97,47,61,53\n",
    "61,13,29\n",
    "97,13,75,29,47\"\"\""
   ]
  },
  {
   "cell_type": "code",
   "execution_count": 67,
   "id": "38cc7fbc-af7a-41a9-b3d7-cd79a0c8b4fe",
   "metadata": {},
   "outputs": [],
   "source": [
    "def parse_rules(rules):\n",
    "    rules = rules.split(\"\\n\")\n",
    "    rules = [[int(x) for x in rule.split(\"|\")] for rule in rules]\n",
    "    rules_before = {}\n",
    "    rules_after = {}\n",
    "    for rule in rules:\n",
    "        if rule[0] not in rules_before.keys():\n",
    "            rules_before[rule[0]] = [rule[1]]\n",
    "        else:\n",
    "            rules_before[rule[0]].append(rule[1])\n",
    "        if rule[1] not in rules_after.keys():\n",
    "            rules_after[rule[1]] = [rule[0]]\n",
    "        else:\n",
    "            rules_after[rule[1]].append(rule[0])\n",
    "    return rules_before, rules_after, rules\n",
    "\n",
    "def parse_updates(updates):\n",
    "    return [[int(x) for x in update.split(\",\")] for update in updates.split(\"\\n\")]\n",
    "    \n",
    "def parse_input(data):\n",
    "    data = data.split(\"\\n\\n\")\n",
    "    rules = parse_rules(data[0])\n",
    "    updates = parse_updates(data[1])\n",
    "    return rules[0], rules[1], rules[2], updates\n",
    "    \n",
    "    "
   ]
  },
  {
   "cell_type": "code",
   "execution_count": 78,
   "id": "848dc97d-f18a-4894-b092-edd44a176d07",
   "metadata": {},
   "outputs": [],
   "source": [
    "test_rules_before, test_rules_after, test_rules, test_updates = parse_input(test_input)"
   ]
  },
  {
   "cell_type": "code",
   "execution_count": 70,
   "id": "7eb46bc8-753a-47ba-94d3-dd8aa8521a4a",
   "metadata": {},
   "outputs": [],
   "source": [
    "def check_update(update, rules):\n",
    "    for rule in rules:\n",
    "        if rule[0] in update and rule[1] in update:\n",
    "            if update.index(rule[0]) > update.index(rule[1]):\n",
    "                return False\n",
    "    return True"
   ]
  },
  {
   "cell_type": "code",
   "execution_count": 73,
   "id": "e1b4d741-36d1-45a9-8fdd-9d4d44caf39f",
   "metadata": {},
   "outputs": [],
   "source": [
    "def get_correct_middle_pages(updates, rules):\n",
    "    return [update[len(update)//2] for update in updates if check_update(update, rules)]"
   ]
  },
  {
   "cell_type": "code",
   "execution_count": 74,
   "id": "43f43d76-c489-4f50-acb6-74ceecfc42f8",
   "metadata": {},
   "outputs": [
    {
     "data": {
      "text/plain": [
       "[61, 53, 29]"
      ]
     },
     "execution_count": 74,
     "metadata": {},
     "output_type": "execute_result"
    }
   ],
   "source": [
    "get_correct_middle_pages(updates, rules)"
   ]
  },
  {
   "cell_type": "code",
   "execution_count": 101,
   "id": "78029cc7-b0b4-4805-9a05-97a9658c5f4f",
   "metadata": {},
   "outputs": [],
   "source": [
    "with open(\"input.txt\", \"r\") as f:\n",
    "    puzzle_input = f.read()\n",
    "    rules_before, rules_after, rules, updates = parse_input(puzzle_input)"
   ]
  },
  {
   "cell_type": "code",
   "execution_count": 102,
   "id": "546ea2c2-ed5e-48f3-80cd-ccc00387a54d",
   "metadata": {},
   "outputs": [
    {
     "data": {
      "text/plain": [
       "5064"
      ]
     },
     "execution_count": 102,
     "metadata": {},
     "output_type": "execute_result"
    }
   ],
   "source": [
    "sum(get_correct_middle_pages(updates, rules))"
   ]
  },
  {
   "cell_type": "markdown",
   "id": "5c91082e-583b-4beb-89b5-91644fe83a6a",
   "metadata": {},
   "source": [
    "I guess I never really needed my dictionaries here... just checking if all the rules are applied is good enough, but it somehow feels like this could be broken with edgecases?"
   ]
  },
  {
   "cell_type": "markdown",
   "id": "be48240d-f3ec-469b-831e-f1343ce2afdd",
   "metadata": {},
   "source": [
    "## Part two\n",
    "\n",
    "Here I think I can sort the incorrect updates using the rules as a custom key?"
   ]
  },
  {
   "cell_type": "code",
   "execution_count": 104,
   "id": "081bd044-8264-4698-a96a-57bf72b57bf4",
   "metadata": {},
   "outputs": [],
   "source": [
    "from functools import cmp_to_key"
   ]
  },
  {
   "cell_type": "code",
   "execution_count": 105,
   "id": "76336eb4-cbab-432c-a03b-635e7705fe8d",
   "metadata": {},
   "outputs": [],
   "source": [
    "def sorting_rules(i, j):\n",
    "    for rule in rules:\n",
    "        if rule == [i,j]:\n",
    "            return -1\n",
    "        elif rule == [j, i]:\n",
    "            return 1\n",
    "    return 0"
   ]
  },
  {
   "cell_type": "code",
   "execution_count": 106,
   "id": "188ecd33-663e-4ea9-8841-8afa47ac4c18",
   "metadata": {},
   "outputs": [
    {
     "name": "stdout",
     "output_type": "stream",
     "text": [
      "5152\n"
     ]
    }
   ],
   "source": [
    "middle_pages = []\n",
    "for update in updates:\n",
    "    if not check_update(update, rules):\n",
    "        correct = sorted(update, key = cmp_to_key(sorting_rules))\n",
    "        middle_pages.append(correct[len(correct)//2])\n",
    "print(sum(middle_pages))"
   ]
  }
 ],
 "metadata": {
  "kernelspec": {
   "display_name": "Python 3 (ipykernel)",
   "language": "python",
   "name": "python3"
  },
  "language_info": {
   "codemirror_mode": {
    "name": "ipython",
    "version": 3
   },
   "file_extension": ".py",
   "mimetype": "text/x-python",
   "name": "python",
   "nbconvert_exporter": "python",
   "pygments_lexer": "ipython3",
   "version": "3.10.12"
  }
 },
 "nbformat": 4,
 "nbformat_minor": 5
}
