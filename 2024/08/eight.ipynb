{
 "cells": [
  {
   "cell_type": "code",
   "execution_count": 1,
   "id": "b12fa16e-9a97-4763-9c7a-d3bf111ad7c2",
   "metadata": {},
   "outputs": [],
   "source": [
    "import numpy as np"
   ]
  },
  {
   "cell_type": "code",
   "execution_count": 2,
   "id": "6c451dfb-4860-436c-b7c7-7547e3d8fa8a",
   "metadata": {},
   "outputs": [],
   "source": [
    "test_data = \"\"\"............\n",
    "........0...\n",
    ".....0......\n",
    ".......0....\n",
    "....0.......\n",
    "......A.....\n",
    "............\n",
    "............\n",
    "........A...\n",
    ".........A..\n",
    "............\n",
    "............\"\"\""
   ]
  },
  {
   "cell_type": "code",
   "execution_count": 3,
   "id": "b6bce34f-e6b1-4cb3-b4f2-dff792362994",
   "metadata": {},
   "outputs": [],
   "source": [
    "def parse_input(data): \n",
    "    lines = data.split(\"\\n\")\n",
    "    return np.array([[x for x in line] for line in data.split(\"\\n\")])"
   ]
  },
  {
   "cell_type": "code",
   "execution_count": 4,
   "id": "fc19a093-4c7e-47a0-99d2-563f4c37e31c",
   "metadata": {},
   "outputs": [
    {
     "name": "stdout",
     "output_type": "stream",
     "text": [
      "0 0\n",
      "0 1\n",
      "0 2\n",
      "0 3\n",
      "1 1\n",
      "1 2\n",
      "1 3\n",
      "2 2\n",
      "2 3\n",
      "3 3\n"
     ]
    }
   ],
   "source": [
    "for i in range(4):\n",
    "    for j in range(i, 4):\n",
    "        print(i,j)"
   ]
  },
  {
   "cell_type": "code",
   "execution_count": 18,
   "id": "c8f692b2-abc7-4d28-aacd-d3ea54e24056",
   "metadata": {},
   "outputs": [],
   "source": [
    "def coordinates_within_bounds(coords, height, width):\n",
    "    return ((coords[:, 0] >= 0) & (coords[:, 0] < height) &\n",
    "                  (coords[:, 1] >= 0) & (coords[:, 1] <width))"
   ]
  },
  {
   "cell_type": "code",
   "execution_count": 20,
   "id": "6fad2dba-8cd1-4343-bb97-d9661dd99ca5",
   "metadata": {},
   "outputs": [
    {
     "data": {
      "text/plain": [
       "np.True_"
      ]
     },
     "execution_count": 20,
     "metadata": {},
     "output_type": "execute_result"
    }
   ],
   "source": []
  },
  {
   "cell_type": "code",
   "execution_count": 11,
   "id": "c5c72a24-85bd-42c3-9f58-9d516289dab5",
   "metadata": {},
   "outputs": [],
   "source": [
    "\n",
    "def find_antinodes(data):\n",
    "    #find unique freqs:\n",
    "    freqs = np.unique(data)\n",
    "    antinodes = []\n",
    "    for freq in freqs:\n",
    "        if freq != \".\":\n",
    "            #get locations\n",
    "            antenna_locs = np.argwhere(data == freq)\n",
    "            for i in range(len(antenna_locs)):\n",
    "                for j in range(i, len(antenna_locs)):\n",
    "                    if i != j:\n",
    "                        dist = antenna_locs[i] - antenna_locs[j]\n",
    "                        antinode_1 = antenna_locs[i] + dist\n",
    "                        antinode_2 = antenna_locs[j] - dist\n",
    "                        antinodes += [antinode_1, antinode_2]\n",
    "    antinodes = np.unique(np.vstack(antinodes), axis = 0)\n",
    "    within_bounds = antinodes[coordinates_within_bounds(antinodes, *data.shape)]\n",
    "    return len(within_bounds)\n",
    "                    "
   ]
  },
  {
   "cell_type": "code",
   "execution_count": 12,
   "id": "0ada5142-2efe-4b8d-af29-72365aa3054c",
   "metadata": {},
   "outputs": [],
   "source": [
    "with open(\"input.txt\", \"r\") as f:\n",
    "    data = f.read()\n",
    "data = parse_input(data)"
   ]
  },
  {
   "cell_type": "code",
   "execution_count": 13,
   "id": "309731fe-0479-4fed-8389-d008a00ee200",
   "metadata": {},
   "outputs": [
    {
     "data": {
      "text/plain": [
       "273"
      ]
     },
     "execution_count": 13,
     "metadata": {},
     "output_type": "execute_result"
    }
   ],
   "source": [
    "find_antinodes(data)"
   ]
  },
  {
   "cell_type": "code",
   "execution_count": 14,
   "id": "4fffc0c4-e134-486e-831d-3cf4dd18f19a",
   "metadata": {},
   "outputs": [],
   "source": [
    "test = parse_input(test_data)"
   ]
  },
  {
   "cell_type": "code",
   "execution_count": 15,
   "id": "791df0fb-a99e-4fe4-b8a6-a9966238b812",
   "metadata": {},
   "outputs": [
    {
     "data": {
      "text/plain": [
       "14"
      ]
     },
     "execution_count": 15,
     "metadata": {},
     "output_type": "execute_result"
    }
   ],
   "source": [
    "find_antinodes(test)"
   ]
  },
  {
   "cell_type": "markdown",
   "id": "63f2af09-eb01-4b4b-b688-654cd4eb31eb",
   "metadata": {},
   "source": [
    "## Part Two"
   ]
  },
  {
   "cell_type": "code",
   "execution_count": 59,
   "id": "0247d1ac-ec47-4c2d-b337-7908a85f2100",
   "metadata": {},
   "outputs": [],
   "source": [
    "def is_within_bounds(loc, h, w):\n",
    "    return 0 <= loc[0] < h and 0 <= loc[1] < w"
   ]
  },
  {
   "cell_type": "code",
   "execution_count": 80,
   "id": "7f4dfbfd-a76f-4692-b19c-5392c3fc77a4",
   "metadata": {},
   "outputs": [],
   "source": [
    "def place_antinodes(loc1, loc2, data):\n",
    "    antinodes = []\n",
    "    dist = loc1 - loc2\n",
    "    h, w = data.shape\n",
    "\n",
    "    #PLACE NODES ALSO ON ANTENNA LOCATIONS THAT CREATE THE NODES!\n",
    "    next_loc = loc1\n",
    "    while is_within_bounds(next_loc, h ,w):\n",
    "        antinodes.append(next_loc)\n",
    "        next_loc = next_loc + dist\n",
    "        \n",
    "    next_loc = loc2\n",
    "    while is_within_bounds(next_loc, h , w):\n",
    "        antinodes.append(next_loc)\n",
    "        next_loc = next_loc - dist\n",
    "\n",
    "    return antinodes\n",
    "    \n",
    "    "
   ]
  },
  {
   "cell_type": "code",
   "execution_count": 81,
   "id": "01ecdd62-f06f-456b-ad19-e8ece0b4399e",
   "metadata": {},
   "outputs": [],
   "source": [
    "def find_antinodes(data):\n",
    "    #find unique freqs:\n",
    "    freqs = np.unique(data)\n",
    "    antinodes = []\n",
    "    for freq in freqs:\n",
    "        if freq != \".\":\n",
    "            #get locations\n",
    "            antenna_locs = np.argwhere(data == freq)\n",
    "            for i in range(len(antenna_locs)):\n",
    "                for j in range(i, len(antenna_locs)):\n",
    "                    if i != j:\n",
    "                        antinodes += place_antinodes(antenna_locs[i], antenna_locs[j], data)\n",
    "    antinodes = np.unique(np.vstack(antinodes), axis = 0)\n",
    "    within_bounds = antinodes[coordinates_within_bounds(antinodes, *data.shape)]\n",
    "\n",
    "    \n",
    "\n",
    "    return within_bounds\n",
    "                    "
   ]
  },
  {
   "cell_type": "code",
   "execution_count": 82,
   "id": "f964f2a1-186f-4e9d-9f21-df5d43062e24",
   "metadata": {},
   "outputs": [],
   "source": [
    "def plot_new_map(data, within_bounds):\n",
    "    new_map = np.full(data.shape, \".\")\n",
    "    new_map[within_bounds[:,0], within_bounds[:,1]] = \"#\"\n",
    "    print(new_map)"
   ]
  },
  {
   "cell_type": "code",
   "execution_count": 83,
   "id": "ee440b5b-1b31-414e-94ae-ac317db9fa3d",
   "metadata": {},
   "outputs": [],
   "source": [
    "within_bounds = find_antinodes(test)"
   ]
  },
  {
   "cell_type": "code",
   "execution_count": 84,
   "id": "5a2b9a9f-a68f-4728-801c-fe22d8856b4a",
   "metadata": {},
   "outputs": [
    {
     "data": {
      "text/plain": [
       "34"
      ]
     },
     "execution_count": 84,
     "metadata": {},
     "output_type": "execute_result"
    }
   ],
   "source": [
    "len(within_bounds)"
   ]
  },
  {
   "cell_type": "code",
   "execution_count": 85,
   "id": "b2e0c897-3a94-4a68-b48c-963bbc46c08e",
   "metadata": {},
   "outputs": [],
   "source": [
    "within_bounds = find_antinodes(data)"
   ]
  },
  {
   "cell_type": "code",
   "execution_count": 86,
   "id": "dd771cb0-a76d-47ef-a67f-39ab8fc823a8",
   "metadata": {},
   "outputs": [
    {
     "data": {
      "text/plain": [
       "1017"
      ]
     },
     "execution_count": 86,
     "metadata": {},
     "output_type": "execute_result"
    }
   ],
   "source": [
    "len(within_bounds)"
   ]
  },
  {
   "cell_type": "code",
   "execution_count": null,
   "id": "8cf6d137-4096-40a2-831f-7cc81da029ee",
   "metadata": {},
   "outputs": [],
   "source": []
  },
  {
   "cell_type": "code",
   "execution_count": null,
   "id": "c2d59512-b641-4a42-9061-0a3e180e1d77",
   "metadata": {},
   "outputs": [],
   "source": []
  }
 ],
 "metadata": {
  "kernelspec": {
   "display_name": "Python 3 (ipykernel)",
   "language": "python",
   "name": "python3"
  },
  "language_info": {
   "codemirror_mode": {
    "name": "ipython",
    "version": 3
   },
   "file_extension": ".py",
   "mimetype": "text/x-python",
   "name": "python",
   "nbconvert_exporter": "python",
   "pygments_lexer": "ipython3",
   "version": "3.10.12"
  }
 },
 "nbformat": 4,
 "nbformat_minor": 5
}
