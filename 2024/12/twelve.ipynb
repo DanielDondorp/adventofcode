{
 "cells": [
  {
   "cell_type": "code",
   "execution_count": 436,
   "id": "b2159df4-bb24-4128-8834-a808f1fd0e87",
   "metadata": {},
   "outputs": [],
   "source": [
    "import aocd\n",
    "import numpy as np"
   ]
  },
  {
   "cell_type": "code",
   "execution_count": 437,
   "id": "4d69ce4b-d905-4999-87ae-a7cc41f0727b",
   "metadata": {},
   "outputs": [],
   "source": [
    "from skimage.measure import label, regionprops\n",
    "from scipy.ndimage import label as label2"
   ]
  },
  {
   "cell_type": "code",
   "execution_count": 438,
   "id": "721b32bb-dfa9-4e7d-80f2-cdece0ac5901",
   "metadata": {},
   "outputs": [],
   "source": [
    "test_data = \"\"\"RRRRIICCFF\n",
    "RRRRIICCCF\n",
    "VVRRRCCFFF\n",
    "VVRCCCJFFF\n",
    "VVVVCJJCFE\n",
    "VVIVCCJJEE\n",
    "VVIIICJJEE\n",
    "MIIIIIJJEE\n",
    "MIIISIJEEE\n",
    "MMMISSJEEE\"\"\""
   ]
  },
  {
   "cell_type": "code",
   "execution_count": 439,
   "id": "62f4de7f-5db8-49dc-a381-f63a9e773cea",
   "metadata": {},
   "outputs": [],
   "source": [
    "def parse_input(data): \n",
    "    data = np.array([[x for x in line] for line in data.split(\"\\n\")])\n",
    "    return data"
   ]
  },
  {
   "cell_type": "code",
   "execution_count": 440,
   "id": "ede50b49-8888-45f5-8d3b-d395ce5acb4e",
   "metadata": {},
   "outputs": [],
   "source": [
    "image = parse_input(test_data)"
   ]
  },
  {
   "cell_type": "code",
   "execution_count": 441,
   "id": "325c1edf-993b-4482-8b56-a07d1d3f2d14",
   "metadata": {},
   "outputs": [],
   "source": [
    "def make_numerical(image):\n",
    "    image2 = image.copy()\n",
    "    for i, n in enumerate(np.unique(image)):\n",
    "        image2[image == n] = i+1\n",
    "    return image2.astype(int)"
   ]
  },
  {
   "cell_type": "code",
   "execution_count": 442,
   "id": "310c7e99-cfca-4e32-be73-df7e8f0635a0",
   "metadata": {},
   "outputs": [],
   "source": [
    "def label_and_pad(image, conn = 1):\n",
    "    return(np.pad(label(image, connectivity = conn),  1, \"constant\", constant_values = [0]))\n"
   ]
  },
  {
   "cell_type": "code",
   "execution_count": 443,
   "id": "e8aa67f0-4c73-4b36-97a9-6773c2180aef",
   "metadata": {},
   "outputs": [],
   "source": [
    "nim = label_and_pad(make_numerical(image), conn = 1)"
   ]
  },
  {
   "cell_type": "code",
   "execution_count": 444,
   "id": "4354beb0-6ddd-4351-af30-ebe504cfbefc",
   "metadata": {},
   "outputs": [
    {
     "data": {
      "text/plain": [
       "array([[ 0,  0,  0,  0,  0,  0,  0,  0,  0,  0,  0,  0],\n",
       "       [ 0,  1,  1,  1,  1,  2,  2,  3,  3,  4,  4,  0],\n",
       "       [ 0,  1,  1,  1,  1,  2,  2,  3,  3,  3,  4,  0],\n",
       "       [ 0,  5,  5,  1,  1,  1,  3,  3,  4,  4,  4,  0],\n",
       "       [ 0,  5,  5,  1,  3,  3,  3,  6,  4,  4,  4,  0],\n",
       "       [ 0,  5,  5,  5,  5,  3,  6,  6,  7,  4,  8,  0],\n",
       "       [ 0,  5,  5,  9,  5,  3,  3,  6,  6,  8,  8,  0],\n",
       "       [ 0,  5,  5,  9,  9,  9,  3,  6,  6,  8,  8,  0],\n",
       "       [ 0, 10,  9,  9,  9,  9,  9,  6,  6,  8,  8,  0],\n",
       "       [ 0, 10,  9,  9,  9, 11,  9,  6,  8,  8,  8,  0],\n",
       "       [ 0, 10, 10, 10,  9, 11, 11,  6,  8,  8,  8,  0],\n",
       "       [ 0,  0,  0,  0,  0,  0,  0,  0,  0,  0,  0,  0]])"
      ]
     },
     "execution_count": 444,
     "metadata": {},
     "output_type": "execute_result"
    }
   ],
   "source": [
    "nim"
   ]
  },
  {
   "cell_type": "code",
   "execution_count": 445,
   "id": "dec98b0d-9f43-4c0b-8458-c03b23e98be0",
   "metadata": {},
   "outputs": [],
   "source": [
    "def calculate_fences(puzzle_input, conn = 1):\n",
    "    mapped = make_numerical(parse_input(puzzle_input))\n",
    "    regions = label_and_pad(mapped, conn = conn)\n",
    "    print(np.unique(regions))\n",
    "    prices_per_region = []\n",
    "    for species in np.unique(regions):\n",
    "        edges_for_region = 0\n",
    "        if species > 0:\n",
    "            locs = np.argwhere(regions == species)\n",
    "            for loc in locs:\n",
    "                loc_edges = 0\n",
    "                for d in [[-1,0],[1,0],[0,1],[0,-1]]:\n",
    "                    neighbolur = regions[loc[0]+d[0], loc[1]+d[1]]\n",
    "                    if neighbour != regions[loc[0], loc[1]]:\n",
    "                        loc_edges+=1\n",
    "                edges_for_region+= loc_edges\n",
    "            # print(f\"A region of {species} plants with price {len(locs)} * {edges_for_region} = {len(locs)*edges_for_region}\")\n",
    "                \n",
    "            prices_per_region.append(edges_for_region*len(locs))\n",
    "    return sum(prices_per_region)\n"
   ]
  },
  {
   "cell_type": "code",
   "execution_count": 446,
   "id": "6051fdef-104d-433a-a985-f95101011b73",
   "metadata": {},
   "outputs": [],
   "source": [
    "test_data2 = \"\"\"OOOOO\n",
    "OXOXO\n",
    "OOOOO\n",
    "OXOXO\n",
    "OOOOO\"\"\""
   ]
  },
  {
   "cell_type": "code",
   "execution_count": 447,
   "id": "86cea2ac-0734-4bff-a4a0-be53fb3e6c1c",
   "metadata": {},
   "outputs": [
    {
     "name": "stdout",
     "output_type": "stream",
     "text": [
      "[0 1 2 3 4 5]\n"
     ]
    },
    {
     "data": {
      "text/plain": [
       "772"
      ]
     },
     "execution_count": 447,
     "metadata": {},
     "output_type": "execute_result"
    }
   ],
   "source": [
    "calculate_fences(test_data2, conn = 1)"
   ]
  },
  {
   "cell_type": "code",
   "execution_count": 448,
   "id": "1c6a579e-8017-46ef-b413-b9fc9000b6b9",
   "metadata": {},
   "outputs": [],
   "source": [
    "test_data3 = \"\"\"AAAA\n",
    "BBCD\n",
    "BBCC\n",
    "EEEC\"\"\""
   ]
  },
  {
   "cell_type": "code",
   "execution_count": 449,
   "id": "92c96233-81d2-4504-a20a-84d09fce14d8",
   "metadata": {},
   "outputs": [
    {
     "name": "stdout",
     "output_type": "stream",
     "text": [
      "[0 1 2 3 4 5]\n"
     ]
    },
    {
     "data": {
      "text/plain": [
       "140"
      ]
     },
     "execution_count": 449,
     "metadata": {},
     "output_type": "execute_result"
    }
   ],
   "source": [
    "calculate_fences(test_data3, conn = 1)"
   ]
  },
  {
   "cell_type": "code",
   "execution_count": 450,
   "id": "9e699f32-ab8c-484d-9e1c-9531a77a89f0",
   "metadata": {},
   "outputs": [],
   "source": [
    "data = aocd.get_data(year = 2024, day = 12)"
   ]
  },
  {
   "cell_type": "code",
   "execution_count": 451,
   "id": "640e3ea3-5f99-4989-b83e-5f79d721e3d6",
   "metadata": {
    "scrolled": true
   },
   "outputs": [
    {
     "name": "stdout",
     "output_type": "stream",
     "text": [
      "[  0   1   2   3   4   5   6   7   8   9  10  11  12  13  14  15  16  17\n",
      "  18  19  20  21  22  23  24  25  26  27  28  29  30  31  32  33  34  35\n",
      "  36  37  38  39  40  41  42  43  44  45  46  47  48  49  50  51  52  53\n",
      "  54  55  56  57  58  59  60  61  62  63  64  65  66  67  68  69  70  71\n",
      "  72  73  74  75  76  77  78  79  80  81  82  83  84  85  86  87  88  89\n",
      "  90  91  92  93  94  95  96  97  98  99 100 101 102 103 104 105 106 107\n",
      " 108 109 110 111 112 113 114 115 116 117 118 119 120 121 122 123 124 125\n",
      " 126 127 128 129 130 131 132 133 134 135 136 137 138 139 140 141 142 143\n",
      " 144 145 146 147 148 149 150 151 152 153 154 155 156 157 158 159 160 161\n",
      " 162 163 164 165 166 167 168 169 170 171 172 173 174 175 176 177 178 179\n",
      " 180 181 182 183 184 185 186 187 188 189 190 191 192 193 194 195 196 197\n",
      " 198 199 200 201 202 203 204 205 206 207 208 209 210 211 212 213 214 215\n",
      " 216 217 218 219 220 221 222 223 224 225 226 227 228 229 230 231 232 233\n",
      " 234 235 236 237 238 239 240 241 242 243 244 245 246 247 248 249 250 251\n",
      " 252 253 254 255 256 257 258 259 260 261 262 263 264 265 266 267 268 269\n",
      " 270 271 272 273 274 275 276 277 278 279 280 281 282 283 284 285 286 287\n",
      " 288 289 290 291 292 293 294 295 296 297 298 299 300 301 302 303 304 305\n",
      " 306 307 308 309 310 311 312 313 314 315 316 317 318 319 320 321 322]\n"
     ]
    }
   ],
   "source": [
    "price = calculate_fences(data, conn = 1)"
   ]
  },
  {
   "cell_type": "code",
   "execution_count": 435,
   "id": "0b0b3074-a69f-4964-ac15-3e057ca32385",
   "metadata": {},
   "outputs": [
    {
     "data": {
      "text/plain": [
       "6172928"
      ]
     },
     "execution_count": 435,
     "metadata": {},
     "output_type": "execute_result"
    }
   ],
   "source": [
    "price"
   ]
  },
  {
   "cell_type": "code",
   "execution_count": 332,
   "id": "b9fa54a8-6ae9-40fc-9a91-e9914f92b78e",
   "metadata": {},
   "outputs": [],
   "source": [
    "TEST = np.array([[1,1,0,0],[1,1,0,0],[0,0,1,1],[0,0,1,1]])"
   ]
  },
  {
   "cell_type": "code",
   "execution_count": 333,
   "id": "5b4bd86d-66e9-437c-8bd1-4e3786245fea",
   "metadata": {},
   "outputs": [
    {
     "data": {
      "text/plain": [
       "array([[0, 0, 0, 0, 0, 0],\n",
       "       [0, 1, 1, 0, 0, 0],\n",
       "       [0, 1, 1, 0, 0, 0],\n",
       "       [0, 0, 0, 2, 2, 0],\n",
       "       [0, 0, 0, 2, 2, 0],\n",
       "       [0, 0, 0, 0, 0, 0]])"
      ]
     },
     "execution_count": 333,
     "metadata": {},
     "output_type": "execute_result"
    }
   ],
   "source": [
    "label_and_pad(TEST)"
   ]
  },
  {
   "cell_type": "code",
   "execution_count": 334,
   "id": "bdec315f-6589-4187-a0e0-a09e669a206c",
   "metadata": {},
   "outputs": [],
   "source": [
    "test2 = np.array([[1,0,1],[0,1,0],[1,0,1]])"
   ]
  },
  {
   "cell_type": "code",
   "execution_count": 335,
   "id": "365a0273-8892-41fb-bd32-6d21ab94ff7d",
   "metadata": {},
   "outputs": [],
   "source": [
    "test2=\"\"\"ABBBA\n",
    "BABAB\n",
    "BBABB\n",
    "BABAB\n",
    "ABBBA\"\"\""
   ]
  },
  {
   "cell_type": "code",
   "execution_count": 336,
   "id": "e3a74b4c-aeb0-471c-8703-a45dfb3bfa87",
   "metadata": {},
   "outputs": [
    {
     "data": {
      "text/plain": [
       "196"
      ]
     },
     "execution_count": 336,
     "metadata": {},
     "output_type": "execute_result"
    }
   ],
   "source": [
    "calculate_fences(test2, conn = 1)"
   ]
  },
  {
   "cell_type": "code",
   "execution_count": 337,
   "id": "aecc5776-a7ea-423c-8995-37f2025a498f",
   "metadata": {},
   "outputs": [],
   "source": [
    "data = aocd.get_data(year = 2024, day = 12)"
   ]
  },
  {
   "cell_type": "code",
   "execution_count": 338,
   "id": "9dfc1635-d4ba-414f-8161-32743c834f21",
   "metadata": {
    "scrolled": true
   },
   "outputs": [
    {
     "data": {
      "text/plain": [
       "6172928"
      ]
     },
     "execution_count": 338,
     "metadata": {},
     "output_type": "execute_result"
    }
   ],
   "source": [
    "calculate_fences(data, conn = 1)"
   ]
  },
  {
   "cell_type": "markdown",
   "id": "9edb2c46-b6ff-489f-9111-94e42a4d9f05",
   "metadata": {},
   "source": [
    "This is somehow too high? Also with fixed connectivity? I dont understand it at all and need to implement it from scratch. Maybe with even more image analysis approach? Simple kernels to find edges by concolving?"
   ]
  },
  {
   "cell_type": "code",
   "execution_count": 390,
   "id": "eb3a7eba-e760-458f-a7cd-b94363eb61dd",
   "metadata": {},
   "outputs": [],
   "source": [
    "full_map = parse_input(test_data)"
   ]
  },
  {
   "cell_type": "code",
   "execution_count": 391,
   "id": "03cea6c5-73f6-4ccc-88ab-a106dac3604d",
   "metadata": {},
   "outputs": [],
   "source": [
    "from scipy.signal import convolve2d\n",
    "from scipy.ndimage import label"
   ]
  },
  {
   "cell_type": "code",
   "execution_count": 392,
   "id": "55754cd4-a880-47d5-bf72-9074ffe73e05",
   "metadata": {},
   "outputs": [],
   "source": [
    "def calculate_fence_conv(puzzle_input):\n",
    "    full_map = parse_input(puzzle_input)\n",
    "    fence_price = 0\n",
    "    for garden_map, n_regions in [label(full_map == plant) for plant in np.unique(full_map)]:\n",
    "        for region in range(1, n_regions+1):\n",
    "            garden = (garden_map == region)\n",
    "            horizontal_edges = np.abs(convolve2d(garden, [[1, -1]]))\n",
    "            vertical_edges = np.abs(convolve2d(garden, [[1], [-1]]))\n",
    "            fence_price+= garden.sum() * (horizontal_edges.sum() + vertical_edges.sum())\n",
    "    return fence_price"
   ]
  },
  {
   "cell_type": "code",
   "execution_count": 393,
   "id": "5b3b42ab-89f0-4251-83eb-de9ceabddbfb",
   "metadata": {},
   "outputs": [
    {
     "data": {
      "text/plain": [
       "np.int64(1396298)"
      ]
     },
     "execution_count": 393,
     "metadata": {},
     "output_type": "execute_result"
    }
   ],
   "source": [
    "fence_price"
   ]
  },
  {
   "cell_type": "code",
   "execution_count": 394,
   "id": "58080aee-27c9-463b-8513-2b8f02452446",
   "metadata": {},
   "outputs": [],
   "source": [
    "fence_price = calculate_fence_conv(data)"
   ]
  },
  {
   "cell_type": "code",
   "execution_count": 395,
   "id": "600495cc-55a8-46fb-9e4d-0e4c104d5a2f",
   "metadata": {},
   "outputs": [
    {
     "data": {
      "text/plain": [
       "np.int64(1396298)"
      ]
     },
     "execution_count": 395,
     "metadata": {},
     "output_type": "execute_result"
    }
   ],
   "source": [
    "fence_price"
   ]
  },
  {
   "cell_type": "code",
   "execution_count": 396,
   "id": "6808abf1-6ae9-40c2-b326-6ddb2405f486",
   "metadata": {},
   "outputs": [
    {
     "name": "stderr",
     "output_type": "stream",
     "text": [
      "answer a: 1396298\n",
      "submitting for part b (part a is already completed)\n",
      "coerced int64 value np.int64(1396298) for 2024/12 to '1396298'\n"
     ]
    },
    {
     "name": "stdout",
     "output_type": "stream",
     "text": [
      "aocd will not submit that answer. At 2024-12-12 13:14:18.270441-05:00 you've previously submitted 853588 and the server responded with:\n",
      "\u001b[32mThat's the right answer!  You are one gold star closer to finding the Chief Historian.You have completed Day 12! You can [Shareon\n",
      "  Bluesky\n",
      "Twitter\n",
      "Mastodon] this victory or [Return to Your Advent Calendar].\u001b[0m\n",
      "It is certain that '1396298' is incorrect, because '1396298' != '853588'.\n"
     ]
    }
   ],
   "source": [
    "# aocd.submit(fence_price)"
   ]
  },
  {
   "cell_type": "markdown",
   "id": "350c01cd-1c3d-47d9-bf9d-a6cff9543936",
   "metadata": {},
   "source": [
    "for part two we need to find corners. Corner Kernel?"
   ]
  },
  {
   "cell_type": "code",
   "execution_count": 416,
   "id": "5f0a89ea-519b-4e48-ba44-fe2a2d816d63",
   "metadata": {},
   "outputs": [],
   "source": [
    "kernel = np.array([[1,-1], [-1, 1]])"
   ]
  },
  {
   "cell_type": "code",
   "execution_count": 417,
   "id": "20f92c6f-262f-44b0-a8c3-1ed38ff743b8",
   "metadata": {},
   "outputs": [
    {
     "data": {
      "text/plain": [
       "array([[ 1, -1],\n",
       "       [-1,  1]])"
      ]
     },
     "execution_count": 417,
     "metadata": {},
     "output_type": "execute_result"
    }
   ],
   "source": [
    "kernel"
   ]
  },
  {
   "cell_type": "code",
   "execution_count": 418,
   "id": "c46dc508-a91c-4d8a-af97-6cc426cf654e",
   "metadata": {},
   "outputs": [],
   "source": [
    "r = np.array([[0,0,0,0],[0,1,1,1],[0,0,1,1],[0,0,0,1]])"
   ]
  },
  {
   "cell_type": "code",
   "execution_count": 419,
   "id": "bd96d0ae-8f4b-448f-a7ad-910a4a34f237",
   "metadata": {},
   "outputs": [
    {
     "data": {
      "text/plain": [
       "array([[0, 0, 0, 0],\n",
       "       [0, 1, 1, 1],\n",
       "       [0, 0, 1, 1],\n",
       "       [0, 0, 0, 1]])"
      ]
     },
     "execution_count": 419,
     "metadata": {},
     "output_type": "execute_result"
    }
   ],
   "source": [
    "r #weird 8 corner shape"
   ]
  },
  {
   "cell_type": "code",
   "execution_count": 420,
   "id": "0890394b-3b1a-4f11-a1ba-4257e2fa7849",
   "metadata": {},
   "outputs": [
    {
     "data": {
      "text/plain": [
       "array([[0, 0],\n",
       "       [0, 1]])"
      ]
     },
     "execution_count": 420,
     "metadata": {},
     "output_type": "execute_result"
    }
   ],
   "source": [
    "r[:2, :2] * kernel"
   ]
  },
  {
   "cell_type": "code",
   "execution_count": 421,
   "id": "8828349d-f539-427a-af82-876a2716d842",
   "metadata": {},
   "outputs": [
    {
     "data": {
      "text/plain": [
       "array([[ 1, -1],\n",
       "       [ 0,  1]])"
      ]
     },
     "execution_count": 421,
     "metadata": {},
     "output_type": "execute_result"
    }
   ],
   "source": [
    "r[2:, 2:] * kernel"
   ]
  },
  {
   "cell_type": "code",
   "execution_count": 422,
   "id": "acc60bdf-b30e-4729-9639-43e3d1ee61de",
   "metadata": {},
   "outputs": [
    {
     "data": {
      "text/plain": [
       "np.int64(8)"
      ]
     },
     "execution_count": 422,
     "metadata": {},
     "output_type": "execute_result"
    }
   ],
   "source": [
    "np.abs(convolve2d(r, kernel)).sum()"
   ]
  },
  {
   "cell_type": "code",
   "execution_count": 423,
   "id": "b285b78b-0357-443c-bbe7-811cf669ae10",
   "metadata": {},
   "outputs": [],
   "source": [
    "def calculate_fence_conv(puzzle_input):\n",
    "    full_map = parse_input(puzzle_input)\n",
    "    fence_price = 0\n",
    "    for garden_map, n_regions in [label(full_map == plant) for plant in np.unique(full_map)]:\n",
    "        for region in range(1, n_regions+1):\n",
    "            garden = (garden_map == region)\n",
    "            # horizontal_edges = np.abs(convolve2d(garden, [[1, -1]]))\n",
    "            # vertical_edges = np.abs(convolve2d(garden, [[1], [-1]]))\n",
    "            corner = np.abs(convolve2d(garden, [[-1, 1], [1, -1]]))\n",
    "            fence_price+= garden.sum() * (corner.sum())\n",
    "    return fence_price"
   ]
  },
  {
   "cell_type": "code",
   "execution_count": 427,
   "id": "dd36be56-0ff3-4cbd-9067-d3b2914f1031",
   "metadata": {},
   "outputs": [
    {
     "ename": "AttributeError",
     "evalue": "'numpy.ndarray' object has no attribute 'split'",
     "output_type": "error",
     "traceback": [
      "\u001b[0;31m---------------------------------------------------------------------------\u001b[0m",
      "\u001b[0;31mAttributeError\u001b[0m                            Traceback (most recent call last)",
      "Cell \u001b[0;32mIn[427], line 1\u001b[0m\n\u001b[0;32m----> 1\u001b[0m \u001b[43mcalculate_fence_conv\u001b[49m\u001b[43m(\u001b[49m\u001b[43mr\u001b[49m\u001b[43m)\u001b[49m\n",
      "Cell \u001b[0;32mIn[423], line 2\u001b[0m, in \u001b[0;36mcalculate_fence_conv\u001b[0;34m(puzzle_input)\u001b[0m\n\u001b[1;32m      1\u001b[0m \u001b[38;5;28;01mdef\u001b[39;00m \u001b[38;5;21mcalculate_fence_conv\u001b[39m(puzzle_input):\n\u001b[0;32m----> 2\u001b[0m     full_map \u001b[38;5;241m=\u001b[39m \u001b[43mparse_input\u001b[49m\u001b[43m(\u001b[49m\u001b[43mpuzzle_input\u001b[49m\u001b[43m)\u001b[49m\n\u001b[1;32m      3\u001b[0m     fence_price \u001b[38;5;241m=\u001b[39m \u001b[38;5;241m0\u001b[39m\n\u001b[1;32m      4\u001b[0m     \u001b[38;5;28;01mfor\u001b[39;00m garden_map, n_regions \u001b[38;5;129;01min\u001b[39;00m [label(full_map \u001b[38;5;241m==\u001b[39m plant) \u001b[38;5;28;01mfor\u001b[39;00m plant \u001b[38;5;129;01min\u001b[39;00m np\u001b[38;5;241m.\u001b[39munique(full_map)]:\n",
      "Cell \u001b[0;32mIn[45], line 2\u001b[0m, in \u001b[0;36mparse_input\u001b[0;34m(data)\u001b[0m\n\u001b[1;32m      1\u001b[0m \u001b[38;5;28;01mdef\u001b[39;00m \u001b[38;5;21mparse_input\u001b[39m(data): \n\u001b[0;32m----> 2\u001b[0m     data \u001b[38;5;241m=\u001b[39m np\u001b[38;5;241m.\u001b[39marray([[x \u001b[38;5;28;01mfor\u001b[39;00m x \u001b[38;5;129;01min\u001b[39;00m line] \u001b[38;5;28;01mfor\u001b[39;00m line \u001b[38;5;129;01min\u001b[39;00m \u001b[43mdata\u001b[49m\u001b[38;5;241;43m.\u001b[39;49m\u001b[43msplit\u001b[49m(\u001b[38;5;124m\"\u001b[39m\u001b[38;5;130;01m\\n\u001b[39;00m\u001b[38;5;124m\"\u001b[39m)])\n\u001b[1;32m      3\u001b[0m     \u001b[38;5;28;01mreturn\u001b[39;00m data\n",
      "\u001b[0;31mAttributeError\u001b[0m: 'numpy.ndarray' object has no attribute 'split'"
     ]
    }
   ],
   "source": [
    "calculate_fence_conv(r)"
   ]
  },
  {
   "cell_type": "code",
   "execution_count": 424,
   "id": "b7cd180e-c9a4-4955-acb4-1e2058c462ab",
   "metadata": {},
   "outputs": [],
   "source": [
    "fence_price2 = calculate_fence_conv(data)"
   ]
  },
  {
   "cell_type": "code",
   "execution_count": 425,
   "id": "5e420ed9-d7ca-4784-8c3c-10e565862eda",
   "metadata": {},
   "outputs": [
    {
     "data": {
      "text/plain": [
       "np.int64(853588)"
      ]
     },
     "execution_count": 425,
     "metadata": {},
     "output_type": "execute_result"
    }
   ],
   "source": [
    "fence_price2"
   ]
  },
  {
   "cell_type": "code",
   "execution_count": 426,
   "id": "2700b4bc-7b0d-4494-810f-723b8d6e1d34",
   "metadata": {},
   "outputs": [],
   "source": [
    "#aocd.submit(fence_price2)"
   ]
  },
  {
   "cell_type": "code",
   "execution_count": null,
   "id": "179460ce-7a12-4dc1-930c-d99ef1fc1599",
   "metadata": {},
   "outputs": [],
   "source": []
  }
 ],
 "metadata": {
  "kernelspec": {
   "display_name": "Python 3 (ipykernel)",
   "language": "python",
   "name": "python3"
  },
  "language_info": {
   "codemirror_mode": {
    "name": "ipython",
    "version": 3
   },
   "file_extension": ".py",
   "mimetype": "text/x-python",
   "name": "python",
   "nbconvert_exporter": "python",
   "pygments_lexer": "ipython3",
   "version": "3.10.12"
  }
 },
 "nbformat": 4,
 "nbformat_minor": 5
}
