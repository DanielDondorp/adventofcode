{
 "cells": [
  {
   "cell_type": "code",
   "execution_count": 119,
   "id": "a9aa1478-799a-440c-b3a8-f3b80fcc1a77",
   "metadata": {},
   "outputs": [],
   "source": [
    "import aocd\n",
    "import numpy as np\n",
    "import heapq\n",
    "from functools import cache\n",
    "from itertools import pairwise, permutations"
   ]
  },
  {
   "cell_type": "code",
   "execution_count": 120,
   "id": "6233fae5-90a4-4f8e-8eb9-a8513d818e3a",
   "metadata": {},
   "outputs": [],
   "source": [
    "#useful from previous days..."
   ]
  },
  {
   "cell_type": "code",
   "execution_count": 121,
   "id": "e9f436dd-7135-47fe-bc06-5154744082f7",
   "metadata": {},
   "outputs": [],
   "source": [
    "test_codes = \"\"\"\n",
    "029A: <vA<AA>>^AvAA<^A>A<v<A>>^AvA^A<vA>^A<v<A>^A>AAvA^A<v<A>A>^AAAvA<^A>A\n",
    "980A: <v<A>>^AAAvA^A<vA<AA>>^AvAA<^A>A<v<A>A>^AAAvA<^A>A<vA>^A<A>A\n",
    "179A: <v<A>>^A<vA<A>>^AAvAA<^A>A<v<A>>^AAvA^A<vA>^AA<A>A<v<A>A>^AAAvA<^A>A\n",
    "456A: <v<A>>^AA<vA<A>>^AAvAA<^A>A<vA>^A<A>A<vA>^A<A>A<v<A>A>^AAvA<^A>A\n",
    "379A: <v<A>>^AvA^A<vA<AA>>^AAvA<^A>AAvA^A<vA>^AA<A>A<v<A>A>^AAAvA<^A>A\"\"\""
   ]
  },
  {
   "cell_type": "code",
   "execution_count": 122,
   "id": "18921e0e-f586-4519-a87b-7ad831094878",
   "metadata": {},
   "outputs": [],
   "source": [
    "def make_stringmap(arr):\n",
    "    stringmap = []\n",
    "    for line in arr:\n",
    "        stringmap.append(\"\".join(line))\n",
    "    stringmap = \"\\n\".join(stringmap)\n",
    "    return stringmap\n",
    "\n",
    "def turn_left(direction):\n",
    "    # Define the 90-degree counterclockwise rotation matrix\n",
    "    turn_left_matrix = np.array([[0, -1], [1, 0]])\n",
    "    \n",
    "    # Multiply the direction by the rotation matrix\n",
    "    return tuple(np.dot(turn_left_matrix, direction))\n",
    "\n",
    "def turn_right(direction):\n",
    "    # Define the 90-degree clockwise rotation matrix\n",
    "    turn_right_matrix = np.array([[0, 1], [-1, 0]])\n",
    "    \n",
    "    # Multiply the direction by the rotation matrix\n",
    "    return tuple(np.dot(turn_right_matrix, direction))\n"
   ]
  },
  {
   "cell_type": "code",
   "execution_count": 123,
   "id": "d23f5937-1f35-4c39-ae21-3ee55538fd54",
   "metadata": {},
   "outputs": [],
   "source": [
    "numpad = \"\"\"789\n",
    "456\n",
    "123\n",
    "#0A\"\"\""
   ]
  },
  {
   "cell_type": "code",
   "execution_count": 124,
   "id": "389b03f7-6b38-4d11-ac27-1b817e8f4a84",
   "metadata": {},
   "outputs": [],
   "source": [
    "def make_array(data):\n",
    "    return np.pad(np.array([[x for x in line]for line in data.split(\"\\n\")]),1, mode=\"constant\", constant_values = \"#\")"
   ]
  },
  {
   "cell_type": "code",
   "execution_count": 125,
   "id": "cb740776-7a83-4c02-b174-408209cf98ba",
   "metadata": {},
   "outputs": [],
   "source": [
    "numpad_arr = make_array(numpad)"
   ]
  },
  {
   "cell_type": "code",
   "execution_count": 126,
   "id": "7884b3bd-6171-48cd-bcfd-aea8e6d88bd0",
   "metadata": {},
   "outputs": [
    {
     "data": {
      "text/plain": [
       "array([['#', '#', '#', '#', '#'],\n",
       "       ['#', '7', '8', '9', '#'],\n",
       "       ['#', '4', '5', '6', '#'],\n",
       "       ['#', '1', '2', '3', '#'],\n",
       "       ['#', '#', '0', 'A', '#'],\n",
       "       ['#', '#', '#', '#', '#']], dtype='<U1')"
      ]
     },
     "execution_count": 126,
     "metadata": {},
     "output_type": "execute_result"
    }
   ],
   "source": [
    "numpad_arr"
   ]
  },
  {
   "cell_type": "code",
   "execution_count": 127,
   "id": "6375be08-7f54-4f2a-913a-e84074baaf7b",
   "metadata": {},
   "outputs": [],
   "source": [
    "dir_pad = \"\"\"#^A\n",
    "<v>\"\"\""
   ]
  },
  {
   "cell_type": "code",
   "execution_count": 128,
   "id": "e4460d59-8722-4e9a-b5ac-ed97216eddc3",
   "metadata": {},
   "outputs": [],
   "source": [
    "dirpad_arr = make_array(dir_pad)"
   ]
  },
  {
   "cell_type": "code",
   "execution_count": 129,
   "id": "c1de122e-f08f-4fdf-9fd0-79451ee98ea1",
   "metadata": {},
   "outputs": [
    {
     "data": {
      "text/plain": [
       "array([['#', '#', '#', '#', '#'],\n",
       "       ['#', '#', '^', 'A', '#'],\n",
       "       ['#', '<', 'v', '>', '#'],\n",
       "       ['#', '#', '#', '#', '#']], dtype='<U1')"
      ]
     },
     "execution_count": 129,
     "metadata": {},
     "output_type": "execute_result"
    }
   ],
   "source": [
    "dirpad_arr"
   ]
  },
  {
   "cell_type": "code",
   "execution_count": 130,
   "id": "5b38390d-4e0b-48fa-aa70-186ec73388ab",
   "metadata": {},
   "outputs": [],
   "source": [
    "inst_dict = {(-1,0):\"^\", (1,0):\"v\",(0,1):\">\", (0,-1):\"<\"}\n",
    "rev_inst_dict = {inst_dict[k]: k for k in inst_dict}"
   ]
  },
  {
   "cell_type": "code",
   "execution_count": 131,
   "id": "1165d7cc-9a82-4413-8b9b-49d8ec1e75e5",
   "metadata": {},
   "outputs": [],
   "source": [
    "\n",
    "#edit this to keep track of path and take arbirtary start and end chars for both numpads\n",
    "@cache\n",
    "def dijkstra(start_char = \"S\", end_char = \"E\"):\n",
    "    if start_char in \"<>^v\" or end_char in \"<^>v\":\n",
    "        arr = dirpad_arr\n",
    "    else:\n",
    "        arr = numpad_arr\n",
    "    start = np.argwhere(arr == start_char)[0]\n",
    "    visited = set()\n",
    "    q = [(0, [start], [0,1])] #cost, pos, direction\n",
    "    while q:\n",
    "        cost, path, direction = heapq.heappop(q) #retrieve the lowest cost next step from the queue for checking\n",
    "        loc = path[-1]\n",
    "        if (tuple(loc), tuple(direction)) in visited: #if we have already been here, we are on the way back from a bad route and need to ignore the loc\n",
    "            continue #we have done this\n",
    "        if arr[loc[0], loc[1]] == end_char: #if we stumble upon the target tile, we have found the (or at least one) lowest cost route.\n",
    "            #arrived, we return cost\n",
    "            return \"\".join([inst_dict[tuple(x)] for x in np.diff(np.vstack(path), axis = 0)])\n",
    "        visited.add((tuple(loc), tuple(direction))) #we record our current position and direction\n",
    "        one_ahead = [loc[0] + direction[0], loc[1]+direction[1]] #look at the space one ahead of us:\n",
    "        if arr[one_ahead[0], one_ahead[1]] != \"#\":\n",
    "            heapq.heappush(q, (cost+1, path+[[one_ahead[0], one_ahead[1]]], direction)) #if the space one ahead of us is not a wall, it is an empty space or the end, and we need to explore it for a cost of 1\n",
    "        #we also need to explore what happens if we turn left and right, for a cost of 1000 each.\n",
    "        heapq.heappush(q, (cost+1, path, turn_left(direction)))\n",
    "        heapq.heappush(q, (cost+1, path, turn_right(direction)))"
   ]
  },
  {
   "cell_type": "code",
   "execution_count": 132,
   "id": "8661e4aa-fff0-4e20-8131-376554a1ae75",
   "metadata": {},
   "outputs": [
    {
     "data": {
      "text/plain": [
       "'v'"
      ]
     },
     "execution_count": 132,
     "metadata": {},
     "output_type": "execute_result"
    }
   ],
   "source": [
    "dijkstra(\"A\", \">\")"
   ]
  },
  {
   "cell_type": "code",
   "execution_count": 133,
   "id": "e3e8c97a-6aec-4fa9-97fa-84f104ceba9c",
   "metadata": {},
   "outputs": [],
   "source": [
    "test_code = \"029A\"\n",
    "test_answer = \"<A^A>^^AvvvA\"\n",
    "second_test_answer = \"v<<A>>^A<A>AvA<^AA>A<vAAA>^A\"\n",
    "third_test_answer = \"<vA<AA>>^AvAA<^A>A<v<A>>^AvA^A<vA>^A<v<A>^A>AAvA^A<v<A>A>^AAAvA<^A>A\""
   ]
  },
  {
   "cell_type": "code",
   "execution_count": 134,
   "id": "2ea0289a-72fb-4ba1-904c-d2fccd9e088a",
   "metadata": {},
   "outputs": [],
   "source": [
    "inst_dict = {(-1,0):\"^\", (1,0):\"v\",(0,1):\">\", (0,-1):\"<\"}\n",
    "rev_inst_dict = {inst_dict[k]: k for k in inst_dict}"
   ]
  },
  {
   "cell_type": "code",
   "execution_count": 135,
   "id": "bce17241-f86a-474e-ab83-4e9fb81fcc22",
   "metadata": {},
   "outputs": [
    {
     "data": {
      "text/plain": [
       "{'^': (-1, 0), 'v': (1, 0), '>': (0, 1), '<': (0, -1)}"
      ]
     },
     "execution_count": 135,
     "metadata": {},
     "output_type": "execute_result"
    }
   ],
   "source": [
    "rev_inst_dict"
   ]
  },
  {
   "cell_type": "code",
   "execution_count": 238,
   "id": "09bba895-e012-4e6b-8999-9fae97f87f64",
   "metadata": {},
   "outputs": [],
   "source": [
    "def is_valid(start, end, path, arr):\n",
    "    tiles = []\n",
    "    loc = start.copy()\n",
    "    for p in path:\n",
    "        d = rev_inst_dict[p]\n",
    "        loc+=d\n",
    "        if arr[loc[0], loc[1]] == \"#\":\n",
    "            return False\n",
    "    return True"
   ]
  },
  {
   "cell_type": "code",
   "execution_count": 257,
   "id": "092878a7-8d6f-4159-b87e-0a001af5c7dc",
   "metadata": {},
   "outputs": [],
   "source": [
    "#ok dijkstra is killing me, lets simplify this shit somehow\n",
    "def get_simple_paths(start, end):\n",
    "    if start in \"<>^v\" or end in \"<^>v\":\n",
    "        arr = dirpad_arr\n",
    "    else:\n",
    "        arr = numpad_arr\n",
    "\n",
    "    loc_start = np.argwhere(arr == start)[0]\n",
    "    loc_end = np.argwhere(arr == end)[0]\n",
    "    delta = loc_end-loc_start\n",
    "    if delta[0] < 0:\n",
    "        vertical = \"^\"\n",
    "    else:\n",
    "        vertical = \"v\"\n",
    "    if delta[1] <0:\n",
    "        horizontal = \"<\"\n",
    "    else:\n",
    "        horizontal = \">\"\n",
    "    path = vertical*abs(delta[0]) + horizontal*abs(delta[1])\n",
    "    valid_paths = set()\n",
    "    for p in set(permutations(path)):\n",
    "        p = \"\".join(p)\n",
    "        # print(loc_start, loc_end)\n",
    "        if is_valid(loc_start, loc_end, p, arr):\n",
    "            valid_paths.add(p+\"A\")\n",
    "    return valid_paths\n",
    "    \n",
    "    "
   ]
  },
  {
   "cell_type": "code",
   "execution_count": 258,
   "id": "6fd91171-a90a-46c6-9aaf-5bc5fb001d16",
   "metadata": {},
   "outputs": [
    {
     "data": {
      "text/plain": [
       "{'<^<^^A',\n",
       " '<^^<^A',\n",
       " '<^^^<A',\n",
       " '^<<^^A',\n",
       " '^<^<^A',\n",
       " '^<^^<A',\n",
       " '^^<<^A',\n",
       " '^^<^<A',\n",
       " '^^^<<A'}"
      ]
     },
     "execution_count": 258,
     "metadata": {},
     "output_type": "execute_result"
    }
   ],
   "source": [
    "get_simple_paths(\"A\", \"7\")"
   ]
  },
  {
   "cell_type": "code",
   "execution_count": 259,
   "id": "d9aeead7-0e92-4a05-8364-01ced728c511",
   "metadata": {},
   "outputs": [],
   "source": [
    "@cache\n",
    "def make_recursive_instruction(code, depth = 2):\n",
    "    code = \"A\"+code\n",
    "    # print(f\"\\nMaking instructions for {code}\")\n",
    "    len_path = 0\n",
    "    for start, end in pairwise(code):\n",
    "        all_paths = get_simple_paths(start, end)\n",
    "        # print(f\"testing {len(all_paths)} permutations of {first_path}\")\n",
    "        if depth==0:\n",
    "            len_path += min([len(path) for path in all_paths])\n",
    "        else:\n",
    "            len_path += min([make_recursive_instruction(path, depth-1) for path in all_paths])\n",
    "    return len_path\n",
    "        "
   ]
  },
  {
   "cell_type": "code",
   "execution_count": 260,
   "id": "1d7520d7-b7d3-4b57-82f6-d5c8620a365c",
   "metadata": {},
   "outputs": [
    {
     "data": {
      "text/plain": [
       "68"
      ]
     },
     "execution_count": 260,
     "metadata": {},
     "output_type": "execute_result"
    }
   ],
   "source": [
    "make_recursive_instruction(\"179A\", depth = 2)"
   ]
  },
  {
   "cell_type": "code",
   "execution_count": 261,
   "id": "74074de8-703b-42ae-b00c-13079bc03986",
   "metadata": {},
   "outputs": [],
   "source": [
    "codes = \"\"\"029A\n",
    "980A\n",
    "179A\n",
    "456A\n",
    "379A\"\"\".split(\"\\n\")"
   ]
  },
  {
   "cell_type": "code",
   "execution_count": 262,
   "id": "f10b7cb1-c3fd-454d-a4ad-622f54e4c5d2",
   "metadata": {},
   "outputs": [
    {
     "name": "stdout",
     "output_type": "stream",
     "text": [
      "code='029A', 68 x 29\n",
      "code='980A', 60 x 980\n",
      "code='179A', 68 x 179\n",
      "code='456A', 64 x 456\n",
      "code='379A', 64 x 379\n"
     ]
    }
   ],
   "source": [
    "total_score = 0\n",
    "for code in codes:\n",
    "    complexity = make_recursive_instruction(code, depth=2)\n",
    "    numpart = int(code.replace(\"A\",\"\"))\n",
    "    total_score += (complexity*numpart)\n",
    "    print(f\"{code=}, {complexity} x {numpart}\")"
   ]
  },
  {
   "cell_type": "code",
   "execution_count": 263,
   "id": "9f6bd670-5c62-4a9e-8cd1-a79ccba8cdc3",
   "metadata": {},
   "outputs": [
    {
     "name": "stdout",
     "output_type": "stream",
     "text": [
      "A 3\n",
      "3 7\n",
      "7 9\n",
      "9 A\n"
     ]
    }
   ],
   "source": [
    "for a, b in pairwise(\"A\"+code):\n",
    "    print(a, b)"
   ]
  },
  {
   "cell_type": "code",
   "execution_count": 264,
   "id": "74be9a0b-54ea-4732-ac72-061621bf9af8",
   "metadata": {},
   "outputs": [
    {
     "data": {
      "text/plain": [
       "126384"
      ]
     },
     "execution_count": 264,
     "metadata": {},
     "output_type": "execute_result"
    }
   ],
   "source": [
    "total_score"
   ]
  },
  {
   "cell_type": "code",
   "execution_count": 265,
   "id": "632a09f5-c252-4524-bd1c-2cf02c7f7f26",
   "metadata": {},
   "outputs": [
    {
     "data": {
      "text/plain": [
       "68"
      ]
     },
     "execution_count": 265,
     "metadata": {},
     "output_type": "execute_result"
    }
   ],
   "source": [
    "make_recursive_instruction(\"179A\", depth=2)"
   ]
  },
  {
   "cell_type": "code",
   "execution_count": 266,
   "id": "5f4d9151-91d0-434a-bcc3-550e4929011a",
   "metadata": {},
   "outputs": [],
   "source": [
    "real_codes = aocd.get_data()"
   ]
  },
  {
   "cell_type": "code",
   "execution_count": 267,
   "id": "aad62b15-92fb-412f-8ed4-6825aa2bcf27",
   "metadata": {},
   "outputs": [],
   "source": [
    "real_codes = real_codes.split(\"\\n\")"
   ]
  },
  {
   "cell_type": "code",
   "execution_count": 268,
   "id": "81542ef4-6c5e-4c6b-ae56-cc13f18b98e3",
   "metadata": {},
   "outputs": [
    {
     "data": {
      "text/plain": [
       "['935A', '319A', '480A', '789A', '176A']"
      ]
     },
     "execution_count": 268,
     "metadata": {},
     "output_type": "execute_result"
    }
   ],
   "source": [
    "real_codes"
   ]
  },
  {
   "cell_type": "code",
   "execution_count": 271,
   "id": "ff7f84a2-990a-420b-854a-fd74b78fa7a7",
   "metadata": {},
   "outputs": [
    {
     "name": "stdout",
     "output_type": "stream",
     "text": [
      "code='935A', 86475783010 x 935\n",
      "code='319A', 82050061712 x 319\n",
      "code='480A', 90594397580 x 480\n",
      "code='789A', 80786362260 x 789\n",
      "code='176A', 89741193602 x 176\n"
     ]
    }
   ],
   "source": [
    "total_score = 0\n",
    "for code in real_codes:\n",
    "    complexity = make_recursive_instruction(code, depth=25)\n",
    "    numpart = int(code.replace(\"A\",\"\"))\n",
    "    total_score += (complexity*numpart)\n",
    "    print(f\"{code=}, {complexity} x {numpart}\")"
   ]
  },
  {
   "cell_type": "code",
   "execution_count": 272,
   "id": "75aa0db3-ee96-423c-b03b-b308bab0685b",
   "metadata": {},
   "outputs": [
    {
     "data": {
      "text/plain": [
       "230049027535970"
      ]
     },
     "execution_count": 272,
     "metadata": {},
     "output_type": "execute_result"
    }
   ],
   "source": [
    "total_score"
   ]
  },
  {
   "cell_type": "code",
   "execution_count": 114,
   "id": "00793af8-1478-4fd9-aebf-5b92a3b2a607",
   "metadata": {},
   "outputs": [],
   "source": [
    "def make_instructions(code:str, arr):\n",
    "    code = \"A\"+code\n",
    "    list_instructions = [[code[i], code[i+1]] for i in range(len(code)-1)]\n",
    "    instructions = \"\"\n",
    "    for inst in list_instructions:\n",
    "        l, path = dijkstra(arr, inst[0], inst[1])\n",
    "        for step in path:\n",
    "            instructions+=inst_dict[tuple(step)]\n",
    "        instructions+=\"A\"\n",
    "    return instructions"
   ]
  },
  {
   "cell_type": "code",
   "execution_count": 115,
   "id": "9edc3a98-694c-4db0-b380-7b183e1caad9",
   "metadata": {},
   "outputs": [],
   "source": [
    "from itertools import permutations"
   ]
  },
  {
   "cell_type": "code",
   "execution_count": 316,
   "id": "d3649775-d987-4a4a-88c6-e6a7334dbee5",
   "metadata": {},
   "outputs": [
    {
     "data": {
      "text/plain": [
       "(5,\n",
       " [[array([4, 3]),\n",
       "   [np.int64(3), np.int64(3)],\n",
       "   [np.int64(2), np.int64(3)],\n",
       "   [np.int64(2), np.int64(2)]]])"
      ]
     },
     "execution_count": 316,
     "metadata": {},
     "output_type": "execute_result"
    }
   ],
   "source": [
    "dijkstra_all_paths(numpad_arr, \"A\", \"5\")"
   ]
  },
  {
   "cell_type": "code",
   "execution_count": 317,
   "id": "2421ccc8-04a4-4b2f-9aab-ed65297543da",
   "metadata": {},
   "outputs": [],
   "source": [
    "codes = \"\"\"029A\n",
    "980A\n",
    "179A\n",
    "456A\n",
    "379A\"\"\""
   ]
  },
  {
   "cell_type": "code",
   "execution_count": 318,
   "id": "d8656305-ca93-4db1-b50f-1a77ecec5eaa",
   "metadata": {},
   "outputs": [
    {
     "data": {
      "text/plain": [
       "'^A^^<<A>>AvvvA'"
      ]
     },
     "execution_count": 318,
     "metadata": {},
     "output_type": "execute_result"
    }
   ],
   "source": [
    "make_instructions(\"379A\", numpad_arr)"
   ]
  },
  {
   "cell_type": "code",
   "execution_count": 319,
   "id": "9b79dec7-81c5-4a5c-bf90-237ec3b7d79b",
   "metadata": {},
   "outputs": [],
   "source": [
    "codes = codes.split(\"\\n\")"
   ]
  },
  {
   "cell_type": "code",
   "execution_count": 320,
   "id": "06e1a708-7467-4976-b73b-37da94577ffe",
   "metadata": {},
   "outputs": [
    {
     "data": {
      "text/plain": [
       "['029A', '980A', '179A', '456A', '379A']"
      ]
     },
     "execution_count": 320,
     "metadata": {},
     "output_type": "execute_result"
    }
   ],
   "source": [
    "codes"
   ]
  },
  {
   "cell_type": "code",
   "execution_count": 321,
   "id": "2ae7fdef-1ea9-40bd-964e-06223fa649fb",
   "metadata": {},
   "outputs": [],
   "source": [
    "def score_code(code):\n",
    "    print(\"\\n\"+\"#\"*10)\n",
    "    print(code)\n",
    "    first_code = make_instructions(code, numpad_arr)\n",
    "    print(first_code)\n",
    "    second_code = make_instructions(first_code, dirpad_arr)\n",
    "    print(second_code)\n",
    "    third_code = make_instructions(second_code, dirpad_arr)\n",
    "    print(third_code)\n",
    "    numerical_part = int(code.rstrip(\"A\"))\n",
    "    print(f\"{len(third_code)}, {numerical_part},  complexity = {numerical_part*len(third_code)}\")\n",
    "    return  numerical_part*len(third_code)"
   ]
  },
  {
   "cell_type": "code",
   "execution_count": 322,
   "id": "46284b55-216d-4684-be43-277141aaaeeb",
   "metadata": {},
   "outputs": [],
   "source": [
    "def solve1(codes):\n",
    "    return sum([score_code(code) for code in codes])"
   ]
  },
  {
   "cell_type": "code",
   "execution_count": 323,
   "id": "be26f6a1-0433-4dbf-99f4-f00d5bd231e3",
   "metadata": {
    "scrolled": true
   },
   "outputs": [
    {
     "name": "stdout",
     "output_type": "stream",
     "text": [
      "\n",
      "##########\n",
      "029A\n",
      "<A^A>^^AvvvA\n",
      "v<<A>>^A<A>AvA^<AA>Av<AAA>^A\n",
      "v<A<AA>>^AvAA^<A>Av<<A>>^AvA^Av<A>^A<Av<A>>^AAvA^Av<A<A>>^AAAvA^<A>A\n",
      "68, 29,  complexity = 1972\n",
      "\n",
      "##########\n",
      "980A\n",
      "^^^A<AvvvA>A\n",
      "<AAA>Av<<A>>^Av<AAA>^AvA^A\n",
      "v<<A>>^AAAvA^Av<A<AA>>^AvAA^<A>Av<A<A>>^AAAvA^<A>Av<A>^A<A>A\n",
      "60, 980,  complexity = 58800\n",
      "\n",
      "##########\n",
      "179A\n",
      "^<<A^^A>>AvvvA\n",
      "<Av<AA>>^A<AA>AvAA^Av<AAA>^A\n",
      "v<<A>>^Av<A<A>>^AAvAA^<A>Av<<A>>^AAvA^Av<A>^AA<A>Av<A<A>>^AAAvA^<A>A\n",
      "68, 179,  complexity = 12172\n",
      "\n",
      "##########\n",
      "456A\n",
      "^^<<A>A>AvvA\n",
      "<AAv<AA>>^AvA^AvA^Av<AA>^A\n",
      "v<<A>>^AAv<A<A>>^AAvAA^<A>Av<A>^A<A>Av<A>^A<A>Av<A<A>>^AAvA^<A>A\n",
      "64, 456,  complexity = 29184\n",
      "\n",
      "##########\n",
      "379A\n",
      "^A^^<<A>>AvvvA\n",
      "<A>A<AAv<AA>>^AvAA^Av<AAA>^A\n",
      "v<<A>>^AvA^Av<<A>>^AAv<A<A>>^AAvAA^<A>Av<A>^AA<A>Av<A<A>>^AAAvA^<A>A\n",
      "68, 379,  complexity = 25772\n"
     ]
    },
    {
     "data": {
      "text/plain": [
       "127900"
      ]
     },
     "execution_count": 323,
     "metadata": {},
     "output_type": "execute_result"
    }
   ],
   "source": [
    "solve1(codes)"
   ]
  },
  {
   "cell_type": "code",
   "execution_count": 324,
   "id": "bb9db8ff-cd55-4684-a5c6-964ac494fc0b",
   "metadata": {},
   "outputs": [],
   "source": [
    "real = \"<v<A>>^AvA^A<vA<AA>>^AAvA<^A>AAvA^A<vA>^AA<A>A<v<A>A>^AAAvA<^A>A\"\n",
    "bad =  \"v<<A>>^AvA^Av<<A>>^AAv<A<A>>^AAvAA^<A>Av<A>^AA<A>Av<A<A>>^AAAvA^<A>A\""
   ]
  },
  {
   "cell_type": "code",
   "execution_count": 325,
   "id": "d0742cb0-e094-4226-9616-20f022d8de09",
   "metadata": {},
   "outputs": [],
   "source": [
    "def simulate_presses(instructions, arr):\n",
    "    loc = np.argwhere(arr == \"A\")[0]\n",
    "    pressed = \"\"\n",
    "    for instruction in instructions:\n",
    "        if instruction == \"A\":\n",
    "            pressed+=arr[loc[0], loc[1]]\n",
    "        else:\n",
    "            instruction = rev_inst_dict[instruction]\n",
    "            loc = [loc[0] + instruction[0], loc[1] + instruction[1]]\n",
    "    return pressed"
   ]
  },
  {
   "cell_type": "code",
   "execution_count": 326,
   "id": "02e4d329-2114-4b5b-9db6-ddb4dab42644",
   "metadata": {},
   "outputs": [],
   "source": [
    "def simulate_sequence(third_code):\n",
    "    print(third_code)\n",
    "    second_code=simulate_presses(third_code, dirpad_arr)\n",
    "    to_print = \"\"\n",
    "    for letter, seq in zip(second_code, third_code.split(\"A\")):\n",
    "        to_print+=\".\"*len(seq)+letter\n",
    "    print(to_print)\n",
    "    first_code =simulate_presses(second_code, dirpad_arr)\n",
    "    to_print2 = \"\"\n",
    "    for letter, seq in zip(first_code, to_print.split(\"A\")):\n",
    "        to_print2+=\".\"*len(seq)+letter\n",
    "    print(to_print2)\n",
    "    code = simulate_presses(first_code, numpad_arr)\n",
    "\n",
    "    to_print3 = \"\"\n",
    "    for letter, seq in zip(code, to_print2.split(\"A\")):\n",
    "        to_print3+=\".\"*len(seq)+letter\n",
    "    print(to_print3)\n",
    "    return code"
   ]
  },
  {
   "cell_type": "code",
   "execution_count": 327,
   "id": "19700796-65db-4214-a5da-a8c35fd17fdf",
   "metadata": {},
   "outputs": [
    {
     "name": "stdout",
     "output_type": "stream",
     "text": [
      "<v<A>>^AvA^A<vA<AA>>^AAvA<^A>AAvA^A<vA>^AA<A>A<v<A>A>^AAAvA<^A>A\n",
      "...<...A.>.A..v.<<...AA.>..^.AA.>.A..v..AA.^.A...<.v..AAA.>..^.A\n",
      ".......^...A.........<<......^^...A.....>>...A........vvv......A\n",
      "...........3......................7..........9.................A\n"
     ]
    },
    {
     "data": {
      "text/plain": [
       "'379A'"
      ]
     },
     "execution_count": 327,
     "metadata": {},
     "output_type": "execute_result"
    }
   ],
   "source": [
    "simulate_sequence(real)"
   ]
  },
  {
   "cell_type": "code",
   "execution_count": 328,
   "id": "43294d9d-2e9d-464a-bbdf-d0944d89ef58",
   "metadata": {},
   "outputs": [
    {
     "name": "stdout",
     "output_type": "stream",
     "text": [
      "v<<A>>^AvA^Av<<A>>^AAv<A<A>>^AAvAA^<A>Av<A>^AA<A>Av<A<A>>^AAAvA^<A>A\n",
      "...<...A.>.A...<...AA..v.<...AA.>>..^.A..v..AA.^.A..v.<...AAA.>..^.A\n",
      ".......^...A.......^^........<<.......A.....>>...A........vvv......A\n",
      "...........3..........................7..........9.................A\n"
     ]
    },
    {
     "data": {
      "text/plain": [
       "'379A'"
      ]
     },
     "execution_count": 328,
     "metadata": {},
     "output_type": "execute_result"
    }
   ],
   "source": [
    "simulate_sequence(bad)"
   ]
  },
  {
   "cell_type": "code",
   "execution_count": 330,
   "id": "1e603ada-85e2-4550-8d46-4c62c774d481",
   "metadata": {},
   "outputs": [],
   "source": [
    "l, c = dijkstra(numpad_arr, \"3\", \"7\")"
   ]
  },
  {
   "cell_type": "code",
   "execution_count": 336,
   "id": "b3f14640-2e97-46a8-91fb-f6de67874135",
   "metadata": {},
   "outputs": [],
   "source": [
    "instructions = [inst_dict[tuple(i)] for i in c]"
   ]
  },
  {
   "cell_type": "code",
   "execution_count": 345,
   "id": "ed610f20-57fe-40a8-b226-7ccab993e461",
   "metadata": {},
   "outputs": [
    {
     "name": "stdout",
     "output_type": "stream",
     "text": [
      "<AAv<AA\n",
      ".^^..<<\n",
      "\n",
      "\n",
      "\n",
      "<AAv<AA\n",
      ".^^..<<\n",
      "\n",
      "\n",
      "\n",
      "<Av<A>^Av<A\n",
      ".^..<..^..<\n",
      "\n",
      "\n",
      "\n",
      "<Av<AA>^A\n",
      ".^..<<..^\n",
      "\n",
      "\n",
      "\n",
      "<Av<A>^Av<A\n",
      ".^..<..^..<\n",
      "\n",
      "\n",
      "\n",
      "<Av<AA>^A\n",
      ".^..<<..^\n",
      "\n",
      "\n",
      "\n",
      "<AAv<AA\n",
      ".^^..<<\n",
      "\n",
      "\n",
      "\n",
      "<AAv<AA\n",
      ".^^..<<\n",
      "\n",
      "\n",
      "\n",
      "<Av<A>^Av<A\n",
      ".^..<..^..<\n",
      "\n",
      "\n",
      "\n",
      "<Av<AA>^A\n",
      ".^..<<..^\n",
      "\n",
      "\n",
      "\n",
      "<Av<A>^Av<A\n",
      ".^..<..^..<\n",
      "\n",
      "\n",
      "\n",
      "<Av<AA>^A\n",
      ".^..<<..^\n",
      "\n",
      "\n",
      "\n",
      "v<<A>^AAv<A\n",
      "...<..^^..<\n",
      "\n",
      "\n",
      "\n",
      "v<<A>^Av<A>^A\n",
      "...<..^..<..^\n",
      "\n",
      "\n",
      "\n",
      "v<<A>^AAv<A\n",
      "...<..^^..<\n",
      "\n",
      "\n",
      "\n",
      "v<<A>^Av<A>^A\n",
      "...<..^..<..^\n",
      "\n",
      "\n",
      "\n",
      "v<<AA>^AA\n",
      "...<<..^^\n",
      "\n",
      "\n",
      "\n",
      "v<<AA>^AA\n",
      "...<<..^^\n",
      "\n",
      "\n",
      "\n",
      "v<<A>^AAv<A\n",
      "...<..^^..<\n",
      "\n",
      "\n",
      "\n",
      "v<<A>^Av<A>^A\n",
      "...<..^..<..^\n",
      "\n",
      "\n",
      "\n",
      "v<<A>^AAv<A\n",
      "...<..^^..<\n",
      "\n",
      "\n",
      "\n",
      "v<<A>^Av<A>^A\n",
      "...<..^..<..^\n",
      "\n",
      "\n",
      "\n",
      "v<<AA>^AA\n",
      "...<<..^^\n",
      "\n",
      "\n",
      "\n",
      "v<<AA>^AA\n",
      "...<<..^^\n",
      "\n",
      "\n",
      "\n"
     ]
    }
   ],
   "source": [
    "for x in permutations(\"\".join(instructions)):\n",
    "    print(simulate_sequence(make_instructions(\"\".join(x), dirpad_arr)))"
   ]
  },
  {
   "cell_type": "code",
   "execution_count": null,
   "id": "1936187e-4757-424a-b131-065f832e3ecc",
   "metadata": {},
   "outputs": [],
   "source": []
  }
 ],
 "metadata": {
  "kernelspec": {
   "display_name": "Python 3 (ipykernel)",
   "language": "python",
   "name": "python3"
  },
  "language_info": {
   "codemirror_mode": {
    "name": "ipython",
    "version": 3
   },
   "file_extension": ".py",
   "mimetype": "text/x-python",
   "name": "python",
   "nbconvert_exporter": "python",
   "pygments_lexer": "ipython3",
   "version": "3.10.12"
  }
 },
 "nbformat": 4,
 "nbformat_minor": 5
}
