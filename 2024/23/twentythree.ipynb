{
 "cells": [
  {
   "cell_type": "code",
   "execution_count": 5,
   "id": "4033065c-5d26-4206-a80f-7e356705b414",
   "metadata": {},
   "outputs": [],
   "source": [
    "import numpy\n",
    "import aocd\n",
    "from collections import defaultdict"
   ]
  },
  {
   "cell_type": "code",
   "execution_count": 6,
   "id": "1c35d1fb-a666-4b2f-b0d3-3998891e0eca",
   "metadata": {},
   "outputs": [],
   "source": [
    "test_input = \"\"\"kh-tc\n",
    "qp-kh\n",
    "de-cg\n",
    "ka-co\n",
    "yn-aq\n",
    "qp-ub\n",
    "cg-tb\n",
    "vc-aq\n",
    "tb-ka\n",
    "wh-tc\n",
    "yn-cg\n",
    "kh-ub\n",
    "ta-co\n",
    "de-co\n",
    "tc-td\n",
    "tb-wq\n",
    "wh-td\n",
    "ta-ka\n",
    "td-qp\n",
    "aq-cg\n",
    "wq-ub\n",
    "ub-vc\n",
    "de-ta\n",
    "wq-aq\n",
    "wq-vc\n",
    "wh-yn\n",
    "ka-de\n",
    "kh-ta\n",
    "co-tc\n",
    "wh-qp\n",
    "tb-vc\n",
    "td-yn\"\"\""
   ]
  },
  {
   "cell_type": "code",
   "execution_count": 7,
   "id": "fe381a04-9ee4-446d-87f4-2ca51add1bd5",
   "metadata": {},
   "outputs": [],
   "source": [
    "def parse_input(puzzle_input):\n",
    "    pairs = [x.split(\"-\") for x in puzzle_input.split(\"\\n\")]\n",
    "    return pairs"
   ]
  },
  {
   "cell_type": "code",
   "execution_count": 8,
   "id": "03ab4bc4-40d8-4eac-819a-e222b169254c",
   "metadata": {},
   "outputs": [
    {
     "data": {
      "text/plain": [
       "[['kh', 'tc'],\n",
       " ['qp', 'kh'],\n",
       " ['de', 'cg'],\n",
       " ['ka', 'co'],\n",
       " ['yn', 'aq'],\n",
       " ['qp', 'ub'],\n",
       " ['cg', 'tb'],\n",
       " ['vc', 'aq'],\n",
       " ['tb', 'ka'],\n",
       " ['wh', 'tc'],\n",
       " ['yn', 'cg'],\n",
       " ['kh', 'ub'],\n",
       " ['ta', 'co'],\n",
       " ['de', 'co'],\n",
       " ['tc', 'td'],\n",
       " ['tb', 'wq'],\n",
       " ['wh', 'td'],\n",
       " ['ta', 'ka'],\n",
       " ['td', 'qp'],\n",
       " ['aq', 'cg'],\n",
       " ['wq', 'ub'],\n",
       " ['ub', 'vc'],\n",
       " ['de', 'ta'],\n",
       " ['wq', 'aq'],\n",
       " ['wq', 'vc'],\n",
       " ['wh', 'yn'],\n",
       " ['ka', 'de'],\n",
       " ['kh', 'ta'],\n",
       " ['co', 'tc'],\n",
       " ['wh', 'qp'],\n",
       " ['tb', 'vc'],\n",
       " ['td', 'yn']]"
      ]
     },
     "execution_count": 8,
     "metadata": {},
     "output_type": "execute_result"
    }
   ],
   "source": [
    "parse_input(test_input)"
   ]
  },
  {
   "cell_type": "code",
   "execution_count": 141,
   "id": "6b902d3c-15a8-4e4e-8345-546337b651b8",
   "metadata": {},
   "outputs": [],
   "source": [
    "#we have doene stuff like this a bunch of times now. Smells like pathfinding.\n",
    "def generate_triangles(nodes):\n",
    "    visited_ids = set() # nodes we have tested\n",
    "    groups = []\n",
    "    for node in nodes:\n",
    "        for subnode in nodes[node]:\n",
    "            if subnode in visited_ids:\n",
    "                continue # we should have already found b->a->??->b\n",
    "            for subsubnode in nodes[subnode]:\n",
    "                if subsubnode in visited_ids:\n",
    "                    continue # we should have already found c->a->b->c\n",
    "                if node in nodes[subsubnode]:\n",
    "                    groups.append((node, subnode, subsubnode))\n",
    "        visited_ids.add(node) \n",
    "    #monstrosity oneliner to sort and weed out duplicates in teh found triangles.\n",
    "    triangles = set([tuple(sorted(list(s))) for s in groups])\n",
    "    return triangles"
   ]
  },
  {
   "cell_type": "code",
   "execution_count": 142,
   "id": "b8c7e57e-22ef-4cea-b50f-30a3911bddfd",
   "metadata": {},
   "outputs": [],
   "source": [
    "def solve1(data):\n",
    "    pairs = parse_input(data)\n",
    "    #for every pain, expand on the sets of what other pcs a member is connected to\n",
    "    nodes = defaultdict(set)\n",
    "    for pair in pairs:\n",
    "        nodes[pair[0]].add(pair[1])\n",
    "        nodes[pair[1]].add(pair[0])\n",
    "    triangles = generate_triangles(nodes)\n",
    "    return len([triangle for triangle in triangles if any([x.startswith(\"t\") for x in triangle])])"
   ]
  },
  {
   "cell_type": "code",
   "execution_count": 143,
   "id": "1fe2bbc3-fff3-4a3a-95bb-677c88f521ee",
   "metadata": {},
   "outputs": [
    {
     "data": {
      "text/plain": [
       "7"
      ]
     },
     "execution_count": 143,
     "metadata": {},
     "output_type": "execute_result"
    }
   ],
   "source": [
    "solve1(test_input)"
   ]
  },
  {
   "cell_type": "code",
   "execution_count": 144,
   "id": "8dd3517e-8431-4dd9-9c5e-a5db097b0082",
   "metadata": {},
   "outputs": [],
   "source": [
    "real_input = aocd.get_data()"
   ]
  },
  {
   "cell_type": "code",
   "execution_count": 145,
   "id": "e208991b-6788-464b-822b-137d526a3afe",
   "metadata": {},
   "outputs": [
    {
     "data": {
      "text/plain": [
       "1119"
      ]
     },
     "execution_count": 145,
     "metadata": {},
     "output_type": "execute_result"
    }
   ],
   "source": [
    "solve1(real_input)"
   ]
  },
  {
   "cell_type": "code",
   "execution_count": 149,
   "id": "040bf26e-0d30-4d24-b961-470e457614e3",
   "metadata": {},
   "outputs": [],
   "source": [
    "#i feel dirty using this library but I know it can solve my problem without me having to spend christmas debugging my own messy branch recursion solutions...\n",
    "import networkx"
   ]
  },
  {
   "cell_type": "code",
   "execution_count": 150,
   "id": "1a722b44-474b-4510-b3bc-fd96357e913b",
   "metadata": {},
   "outputs": [],
   "source": [
    "def solve2(data):\n",
    "    pairs = parse_input(data)\n",
    "    nodes = defaultdict(set)\n",
    "    for pair in pairs:\n",
    "        nodes[pair[0]].add(pair[1])\n",
    "        nodes[pair[1]].add(pair[0])\n",
    "    cliques = sorted([c for c in networkx.find_cliques(networkx.Graph(nodes))], key = len)[::-1]\n",
    "    password = \",\".join(sorted(cliques[0]))\n",
    "    return password"
   ]
  },
  {
   "cell_type": "code",
   "execution_count": 151,
   "id": "1ddd8882-8621-4ddf-94e0-f92a8b58fe6b",
   "metadata": {},
   "outputs": [
    {
     "data": {
      "text/plain": [
       "'co,de,ka,ta'"
      ]
     },
     "execution_count": 151,
     "metadata": {},
     "output_type": "execute_result"
    }
   ],
   "source": [
    "solve2(test_input)"
   ]
  },
  {
   "cell_type": "code",
   "execution_count": 152,
   "id": "09027f0a-a031-4fb5-a5eb-ed33b1b401d3",
   "metadata": {},
   "outputs": [
    {
     "data": {
      "text/plain": [
       "'av,fr,gj,hk,ii,je,jo,lq,ny,qd,uq,wq,xc'"
      ]
     },
     "execution_count": 152,
     "metadata": {},
     "output_type": "execute_result"
    }
   ],
   "source": [
    "solve2(real_input)"
   ]
  },
  {
   "cell_type": "code",
   "execution_count": 92,
   "id": "21eb52d6-6d05-42ae-a3c9-41b7f04a5fd1",
   "metadata": {},
   "outputs": [
    {
     "name": "stdout",
     "output_type": "stream",
     "text": [
      "['cg', 'de']\n",
      "['cg', 'aq', 'yn']\n",
      "['cg', 'tb']\n",
      "['ka', 'co', 'de', 'ta']\n",
      "['ka', 'tb']\n",
      "['qp', 'td', 'wh']\n",
      "['qp', 'kh', 'ub']\n",
      "['td', 'wh', 'yn']\n",
      "['td', 'wh', 'tc']\n",
      "['kh', 'ta']\n",
      "['kh', 'tc']\n",
      "['ub', 'wq', 'vc']\n",
      "['wq', 'vc', 'tb']\n",
      "['wq', 'vc', 'aq']\n",
      "['tc', 'co']\n"
     ]
    }
   ],
   "source": [
    "for c in networkx.find_cliques(networkx.Graph(nodes)):\n",
    "    print(c)"
   ]
  },
  {
   "cell_type": "code",
   "execution_count": 107,
   "id": "e108522f-9b30-40ef-9ee9-a11317cc56f1",
   "metadata": {},
   "outputs": [],
   "source": [
    "nodes = parse_input(real_input)"
   ]
  }
 ],
 "metadata": {
  "kernelspec": {
   "display_name": "Python 3 (ipykernel)",
   "language": "python",
   "name": "python3"
  },
  "language_info": {
   "codemirror_mode": {
    "name": "ipython",
    "version": 3
   },
   "file_extension": ".py",
   "mimetype": "text/x-python",
   "name": "python",
   "nbconvert_exporter": "python",
   "pygments_lexer": "ipython3",
   "version": "3.10.12"
  }
 },
 "nbformat": 4,
 "nbformat_minor": 5
}
