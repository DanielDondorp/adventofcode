{
 "cells": [
  {
   "cell_type": "code",
   "execution_count": 1,
   "id": "b9c805e4-794d-4323-95ae-635936e091da",
   "metadata": {},
   "outputs": [],
   "source": [
    "from itertools import product\n"
   ]
  },
  {
   "cell_type": "code",
   "execution_count": 2,
   "id": "8017dcc1-9011-4500-85d2-1617b78347a9",
   "metadata": {},
   "outputs": [],
   "source": [
    "test_input = \"\"\"190: 10 19\n",
    "3267: 81 40 27\n",
    "83: 17 5\n",
    "156: 15 6\n",
    "7290: 6 8 6 15\n",
    "161011: 16 10 13\n",
    "192: 17 8 14\n",
    "21037: 9 7 18 13\n",
    "292: 11 6 16 20\"\"\""
   ]
  },
  {
   "cell_type": "code",
   "execution_count": 3,
   "id": "c908f19d-1e75-4076-a707-465eebbd0cc6",
   "metadata": {},
   "outputs": [],
   "source": [
    "def parse_input(data):\n",
    "    data = data.split(\"\\n\")\n",
    "    targets = []\n",
    "    numbers = []\n",
    "    for d in data:\n",
    "        k, r = d.split(\":\")\n",
    "        targets.append(int(k))\n",
    "        r = r.lstrip(\" \").split(\" \")\n",
    "        numbers.append([int(i) for i in r])\n",
    "    return targets, numbers"
   ]
  },
  {
   "cell_type": "code",
   "execution_count": 4,
   "id": "7c982ede-b75b-473f-b84e-5854887edf25",
   "metadata": {},
   "outputs": [
    {
     "data": {
      "text/plain": [
       "([190, 3267, 83, 156, 7290, 161011, 192, 21037, 292],\n",
       " [[10, 19],\n",
       "  [81, 40, 27],\n",
       "  [17, 5],\n",
       "  [15, 6],\n",
       "  [6, 8, 6, 15],\n",
       "  [16, 10, 13],\n",
       "  [17, 8, 14],\n",
       "  [9, 7, 18, 13],\n",
       "  [11, 6, 16, 20]])"
      ]
     },
     "execution_count": 4,
     "metadata": {},
     "output_type": "execute_result"
    }
   ],
   "source": [
    "parse_input(test_input)"
   ]
  },
  {
   "cell_type": "code",
   "execution_count": 5,
   "id": "4214da47-df0c-4e18-8dfb-c033511965bc",
   "metadata": {},
   "outputs": [],
   "source": [
    "ADD = lambda x, y: x+y\n",
    "MULT = lambda x, y: x*y"
   ]
  },
  {
   "cell_type": "code",
   "execution_count": 6,
   "id": "0394c3ed-d7c3-41a2-a8a6-73146ff28766",
   "metadata": {},
   "outputs": [],
   "source": [
    "operators = [ADD, MULT]"
   ]
  },
  {
   "cell_type": "code",
   "execution_count": 7,
   "id": "9cc5f8e5-9963-45e8-bd7e-4c1c7e09a353",
   "metadata": {},
   "outputs": [],
   "source": [
    "test_targets, test_numbers = parse_input(test_input)"
   ]
  },
  {
   "cell_type": "code",
   "execution_count": 8,
   "id": "2356df99-bdfc-4c35-9949-1ae3911e0022",
   "metadata": {},
   "outputs": [],
   "source": [
    "def test_set(result, numbers):\n",
    "    gaps = len(numbers)-1\n",
    "    possibilities = product(operators, repeat = gaps)\n",
    "    for possibility in possibilities:\n",
    "        res = numbers[0]\n",
    "        for i, operator in enumerate(possibility):\n",
    "            res = operator(res, numbers[i+1])\n",
    "            if res > result:\n",
    "                break\n",
    "        if res == result:\n",
    "            return True\n",
    "    return False"
   ]
  },
  {
   "cell_type": "code",
   "execution_count": 9,
   "id": "c6d30e66-c230-4ec0-91d4-270c43feeeb3",
   "metadata": {},
   "outputs": [],
   "source": [
    "def process_data(puzzle_input):\n",
    "    targets, numbers = parse_input(puzzle_input)\n",
    "    correct_targets = []\n",
    "    for t, ns in zip(targets, numbers):\n",
    "        if test_set(t, ns):\n",
    "            correct_targets.append(t)\n",
    "    return sum(correct_targets)"
   ]
  },
  {
   "cell_type": "code",
   "execution_count": 10,
   "id": "54280e24-a7b4-4ed9-943e-c4253f8bc807",
   "metadata": {},
   "outputs": [
    {
     "data": {
      "text/plain": [
       "3749"
      ]
     },
     "execution_count": 10,
     "metadata": {},
     "output_type": "execute_result"
    }
   ],
   "source": [
    "process_data(test_input)"
   ]
  },
  {
   "cell_type": "code",
   "execution_count": 11,
   "id": "498c4145-1cd2-4c08-a9b7-c78ec58463ca",
   "metadata": {},
   "outputs": [],
   "source": [
    "with open(\"input.txt\", \"r\") as f:\n",
    "    data = f.read()"
   ]
  },
  {
   "cell_type": "code",
   "execution_count": 12,
   "id": "c71a1268-4d56-4657-9e5a-04fdbb3418f5",
   "metadata": {},
   "outputs": [
    {
     "data": {
      "text/plain": [
       "2941973819040"
      ]
     },
     "execution_count": 12,
     "metadata": {},
     "output_type": "execute_result"
    }
   ],
   "source": [
    "process_data(data)"
   ]
  },
  {
   "cell_type": "code",
   "execution_count": 13,
   "id": "a7c6ad89-20b7-4ac7-970b-eeabc77e0ac4",
   "metadata": {},
   "outputs": [],
   "source": [
    "CONC = lambda x, y: int(f\"{x}{y}\")"
   ]
  },
  {
   "cell_type": "code",
   "execution_count": 14,
   "id": "56baef33-6442-4f6b-858f-5c20fb369b3d",
   "metadata": {},
   "outputs": [],
   "source": [
    "operators = [ADD, MULT, CONC]"
   ]
  },
  {
   "cell_type": "code",
   "execution_count": 15,
   "id": "d5c177e8-ec5c-4000-a2fb-b0070a0a6237",
   "metadata": {},
   "outputs": [
    {
     "name": "stdout",
     "output_type": "stream",
     "text": [
      "CPU times: user 82 μs, sys: 22 μs, total: 104 μs\n",
      "Wall time: 101 μs\n"
     ]
    },
    {
     "data": {
      "text/plain": [
       "11387"
      ]
     },
     "execution_count": 15,
     "metadata": {},
     "output_type": "execute_result"
    }
   ],
   "source": [
    "%%time\n",
    "process_data(test_input)"
   ]
  },
  {
   "cell_type": "code",
   "execution_count": 16,
   "id": "b30627be-0ae5-41c8-9035-d3459e9b5da2",
   "metadata": {},
   "outputs": [
    {
     "name": "stdout",
     "output_type": "stream",
     "text": [
      "CPU times: user 10.1 s, sys: 1.54 ms, total: 10.1 s\n",
      "Wall time: 10.8 s\n"
     ]
    },
    {
     "data": {
      "text/plain": [
       "249943041417600"
      ]
     },
     "execution_count": 16,
     "metadata": {},
     "output_type": "execute_result"
    }
   ],
   "source": [
    "%%time\n",
    "process_data(data)"
   ]
  }
 ],
 "metadata": {
  "kernelspec": {
   "display_name": "Python 3 (ipykernel)",
   "language": "python",
   "name": "python3"
  },
  "language_info": {
   "codemirror_mode": {
    "name": "ipython",
    "version": 3
   },
   "file_extension": ".py",
   "mimetype": "text/x-python",
   "name": "python",
   "nbconvert_exporter": "python",
   "pygments_lexer": "ipython3",
   "version": "3.10.12"
  }
 },
 "nbformat": 4,
 "nbformat_minor": 5
}
