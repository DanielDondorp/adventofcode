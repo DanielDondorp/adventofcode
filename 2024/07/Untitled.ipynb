{
 "cells": [
  {
   "cell_type": "code",
   "execution_count": 1,
   "id": "b9c805e4-794d-4323-95ae-635936e091da",
   "metadata": {},
   "outputs": [],
   "source": [
    "from itertools import product\n"
   ]
  },
  {
   "cell_type": "code",
   "execution_count": 2,
   "id": "8017dcc1-9011-4500-85d2-1617b78347a9",
   "metadata": {},
   "outputs": [],
   "source": [
    "test_input = \"\"\"190: 10 19\n",
    "3267: 81 40 27\n",
    "83: 17 5\n",
    "156: 15 6\n",
    "7290: 6 8 6 15\n",
    "161011: 16 10 13\n",
    "192: 17 8 14\n",
    "21037: 9 7 18 13\n",
    "292: 11 6 16 20\"\"\""
   ]
  },
  {
   "cell_type": "code",
   "execution_count": 51,
   "id": "c908f19d-1e75-4076-a707-465eebbd0cc6",
   "metadata": {},
   "outputs": [],
   "source": [
    "def parse_input(data):\n",
    "    data = data.split(\"\\n\")\n",
    "    targets = []\n",
    "    numbers = []\n",
    "    for d in data:\n",
    "        k, r = d.split(\":\")\n",
    "        targets.append(int(k))\n",
    "        r = r.lstrip(\" \").split(\" \")\n",
    "        numbers.append([int(i) for i in r])\n",
    "    return targets, numbers"
   ]
  },
  {
   "cell_type": "code",
   "execution_count": 76,
   "id": "7c982ede-b75b-473f-b84e-5854887edf25",
   "metadata": {},
   "outputs": [
    {
     "data": {
      "text/plain": [
       "([190, 3267, 83, 156, 7290, 161011, 192, 21037, 292],\n",
       " [[10, 19],\n",
       "  [81, 40, 27],\n",
       "  [17, 5],\n",
       "  [15, 6],\n",
       "  [6, 8, 6, 15],\n",
       "  [16, 10, 13],\n",
       "  [17, 8, 14],\n",
       "  [9, 7, 18, 13],\n",
       "  [11, 6, 16, 20]])"
      ]
     },
     "execution_count": 76,
     "metadata": {},
     "output_type": "execute_result"
    }
   ],
   "source": [
    "parse_input(test_input)"
   ]
  },
  {
   "cell_type": "code",
   "execution_count": 77,
   "id": "4214da47-df0c-4e18-8dfb-c033511965bc",
   "metadata": {},
   "outputs": [],
   "source": [
    "ADD = lambda x, y: x+y\n",
    "MULT = lambda x, y: x*y"
   ]
  },
  {
   "cell_type": "code",
   "execution_count": 78,
   "id": "0394c3ed-d7c3-41a2-a8a6-73146ff28766",
   "metadata": {},
   "outputs": [],
   "source": [
    "operators = [ADD, MULT]"
   ]
  },
  {
   "cell_type": "code",
   "execution_count": 79,
   "id": "9cc5f8e5-9963-45e8-bd7e-4c1c7e09a353",
   "metadata": {},
   "outputs": [],
   "source": [
    "test_targets, test_numbers = parse_input(test_input)"
   ]
  },
  {
   "cell_type": "code",
   "execution_count": 80,
   "id": "2356df99-bdfc-4c35-9949-1ae3911e0022",
   "metadata": {},
   "outputs": [],
   "source": [
    "def test_set(result, numbers):\n",
    "    gaps = len(numbers)-1\n",
    "    possibilities = product(operators, repeat = gaps)\n",
    "    for possibility in possibilities:\n",
    "        res = numbers[0]\n",
    "        for i, operator in enumerate(possibility):\n",
    "            res = operator(res, numbers[i+1])\n",
    "            if res > result:\n",
    "                break\n",
    "        if res == result:\n",
    "            return True\n",
    "    return False\n",
    "            \n",
    "        \n",
    "        \n",
    "        \n",
    "    "
   ]
  },
  {
   "cell_type": "code",
   "execution_count": 83,
   "id": "c6d30e66-c230-4ec0-91d4-270c43feeeb3",
   "metadata": {},
   "outputs": [],
   "source": [
    "def process_data(puzzle_input):\n",
    "    targets, numbers = parse_input(puzzle_input)\n",
    "    correct_targets = []\n",
    "    for t, ns in zip(targets, numbers):\n",
    "        if test_set(t, ns):\n",
    "            correct_targets.append(t)\n",
    "    return sum(correct_targets)"
   ]
  },
  {
   "cell_type": "code",
   "execution_count": 84,
   "id": "54280e24-a7b4-4ed9-943e-c4253f8bc807",
   "metadata": {},
   "outputs": [
    {
     "data": {
      "text/plain": [
       "3749"
      ]
     },
     "execution_count": 84,
     "metadata": {},
     "output_type": "execute_result"
    }
   ],
   "source": [
    "process_data(test_input)"
   ]
  },
  {
   "cell_type": "code",
   "execution_count": 85,
   "id": "498c4145-1cd2-4c08-a9b7-c78ec58463ca",
   "metadata": {},
   "outputs": [],
   "source": [
    "with open(\"input.txt\", \"r\") as f:\n",
    "    data = f.read()"
   ]
  },
  {
   "cell_type": "code",
   "execution_count": 86,
   "id": "c71a1268-4d56-4657-9e5a-04fdbb3418f5",
   "metadata": {},
   "outputs": [
    {
     "data": {
      "text/plain": [
       "2941973819040"
      ]
     },
     "execution_count": 86,
     "metadata": {},
     "output_type": "execute_result"
    }
   ],
   "source": [
    "process_data(data)"
   ]
  },
  {
   "cell_type": "code",
   "execution_count": 92,
   "id": "a7c6ad89-20b7-4ac7-970b-eeabc77e0ac4",
   "metadata": {},
   "outputs": [],
   "source": [
    "CONC = lambda x, y: int(f\"{a}{b}\")"
   ]
  },
  {
   "cell_type": "code",
   "execution_count": 93,
   "id": "56baef33-6442-4f6b-858f-5c20fb369b3d",
   "metadata": {},
   "outputs": [],
   "source": [
    "operators = [ADD, MULT, CONC]"
   ]
  },
  {
   "cell_type": "code",
   "execution_count": 94,
   "id": "d5c177e8-ec5c-4000-a2fb-b0070a0a6237",
   "metadata": {},
   "outputs": [
    {
     "ename": "NameError",
     "evalue": "name 'a' is not defined",
     "output_type": "error",
     "traceback": [
      "\u001b[0;31m---------------------------------------------------------------------------\u001b[0m",
      "\u001b[0;31mNameError\u001b[0m                                 Traceback (most recent call last)",
      "Cell \u001b[0;32mIn[94], line 1\u001b[0m\n\u001b[0;32m----> 1\u001b[0m \u001b[43mprocess_data\u001b[49m\u001b[43m(\u001b[49m\u001b[43mtest_input\u001b[49m\u001b[43m)\u001b[49m\n",
      "Cell \u001b[0;32mIn[83], line 5\u001b[0m, in \u001b[0;36mprocess_data\u001b[0;34m(puzzle_input)\u001b[0m\n\u001b[1;32m      3\u001b[0m correct_targets \u001b[38;5;241m=\u001b[39m []\n\u001b[1;32m      4\u001b[0m \u001b[38;5;28;01mfor\u001b[39;00m t, ns \u001b[38;5;129;01min\u001b[39;00m \u001b[38;5;28mzip\u001b[39m(targets, numbers):\n\u001b[0;32m----> 5\u001b[0m     \u001b[38;5;28;01mif\u001b[39;00m \u001b[43mtest_set\u001b[49m\u001b[43m(\u001b[49m\u001b[43mt\u001b[49m\u001b[43m,\u001b[49m\u001b[43m \u001b[49m\u001b[43mns\u001b[49m\u001b[43m)\u001b[49m:\n\u001b[1;32m      6\u001b[0m         correct_targets\u001b[38;5;241m.\u001b[39mappend(t)\n\u001b[1;32m      7\u001b[0m \u001b[38;5;28;01mreturn\u001b[39;00m \u001b[38;5;28msum\u001b[39m(correct_targets)\n",
      "Cell \u001b[0;32mIn[80], line 7\u001b[0m, in \u001b[0;36mtest_set\u001b[0;34m(result, numbers)\u001b[0m\n\u001b[1;32m      5\u001b[0m res \u001b[38;5;241m=\u001b[39m numbers[\u001b[38;5;241m0\u001b[39m]\n\u001b[1;32m      6\u001b[0m \u001b[38;5;28;01mfor\u001b[39;00m i, operator \u001b[38;5;129;01min\u001b[39;00m \u001b[38;5;28menumerate\u001b[39m(possibility):\n\u001b[0;32m----> 7\u001b[0m     res \u001b[38;5;241m=\u001b[39m \u001b[43moperator\u001b[49m\u001b[43m(\u001b[49m\u001b[43mres\u001b[49m\u001b[43m,\u001b[49m\u001b[43m \u001b[49m\u001b[43mnumbers\u001b[49m\u001b[43m[\u001b[49m\u001b[43mi\u001b[49m\u001b[38;5;241;43m+\u001b[39;49m\u001b[38;5;241;43m1\u001b[39;49m\u001b[43m]\u001b[49m\u001b[43m)\u001b[49m\n\u001b[1;32m      8\u001b[0m     \u001b[38;5;28;01mif\u001b[39;00m res \u001b[38;5;241m>\u001b[39m result:\n\u001b[1;32m      9\u001b[0m         \u001b[38;5;28;01mbreak\u001b[39;00m\n",
      "Cell \u001b[0;32mIn[92], line 1\u001b[0m, in \u001b[0;36m<lambda>\u001b[0;34m(x, y)\u001b[0m\n\u001b[0;32m----> 1\u001b[0m CONC \u001b[38;5;241m=\u001b[39m \u001b[38;5;28;01mlambda\u001b[39;00m x, y: \u001b[38;5;28mint\u001b[39m(\u001b[38;5;124mf\u001b[39m\u001b[38;5;124m\"\u001b[39m\u001b[38;5;132;01m{\u001b[39;00m\u001b[43ma\u001b[49m\u001b[38;5;132;01m}\u001b[39;00m\u001b[38;5;132;01m{\u001b[39;00mb\u001b[38;5;132;01m}\u001b[39;00m\u001b[38;5;124m\"\u001b[39m)\n",
      "\u001b[0;31mNameError\u001b[0m: name 'a' is not defined"
     ]
    }
   ],
   "source": [
    "process_data(test_input)"
   ]
  },
  {
   "cell_type": "code",
   "execution_count": 91,
   "id": "b30627be-0ae5-41c8-9035-d3459e9b5da2",
   "metadata": {},
   "outputs": [
    {
     "data": {
      "text/plain": [
       "249943041417600"
      ]
     },
     "execution_count": 91,
     "metadata": {},
     "output_type": "execute_result"
    }
   ],
   "source": [
    "process_data(data)"
   ]
  },
  {
   "cell_type": "code",
   "execution_count": null,
   "id": "798cbc68-9be6-4968-b699-f4a1eea58f86",
   "metadata": {},
   "outputs": [],
   "source": []
  }
 ],
 "metadata": {
  "kernelspec": {
   "display_name": "Python 3 (ipykernel)",
   "language": "python",
   "name": "python3"
  },
  "language_info": {
   "codemirror_mode": {
    "name": "ipython",
    "version": 3
   },
   "file_extension": ".py",
   "mimetype": "text/x-python",
   "name": "python",
   "nbconvert_exporter": "python",
   "pygments_lexer": "ipython3",
   "version": "3.10.12"
  }
 },
 "nbformat": 4,
 "nbformat_minor": 5
}
