{
 "cells": [
  {
   "cell_type": "code",
   "execution_count": 20,
   "id": "5f7ec4b9-15ff-4faa-a4ea-851e868e1471",
   "metadata": {},
   "outputs": [],
   "source": [
    "import aocd\n",
    "import numpy as np"
   ]
  },
  {
   "cell_type": "markdown",
   "id": "9d511dfd-76e8-48fe-a0f0-4a70757f7bed",
   "metadata": {},
   "source": [
    "Calculate the result of multiplying the secret number by 64.\n",
    "Then, mix this result into the secret number. Finally, prune the secret number.\n",
    "\n",
    "Calculate the result of dividing the secret number by 32.\n",
    "Round the result down to the nearest integer. \n",
    "Then, mix this result into the secret number. Finally, prune the secret number.\n",
    "\n",
    "Calculate the result of multiplying the secret number by 2048.\n",
    "Then, mix this result into the secret number. Finally, prune the secret number.\n",
    "\n",
    "expected 10 first results for `123`:\n",
    "\n",
    "```\n",
    "15887950\n",
    "16495136\n",
    "527345\n",
    "704524\n",
    "1553684\n",
    "12683156\n",
    "11100544\n",
    "12249484\n",
    "7753432\n",
    "5908254\n",
    "```"
   ]
  },
  {
   "cell_type": "code",
   "execution_count": 27,
   "id": "1b378b60-1c34-46a5-8da0-cf6283b75707",
   "metadata": {},
   "outputs": [],
   "source": [
    "def mix(n1, n2):\n",
    "    return n1 ^ n2\n",
    "\n",
    "def prune(s):\n",
    "    return s%16777216\n",
    "    "
   ]
  },
  {
   "cell_type": "code",
   "execution_count": 52,
   "id": "9bab2372-6fbc-4afb-9d75-488a67e74b04",
   "metadata": {},
   "outputs": [],
   "source": [
    "def next_number(number):\n",
    "    number = mix(number*64, number)\n",
    "    number = prune(number)\n",
    "    number = mix((number//32), number)\n",
    "    number = prune(number)\n",
    "    number = mix(number*2048, number)\n",
    "    number = prune(number)\n",
    "    return number"
   ]
  },
  {
   "cell_type": "code",
   "execution_count": 53,
   "id": "28da4c5c-2093-4365-bb54-b576758a022d",
   "metadata": {},
   "outputs": [
    {
     "name": "stdout",
     "output_type": "stream",
     "text": [
      "15887950\n",
      "16495136\n",
      "527345\n",
      "704524\n",
      "1553684\n",
      "12683156\n",
      "11100544\n",
      "12249484\n",
      "7753432\n",
      "5908254\n"
     ]
    }
   ],
   "source": [
    "sn = 123\n",
    "for i in range(10):\n",
    "    sn = next_number(sn)\n",
    "    print(sn)"
   ]
  },
  {
   "cell_type": "code",
   "execution_count": 54,
   "id": "c5fe560f-e048-456c-b13e-9c0435bcff3b",
   "metadata": {},
   "outputs": [],
   "source": [
    "def calculate_nth_number(secret_number, n = 2000):\n",
    "    for i in range(n):\n",
    "        secret_number = next_number(secret_number)\n",
    "    return secret_number"
   ]
  },
  {
   "cell_type": "code",
   "execution_count": 55,
   "id": "0de457c2-9484-4c23-9e79-915c1718460d",
   "metadata": {},
   "outputs": [
    {
     "data": {
      "text/plain": [
       "37327623"
      ]
     },
     "execution_count": 55,
     "metadata": {},
     "output_type": "execute_result"
    }
   ],
   "source": [
    "sum([calculate_nth_number(x) for x in [1, 10, 100, 2024]])"
   ]
  },
  {
   "cell_type": "code",
   "execution_count": 56,
   "id": "bbefae39-86a1-4ce8-9d5f-52c7cf3ea5ce",
   "metadata": {},
   "outputs": [],
   "source": [
    "numbers = aocd.get_data()"
   ]
  },
  {
   "cell_type": "code",
   "execution_count": 57,
   "id": "8316b58b-f76e-40e4-9a00-6702d6b47751",
   "metadata": {},
   "outputs": [],
   "source": [
    "numbers = [int(x) for x in numbers.split(\"\\n\")]"
   ]
  },
  {
   "cell_type": "code",
   "execution_count": 68,
   "id": "d9be6208-ef73-4e81-b704-0bef777b32db",
   "metadata": {},
   "outputs": [
    {
     "name": "stdout",
     "output_type": "stream",
     "text": [
      "CPU times: user 1.74 s, sys: 0 ns, total: 1.74 s\n",
      "Wall time: 1.77 s\n"
     ]
    },
    {
     "data": {
      "text/plain": [
       "np.int64(14691757043)"
      ]
     },
     "execution_count": 68,
     "metadata": {},
     "output_type": "execute_result"
    }
   ],
   "source": [
    "%%time\n",
    "sum([calculate_nth_number(x) for x in numbers])"
   ]
  },
  {
   "cell_type": "code",
   "execution_count": 69,
   "id": "d32f31ae-748e-4a9f-aa9e-8a7c28817bb7",
   "metadata": {},
   "outputs": [
    {
     "name": "stdout",
     "output_type": "stream",
     "text": [
      "CPU times: user 48.6 ms, sys: 0 ns, total: 48.6 ms\n",
      "Wall time: 48.8 ms\n"
     ]
    },
    {
     "data": {
      "text/plain": [
       "np.int64(14691757043)"
      ]
     },
     "execution_count": 69,
     "metadata": {},
     "output_type": "execute_result"
    }
   ],
   "source": [
    "%%time\n",
    "#faster:\n",
    "sum(calculate_nth_number(numbers))"
   ]
  },
  {
   "cell_type": "code",
   "execution_count": 70,
   "id": "21280093-80df-41aa-9a65-7526d2807be8",
   "metadata": {},
   "outputs": [],
   "source": [
    "#for part two Im going to want a dataframe :/\n",
    "import pandas as pd"
   ]
  },
  {
   "cell_type": "code",
   "execution_count": 142,
   "id": "d13ff5c9-2053-4312-89dc-cf1a2fa999c9",
   "metadata": {},
   "outputs": [],
   "source": [
    "def track_sequences(numbers, cycles = 2000):\n",
    "    diffs = np.zeros_like(numbers)\n",
    "    prices = np.zeros_like(numbers)\n",
    "    for cycle in range(cycles):\n",
    "        nannervalues = numbers % 10\n",
    "        next_numbers = calculate_nth_number(numbers, 1)\n",
    "        next_nannervalues = next_numbers % 10\n",
    "        diffs = np.vstack([diffs, next_nannervalues-nannervalues])\n",
    "        prices = np.vstack([prices, nannervalues])\n",
    "        numbers = next_numbers\n",
    "    return diffs, prices"
   ]
  },
  {
   "cell_type": "code",
   "execution_count": 143,
   "id": "c09e1541-3e66-4aa2-ab76-990dc89d3f4d",
   "metadata": {},
   "outputs": [],
   "source": [
    "test_numbers = np.array([1,2,3,2024])\n",
    "test_numbers2 = np.array([123])"
   ]
  },
  {
   "cell_type": "code",
   "execution_count": 144,
   "id": "42524266-87c5-43eb-bf2d-79158d38eaed",
   "metadata": {},
   "outputs": [],
   "source": [
    "d, p = track_sequences(test_numbers)"
   ]
  },
  {
   "cell_type": "code",
   "execution_count": 229,
   "id": "4763f0a4-b69c-4c32-868b-2233c42604ca",
   "metadata": {},
   "outputs": [],
   "source": [
    "from scipy.signal import convolve2d, correlate2d"
   ]
  },
  {
   "cell_type": "markdown",
   "id": "dd775201-5f17-482b-b541-1aea5e9d83a4",
   "metadata": {},
   "source": [
    "Spent a bunch of time figuring out why my convolution idea didnt work. turns out I need correlate to not flip the kernel..."
   ]
  },
  {
   "cell_type": "code",
   "execution_count": 235,
   "id": "99eeb8e6-8573-4e8c-b671-71434fadcc07",
   "metadata": {},
   "outputs": [],
   "source": [
    "# Input sequence (vertical array)\n",
    "sequence = np.array([[-2],\n",
    "                     [ 1],\n",
    "                     [-1],\n",
    "                     [ 3]])\n",
    "\n",
    "# Use the sequence directly as the kernel\n",
    "kernel = sequence.copy()\n",
    "\n",
    "# Example test array (this should match the sequence exactly)\n",
    "test_array = np.array([[1],\n",
    "                       [-2],\n",
    "                       [ 1],\n",
    "                       [-1],\n",
    "                       [ 3],\n",
    "                       [1]])\n",
    "\n",
    "# Perform 2D convolution\n",
    "# result = convolve2d(test_array, np.flip(kernel), mode = \"valid\")\n",
    "result = correlate2d(d, kernel, mode=\"valid\")\n",
    "\n",
    "# Compute the match value (sum of squared elements in the sequence)\n",
    "match_value = np.sum(sequence*sequence)\n",
    "\n",
    "# Check for matches\n",
    "matches = (result == match_value).astype(int)\n",
    "\n"
   ]
  },
  {
   "cell_type": "code",
   "execution_count": 239,
   "id": "fb4a8b7c-ae8e-4483-a928-3331de48d2ac",
   "metadata": {},
   "outputs": [
    {
     "data": {
      "text/plain": [
       "array([[  15,    2],\n",
       "       [  16,    1],\n",
       "       [  29,    3],\n",
       "       [  37,    3],\n",
       "       [  41,    3],\n",
       "       [  50,    3],\n",
       "       [  60,    2],\n",
       "       [  67,    1],\n",
       "       [  74,    0],\n",
       "       [  84,    0],\n",
       "       [  87,    2],\n",
       "       [  96,    3],\n",
       "       [ 122,    1],\n",
       "       [ 137,    1],\n",
       "       [ 149,    0],\n",
       "       [ 176,    0],\n",
       "       [ 185,    2],\n",
       "       [ 228,    3],\n",
       "       [ 254,    0],\n",
       "       [ 283,    1],\n",
       "       [ 288,    1],\n",
       "       [ 306,    3],\n",
       "       [ 319,    2],\n",
       "       [ 326,    2],\n",
       "       [ 351,    3],\n",
       "       [ 374,    2],\n",
       "       [ 380,    1],\n",
       "       [ 418,    3],\n",
       "       [ 420,    3],\n",
       "       [ 424,    1],\n",
       "       [ 441,    3],\n",
       "       [ 442,    0],\n",
       "       [ 452,    3],\n",
       "       [ 475,    2],\n",
       "       [ 485,    0],\n",
       "       [ 514,    2],\n",
       "       [ 518,    2],\n",
       "       [ 528,    2],\n",
       "       [ 532,    0],\n",
       "       [ 560,    3],\n",
       "       [ 587,    0],\n",
       "       [ 590,    1],\n",
       "       [ 612,    1],\n",
       "       [ 628,    0],\n",
       "       [ 660,    2],\n",
       "       [ 665,    2],\n",
       "       [ 697,    2],\n",
       "       [ 702,    0],\n",
       "       [ 716,    2],\n",
       "       [ 720,    3],\n",
       "       [ 721,    1],\n",
       "       [ 767,    0],\n",
       "       [ 801,    2],\n",
       "       [ 804,    2],\n",
       "       [ 806,    3],\n",
       "       [ 848,    0],\n",
       "       [ 902,    1],\n",
       "       [ 903,    2],\n",
       "       [ 910,    0],\n",
       "       [ 936,    2],\n",
       "       [ 944,    1],\n",
       "       [ 950,    3],\n",
       "       [ 957,    3],\n",
       "       [ 969,    2],\n",
       "       [ 971,    0],\n",
       "       [ 972,    3],\n",
       "       [ 976,    2],\n",
       "       [1027,    0],\n",
       "       [1038,    1],\n",
       "       [1038,    3],\n",
       "       [1053,    0],\n",
       "       [1062,    0],\n",
       "       [1077,    1],\n",
       "       [1090,    1],\n",
       "       [1094,    0],\n",
       "       [1120,    3],\n",
       "       [1163,    2],\n",
       "       [1208,    1],\n",
       "       [1237,    0],\n",
       "       [1246,    2],\n",
       "       [1252,    3],\n",
       "       [1256,    0],\n",
       "       [1260,    0],\n",
       "       [1295,    3],\n",
       "       [1331,    2],\n",
       "       [1335,    3],\n",
       "       [1386,    3],\n",
       "       [1391,    3],\n",
       "       [1392,    0],\n",
       "       [1409,    1],\n",
       "       [1418,    1],\n",
       "       [1430,    3],\n",
       "       [1431,    1],\n",
       "       [1437,    1],\n",
       "       [1445,    1],\n",
       "       [1454,    2],\n",
       "       [1484,    2],\n",
       "       [1537,    0],\n",
       "       [1547,    0],\n",
       "       [1567,    0],\n",
       "       [1604,    3],\n",
       "       [1607,    0],\n",
       "       [1621,    2],\n",
       "       [1630,    2],\n",
       "       [1668,    2],\n",
       "       [1706,    3],\n",
       "       [1711,    0],\n",
       "       [1723,    3],\n",
       "       [1726,    0],\n",
       "       [1737,    1],\n",
       "       [1769,    0],\n",
       "       [1786,    1],\n",
       "       [1790,    3],\n",
       "       [1792,    0],\n",
       "       [1798,    1],\n",
       "       [1802,    2],\n",
       "       [1872,    0],\n",
       "       [1891,    3],\n",
       "       [1892,    0],\n",
       "       [1898,    1],\n",
       "       [1909,    2],\n",
       "       [1929,    2],\n",
       "       [1942,    3],\n",
       "       [1961,    0],\n",
       "       [1965,    0],\n",
       "       [1988,    1]])"
      ]
     },
     "execution_count": 239,
     "metadata": {},
     "output_type": "execute_result"
    }
   ],
   "source": [
    "np.argwhere(matches)"
   ]
  },
  {
   "cell_type": "code",
   "execution_count": null,
   "id": "a707dc99-c1f7-40aa-845f-6d58cef7351f",
   "metadata": {},
   "outputs": [],
   "source": []
  }
 ],
 "metadata": {
  "kernelspec": {
   "display_name": "Python 3 (ipykernel)",
   "language": "python",
   "name": "python3"
  },
  "language_info": {
   "codemirror_mode": {
    "name": "ipython",
    "version": 3
   },
   "file_extension": ".py",
   "mimetype": "text/x-python",
   "name": "python",
   "nbconvert_exporter": "python",
   "pygments_lexer": "ipython3",
   "version": "3.10.12"
  }
 },
 "nbformat": 4,
 "nbformat_minor": 5
}
