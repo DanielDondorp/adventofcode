{
 "cells": [
  {
   "cell_type": "markdown",
   "id": "02c012bc-9817-46e3-b163-a879dae2f417",
   "metadata": {},
   "source": [
    "--- Day 2: Red-Nosed Reports ---\n",
    "Fortunately, the first location The Historians want to search isn't a long walk from the Chief Historian's office.\n",
    "\n",
    "While the Red-Nosed Reindeer nuclear fusion/fission plant appears to contain no sign of the Chief Historian, the engineers there run up to you as soon as they see you. Apparently, they still talk about the time Rudolph was saved through molecular synthesis from a single electron.\n",
    "\n",
    "They're quick to add that - since you're already here - they'd really appreciate your help analyzing some unusual data from the Red-Nosed reactor. You turn to check if The Historians are waiting for you, but they seem to have already divided into groups that are currently searching every corner of the facility. You offer to help with the unusual data.\n",
    "\n",
    "The unusual data (your puzzle input) consists of many reports, one report per line. Each report is a list of numbers called levels that are separated by spaces. For example:\n",
    "```\n",
    "7 6 4 2 1\n",
    "1 2 7 8 9\n",
    "9 7 6 2 1\n",
    "1 3 2 4 5\n",
    "8 6 4 4 1\n",
    "1 3 6 7 9\n",
    "```\n",
    "This example data contains six reports each containing five levels.\n",
    "\n",
    "The engineers are trying to figure out which reports are safe. The Red-Nosed reactor safety systems can only tolerate levels that are either gradually increasing or gradually decreasing. So, a report only counts as safe if both of the following are true:\n",
    "\n",
    "The levels are either all increasing or all decreasing.\n",
    "Any two adjacent levels differ by at least one and at most three.\n",
    "In the example above, the reports can be found safe or unsafe by checking those rules:\n",
    "\n",
    "7 6 4 2 1: Safe because the levels are all decreasing by 1 or 2.\n",
    "1 2 7 8 9: Unsafe because 2 7 is an increase of 5.\n",
    "9 7 6 2 1: Unsafe because 6 2 is a decrease of 4.\n",
    "1 3 2 4 5: Unsafe because 1 3 is increasing but 3 2 is decreasing.\n",
    "8 6 4 4 1: Unsafe because 4 4 is neither an increase or a decrease.\n",
    "1 3 6 7 9: Safe because the levels are all increasing by 1, 2, or 3.\n",
    "So, in this example, 2 reports are safe.\n",
    "\n",
    "Analyze the unusual data from the engineers. How many reports are safe?"
   ]
  },
  {
   "cell_type": "code",
   "execution_count": 21,
   "id": "e843212f-5e74-49ae-a1b6-de6c19ad851f",
   "metadata": {},
   "outputs": [],
   "source": [
    "testdata = \"\"\"7 6 4 2 1\n",
    "1 2 7 8 9\n",
    "9 7 6 2 1\n",
    "1 3 2 4 5\n",
    "8 6 4 4 1\n",
    "1 3 6 7 9\n",
    "\"\"\""
   ]
  },
  {
   "cell_type": "code",
   "execution_count": 22,
   "id": "ffca3412-10c5-4b7b-93be-20984f49cbfe",
   "metadata": {},
   "outputs": [
    {
     "data": {
      "text/plain": [
       "'7 6 4 2 1\\n1 2 7 8 9\\n9 7 6 2 1\\n1 3 2 4 5\\n8 6 4 4 1\\n1 3 6 7 9\\n'"
      ]
     },
     "execution_count": 22,
     "metadata": {},
     "output_type": "execute_result"
    }
   ],
   "source": [
    "testdata"
   ]
  },
  {
   "cell_type": "code",
   "execution_count": 32,
   "id": "519a493a-c5c3-4925-ba6f-042876ef68c6",
   "metadata": {},
   "outputs": [],
   "source": [
    "def text_to_arrays(text):\n",
    "    text = text.rstrip(\"\\n\").split(\"\\n\")\n",
    "    \n",
    "    arrays = [np.array([int(n) for n in line.split(\" \")]) for line in text if len(line)>1]\n",
    "    return arrays"
   ]
  },
  {
   "cell_type": "code",
   "execution_count": 33,
   "id": "5473186f-f219-4e31-b0cc-be1d111bd425",
   "metadata": {},
   "outputs": [],
   "source": [
    "arrs = text_to_arrays(testdata)"
   ]
  },
  {
   "cell_type": "code",
   "execution_count": 34,
   "id": "743cb6f1-2b5c-41ec-8b4f-ab6a69920645",
   "metadata": {},
   "outputs": [
    {
     "data": {
      "text/plain": [
       "[array([7, 6, 4, 2, 1]),\n",
       " array([1, 2, 7, 8, 9]),\n",
       " array([9, 7, 6, 2, 1]),\n",
       " array([1, 3, 2, 4, 5]),\n",
       " array([8, 6, 4, 4, 1]),\n",
       " array([1, 3, 6, 7, 9])]"
      ]
     },
     "execution_count": 34,
     "metadata": {},
     "output_type": "execute_result"
    }
   ],
   "source": [
    "arrs"
   ]
  },
  {
   "cell_type": "code",
   "execution_count": 53,
   "id": "31ece370-b606-435e-a110-e64436299e08",
   "metadata": {},
   "outputs": [],
   "source": [
    "def check_safe(arr):\n",
    "    diffs = np.diff(arr)\n",
    "    if any(np.abs(diffs) > 3):\n",
    "        return False\n",
    "    if any(diffs<0):\n",
    "        if not all(diffs <0):\n",
    "            return False\n",
    "    if any(diffs>0):\n",
    "        if not all(diffs>0):\n",
    "            return False\n",
    "    return True"
   ]
  },
  {
   "cell_type": "code",
   "execution_count": 54,
   "id": "2589dce5-7610-49d5-ba99-9e763b666a68",
   "metadata": {},
   "outputs": [
    {
     "data": {
      "text/plain": [
       "True"
      ]
     },
     "execution_count": 54,
     "metadata": {},
     "output_type": "execute_result"
    }
   ],
   "source": [
    "check_safe(arrs[0])"
   ]
  },
  {
   "cell_type": "code",
   "execution_count": 55,
   "id": "fc4bfd2b-feed-481a-9f29-04f819a9c740",
   "metadata": {},
   "outputs": [
    {
     "name": "stdout",
     "output_type": "stream",
     "text": [
      "True\n",
      "False\n",
      "False\n",
      "False\n",
      "False\n",
      "True\n"
     ]
    }
   ],
   "source": [
    "for arr in arrs:\n",
    "    print(check_safe(arr))"
   ]
  },
  {
   "cell_type": "code",
   "execution_count": 56,
   "id": "baa64a7c-420c-46a7-83db-ff454fef52b3",
   "metadata": {},
   "outputs": [],
   "source": [
    "with open(\"input.txt\", \"r\") as f:\n",
    "    data = f.read()"
   ]
  },
  {
   "cell_type": "code",
   "execution_count": 57,
   "id": "a59ff3f7-e185-48e9-a83f-dbd371b1f227",
   "metadata": {},
   "outputs": [],
   "source": [
    "data = text_to_arrays(data)"
   ]
  },
  {
   "cell_type": "code",
   "execution_count": 58,
   "id": "911fc532-dc22-440f-a12c-72ff6a783c51",
   "metadata": {},
   "outputs": [],
   "source": [
    "sum_safe = np.sum([check_safe(arr) for arr in data])"
   ]
  },
  {
   "cell_type": "code",
   "execution_count": 59,
   "id": "e33bdd64-9d3e-4d6f-a066-0430cb626dc8",
   "metadata": {},
   "outputs": [
    {
     "data": {
      "text/plain": [
       "np.int64(383)"
      ]
     },
     "execution_count": 59,
     "metadata": {},
     "output_type": "execute_result"
    }
   ],
   "source": [
    "sum_safe"
   ]
  },
  {
   "cell_type": "markdown",
   "id": "d8c03d87-c8a1-435a-8790-a70fc7f39251",
   "metadata": {},
   "source": [
    "--- Part Two ---\n",
    "The engineers are surprised by the low number of safe reports until they realize they forgot to tell you about the Problem Dampener.\n",
    "\n",
    "The Problem Dampener is a reactor-mounted module that lets the reactor safety systems tolerate a single bad level in what would otherwise be a safe report. It's like the bad level never happened!\n",
    "\n",
    "Now, the same rules apply as before, except if removing a single level from an unsafe report would make it safe, the report instead counts as safe.\n",
    "\n",
    "More of the above example's reports are now safe:\n",
    "```\n",
    "7 6 4 2 1: Safe without removing any level.\n",
    "1 2 7 8 9: Unsafe regardless of which level is removed.\n",
    "9 7 6 2 1: Unsafe regardless of which level is removed.\n",
    "1 3 2 4 5: Safe by removing the second level, 3.\n",
    "8 6 4 4 1: Safe by removing the third level, 4.\n",
    "1 3 6 7 9: Safe without removing any level.\n",
    "``` \n",
    "Thanks to the Problem Dampener, 4 reports are actually safe!\n",
    "\n",
    "Update your analysis by handling situations where the Problem Dampener can remove a single level from unsafe reports. How many reports are now safe?"
   ]
  },
  {
   "cell_type": "code",
   "execution_count": 71,
   "id": "2b22b93f-ce6a-4672-bfc0-59f9e8bbe620",
   "metadata": {},
   "outputs": [],
   "source": [
    "def dampener(arr):\n",
    "    for i in range(len(arr)):\n",
    "        new_arr = np.delete(arr, [i])\n",
    "        if check_safe(new_arr):\n",
    "            return True\n",
    "    return False"
   ]
  },
  {
   "cell_type": "code",
   "execution_count": 72,
   "id": "1c2b94c3-89c1-4e3c-891d-d76f75b22698",
   "metadata": {},
   "outputs": [],
   "source": [
    "test_arrs = text_to_arrays(testdata)"
   ]
  },
  {
   "cell_type": "code",
   "execution_count": 73,
   "id": "4dd87a07-6d6e-48f6-8b79-59ec4e6bc3b6",
   "metadata": {},
   "outputs": [
    {
     "name": "stdout",
     "output_type": "stream",
     "text": [
      "True\n",
      "False\n",
      "False\n",
      "True\n",
      "True\n",
      "True\n"
     ]
    }
   ],
   "source": [
    "for arr in test_arrs:\n",
    "    print(dampener(arr))"
   ]
  },
  {
   "cell_type": "code",
   "execution_count": 75,
   "id": "e1ada397-53f5-47ac-9212-dea6440dd90c",
   "metadata": {},
   "outputs": [
    {
     "name": "stdout",
     "output_type": "stream",
     "text": [
      "436\n"
     ]
    }
   ],
   "source": [
    "print(np.sum([dampener(arr) for arr in data]))"
   ]
  },
  {
   "cell_type": "code",
   "execution_count": null,
   "id": "f2fd3a9c-eb68-458d-87c1-e52eb67867f9",
   "metadata": {},
   "outputs": [],
   "source": []
  }
 ],
 "metadata": {
  "kernelspec": {
   "display_name": "Python 3 (ipykernel)",
   "language": "python",
   "name": "python3"
  },
  "language_info": {
   "codemirror_mode": {
    "name": "ipython",
    "version": 3
   },
   "file_extension": ".py",
   "mimetype": "text/x-python",
   "name": "python",
   "nbconvert_exporter": "python",
   "pygments_lexer": "ipython3",
   "version": "3.10.12"
  }
 },
 "nbformat": 4,
 "nbformat_minor": 5
}
