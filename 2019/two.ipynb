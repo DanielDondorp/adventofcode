{
 "cells": [
  {
   "cell_type": "code",
   "execution_count": 1,
   "id": "ed527c74-57e2-4a6f-ad7a-7b0970998021",
   "metadata": {},
   "outputs": [],
   "source": [
    "import aocd\n",
    "import numpy as np"
   ]
  },
  {
   "cell_type": "code",
   "execution_count": 33,
   "id": "ed9fb9e6-8192-4de8-8e5b-7052b81c7474",
   "metadata": {},
   "outputs": [],
   "source": [
    "def intcode(program):\n",
    "    current_index = 0\n",
    "    while True:\n",
    "        # print(f\"current_index: {current_index} \")\n",
    "        opcode =  program[current_index]\n",
    "        if opcode == 99:\n",
    "            return program\n",
    "        else:\n",
    "            d1, d2, dest = program[current_index+1:current_index+4]\n",
    "            if opcode ==1:\n",
    "                program[dest] = program[d1]+program[d2]\n",
    "            elif opcode ==2:\n",
    "                program[dest] = program[d1]*program[d2]\n",
    "            else:\n",
    "                raise Exception(f\"Unknown opcode {opcode}!\")\n",
    "        current_index = current_index+4\n",
    "        "
   ]
  },
  {
   "cell_type": "code",
   "execution_count": 34,
   "id": "5596251d-7128-48d1-a85f-845f421ff177",
   "metadata": {},
   "outputs": [],
   "source": [
    "def parse_input(program_string):\n",
    "    program = [int(x) for x in program_string.split(\",\")]\n",
    "    return program"
   ]
  },
  {
   "cell_type": "code",
   "execution_count": 35,
   "id": "e8e8ef98-0738-453b-bc74-c2210552c454",
   "metadata": {},
   "outputs": [],
   "source": [
    "def run_intcode(program_string):\n",
    "    program = parse_input(program_string)\n",
    "    return intcode(program)"
   ]
  },
  {
   "cell_type": "code",
   "execution_count": 36,
   "id": "f6654acd-8a97-47e0-9351-49f8dcf94002",
   "metadata": {},
   "outputs": [
    {
     "data": {
      "text/plain": [
       "[2, 0, 0, 0, 99]"
      ]
     },
     "execution_count": 36,
     "metadata": {},
     "output_type": "execute_result"
    }
   ],
   "source": [
    "run_intcode(\"1,0,0,0,99\")"
   ]
  },
  {
   "cell_type": "code",
   "execution_count": 38,
   "id": "e4617311-e2d4-4441-84c4-f6ffc6d6e304",
   "metadata": {},
   "outputs": [
    {
     "data": {
      "text/plain": [
       "[30, 1, 1, 4, 2, 5, 6, 0, 99]"
      ]
     },
     "execution_count": 38,
     "metadata": {},
     "output_type": "execute_result"
    }
   ],
   "source": [
    "run_intcode(\"1,1,1,4,99,5,6,0,99\")"
   ]
  },
  {
   "cell_type": "code",
   "execution_count": 39,
   "id": "6a1eb9fc-b45e-4488-9f0c-9412a6ab0c54",
   "metadata": {},
   "outputs": [],
   "source": [
    "gravity_program = aocd.get_data(year = 2019, day = 2)"
   ]
  },
  {
   "cell_type": "code",
   "execution_count": 40,
   "id": "3e4988c1-21e2-410e-8bde-8d8e93a0ab7b",
   "metadata": {},
   "outputs": [],
   "source": []
  },
  {
   "cell_type": "code",
   "execution_count": 42,
   "id": "acccf40c-a697-46e1-b321-10042abec2dd",
   "metadata": {},
   "outputs": [],
   "source": [
    "program[1] = 12"
   ]
  },
  {
   "cell_type": "code",
   "execution_count": 43,
   "id": "9acfc4b6-6198-4947-8d5b-7585f194a43c",
   "metadata": {},
   "outputs": [],
   "source": [
    "program[2] = 2"
   ]
  },
  {
   "cell_type": "code",
   "execution_count": 45,
   "id": "f5ca3175-5b8b-44b2-a7b8-5b6611ee231f",
   "metadata": {},
   "outputs": [],
   "source": [
    "program_output = intcode(program)"
   ]
  },
  {
   "cell_type": "code",
   "execution_count": 46,
   "id": "0fbf5592-1269-4351-9591-b918ddcc541a",
   "metadata": {},
   "outputs": [
    {
     "data": {
      "text/plain": [
       "5866663"
      ]
     },
     "execution_count": 46,
     "metadata": {},
     "output_type": "execute_result"
    }
   ],
   "source": [
    "program_output[0]"
   ]
  },
  {
   "cell_type": "code",
   "execution_count": 47,
   "id": "108b3b81-20c6-456c-8978-9786a5902915",
   "metadata": {},
   "outputs": [
    {
     "name": "stderr",
     "output_type": "stream",
     "text": [
      "answer a: None\n",
      "submitting for part a\n"
     ]
    },
    {
     "name": "stdout",
     "output_type": "stream",
     "text": [
      "\u001b[32mThat's the right answer!  You are one gold star closer to rescuing Santa. [Continue to Part Two]\u001b[0m\n"
     ]
    },
    {
     "data": {
      "text/plain": [
       "<urllib3.response.HTTPResponse at 0x7f3e4da560b0>"
      ]
     },
     "execution_count": 47,
     "metadata": {},
     "output_type": "execute_result"
    }
   ],
   "source": [
    "aocd.submit(program_output[0], year = 2019, day = 2)"
   ]
  },
  {
   "cell_type": "code",
   "execution_count": 48,
   "id": "b1d0caad-3e80-4cf4-a0d1-6d1b0628e0d9",
   "metadata": {},
   "outputs": [],
   "source": [
    "def run_program(program, noun, verb):\n",
    "    program[1] = noun\n",
    "    program[2] = verb\n",
    "    output = intcode(program)\n",
    "    return program[0]"
   ]
  },
  {
   "cell_type": "code",
   "execution_count": 51,
   "id": "d9be82ed-204a-48a4-bf37-d459f6f962e6",
   "metadata": {},
   "outputs": [],
   "source": [
    "program = parse_input(gravity_program)\n",
    "output = 0\n",
    "def find_param(program, value = 19690720):\n",
    "    for noun in range(100):\n",
    "        for verb in range(100):\n",
    "            output = run_program(program.copy(), noun, verb)\n",
    "            if output == value:\n",
    "                return noun, verb"
   ]
  },
  {
   "cell_type": "code",
   "execution_count": 52,
   "id": "f8cafedf-6b22-4d23-873d-4213e2d02ec4",
   "metadata": {},
   "outputs": [
    {
     "data": {
      "text/plain": [
       "(42, 59)"
      ]
     },
     "execution_count": 52,
     "metadata": {},
     "output_type": "execute_result"
    }
   ],
   "source": [
    "find_param(program)"
   ]
  },
  {
   "cell_type": "code",
   "execution_count": 55,
   "id": "70a4517b-af9a-452f-99e5-415a649a4b55",
   "metadata": {},
   "outputs": [
    {
     "data": {
      "text/plain": [
       "4259"
      ]
     },
     "execution_count": 55,
     "metadata": {},
     "output_type": "execute_result"
    }
   ],
   "source": [
    "100*42+59"
   ]
  },
  {
   "cell_type": "code",
   "execution_count": 56,
   "id": "c7f50421-f805-435b-aed7-5414af98a95d",
   "metadata": {},
   "outputs": [
    {
     "name": "stderr",
     "output_type": "stream",
     "text": [
      "answer a: 5866663\n",
      "submitting for part b (part a is already completed)\n"
     ]
    },
    {
     "name": "stdout",
     "output_type": "stream",
     "text": [
      "\u001b[32mThat's the right answer!  You are one gold star closer to rescuing Santa.You have completed Day 2! You can [Shareon\n",
      "  Bluesky\n",
      "Twitter\n",
      "Mastodon] this victory or [Return to Your Advent Calendar].\u001b[0m\n"
     ]
    },
    {
     "data": {
      "text/plain": [
       "<urllib3.response.HTTPResponse at 0x7f3e4d5dc6a0>"
      ]
     },
     "execution_count": 56,
     "metadata": {},
     "output_type": "execute_result"
    }
   ],
   "source": [
    "aocd.submit(100*42+59, year = 2019, day = 2)"
   ]
  },
  {
   "cell_type": "code",
   "execution_count": null,
   "id": "071c96c3-f0e7-47be-b798-c1b7b84e76a7",
   "metadata": {},
   "outputs": [],
   "source": []
  }
 ],
 "metadata": {
  "kernelspec": {
   "display_name": "Python 3 (ipykernel)",
   "language": "python",
   "name": "python3"
  },
  "language_info": {
   "codemirror_mode": {
    "name": "ipython",
    "version": 3
   },
   "file_extension": ".py",
   "mimetype": "text/x-python",
   "name": "python",
   "nbconvert_exporter": "python",
   "pygments_lexer": "ipython3",
   "version": "3.10.12"
  }
 },
 "nbformat": 4,
 "nbformat_minor": 5
}
