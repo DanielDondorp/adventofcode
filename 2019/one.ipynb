{
 "cells": [
  {
   "cell_type": "code",
   "execution_count": 1,
   "id": "76ad12e6-c6c4-46b9-b919-4de61c359909",
   "metadata": {},
   "outputs": [],
   "source": [
    "import aocd"
   ]
  },
  {
   "cell_type": "code",
   "execution_count": 2,
   "id": "03e974d6-31bb-423d-8c87-743da19cc716",
   "metadata": {},
   "outputs": [],
   "source": [
    "def calculate_fuel(mass):\n",
    "    return (mass//3) -2"
   ]
  },
  {
   "cell_type": "code",
   "execution_count": 9,
   "id": "fddf62b7-3cd5-408d-975d-24c56a91c337",
   "metadata": {},
   "outputs": [],
   "source": [
    "masses = aocd.get_data(year = 2019, day = 1)\n",
    "masses = [int(x) for x in masses.split(\"\\n\")]"
   ]
  },
  {
   "cell_type": "code",
   "execution_count": 24,
   "id": "c39d981d-3e1e-4c46-8f4c-b7f413c31425",
   "metadata": {},
   "outputs": [],
   "source": [
    "fuel = sum([calculate_fuel(mass) for mass in masses])"
   ]
  },
  {
   "cell_type": "code",
   "execution_count": 25,
   "id": "ceb5540a-a0f8-4d20-9dd3-eac41eb9480f",
   "metadata": {},
   "outputs": [
    {
     "data": {
      "text/plain": [
       "3495189"
      ]
     },
     "execution_count": 25,
     "metadata": {},
     "output_type": "execute_result"
    }
   ],
   "source": [
    "fuel"
   ]
  },
  {
   "cell_type": "code",
   "execution_count": 12,
   "id": "cf23705f-0631-43f8-82e6-9cf4f6a28585",
   "metadata": {},
   "outputs": [
    {
     "name": "stderr",
     "output_type": "stream",
     "text": [
      "answer a: None\n",
      "submitting for part a\n"
     ]
    },
    {
     "name": "stdout",
     "output_type": "stream",
     "text": [
      "\u001b[32mThat's the right answer!  You are one gold star closer to rescuing Santa. [Continue to Part Two]\u001b[0m\n"
     ]
    },
    {
     "data": {
      "text/plain": [
       "<urllib3.response.HTTPResponse at 0x7fc8d02888b0>"
      ]
     },
     "execution_count": 12,
     "metadata": {},
     "output_type": "execute_result"
    }
   ],
   "source": [
    "aocd.submit(fuel, year=2019, day = 1)"
   ]
  },
  {
   "cell_type": "code",
   "execution_count": 66,
   "id": "cce49a80-c726-4fe9-944b-82d51f2d7b45",
   "metadata": {},
   "outputs": [
    {
     "data": {
      "text/plain": [
       "0"
      ]
     },
     "execution_count": 66,
     "metadata": {},
     "output_type": "execute_result"
    }
   ],
   "source": [
    "calculate_fuel(6)"
   ]
  },
  {
   "cell_type": "code",
   "execution_count": null,
   "id": "6ffbd439-61a1-4aff-9883-2e864d6d2328",
   "metadata": {},
   "outputs": [],
   "source": [
    "def recurse_fuel(mass):\n",
    "    if mass < 2:"
   ]
  },
  {
   "cell_type": "code",
   "execution_count": 89,
   "id": "af5160ab-7fb0-405c-990d-475b759eba66",
   "metadata": {},
   "outputs": [],
   "source": [
    "def calculate_fuel(mass):\n",
    "    total_fuel = 0\n",
    "    new_fuel = mass\n",
    "    while new_fuel > 0:\n",
    "        new_fuel = (new_fuel //3) -2\n",
    "        if new_fuel > 0:\n",
    "            total_fuel += new_fuel\n",
    "    return total_fuel"
   ]
  },
  {
   "cell_type": "code",
   "execution_count": 90,
   "id": "5ff29d47-e83b-48db-9c24-25c29e74e01c",
   "metadata": {},
   "outputs": [
    {
     "data": {
      "text/plain": [
       "966"
      ]
     },
     "execution_count": 90,
     "metadata": {},
     "output_type": "execute_result"
    }
   ],
   "source": [
    "calculate_fuel(1969)"
   ]
  },
  {
   "cell_type": "code",
   "execution_count": 91,
   "id": "3eb752e2-3d3b-49ed-8b61-d06875d195d0",
   "metadata": {},
   "outputs": [
    {
     "data": {
      "text/plain": [
       "50346"
      ]
     },
     "execution_count": 91,
     "metadata": {},
     "output_type": "execute_result"
    }
   ],
   "source": [
    "calculate_fuel(100756)"
   ]
  },
  {
   "cell_type": "code",
   "execution_count": 92,
   "id": "2d37a268-5afa-4906-a3ad-a90bcba7e97f",
   "metadata": {
    "scrolled": true
   },
   "outputs": [],
   "source": [
    "all_fuel = 0\n",
    "for module in masses:\n",
    "    f = calculate_fuel(module)\n",
    "    all_fuel+=f"
   ]
  },
  {
   "cell_type": "code",
   "execution_count": 93,
   "id": "59cc133e-b11c-4e1b-8a1e-c7b2c22d56b7",
   "metadata": {},
   "outputs": [
    {
     "data": {
      "text/plain": [
       "5239910"
      ]
     },
     "execution_count": 93,
     "metadata": {},
     "output_type": "execute_result"
    }
   ],
   "source": [
    "all_fuel"
   ]
  },
  {
   "cell_type": "code",
   "execution_count": 94,
   "id": "747aa9d4-2442-4bea-905b-2941b07d93e7",
   "metadata": {},
   "outputs": [
    {
     "name": "stderr",
     "output_type": "stream",
     "text": [
      "answer a: 3495189\n",
      "submitting for part b (part a is already completed)\n"
     ]
    },
    {
     "name": "stdout",
     "output_type": "stream",
     "text": [
      "\u001b[32mThat's the right answer!  You are one gold star closer to rescuing Santa.You have completed Day 1! You can [Shareon\n",
      "  Bluesky\n",
      "Twitter\n",
      "Mastodon] this victory or [Return to Your Advent Calendar].\u001b[0m\n"
     ]
    },
    {
     "data": {
      "text/plain": [
       "<urllib3.response.HTTPResponse at 0x7fc8bff39630>"
      ]
     },
     "execution_count": 94,
     "metadata": {},
     "output_type": "execute_result"
    }
   ],
   "source": [
    "aocd.submit(all_fuel, year=2019, day = 1)"
   ]
  },
  {
   "cell_type": "code",
   "execution_count": null,
   "id": "f40f2c06-d312-46b9-a80e-80aca92fa545",
   "metadata": {},
   "outputs": [],
   "source": []
  }
 ],
 "metadata": {
  "kernelspec": {
   "display_name": "Python 3 (ipykernel)",
   "language": "python",
   "name": "python3"
  },
  "language_info": {
   "codemirror_mode": {
    "name": "ipython",
    "version": 3
   },
   "file_extension": ".py",
   "mimetype": "text/x-python",
   "name": "python",
   "nbconvert_exporter": "python",
   "pygments_lexer": "ipython3",
   "version": "3.10.12"
  }
 },
 "nbformat": 4,
 "nbformat_minor": 5
}
