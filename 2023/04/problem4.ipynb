{
 "cells": [
  {
   "cell_type": "markdown",
   "id": "000b2925-6248-47fc-85f3-cf2ed76b025b",
   "metadata": {},
   "source": [
    "--- Day 4: Scratchcards ---\n",
    "The gondola takes you up. Strangely, though, the ground doesn't seem to be coming with you; you're not climbing a mountain. As the circle of Snow Island recedes below you, an entire new landmass suddenly appears above you! The gondola carries you to the surface of the new island and lurches into the station.\n",
    "\n",
    "As you exit the gondola, the first thing you notice is that the air here is much warmer than it was on Snow Island. It's also quite humid. Is this where the water source is?\n",
    "\n",
    "The next thing you notice is an Elf sitting on the floor across the station in what seems to be a pile of colorful square cards.\n",
    "\n",
    "\"Oh! Hello!\" The Elf excitedly runs over to you. \"How may I be of service?\" You ask about water sources.\n",
    "\n",
    "\"I'm not sure; I just operate the gondola lift. That does sound like something we'd have, though - this is Island Island, after all! I bet the gardener would know. He's on a different island, though - er, the small kind surrounded by water, not the floating kind. We really need to come up with a better naming scheme. Tell you what: if you can help me with something quick, I'll let you borrow my boat and you can go visit the gardener. I got all these scratchcards as a gift, but I can't figure out what I've won.\"\n",
    "\n",
    "The Elf leads you over to the pile of colorful cards. There, you discover dozens of scratchcards, all with their opaque covering already scratched off. Picking one up, it looks like each card has two lists of numbers separated by a vertical bar (|): a list of winning numbers and then a list of numbers you have. You organize the information into a table (your puzzle input).\n",
    "\n",
    "As far as the Elf has been able to figure out, you have to figure out which of the numbers you have appear in the list of winning numbers. The first match makes the card worth one point and each match after the first doubles the point value of that card.\n",
    "\n",
    "For example:\n",
    "```\n",
    "\n",
    "Card 1: 41 48 83 86 17 | 83 86  6 31 17  9 48 53\n",
    "Card 2: 13 32 20 16 61 | 61 30 68 82 17 32 24 19\n",
    "Card 3:  1 21 53 59 44 | 69 82 63 72 16 21 14  1\n",
    "Card 4: 41 92 73 84 69 | 59 84 76 51 58  5 54 83\n",
    "Card 5: 87 83 26 28 32 | 88 30 70 12 93 22 82 36\n",
    "Card 6: 31 18 13 56 72 | 74 77 10 23 35 67 36 11\n",
    "```\n",
    "In the above example, card 1 has five winning numbers (41, 48, 83, 86, and 17) and eight numbers you have (83, 86, 6, 31, 17, 9, 48, and 53). Of the numbers you have, four of them (48, 83, 17, and 86) are winning numbers! That means card 1 is worth 8 points (1 for the first match, then doubled three times for each of the three matches after the first).\n",
    "\n",
    "Card 2 has two winning numbers (32 and 61), so it is worth 2 points.\n",
    "Card 3 has two winning numbers (1 and 21), so it is worth 2 points.\n",
    "Card 4 has one winning number (84), so it is worth 1 point.\n",
    "Card 5 has no winning numbers, so it is worth no points.\n",
    "Card 6 has no winning numbers, so it is worth no points.\n",
    "So, in this example, the Elf's pile of scratchcards is worth 13 points.\n",
    "\n",
    "Take a seat in the large pile of colorful cards. How many points are they worth in total?"
   ]
  },
  {
   "cell_type": "code",
   "execution_count": 16,
   "id": "7010ec02-703f-49b2-98da-6ff32a967de0",
   "metadata": {},
   "outputs": [],
   "source": [
    "test_data = \\\n",
    "'''Card 1: 41 48 83 86 17 | 83 86  6 31 17  9 48 53\n",
    "Card 2: 13 32 20 16 61 | 61 30 68 82 17 32 24 19\n",
    "Card 3:  1 21 53 59 44 | 69 82 63 72 16 21 14  1\n",
    "Card 4: 41 92 73 84 69 | 59 84 76 51 58  5 54 83\n",
    "Card 5: 87 83 26 28 32 | 88 30 70 12 93 22 82 36\n",
    "Card 6: 31 18 13 56 72 | 74 77 10 23 35 67 36 11'''\n",
    "\n",
    "test_data = test_data.split(\"\\n\")"
   ]
  },
  {
   "cell_type": "code",
   "execution_count": 17,
   "id": "5d2eae4f-1070-4c7d-9fb4-6ad108afde46",
   "metadata": {},
   "outputs": [
    {
     "data": {
      "text/plain": [
       "['Card 1: 41 48 83 86 17 | 83 86  6 31 17  9 48 53',\n",
       " 'Card 2: 13 32 20 16 61 | 61 30 68 82 17 32 24 19',\n",
       " 'Card 3:  1 21 53 59 44 | 69 82 63 72 16 21 14  1',\n",
       " 'Card 4: 41 92 73 84 69 | 59 84 76 51 58  5 54 83',\n",
       " 'Card 5: 87 83 26 28 32 | 88 30 70 12 93 22 82 36',\n",
       " 'Card 6: 31 18 13 56 72 | 74 77 10 23 35 67 36 11']"
      ]
     },
     "execution_count": 17,
     "metadata": {},
     "output_type": "execute_result"
    }
   ],
   "source": [
    "test_data"
   ]
  },
  {
   "cell_type": "code",
   "execution_count": 60,
   "id": "6737568d-eab9-4b1d-837e-b68eb4a64b80",
   "metadata": {},
   "outputs": [],
   "source": [
    "with open(\"input.txt\", \"r\") as f:\n",
    "    data = f.readlines()\n",
    "    data = [x.rstrip(\"\\n\") for x in data]"
   ]
  },
  {
   "cell_type": "code",
   "execution_count": 61,
   "id": "850bee54-bcb9-4adf-8eec-b3e4acc1e78d",
   "metadata": {},
   "outputs": [],
   "source": [
    "def calculate_points(x):\n",
    "    if x<1:\n",
    "        return 0\n",
    "    else: #this feels like it should be a power\n",
    "        points = 1\n",
    "        for i in range(1,x):\n",
    "            points*=2\n",
    "        return(points)\n"
   ]
  },
  {
   "cell_type": "code",
   "execution_count": 112,
   "id": "6c49bd6e-b646-4a3d-a73c-09f4a9844e35",
   "metadata": {},
   "outputs": [],
   "source": [
    "import pandas as pd\n",
    "pd.set_option('mode.chained_assignment', None)\n",
    "def convert_data(data):\n",
    "    games = []\n",
    "    for row in data:\n",
    "        game = int(row.split(\":\")[0].split(\" \")[-1])\n",
    "        winning_numbers, numbers = row.split(\":\")[-1].split(\"|\")\n",
    "        winning_numbers = [int(x) for x in winning_numbers.split(\" \") if len(x)>0]\n",
    "        numbers = [int(x) for x in numbers.split(\" \") if len(x)>0]\n",
    "        overlap = [number for number in numbers if number in winning_numbers]\n",
    "        games.append({\"game\":game, \"overlap\":overlap, \"value\":calculate_points(len(overlap)), \"winning_numbers\": len(overlap)})\n",
    "    \n",
    "    games = pd.DataFrame.from_dict(games)\n",
    "    games[\"n_copies\"] = 1\n",
    "    return games"
   ]
  },
  {
   "cell_type": "code",
   "execution_count": 113,
   "id": "32e1736c-94ca-4b6e-8945-db3c19b53863",
   "metadata": {},
   "outputs": [],
   "source": [
    "scores = convert_data(data)"
   ]
  },
  {
   "cell_type": "code",
   "execution_count": 114,
   "id": "0b0d0198-a300-4792-bda0-5c2c116704ba",
   "metadata": {},
   "outputs": [
    {
     "data": {
      "text/plain": [
       "17803"
      ]
     },
     "execution_count": 114,
     "metadata": {},
     "output_type": "execute_result"
    }
   ],
   "source": [
    "scores[\"value\"].sum()"
   ]
  },
  {
   "cell_type": "code",
   "execution_count": 129,
   "id": "5b9a7ec1-69c1-454d-bb88-3ec073393365",
   "metadata": {},
   "outputs": [],
   "source": []
  },
  {
   "cell_type": "code",
   "execution_count": 148,
   "id": "d2153154-96a7-413d-8c59-cc5f0acf9cca",
   "metadata": {},
   "outputs": [],
   "source": [
    "def count_all_cards(data, debug = False):\n",
    "    games = convert_data(data)\n",
    "    c = 0\n",
    "    for i in range(len(games)):\n",
    "        current_copies = games.n_copies[i]\n",
    "        n_numbers = games[\"winning_numbers\"][i]\n",
    "        won_cards = [x+i for x in range(1, n_numbers+1)]\n",
    "        if debug:\n",
    "            print(f\"Processing scratch card {i+1}, which has {current_copies} copies and {n_numbers} winning numbers per copy\")\n",
    "            print(f\"Your {current_copies} copies of card {i+1} win a copy of {[card+1 for card in won_cards]} each\\n\")\n",
    "\n",
    "        games[\"n_copies\"][won_cards]+=current_copies\n",
    "\n",
    "\n",
    "\n",
    "    total_cards = games.n_copies.sum()  \n",
    "    return total_cards"
   ]
  },
  {
   "cell_type": "code",
   "execution_count": 149,
   "id": "5f0bd630-a920-4518-946b-00f4959b8526",
   "metadata": {},
   "outputs": [
    {
     "name": "stdout",
     "output_type": "stream",
     "text": [
      "Processing scratch card 1, which has 1 copies and 4 winning numbers per copy\n",
      "Your 1 copies of card 1 win a copy of [2, 3, 4, 5] each\n",
      "\n",
      "Processing scratch card 2, which has 2 copies and 2 winning numbers per copy\n",
      "Your 2 copies of card 2 win a copy of [3, 4] each\n",
      "\n",
      "Processing scratch card 3, which has 4 copies and 2 winning numbers per copy\n",
      "Your 4 copies of card 3 win a copy of [4, 5] each\n",
      "\n",
      "Processing scratch card 4, which has 8 copies and 1 winning numbers per copy\n",
      "Your 8 copies of card 4 win a copy of [5] each\n",
      "\n",
      "Processing scratch card 5, which has 14 copies and 0 winning numbers per copy\n",
      "Your 14 copies of card 5 win a copy of [] each\n",
      "\n",
      "Processing scratch card 6, which has 1 copies and 0 winning numbers per copy\n",
      "Your 1 copies of card 6 win a copy of [] each\n",
      "\n"
     ]
    },
    {
     "data": {
      "text/plain": [
       "30"
      ]
     },
     "execution_count": 149,
     "metadata": {},
     "output_type": "execute_result"
    }
   ],
   "source": [
    "count_all_cards(test_data, debug = True)"
   ]
  },
  {
   "cell_type": "code",
   "execution_count": 100,
   "id": "b6d35ddc-8698-4c43-b298-dae70ce24408",
   "metadata": {},
   "outputs": [
    {
     "data": {
      "text/plain": [
       "76"
      ]
     },
     "execution_count": 100,
     "metadata": {},
     "output_type": "execute_result"
    }
   ],
   "source": [
    "games.n_copies.sum()"
   ]
  },
  {
   "cell_type": "code",
   "execution_count": 101,
   "id": "ce0ed8ff-a3fa-4a96-8c39-3ec57ea68c48",
   "metadata": {},
   "outputs": [
    {
     "ename": "SyntaxError",
     "evalue": "incomplete input (966777815.py, line 2)",
     "output_type": "error",
     "traceback": [
      "\u001b[0;36m  Cell \u001b[0;32mIn[101], line 2\u001b[0;36m\u001b[0m\n\u001b[0;31m    for copy in range(games[\"copies\"].\u001b[0m\n\u001b[0m                                       ^\u001b[0m\n\u001b[0;31mSyntaxError\u001b[0m\u001b[0;31m:\u001b[0m incomplete input\n"
     ]
    }
   ],
   "source": [
    "for game in games:\n",
    "    for copy in range(games[\"copies\"]. "
   ]
  },
  {
   "cell_type": "code",
   "execution_count": null,
   "id": "a87be29a-fd53-4c61-b8b4-810037901b70",
   "metadata": {},
   "outputs": [],
   "source": []
  }
 ],
 "metadata": {
  "kernelspec": {
   "display_name": "Python 3 (ipykernel)",
   "language": "python",
   "name": "python3"
  },
  "language_info": {
   "codemirror_mode": {
    "name": "ipython",
    "version": 3
   },
   "file_extension": ".py",
   "mimetype": "text/x-python",
   "name": "python",
   "nbconvert_exporter": "python",
   "pygments_lexer": "ipython3",
   "version": "3.10.12"
  }
 },
 "nbformat": 4,
 "nbformat_minor": 5
}
