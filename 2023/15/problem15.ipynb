{
 "cells": [
  {
   "cell_type": "code",
   "execution_count": 1,
   "id": "799eab53-e052-4da2-98ea-dda58ea0f89e",
   "metadata": {},
   "outputs": [],
   "source": [
    "import numpy as np"
   ]
  },
  {
   "cell_type": "markdown",
   "id": "50af7c5a-e2da-4703-9037-c64b269210bd",
   "metadata": {},
   "source": [
    "## Determine the ASCII code for the current character of the string.\n",
    "\n",
    "1. \n",
    "Increase the current value by the ASCII code you just determined \\n\n",
    "2. \r\n",
    "Set the current value to itself multiplied by 1\n",
    "3. .\r\n",
    "Set the current value to the remainder of dividing itself by 2 \\n\n",
    ", th"
   ]
  },
  {
   "cell_type": "code",
   "execution_count": 2,
   "id": "0464ec57-81c2-4774-942c-b4cab61b59c0",
   "metadata": {},
   "outputs": [
    {
     "data": {
      "text/plain": [
       "65"
      ]
     },
     "execution_count": 2,
     "metadata": {},
     "output_type": "execute_result"
    }
   ],
   "source": [
    "ord(\"A\")"
   ]
  },
  {
   "cell_type": "code",
   "execution_count": 3,
   "id": "69a60f22-2557-4fbb-bdb6-f716b5c2a3a6",
   "metadata": {},
   "outputs": [],
   "source": [
    "def hash_string(seq: str) -> int:\n",
    "    curval = 0\n",
    "    for char in seq:\n",
    "        curval += ord(char)\n",
    "        curval *= 17\n",
    "        curval = curval % 256\n",
    "    return curval\n",
    "        "
   ]
  },
  {
   "cell_type": "code",
   "execution_count": 4,
   "id": "abec2152-c810-43f5-9db0-58bdd80997bf",
   "metadata": {},
   "outputs": [
    {
     "data": {
      "text/plain": [
       "52"
      ]
     },
     "execution_count": 4,
     "metadata": {},
     "output_type": "execute_result"
    }
   ],
   "source": [
    "hash_string(\"HASH\")"
   ]
  },
  {
   "cell_type": "code",
   "execution_count": 5,
   "id": "a512b223-ee72-4fec-8077-2fdf75e979e4",
   "metadata": {},
   "outputs": [],
   "source": [
    "testinput = 'rn=1,cm-,qp=3,cm=2,qp-,pc=4,ot=9,ab=5,pc-,pc=6,ot=7'\n",
    "seqs = testinput.split(\",\")"
   ]
  },
  {
   "cell_type": "code",
   "execution_count": 8,
   "id": "85d94ad4-1bf0-4de3-8ab5-5042ae289eef",
   "metadata": {},
   "outputs": [
    {
     "data": {
      "text/plain": [
       "1320"
      ]
     },
     "execution_count": 8,
     "metadata": {},
     "output_type": "execute_result"
    }
   ],
   "source": [
    "sum([hash_string(seq) for seq in seqs])"
   ]
  },
  {
   "cell_type": "code",
   "execution_count": 9,
   "id": "886a9125-9e6f-46ce-8c2e-f43cb53b7d1e",
   "metadata": {},
   "outputs": [],
   "source": [
    "with open(\"./input.txt\", \"r\") as f:\n",
    "    seqs = f.read()\n",
    "    seqs = seqs.split(\",\")"
   ]
  },
  {
   "cell_type": "code",
   "execution_count": 10,
   "id": "41e543a6-b847-4b56-b9e9-f9a9a0f55447",
   "metadata": {},
   "outputs": [
    {
     "data": {
      "text/plain": [
       "511343"
      ]
     },
     "execution_count": 10,
     "metadata": {},
     "output_type": "execute_result"
    }
   ],
   "source": [
    "sum([hash_string(seq) for seq in seqs])"
   ]
  },
  {
   "cell_type": "code",
   "execution_count": null,
   "id": "a5cc0c62-e1c2-4c2e-992b-b43b78a679cf",
   "metadata": {},
   "outputs": [],
   "source": []
  }
 ],
 "metadata": {
  "kernelspec": {
   "display_name": "Python 3 (ipykernel)",
   "language": "python",
   "name": "python3"
  },
  "language_info": {
   "codemirror_mode": {
    "name": "ipython",
    "version": 3
   },
   "file_extension": ".py",
   "mimetype": "text/x-python",
   "name": "python",
   "nbconvert_exporter": "python",
   "pygments_lexer": "ipython3",
   "version": "3.10.6"
  }
 },
 "nbformat": 4,
 "nbformat_minor": 5
}
