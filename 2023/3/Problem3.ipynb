{
 "cells": [
  {
   "cell_type": "markdown",
   "id": "6bc036b3-c701-4071-8943-e677b22b20ae",
   "metadata": {},
   "source": [
    "## --- Day 3: Gear Ratios ---\n",
    "You and the Elf eventually reach a gondola lift station; he says the gondola lift will take you up to the water source, but this is as far as he can bring you. You go inside.\n",
    "\n",
    "It doesn't take long to find the gondolas, but there seems to be a problem: they're not moving.\n",
    "\n",
    "\"Aaah!\"\n",
    "\n",
    "You turn around to see a slightly-greasy Elf with a wrench and a look of surprise. \"Sorry, I wasn't expecting anyone! The gondola lift isn't working right now; it'll still be a while before I can fix it.\" You offer to help.\n",
    "\n",
    "The engineer explains that an engine part seems to be missing from the engine, but nobody can figure out which one. If you can add up all the part numbers in the engine schematic, it should be easy to work out which part is missing.\n",
    "\n",
    "The engine schematic (your puzzle input) consists of a visual representation of the engine. There are lots of numbers and symbols you don't really understand, but apparently any number adjacent to a symbol, even diagonally, is a \"part number\" and should be included in your sum. (Periods (.) do not count as a symbol.)\n",
    "\n",
    "Here is an example engine schematic:\n",
    "``` \n",
    "467..114..\n",
    "...*......\n",
    "..35..633.\n",
    "......#...\n",
    "617*......\n",
    ".....+.58.\n",
    "..592.....\n",
    "......755.\n",
    "...$.*....\n",
    ".664.598..\n",
    "``` \n",
    "In this schematic, two numbers are not part numbers because they are not adjacent to a symbol: 114 (top right) and 58 (middle right). Every other number is adjacent to a symbol and so is a part number; their sum is 4361.\n",
    "\n",
    "Of course, the actual engine schematic is much larger. What is the sum of all of the part numbers in the engine schematic?"
   ]
  },
  {
   "cell_type": "code",
   "execution_count": 4,
   "id": "9153dd18-f593-496b-b28e-25827f6264e7",
   "metadata": {},
   "outputs": [],
   "source": [
    "#make boolean mask for array as solutioim\n",
    "import numpy as np"
   ]
  },
  {
   "cell_type": "code",
   "execution_count": 9,
   "id": "90f7c1be-844a-4136-9a25-6a4f08f2fa82",
   "metadata": {},
   "outputs": [],
   "source": [
    "with open(\"./input.txt\", \"r\") as f:\n",
    "    schematic = f.readlines()\n",
    "    schematic = [l.rstrip(\"\\n\") for l in schematic]\n",
    "    schematic = np.array([[x for x in s] for s in schematic])"
   ]
  },
  {
   "cell_type": "code",
   "execution_count": 11,
   "id": "a2120e9a-2ccb-4902-b32e-097a6fd5df47",
   "metadata": {},
   "outputs": [
    {
     "data": {
      "text/plain": [
       "array([['.', '.', '.', ..., '.', '.', '.'],\n",
       "       ['.', '.', '.', ..., '.', '.', '.'],\n",
       "       ['.', '.', '3', ..., '.', '.', '.'],\n",
       "       ...,\n",
       "       ['.', '.', '.', ..., '2', '4', '9'],\n",
       "       ['.', '.', '.', ..., '.', '.', '.'],\n",
       "       ['.', '1', '2', ..., '.', '.', '.']], dtype='<U1')"
      ]
     },
     "execution_count": 11,
     "metadata": {},
     "output_type": "execute_result"
    }
   ],
   "source": [
    "schematic"
   ]
  },
  {
   "cell_type": "code",
   "execution_count": 12,
   "id": "a4db61d0-822d-4aa5-a2fc-4a33acd765b6",
   "metadata": {},
   "outputs": [],
   "source": [
    "not_symbols = \"1234567890.\""
   ]
  },
  {
   "cell_type": "code",
   "execution_count": 25,
   "id": "175c1776-4e30-4589-92a6-ad858f0db54d",
   "metadata": {},
   "outputs": [],
   "source": [
    "mask = np.ones(schematic.shape)"
   ]
  },
  {
   "cell_type": "code",
   "execution_count": 26,
   "id": "3a32f7b7-9d4a-4933-9836-6ebd949dbe2d",
   "metadata": {},
   "outputs": [
    {
     "data": {
      "text/plain": [
       "19600.0"
      ]
     },
     "execution_count": 26,
     "metadata": {},
     "output_type": "execute_result"
    }
   ],
   "source": [
    "np.sum(mask)"
   ]
  },
  {
   "cell_type": "code",
   "execution_count": 29,
   "id": "0237e58b-2086-421f-afec-a280aee99ca7",
   "metadata": {},
   "outputs": [],
   "source": [
    "w, h = mask.shape\n",
    "for i in range(w):\n",
    "    for j in range(h):\n",
    "        mask[i,j] = schematic[i,j] not in not_symbols"
   ]
  },
  {
   "cell_type": "code",
   "execution_count": 30,
   "id": "1aa9d528-8a51-47e2-b6c0-372e84c75165",
   "metadata": {},
   "outputs": [
    {
     "data": {
      "text/plain": [
       "723.0"
      ]
     },
     "execution_count": 30,
     "metadata": {},
     "output_type": "execute_result"
    }
   ],
   "source": [
    "np.sum(mask)"
   ]
  },
  {
   "cell_type": "markdown",
   "id": "aab318d8-b061-4317-b6ec-8c27af7c1b84",
   "metadata": {},
   "source": [
    "mask now has ones in all locations a symbol is. Now we need to set a pixel in a new mask to 1 if the surrounding pixels contain a 1. We can do a convolution with a kernel that just sets the pixel to positive if htere is anythiing positive surrounding it, else 0:<\n"
   ]
  },
  {
   "cell_type": "code",
   "execution_count": 68,
   "id": "7c482602-8ce6-4dcb-ab49-a9b1524e1233",
   "metadata": {},
   "outputs": [],
   "source": [
    "kernel = np.array([[1,1,1],[1,0,1],[1,1,1]]) #kernel that collects surrounding values"
   ]
  },
  {
   "cell_type": "code",
   "execution_count": 69,
   "id": "8b994fe2-db5e-477e-895e-b3677146c051",
   "metadata": {},
   "outputs": [],
   "source": [
    "from scipy.ndimage import convolve"
   ]
  },
  {
   "cell_type": "code",
   "execution_count": 70,
   "id": "6d20ed79-4152-4cd8-ad57-5a5cff4e6a8c",
   "metadata": {},
   "outputs": [],
   "source": [
    "mask2 = convolve(mask, kernel, mode = \"constant\", cval = 0)"
   ]
  },
  {
   "cell_type": "code",
   "execution_count": 71,
   "id": "6cc569ad-0578-44bf-ac6c-f541ebf15491",
   "metadata": {},
   "outputs": [],
   "source": [
    "mask2 = mask2.astype(bool)"
   ]
  },
  {
   "cell_type": "code",
   "execution_count": 78,
   "id": "be1aeae6-2a09-41d3-a80e-4e063ac263a5",
   "metadata": {},
   "outputs": [],
   "source": [
    "#mask2 gives us all the coordinates where a number touches we must collect."
   ]
  },
  {
   "cell_type": "code",
   "execution_count": 81,
   "id": "3478803f-114d-407c-9448-c106fece476b",
   "metadata": {},
   "outputs": [],
   "source": [
    "coordinates = np.where(mask2)"
   ]
  },
  {
   "cell_type": "code",
   "execution_count": 83,
   "id": "684a4827-b3e0-4410-b41a-28aae594fca5",
   "metadata": {},
   "outputs": [],
   "source": [
    "coordinates = np.hstack([coordinates[0].reshape(-1,1), coordinates[1].reshape(-1,1)])"
   ]
  },
  {
   "cell_type": "code",
   "execution_count": 84,
   "id": "2db11c2c-ae0e-48e2-82bc-ff7748958550",
   "metadata": {},
   "outputs": [
    {
     "data": {
      "text/plain": [
       "array([[  0,   3],\n",
       "       [  0,   4],\n",
       "       [  0,   5],\n",
       "       ...,\n",
       "       [139, 135],\n",
       "       [139, 136],\n",
       "       [139, 137]])"
      ]
     },
     "execution_count": 84,
     "metadata": {},
     "output_type": "execute_result"
    }
   ],
   "source": [
    "coordinates"
   ]
  },
  {
   "cell_type": "code",
   "execution_count": 88,
   "id": "d55bbb09-17d0-453b-9232-2167261b9ef5",
   "metadata": {},
   "outputs": [],
   "source": [
    "#to do: create all numbers whith coordinates and check if the overlap with coordinates of digits in numbers that count"
   ]
  },
  {
   "cell_type": "code",
   "execution_count": null,
   "id": "41f892e2-a260-412f-a9d8-cdda14982dc8",
   "metadata": {},
   "outputs": [],
   "source": []
  }
 ],
 "metadata": {
  "kernelspec": {
   "display_name": "Python 3 (ipykernel)",
   "language": "python",
   "name": "python3"
  },
  "language_info": {
   "codemirror_mode": {
    "name": "ipython",
    "version": 3
   },
   "file_extension": ".py",
   "mimetype": "text/x-python",
   "name": "python",
   "nbconvert_exporter": "python",
   "pygments_lexer": "ipython3",
   "version": "3.10.12"
  }
 },
 "nbformat": 4,
 "nbformat_minor": 5
}
