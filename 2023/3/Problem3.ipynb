{
 "cells": [
  {
   "cell_type": "markdown",
   "id": "6bc036b3-c701-4071-8943-e677b22b20ae",
   "metadata": {},
   "source": [
    "## --- Day 3: Gear Ratios ---\n",
    "You and the Elf eventually reach a gondola lift station; he says the gondola lift will take you up to the water source, but this is as far as he can bring you. You go inside.\n",
    "\n",
    "It doesn't take long to find the gondolas, but there seems to be a problem: they're not moving.\n",
    "\n",
    "\"Aaah!\"\n",
    "\n",
    "You turn around to see a slightly-greasy Elf with a wrench and a look of surprise. \"Sorry, I wasn't expecting anyone! The gondola lift isn't working right now; it'll still be a while before I can fix it.\" You offer to help.\n",
    "\n",
    "The engineer explains that an engine part seems to be missing from the engine, but nobody can figure out which one. If you can add up all the part numbers in the engine schematic, it should be easy to work out which part is missing.\n",
    "\n",
    "The engine schematic (your puzzle input) consists of a visual representation of the engine. There are lots of numbers and symbols you don't really understand, but apparently any number adjacent to a symbol, even diagonally, is a \"part number\" and should be included in your sum. (Periods (.) do not count as a symbol.)\n",
    "\n",
    "Here is an example engine schematic:\n",
    "``` \n",
    "467..114..\n",
    "...*......\n",
    "..35..633.\n",
    "......#...\n",
    "617*......\n",
    ".....+.58.\n",
    "..592.....\n",
    "......755.\n",
    "...$.*....\n",
    ".664.598..\n",
    "``` \n",
    "In this schematic, two numbers are not part numbers because they are not adjacent to a symbol: 114 (top right) and 58 (middle right). Every other number is adjacent to a symbol and so is a part number; their sum is 4361.\n",
    "\n",
    "Of course, the actual engine schematic is much larger. What is the sum of all of the part numbers in the engine schematic?"
   ]
  },
  {
   "cell_type": "code",
   "execution_count": 64,
   "id": "9153dd18-f593-496b-b28e-25827f6264e7",
   "metadata": {},
   "outputs": [],
   "source": [
    "#make boolean mask for array as solutioim\n",
    "import numpy as np\n",
    "from scipy.ndimage import convolve"
   ]
  },
  {
   "cell_type": "code",
   "execution_count": 65,
   "id": "91c17dc4-d31d-4176-ae54-cb2c99d5131c",
   "metadata": {},
   "outputs": [
    {
     "data": {
      "text/plain": [
       "array([['4', '6', '7', '.', '.', '1', '1', '4', '.', '.'],\n",
       "       ['.', '.', '.', '*', '.', '.', '.', '.', '.', '.'],\n",
       "       ['.', '.', '3', '5', '.', '.', '6', '3', '3', '.'],\n",
       "       ['.', '.', '.', '.', '.', '.', '#', '.', '.', '.'],\n",
       "       ['6', '1', '7', '*', '.', '.', '.', '.', '.', '.'],\n",
       "       ['.', '.', '.', '.', '.', '+', '.', '5', '8', '.'],\n",
       "       ['.', '.', '5', '9', '2', '.', '.', '.', '.', '.'],\n",
       "       ['.', '.', '.', '.', '.', '.', '7', '5', '5', '.'],\n",
       "       ['.', '.', '.', '$', '.', '*', '.', '.', '.', '.'],\n",
       "       ['.', '6', '6', '4', '.', '5', '9', '8', '.', '.']], dtype='<U1')"
      ]
     },
     "execution_count": 65,
     "metadata": {},
     "output_type": "execute_result"
    }
   ],
   "source": [
    "test_schematic = \"\"\"467..114..\n",
    "...*......\n",
    "..35..633.\n",
    "......#...\n",
    "617*......\n",
    ".....+.58.\n",
    "..592.....\n",
    "......755.\n",
    "...$.*....\n",
    ".664.598..\"\"\"\n",
    "\n",
    "test_schematic = test_schematic.split(\"\\n\")\n",
    "\n",
    "test_schematic = np.array([[x for x in l] for l in test_schematic])\n",
    "\n",
    "test_schematic"
   ]
  },
  {
   "cell_type": "code",
   "execution_count": 66,
   "id": "90f7c1be-844a-4136-9a25-6a4f08f2fa82",
   "metadata": {},
   "outputs": [],
   "source": [
    "with open(\"./input.txt\", \"r\") as f:\n",
    "    schematic = f.readlines()\n",
    "    schematic = [l.rstrip(\"\\n\") for l in schematic]\n",
    "    schematic = np.array([[x for x in s] for s in schematic])"
   ]
  },
  {
   "cell_type": "code",
   "execution_count": 67,
   "id": "a2120e9a-2ccb-4902-b32e-097a6fd5df47",
   "metadata": {},
   "outputs": [
    {
     "data": {
      "text/plain": [
       "array([['.', '.', '.', ..., '.', '.', '.'],\n",
       "       ['.', '.', '.', ..., '.', '.', '.'],\n",
       "       ['.', '.', '3', ..., '.', '.', '.'],\n",
       "       ...,\n",
       "       ['.', '.', '.', ..., '2', '4', '9'],\n",
       "       ['.', '.', '.', ..., '.', '.', '.'],\n",
       "       ['.', '1', '2', ..., '.', '.', '.']], dtype='<U1')"
      ]
     },
     "execution_count": 67,
     "metadata": {},
     "output_type": "execute_result"
    }
   ],
   "source": [
    "schematic"
   ]
  },
  {
   "cell_type": "code",
   "execution_count": 68,
   "id": "a4db61d0-822d-4aa5-a2fc-4a33acd765b6",
   "metadata": {},
   "outputs": [],
   "source": [
    "#all the chars that are not symbols to check against\n",
    "not_symbols = \"1234567890.\""
   ]
  },
  {
   "cell_type": "code",
   "execution_count": 69,
   "id": "166572ce-822b-4e4b-9cdf-d2a297b9eb1f",
   "metadata": {},
   "outputs": [],
   "source": [
    "\n",
    "def create_symbol_map(schematic):\n",
    "    #initialize first mask to store symbol locations\n",
    "    symbol_location_map = np.ones(schematic.shape)\n",
    "\n",
    "    #set every location that is not a symbol to 0\n",
    "    w, h = schematic.shape\n",
    "    for i in range(w):\n",
    "        for j in range(h):\n",
    "            symbol_location_map[i,j] = schematic[i,j] not in not_symbols\n",
    "    return symbol_location_map\n"
   ]
  },
  {
   "cell_type": "code",
   "execution_count": 70,
   "id": "e70308eb-e3b4-41ce-8338-891c0b7b14f0",
   "metadata": {},
   "outputs": [],
   "source": [
    "def create_valid_coordinate_map(symbol_location_map, kernel = np.array([[1,1,1],[1,0,1],[1,1,1]])):\n",
    "    valid_coordinate_map = convolve(symbol_location_map, kernel, mode = \"constant\", cval = 0)\n",
    "    valid_coordinate_map = valid_coordinate_map.astype(int)\n",
    "    return valid_coordinate_map"
   ]
  },
  {
   "cell_type": "markdown",
   "id": "aab318d8-b061-4317-b6ec-8c27af7c1b84",
   "metadata": {},
   "source": [
    "`symbol_location_map`  now has ones in all locations a symbol is. Now we need to set a pixel in a new mask to 1 if the surrounding pixels contain a 1. We can do a convolution with a kernel that just sets the pixel to positive if htere is anythiing positive surrounding it, else 0. \n",
    "The kernel will look like :\n"
   ]
  },
  {
   "cell_type": "code",
   "execution_count": 71,
   "id": "fe1f9c85-1b4b-45f1-a368-18ebe568111c",
   "metadata": {},
   "outputs": [],
   "source": [
    "def create_number_map(schematic):\n",
    "    #we need a map of where the numbers are too:\n",
    "    w, h = schematic.shape\n",
    "    number_map = np.zeros(schematic.shape)\n",
    "    for i in range(w):\n",
    "        for j in range(h):\n",
    "            number_map[i,j] = schematic[i,j].isnumeric()\n",
    "    number_map = number_map.astype(bool)\n",
    "    return number_map"
   ]
  },
  {
   "cell_type": "code",
   "execution_count": 72,
   "id": "3478803f-114d-407c-9448-c106fece476b",
   "metadata": {},
   "outputs": [
    {
     "ename": "NameError",
     "evalue": "name 'valid_coordinate_map' is not defined",
     "output_type": "error",
     "traceback": [
      "\u001b[0;31m---------------------------------------------------------------------------\u001b[0m",
      "\u001b[0;31mNameError\u001b[0m                                 Traceback (most recent call last)",
      "Cell \u001b[0;32mIn[72], line 2\u001b[0m\n\u001b[1;32m      1\u001b[0m \u001b[38;5;66;03m#coordinates of all valid digits. If a number has a digit in it on one of these coordinates, we count the number\u001b[39;00m\n\u001b[0;32m----> 2\u001b[0m coordinates \u001b[38;5;241m=\u001b[39m np\u001b[38;5;241m.\u001b[39mwhere(\u001b[43mvalid_coordinate_map\u001b[49m)\n",
      "\u001b[0;31mNameError\u001b[0m: name 'valid_coordinate_map' is not defined"
     ]
    }
   ],
   "source": [
    "#coordinates of all valid digits. If a number has a digit in it on one of these coordinates, we count the number\n",
    "coordinates = np.where(valid_coordinate_map)"
   ]
  },
  {
   "cell_type": "markdown",
   "id": "6f0b32f4-d890-4a8a-8413-08025ca3bf46",
   "metadata": {},
   "source": [
    "Now we have to gather all the numbers and their coordinates in some smart structure to do the checks against the coordinates. One line of the schematic can have multiple numbers. We can have a stupid double-loop with a flag type solution to get us going:"
   ]
  },
  {
   "cell_type": "code",
   "execution_count": 24,
   "id": "f3f12f38-aab8-483e-af31-f4e97392350a",
   "metadata": {},
   "outputs": [],
   "source": [
    "def find_groups(arr):\n",
    "    first = arr[0]\n",
    "    last = arr[0]\n",
    "    for x in arr[1:]:\n",
    "        if x == last+1:\n",
    "            last = x\n",
    "        else:\n",
    "            yield first, last\n",
    "            first = x\n",
    "            last = x\n",
    "    yield first, last"
   ]
  },
  {
   "cell_type": "code",
   "execution_count": 76,
   "id": "b561b47c-f5f6-4ddf-b473-8fc0832a0eed",
   "metadata": {
    "tags": []
   },
   "outputs": [],
   "source": [
    "def find_sum_of_parts(schematic, number_map, valid_coordinates, debug = False):\n",
    "    valid_numbers = []\n",
    "    w, h = schematic.shape\n",
    "    coordinates = np.where(valid_coordinates)[0]\n",
    "    for x in range(w):\n",
    "        valid_row_numbers = []\n",
    "        if x in coordinates[0]:\n",
    "            number_locs = np.where(number_map[x])[0]\n",
    "            if len(number_locs) > 0:\n",
    "                number_groups = [np.arange(group[0], group[-1]+1) if group[0]<group[-1]+1 else np.array([group[0]]) for group in find_groups(number_locs)]\n",
    "                # print(number_groups)\n",
    "                for group in number_groups:\n",
    "                    # print(x, group, valid_coordinates[x, group])\n",
    "                    if sum(valid_coordinates[x, group]) > 0:\n",
    "                            valid_row_number = int(\"\".join(schematic[x, group[0]: group[-1]+1]))\n",
    "                            valid_numbers.append(valid_row_number)\n",
    "    if debug:\n",
    "        print(valid_numbers)\n",
    "    return sum(valid_numbers)\n",
    "\n",
    "                \n",
    "                \n",
    "                "
   ]
  },
  {
   "cell_type": "code",
   "execution_count": 77,
   "id": "8377330c-f09a-4d37-90eb-26947b1db411",
   "metadata": {},
   "outputs": [],
   "source": [
    "def find_numbers(schematic, debug = False):\n",
    "    symbol_map = create_symbol_map(schematic)\n",
    "    number_map = create_number_map(schematic)\n",
    "    valid_coordinates = create_valid_coordinate_map(symbol_map)\n",
    "    # valid_number_map = number_map&valid_coordinates\n",
    "    return find_sum_of_parts(schematic, number_map, valid_coordinates, debug)\n"
   ]
  },
  {
   "cell_type": "code",
   "execution_count": 78,
   "id": "b57068a9-601b-455a-95a7-2203f6d934f7",
   "metadata": {},
   "outputs": [
    {
     "ename": "TypeError",
     "evalue": "argument of type 'numpy.int64' is not iterable",
     "output_type": "error",
     "traceback": [
      "\u001b[0;31m---------------------------------------------------------------------------\u001b[0m",
      "\u001b[0;31mTypeError\u001b[0m                                 Traceback (most recent call last)",
      "Cell \u001b[0;32mIn[78], line 1\u001b[0m\n\u001b[0;32m----> 1\u001b[0m \u001b[43mfind_numbers\u001b[49m\u001b[43m(\u001b[49m\u001b[43mschematic\u001b[49m\u001b[43m)\u001b[49m\n",
      "Cell \u001b[0;32mIn[77], line 6\u001b[0m, in \u001b[0;36mfind_numbers\u001b[0;34m(schematic, debug)\u001b[0m\n\u001b[1;32m      4\u001b[0m valid_coordinates \u001b[38;5;241m=\u001b[39m create_valid_coordinate_map(symbol_map)\n\u001b[1;32m      5\u001b[0m \u001b[38;5;66;03m# valid_number_map = number_map&valid_coordinates\u001b[39;00m\n\u001b[0;32m----> 6\u001b[0m \u001b[38;5;28;01mreturn\u001b[39;00m \u001b[43mfind_sum_of_parts\u001b[49m\u001b[43m(\u001b[49m\u001b[43mschematic\u001b[49m\u001b[43m,\u001b[49m\u001b[43m \u001b[49m\u001b[43mnumber_map\u001b[49m\u001b[43m,\u001b[49m\u001b[43m \u001b[49m\u001b[43mvalid_coordinates\u001b[49m\u001b[43m,\u001b[49m\u001b[43m \u001b[49m\u001b[43mdebug\u001b[49m\u001b[43m)\u001b[49m\n",
      "Cell \u001b[0;32mIn[76], line 7\u001b[0m, in \u001b[0;36mfind_sum_of_parts\u001b[0;34m(schematic, number_map, valid_coordinates, debug)\u001b[0m\n\u001b[1;32m      5\u001b[0m \u001b[38;5;28;01mfor\u001b[39;00m x \u001b[38;5;129;01min\u001b[39;00m \u001b[38;5;28mrange\u001b[39m(w):\n\u001b[1;32m      6\u001b[0m     valid_row_numbers \u001b[38;5;241m=\u001b[39m []\n\u001b[0;32m----> 7\u001b[0m     \u001b[38;5;28;01mif\u001b[39;00m \u001b[43mx\u001b[49m\u001b[43m \u001b[49m\u001b[38;5;129;43;01min\u001b[39;49;00m\u001b[43m \u001b[49m\u001b[43mcoordinates\u001b[49m\u001b[43m[\u001b[49m\u001b[38;5;241;43m0\u001b[39;49m\u001b[43m]\u001b[49m:\n\u001b[1;32m      8\u001b[0m         number_locs \u001b[38;5;241m=\u001b[39m np\u001b[38;5;241m.\u001b[39mwhere(number_map[x])[\u001b[38;5;241m0\u001b[39m]\n\u001b[1;32m      9\u001b[0m         \u001b[38;5;28;01mif\u001b[39;00m \u001b[38;5;28mlen\u001b[39m(number_locs) \u001b[38;5;241m>\u001b[39m \u001b[38;5;241m0\u001b[39m:\n",
      "\u001b[0;31mTypeError\u001b[0m: argument of type 'numpy.int64' is not iterable"
     ]
    }
   ],
   "source": [
    "find_numbers(schematic)"
   ]
  },
  {
   "cell_type": "markdown",
   "id": "9586703c-c62b-491b-bc6b-5e46dc1a99a6",
   "metadata": {},
   "source": [
    "The engineer finds the missing part and installs it in the engine! As the engine springs to life, you jump in the closest gondola, finally ready to ascend to the water source.\n",
    "\n",
    "You don't seem to be going very fast, though. Maybe something is still wrong? Fortunately, the gondola has a phone labeled \"help\", so you pick it up and the engineer answers.\n",
    "\n",
    "Before you can explain the situation, she suggests that you look out the window. There stands the engineer, holding a phone in one hand and waving with the other. You're going so slowly that you haven't even left the station. You exit the gondola.\n",
    "\n",
    "The missing part wasn't the only issue - one of the gears in the engine is wrong. A gear is any * symbol that is adjacent to exactly two part numbers. Its gear ratio is the result of multiplying those two numbers together.\n",
    "\n",
    "This time, you need to find the gear ratio of every gear and add them all up so that the engineer can figure out which gear needs to be replaced.\n",
    "\n",
    "Consider the same engine schematic again:\n",
    "``` \n",
    "467..114..\n",
    "...*......\n",
    "..35..633.\n",
    "......#...\n",
    "617*......\n",
    ".....+.58.\n",
    "..592.....\n",
    "......755.\n",
    "...$.*....\n",
    ".664.598..\n",
    "``` \n",
    "In this schematic, there are two gears. The first is in the top left; it has part numbers 467 and 35, so its gear ratio is 16345. The second gear is in the lower right; its gear ratio is 451490. (The * adjacent to 617 is not a gear because it is only adjacent to one part number.) Adding up all of the gear ratios produces 467835.\n",
    "\n",
    "What is the sum of all of the gear ratios in your engine schematic?"
   ]
  },
  {
   "cell_type": "markdown",
   "id": "5270fd92-f21f-414e-abba-db4ecc1df51e",
   "metadata": {},
   "source": [
    "For this we need to maybe do another convolution? Or solve the problem in an entirely different way?"
   ]
  },
  {
   "cell_type": "code",
   "execution_count": 31,
   "id": "a0122095-a73c-4acb-b2f8-55a260c795a9",
   "metadata": {},
   "outputs": [],
   "source": [
    "potential_gear_map = test_schematic == \"*\""
   ]
  },
  {
   "cell_type": "code",
   "execution_count": 32,
   "id": "5a6cade8-aba4-403d-b91b-f02110903c60",
   "metadata": {},
   "outputs": [
    {
     "data": {
      "text/plain": [
       "array([[0, 0, 0, 0, 0, 0, 0, 0, 0, 0],\n",
       "       [0, 0, 0, 1, 0, 0, 0, 0, 0, 0],\n",
       "       [0, 0, 0, 0, 0, 0, 0, 0, 0, 0],\n",
       "       [0, 0, 0, 0, 0, 0, 0, 0, 0, 0],\n",
       "       [0, 0, 0, 1, 0, 0, 0, 0, 0, 0],\n",
       "       [0, 0, 0, 0, 0, 0, 0, 0, 0, 0],\n",
       "       [0, 0, 0, 0, 0, 0, 0, 0, 0, 0],\n",
       "       [0, 0, 0, 0, 0, 0, 0, 0, 0, 0],\n",
       "       [0, 0, 0, 0, 0, 1, 0, 0, 0, 0],\n",
       "       [0, 0, 0, 0, 0, 0, 0, 0, 0, 0]])"
      ]
     },
     "execution_count": 32,
     "metadata": {},
     "output_type": "execute_result"
    }
   ],
   "source": [
    "potential_gear_map.astype(int)"
   ]
  },
  {
   "cell_type": "code",
   "execution_count": 33,
   "id": "f0b94e95-dcc4-45e2-8da8-3993693986e8",
   "metadata": {},
   "outputs": [],
   "source": [
    "potential_gears = np.argwhere(potential_gear_map)"
   ]
  },
  {
   "cell_type": "code",
   "execution_count": 34,
   "id": "536db945-5a6c-4169-ae60-370399397343",
   "metadata": {},
   "outputs": [
    {
     "data": {
      "text/plain": [
       "array([[1, 3],\n",
       "       [4, 3],\n",
       "       [8, 5]])"
      ]
     },
     "execution_count": 34,
     "metadata": {},
     "output_type": "execute_result"
    }
   ],
   "source": [
    "potential_gears"
   ]
  },
  {
   "cell_type": "code",
   "execution_count": 44,
   "id": "ddc07131-a7fa-4f5b-acce-83ffa75cd8ae",
   "metadata": {},
   "outputs": [],
   "source": [
    "def find_valid_number_map(schematic, number_map, valid_coordinates, debug = False):\n",
    "    valid_numbers = []\n",
    "    valid_number_map = np.zeros(schematic.shape)\n",
    "    w, h = schematic.shape\n",
    "    for x in range(w):\n",
    "        valid_row_numbers = []\n",
    "        if x in valid_coordinates[0]:\n",
    "            number_locs = np.where(number_map[x])[0]\n",
    "            if len(number_locs) > 0:\n",
    "                number_groups = [np.arange(group[0], group[-1]+1) if group[0]<group[-1]+1 else np.array([group[0]]) for group in find_groups(number_locs)]\n",
    "                # print(number_groups)\n",
    "                for group in number_groups:\n",
    "                    # print(x, group, valid_coordinates[x, group])\n",
    "                    if sum(valid_coordinates[x, group]) > 0:\n",
    "                        valid_number_map[x, group] = 1\n",
    "                        valid_row_number = int(\"\".join(schematic[x, group[0]: group[-1]+1]))\n",
    "                        valid_numbers.append(valid_row_number)\n",
    "    if debug:\n",
    "        print(valid_numbers)\n",
    "    return valid_number_map"
   ]
  },
  {
   "cell_type": "code",
   "execution_count": 45,
   "id": "73bc519f-a38b-4121-994b-b021b5f909a9",
   "metadata": {},
   "outputs": [],
   "source": [
    "def find_valid_numbers(schematic, debug = False):\n",
    "    symbol_map = create_symbol_map(schematic)\n",
    "    number_map = create_number_map(schematic)\n",
    "    valid_coordinates = create_valid_coordinate_map(symbol_map)\n",
    "    # valid_number_map = number_map&valid_coordinates\n",
    "    valid_number_map = find_valid_number_map(schematic, number_map, valid_coordinates, debug)\n",
    "    return valid_number_map.astype(int)\n"
   ]
  },
  {
   "cell_type": "code",
   "execution_count": 46,
   "id": "e6f734eb-b4c6-4d40-ac6b-a77b2a4f3632",
   "metadata": {},
   "outputs": [],
   "source": [
    "def drop_consecutives(block):\n",
    "    for row in block:\n",
    "        for i in range(len(row)-1):\n",
    "            if row[i] == 1 and row[i+1] == 1:\n",
    "                row[i] = 0\n",
    "    return block"
   ]
  },
  {
   "cell_type": "code",
   "execution_count": 47,
   "id": "9c9b95e4-c09c-4c7b-9c35-916d28745a2e",
   "metadata": {},
   "outputs": [],
   "source": [
    "def is_gear(x, y, valid_digit_map):\n",
    "    neighbours = drop_consecutives(valid_digit_map[x-1:x+2, y-1:y+2])\n",
    "    return np.sum(neighbours) == 2"
   ]
  },
  {
   "cell_type": "code",
   "execution_count": 48,
   "id": "5a874f68-69a8-4fd3-aa81-962e51f73703",
   "metadata": {},
   "outputs": [],
   "source": [
    "def find_gear_map(schematic):\n",
    "    gear_map = np.zeros(schematic.shape)\n",
    "    potential_gears = np.argwhere(schematic == \"*\")\n",
    "    valid_digit_map = find_valid_numbers(schematic)\n",
    "    for gear in potential_gears:\n",
    "        x, y = gear\n",
    "        if is_gear(x, y, valid_digit_map):\n",
    "            gear_map[x,y] = 1\n",
    "    return gear_map\n",
    "    "
   ]
  },
  {
   "cell_type": "code",
   "execution_count": 49,
   "id": "8f0b0b10-59a7-482d-ad96-4ecee3fa0b62",
   "metadata": {},
   "outputs": [],
   "source": [
    "def drop_contiguous_points(coords):\n",
    "    contiguous = np.all(\n",
    "        np.logical_or(\n",
    "            coords[1:] == coords[:-1], #any coordinate match forwards\n",
    "            coords[1:] == coords[:-1] + 1, #any coordinate match reverse\n",
    "        ),\n",
    "        axis=1,\n",
    "    )\n",
    "    mask = np.append([True], np.logical_not(contiguous)) #we want the not-contiguous ones\n",
    "    return coords[mask]\n"
   ]
  },
  {
   "cell_type": "code",
   "execution_count": 50,
   "id": "fcadf529-62ae-4d7c-8a7e-c03334ccaa64",
   "metadata": {},
   "outputs": [],
   "source": [
    "def scrape_number(x, y, schematic):\n",
    "    number_map = np.char.isdigit(schematic)\n",
    "    number = \"\"\n",
    "    i = y\n",
    "    while i >= 0 and number_map[x, i]:\n",
    "        number = schematic[x, i]+number\n",
    "        i-=1\n",
    "    i=y+1\n",
    "    while i<len(schematic[x]) and number_map[x, i]:\n",
    "        number = number + schematic[x, i]\n",
    "        i+=1\n",
    "    return(int(number))\n",
    "    "
   ]
  },
  {
   "cell_type": "code",
   "execution_count": 59,
   "id": "b0e05152-9886-4551-a299-2b3d45b9a05d",
   "metadata": {},
   "outputs": [
    {
     "data": {
      "text/plain": [
       "array([['4', '6', '7', '.', '.', '1', '1', '4', '.', '.'],\n",
       "       ['.', '.', '.', '*', '.', '.', '.', '.', '.', '.'],\n",
       "       ['.', '.', '3', '5', '.', '.', '6', '3', '3', '.'],\n",
       "       ['.', '.', '.', '.', '.', '.', '#', '.', '.', '.'],\n",
       "       ['6', '1', '7', '*', '.', '.', '.', '.', '.', '.'],\n",
       "       ['.', '.', '.', '.', '.', '+', '.', '5', '8', '.'],\n",
       "       ['.', '.', '5', '9', '2', '.', '.', '.', '.', '.'],\n",
       "       ['.', '.', '.', '.', '.', '.', '7', '5', '5', '.'],\n",
       "       ['.', '.', '.', '$', '.', '*', '.', '.', '.', '.'],\n",
       "       ['.', '6', '6', '4', '.', '5', '9', '8', '.', '.']], dtype='<U1')"
      ]
     },
     "execution_count": 59,
     "metadata": {},
     "output_type": "execute_result"
    }
   ],
   "source": [
    "test_schematic"
   ]
  },
  {
   "cell_type": "code",
   "execution_count": 60,
   "id": "ebdc668f-c886-4325-aa8f-899545ca8808",
   "metadata": {},
   "outputs": [
    {
     "data": {
      "text/plain": [
       "array([[0., 0., 0., 0., 0., 0., 0., 0., 0., 0.],\n",
       "       [0., 0., 0., 0., 0., 0., 0., 0., 0., 0.],\n",
       "       [0., 0., 0., 0., 0., 0., 0., 0., 0., 0.],\n",
       "       [0., 0., 0., 0., 0., 0., 0., 0., 0., 0.],\n",
       "       [0., 0., 0., 0., 0., 0., 0., 0., 0., 0.],\n",
       "       [0., 0., 0., 0., 0., 0., 0., 0., 0., 0.],\n",
       "       [0., 0., 0., 0., 0., 0., 0., 0., 0., 0.],\n",
       "       [0., 0., 0., 0., 0., 0., 0., 0., 0., 0.],\n",
       "       [0., 0., 0., 0., 0., 0., 0., 0., 0., 0.],\n",
       "       [0., 0., 0., 0., 0., 0., 0., 0., 0., 0.]])"
      ]
     },
     "execution_count": 60,
     "metadata": {},
     "output_type": "execute_result"
    }
   ],
   "source": [
    "find_gear_map(test_schematic)"
   ]
  },
  {
   "cell_type": "code",
   "execution_count": 57,
   "id": "25dd478b-d030-4047-9fda-db6671945c1f",
   "metadata": {},
   "outputs": [],
   "source": [
    "def find_gear_ratios(test_schematic):\n",
    "    #map all valid gears\n",
    "    gear_map = find_gear_map(test_schematic)\n",
    "    print(gear_map)\n",
    "    #coordinates of all valid gears\n",
    "    gear_locations = np.argwhere(gear_map)\n",
    "\n",
    "    #map of all locations of valid gear neighbours\n",
    "    valid_gear_neigbour_locations = create_valid_coordinate_map(gear_map)\n",
    "    number_map = np.char.isdigit(test_schematic)\n",
    "    valid_gear_neighbours = valid_gear_neigbour_locations & number_map\n",
    "    print(valid_gear_neighbours)\n",
    "    #coordinates with doubles dropped\n",
    "    coords = np.argwhere(valid_gear_neighbours)\n",
    "    print(coords)\n",
    "    coords = drop_contiguous_points(coords)\n",
    "\n",
    "    numbers = np.array([scrape_number(coord[0], coord[1], test_schematic) for coord in coords])\n",
    "    numbers = numbers.reshape(len(numbers)//2, 2)\n",
    "\n",
    "    return(np.sum(np.prod(numbers, axis = 1)))"
   ]
  },
  {
   "cell_type": "code",
   "execution_count": 58,
   "id": "10599e18-edef-43aa-aec5-a3fad3c0143e",
   "metadata": {},
   "outputs": [
    {
     "name": "stdout",
     "output_type": "stream",
     "text": [
      "[[0. 0. 0. 0. 0. 0. 0. 0. 0. 0.]\n",
      " [0. 0. 0. 0. 0. 0. 0. 0. 0. 0.]\n",
      " [0. 0. 0. 0. 0. 0. 0. 0. 0. 0.]\n",
      " [0. 0. 0. 0. 0. 0. 0. 0. 0. 0.]\n",
      " [0. 0. 0. 0. 0. 0. 0. 0. 0. 0.]\n",
      " [0. 0. 0. 0. 0. 0. 0. 0. 0. 0.]\n",
      " [0. 0. 0. 0. 0. 0. 0. 0. 0. 0.]\n",
      " [0. 0. 0. 0. 0. 0. 0. 0. 0. 0.]\n",
      " [0. 0. 0. 0. 0. 0. 0. 0. 0. 0.]\n",
      " [0. 0. 0. 0. 0. 0. 0. 0. 0. 0.]]\n",
      "[[0 0 0 0 0 0 0 0 0 0]\n",
      " [0 0 0 0 0 0 0 0 0 0]\n",
      " [0 0 0 0 0 0 0 0 0 0]\n",
      " [0 0 0 0 0 0 0 0 0 0]\n",
      " [0 0 0 0 0 0 0 0 0 0]\n",
      " [0 0 0 0 0 0 0 0 0 0]\n",
      " [0 0 0 0 0 0 0 0 0 0]\n",
      " [0 0 0 0 0 0 0 0 0 0]\n",
      " [0 0 0 0 0 0 0 0 0 0]\n",
      " [0 0 0 0 0 0 0 0 0 0]]\n",
      "[]\n"
     ]
    },
    {
     "ename": "IndexError",
     "evalue": "boolean index did not match indexed array along dimension 0; dimension is 0 but corresponding boolean dimension is 1",
     "output_type": "error",
     "traceback": [
      "\u001b[0;31m---------------------------------------------------------------------------\u001b[0m",
      "\u001b[0;31mIndexError\u001b[0m                                Traceback (most recent call last)",
      "Cell \u001b[0;32mIn[58], line 1\u001b[0m\n\u001b[0;32m----> 1\u001b[0m \u001b[43mfind_gear_ratios\u001b[49m\u001b[43m(\u001b[49m\u001b[43mtest_schematic\u001b[49m\u001b[43m)\u001b[49m\n",
      "Cell \u001b[0;32mIn[57], line 16\u001b[0m, in \u001b[0;36mfind_gear_ratios\u001b[0;34m(test_schematic)\u001b[0m\n\u001b[1;32m     14\u001b[0m coords \u001b[38;5;241m=\u001b[39m np\u001b[38;5;241m.\u001b[39margwhere(valid_gear_neighbours)\n\u001b[1;32m     15\u001b[0m \u001b[38;5;28mprint\u001b[39m(coords)\n\u001b[0;32m---> 16\u001b[0m coords \u001b[38;5;241m=\u001b[39m \u001b[43mdrop_contiguous_points\u001b[49m\u001b[43m(\u001b[49m\u001b[43mcoords\u001b[49m\u001b[43m)\u001b[49m\n\u001b[1;32m     18\u001b[0m numbers \u001b[38;5;241m=\u001b[39m np\u001b[38;5;241m.\u001b[39marray([scrape_number(coord[\u001b[38;5;241m0\u001b[39m], coord[\u001b[38;5;241m1\u001b[39m], test_schematic) \u001b[38;5;28;01mfor\u001b[39;00m coord \u001b[38;5;129;01min\u001b[39;00m coords])\n\u001b[1;32m     19\u001b[0m numbers \u001b[38;5;241m=\u001b[39m numbers\u001b[38;5;241m.\u001b[39mreshape(\u001b[38;5;28mlen\u001b[39m(numbers)\u001b[38;5;241m/\u001b[39m\u001b[38;5;241m/\u001b[39m\u001b[38;5;241m2\u001b[39m, \u001b[38;5;241m2\u001b[39m)\n",
      "Cell \u001b[0;32mIn[49], line 10\u001b[0m, in \u001b[0;36mdrop_contiguous_points\u001b[0;34m(coords)\u001b[0m\n\u001b[1;32m      2\u001b[0m contiguous \u001b[38;5;241m=\u001b[39m np\u001b[38;5;241m.\u001b[39mall(\n\u001b[1;32m      3\u001b[0m     np\u001b[38;5;241m.\u001b[39mlogical_or(\n\u001b[1;32m      4\u001b[0m         coords[\u001b[38;5;241m1\u001b[39m:] \u001b[38;5;241m==\u001b[39m coords[:\u001b[38;5;241m-\u001b[39m\u001b[38;5;241m1\u001b[39m], \u001b[38;5;66;03m#any coordinate match forwards\u001b[39;00m\n\u001b[0;32m   (...)\u001b[0m\n\u001b[1;32m      7\u001b[0m     axis\u001b[38;5;241m=\u001b[39m\u001b[38;5;241m1\u001b[39m,\n\u001b[1;32m      8\u001b[0m )\n\u001b[1;32m      9\u001b[0m mask \u001b[38;5;241m=\u001b[39m np\u001b[38;5;241m.\u001b[39mappend([\u001b[38;5;28;01mTrue\u001b[39;00m], np\u001b[38;5;241m.\u001b[39mlogical_not(contiguous)) \u001b[38;5;66;03m#we want the not-contiguous ones\u001b[39;00m\n\u001b[0;32m---> 10\u001b[0m \u001b[38;5;28;01mreturn\u001b[39;00m \u001b[43mcoords\u001b[49m\u001b[43m[\u001b[49m\u001b[43mmask\u001b[49m\u001b[43m]\u001b[49m\n",
      "\u001b[0;31mIndexError\u001b[0m: boolean index did not match indexed array along dimension 0; dimension is 0 but corresponding boolean dimension is 1"
     ]
    }
   ],
   "source": [
    "find_gear_ratios(test_schematic)"
   ]
  },
  {
   "cell_type": "code",
   "execution_count": 615,
   "id": "54a4ffab-9dd6-41eb-98f8-a6c8c6eaf1b8",
   "metadata": {},
   "outputs": [
    {
     "data": {
      "text/plain": [
       "69194907"
      ]
     },
     "execution_count": 615,
     "metadata": {},
     "output_type": "execute_result"
    }
   ],
   "source": [
    "find_gear_ratios(schematic)"
   ]
  },
  {
   "cell_type": "code",
   "execution_count": 608,
   "id": "34b723e6-7f77-4932-a97b-f1221980d34a",
   "metadata": {},
   "outputs": [],
   "source": [
    "\n",
    "    "
   ]
  },
  {
   "cell_type": "code",
   "execution_count": 488,
   "id": "c2cf0cd6-29b5-4212-b2b9-2979c2f27175",
   "metadata": {},
   "outputs": [
    {
     "data": {
      "text/plain": [
       "35"
      ]
     },
     "execution_count": 488,
     "metadata": {},
     "output_type": "execute_result"
    }
   ],
   "source": [
    "scrape_number(coords[1][0], coords[1][1], test_schematic)"
   ]
  },
  {
   "cell_type": "code",
   "execution_count": 473,
   "id": "e95816c8-9084-471b-b517-1f8cde2595a5",
   "metadata": {},
   "outputs": [
    {
     "data": {
      "text/plain": [
       "array([2, 2])"
      ]
     },
     "execution_count": 473,
     "metadata": {},
     "output_type": "execute_result"
    }
   ],
   "source": [
    "coords[1]"
   ]
  },
  {
   "cell_type": "code",
   "execution_count": 469,
   "id": "444f7ed9-2202-4283-84c5-fbf4f76d5fc5",
   "metadata": {},
   "outputs": [
    {
     "data": {
      "text/plain": [
       "array([['4', '6', '7', '.', '.', '1', '1', '4', '.', '.'],\n",
       "       ['.', '.', '.', '*', '.', '.', '.', '.', '.', '.'],\n",
       "       ['.', '.', '3', '5', '.', '.', '6', '3', '3', '.'],\n",
       "       ['.', '.', '.', '.', '.', '.', '#', '.', '.', '.'],\n",
       "       ['6', '1', '7', '*', '.', '.', '.', '.', '.', '.'],\n",
       "       ['.', '.', '.', '.', '.', '+', '.', '5', '8', '.'],\n",
       "       ['.', '.', '5', '9', '2', '.', '.', '.', '.', '.'],\n",
       "       ['.', '.', '.', '.', '.', '.', '7', '5', '5', '.'],\n",
       "       ['.', '.', '.', '$', '.', '*', '.', '.', '.', '.'],\n",
       "       ['.', '6', '6', '4', '.', '5', '9', '8', '.', '.']], dtype='<U1')"
      ]
     },
     "execution_count": 469,
     "metadata": {},
     "output_type": "execute_result"
    }
   ],
   "source": [
    "test_schematic"
   ]
  },
  {
   "cell_type": "code",
   "execution_count": null,
   "id": "d95c8b06-e335-45cd-91c7-5a091bd5e99a",
   "metadata": {},
   "outputs": [],
   "source": []
  }
 ],
 "metadata": {
  "kernelspec": {
   "display_name": "Python 3 (ipykernel)",
   "language": "python",
   "name": "python3"
  },
  "language_info": {
   "codemirror_mode": {
    "name": "ipython",
    "version": 3
   },
   "file_extension": ".py",
   "mimetype": "text/x-python",
   "name": "python",
   "nbconvert_exporter": "python",
   "pygments_lexer": "ipython3",
   "version": "3.10.12"
  }
 },
 "nbformat": 4,
 "nbformat_minor": 5
}
