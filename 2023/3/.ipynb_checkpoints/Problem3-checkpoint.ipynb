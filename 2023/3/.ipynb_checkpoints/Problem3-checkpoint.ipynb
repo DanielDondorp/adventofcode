{
 "cells": [
  {
   "cell_type": "markdown",
   "id": "6bc036b3-c701-4071-8943-e677b22b20ae",
   "metadata": {},
   "source": [
    "## --- Day 3: Gear Ratios ---\n",
    "You and the Elf eventually reach a gondola lift station; he says the gondola lift will take you up to the water source, but this is as far as he can bring you. You go inside.\n",
    "\n",
    "It doesn't take long to find the gondolas, but there seems to be a problem: they're not moving.\n",
    "\n",
    "\"Aaah!\"\n",
    "\n",
    "You turn around to see a slightly-greasy Elf with a wrench and a look of surprise. \"Sorry, I wasn't expecting anyone! The gondola lift isn't working right now; it'll still be a while before I can fix it.\" You offer to help.\n",
    "\n",
    "The engineer explains that an engine part seems to be missing from the engine, but nobody can figure out which one. If you can add up all the part numbers in the engine schematic, it should be easy to work out which part is missing.\n",
    "\n",
    "The engine schematic (your puzzle input) consists of a visual representation of the engine. There are lots of numbers and symbols you don't really understand, but apparently any number adjacent to a symbol, even diagonally, is a \"part number\" and should be included in your sum. (Periods (.) do not count as a symbol.)\n",
    "\n",
    "Here is an example engine schematic:\n",
    "``` \n",
    "467..114..\n",
    "...*......\n",
    "..35..633.\n",
    "......#...\n",
    "617*......\n",
    ".....+.58.\n",
    "..592.....\n",
    "......755.\n",
    "...$.*....\n",
    ".664.598..\n",
    "``` \n",
    "In this schematic, two numbers are not part numbers because they are not adjacent to a symbol: 114 (top right) and 58 (middle right). Every other number is adjacent to a symbol and so is a part number; their sum is 4361.\n",
    "\n",
    "Of course, the actual engine schematic is much larger. What is the sum of all of the part numbers in the engine schematic?"
   ]
  },
  {
   "cell_type": "code",
   "execution_count": 1,
   "id": "9153dd18-f593-496b-b28e-25827f6264e7",
   "metadata": {},
   "outputs": [],
   "source": [
    "#make boolean mask for array as solutioim\n",
    "import numpy as np"
   ]
  },
  {
   "cell_type": "code",
   "execution_count": 255,
   "id": "91c17dc4-d31d-4176-ae54-cb2c99d5131c",
   "metadata": {},
   "outputs": [
    {
     "data": {
      "text/plain": [
       "array([['4', '6', '7', '.', '.', '1', '1', '4', '.', '.'],\n",
       "       ['.', '.', '.', '*', '.', '.', '.', '.', '.', '.'],\n",
       "       ['.', '.', '3', '5', '.', '.', '6', '3', '3', '.'],\n",
       "       ['.', '.', '.', '.', '.', '.', '#', '.', '.', '.'],\n",
       "       ['6', '1', '7', '*', '.', '.', '.', '.', '.', '.'],\n",
       "       ['.', '.', '.', '.', '.', '+', '.', '5', '8', '.'],\n",
       "       ['.', '.', '5', '9', '2', '.', '.', '.', '.', '.'],\n",
       "       ['.', '.', '.', '.', '.', '.', '7', '5', '5', '.'],\n",
       "       ['.', '.', '.', '$', '.', '*', '.', '.', '.', '.'],\n",
       "       ['.', '6', '6', '4', '.', '5', '9', '8', '.', '.']], dtype='<U1')"
      ]
     },
     "execution_count": 255,
     "metadata": {},
     "output_type": "execute_result"
    }
   ],
   "source": [
    "test_schematic = \"\"\"467..114..\n",
    "...*......\n",
    "..35..633.\n",
    "......#...\n",
    "617*......\n",
    ".....+.58.\n",
    "..592.....\n",
    "......755.\n",
    "...$.*....\n",
    ".664.598..\"\"\"\n",
    "\n",
    "test_schematic = test_schematic.split(\"\\n\")\n",
    "\n",
    "test_schematic = np.array([[x for x in l] for l in test_schematic])\n",
    "\n",
    "test_schematic"
   ]
  },
  {
   "cell_type": "code",
   "execution_count": 256,
   "id": "90f7c1be-844a-4136-9a25-6a4f08f2fa82",
   "metadata": {},
   "outputs": [],
   "source": [
    "with open(\"./input.txt\", \"r\") as f:\n",
    "    schematic = f.readlines()\n",
    "    schematic = [l.rstrip(\"\\n\") for l in schematic]\n",
    "    schematic = np.array([[x for x in s] for s in schematic])"
   ]
  },
  {
   "cell_type": "code",
   "execution_count": 257,
   "id": "a2120e9a-2ccb-4902-b32e-097a6fd5df47",
   "metadata": {},
   "outputs": [
    {
     "data": {
      "text/plain": [
       "array([['.', '.', '.', ..., '.', '.', '.'],\n",
       "       ['.', '.', '.', ..., '.', '.', '.'],\n",
       "       ['.', '.', '3', ..., '.', '.', '.'],\n",
       "       ...,\n",
       "       ['.', '.', '.', ..., '2', '4', '9'],\n",
       "       ['.', '.', '.', ..., '.', '.', '.'],\n",
       "       ['.', '1', '2', ..., '.', '.', '.']], dtype='<U1')"
      ]
     },
     "execution_count": 257,
     "metadata": {},
     "output_type": "execute_result"
    }
   ],
   "source": [
    "schematic"
   ]
  },
  {
   "cell_type": "code",
   "execution_count": 258,
   "id": "a4db61d0-822d-4aa5-a2fc-4a33acd765b6",
   "metadata": {},
   "outputs": [],
   "source": [
    "#all the chars that are not symbols to check against\n",
    "not_symbols = \"1234567890.\""
   ]
  },
  {
   "cell_type": "code",
   "execution_count": 259,
   "id": "166572ce-822b-4e4b-9cdf-d2a297b9eb1f",
   "metadata": {},
   "outputs": [],
   "source": [
    "\n",
    "def create_symbol_map(schematic):\n",
    "    #initialize first mask to store symbol locations\n",
    "    symbol_location_map = np.ones(schematic.shape)\n",
    "\n",
    "    #set every location that is not a symbol to 0\n",
    "    w, h = schematic.shape\n",
    "    for i in range(w):\n",
    "        for j in range(h):\n",
    "            symbol_location_map[i,j] = schematic[i,j] not in not_symbols\n",
    "    return symbol_location_map\n"
   ]
  },
  {
   "cell_type": "code",
   "execution_count": 260,
   "id": "e70308eb-e3b4-41ce-8338-891c0b7b14f0",
   "metadata": {},
   "outputs": [],
   "source": [
    "def create_valid_coordinate_map(symbol_location_map, kernel = np.array([[1,1,1],[1,0,1],[1,1,1]])):\n",
    "    valid_coordinate_map = convolve(symbol_location_map, kernel, mode = \"constant\", cval = 0)\n",
    "    valid_coordinate_map = valid_coordinate_map.astype(int)\n",
    "    return valid_coordinate_map"
   ]
  },
  {
   "cell_type": "markdown",
   "id": "aab318d8-b061-4317-b6ec-8c27af7c1b84",
   "metadata": {},
   "source": [
    "`symbol_location_map`  now has ones in all locations a symbol is. Now we need to set a pixel in a new mask to 1 if the surrounding pixels contain a 1. We can do a convolution with a kernel that just sets the pixel to positive if htere is anythiing positive surrounding it, else 0. \n",
    "The kernel will look like :\n"
   ]
  },
  {
   "cell_type": "code",
   "execution_count": 261,
   "id": "fe1f9c85-1b4b-45f1-a368-18ebe568111c",
   "metadata": {},
   "outputs": [],
   "source": [
    "def create_number_map(schematic):\n",
    "    #we need a map of where the numbers are too:\n",
    "    w, h = schematic.shape\n",
    "    number_map = np.zeros(schematic.shape)\n",
    "    for i in range(w):\n",
    "        for j in range(h):\n",
    "            number_map[i,j] = schematic[i,j].isnumeric()\n",
    "    number_map = number_map.astype(bool)\n",
    "    return number_map"
   ]
  },
  {
   "cell_type": "code",
   "execution_count": 262,
   "id": "3478803f-114d-407c-9448-c106fece476b",
   "metadata": {},
   "outputs": [],
   "source": [
    "#coordinates of all valid digits. If a number has a digit in it on one of these coordinates, we count the number\n",
    "coordinates = np.where(valid_coordinate_map)"
   ]
  },
  {
   "cell_type": "markdown",
   "id": "6f0b32f4-d890-4a8a-8413-08025ca3bf46",
   "metadata": {},
   "source": [
    "Now we have to gather all the numbers and their coordinates in some smart structure to do the checks against the coordinates. One line of the schematic can have multiple numbers. We can have a stupid double-loop with a flag type solution to get us going:"
   ]
  },
  {
   "cell_type": "code",
   "execution_count": 263,
   "id": "f3f12f38-aab8-483e-af31-f4e97392350a",
   "metadata": {},
   "outputs": [],
   "source": [
    "def find_groups(arr):\n",
    "    first = arr[0]\n",
    "    last = arr[0]\n",
    "    for x in arr[1:]:\n",
    "        if x == last+1:\n",
    "            last = x\n",
    "        else:\n",
    "            yield first, last\n",
    "            first = x\n",
    "            last = x\n",
    "    yield first, last"
   ]
  },
  {
   "cell_type": "code",
   "execution_count": 277,
   "id": "b561b47c-f5f6-4ddf-b473-8fc0832a0eed",
   "metadata": {
    "tags": []
   },
   "outputs": [],
   "source": [
    "def find_sum_of_parts(schematic, number_map, valid_coordinates, debug = False):\n",
    "    valid_numbers = []\n",
    "    w, h = schematic.shape\n",
    "    for x in range(w):\n",
    "        valid_row_numbers = []\n",
    "        if x in coordinates[0]:\n",
    "            number_locs = np.where(number_map[x])[0]\n",
    "            if len(number_locs) > 0:\n",
    "                number_groups = [np.arange(group[0], group[-1]+1) if group[0]<group[-1]+1 else np.array([group[0]]) for group in find_groups(number_locs)]\n",
    "                # print(number_groups)\n",
    "                for group in number_groups:\n",
    "                    # print(x, group, valid_coordinates[x, group])\n",
    "                    if sum(valid_coordinates[x, group]) > 0:\n",
    "                            valid_row_number = int(\"\".join(schematic[x, group[0]: group[-1]+1]))\n",
    "                            valid_numbers.append(valid_row_number)\n",
    "    if debug:\n",
    "        print(valid_numbers)\n",
    "    return sum(valid_numbers)\n",
    "\n",
    "                \n",
    "                \n",
    "                "
   ]
  },
  {
   "cell_type": "code",
   "execution_count": null,
   "id": "8377330c-f09a-4d37-90eb-26947b1db411",
   "metadata": {},
   "outputs": [],
   "source": [
    "def find_numbers(schematic, debug = False):\n",
    "    symbol_map = create_symbol_map(schematic)\n",
    "    number_map = create_number_map(schematic)\n",
    "    valid_coordinates = create_valid_coordinate_map(symbol_map)\n",
    "    # valid_number_map = number_map&valid_coordinates\n",
    "    return find_sum_of_parts(schematic, number_map, valid_coordinates, debug)\n"
   ]
  },
  {
   "cell_type": "code",
   "execution_count": 280,
   "id": "b57068a9-601b-455a-95a7-2203f6d934f7",
   "metadata": {},
   "outputs": [
    {
     "data": {
      "text/plain": [
       "498559"
      ]
     },
     "execution_count": 280,
     "metadata": {},
     "output_type": "execute_result"
    }
   ],
   "source": [
    "find_numbers(schematic)"
   ]
  },
  {
   "cell_type": "markdown",
   "id": "9586703c-c62b-491b-bc6b-5e46dc1a99a6",
   "metadata": {},
   "source": [
    "The engineer finds the missing part and installs it in the engine! As the engine springs to life, you jump in the closest gondola, finally ready to ascend to the water source.\n",
    "\n",
    "You don't seem to be going very fast, though. Maybe something is still wrong? Fortunately, the gondola has a phone labeled \"help\", so you pick it up and the engineer answers.\n",
    "\n",
    "Before you can explain the situation, she suggests that you look out the window. There stands the engineer, holding a phone in one hand and waving with the other. You're going so slowly that you haven't even left the station. You exit the gondola.\n",
    "\n",
    "The missing part wasn't the only issue - one of the gears in the engine is wrong. A gear is any * symbol that is adjacent to exactly two part numbers. Its gear ratio is the result of multiplying those two numbers together.\n",
    "\n",
    "This time, you need to find the gear ratio of every gear and add them all up so that the engineer can figure out which gear needs to be replaced.\n",
    "\n",
    "Consider the same engine schematic again:\n",
    "``` \n",
    "467..114..\n",
    "...*......\n",
    "..35..633.\n",
    "......#...\n",
    "617*......\n",
    ".....+.58.\n",
    "..592.....\n",
    "......755.\n",
    "...$.*....\n",
    ".664.598..\n",
    "``` \n",
    "In this schematic, there are two gears. The first is in the top left; it has part numbers 467 and 35, so its gear ratio is 16345. The second gear is in the lower right; its gear ratio is 451490. (The * adjacent to 617 is not a gear because it is only adjacent to one part number.) Adding up all of the gear ratios produces 467835.\n",
    "\n",
    "What is the sum of all of the gear ratios in your engine schematic?"
   ]
  },
  {
   "cell_type": "markdown",
   "id": "5270fd92-f21f-414e-abba-db4ecc1df51e",
   "metadata": {},
   "source": [
    "For this we need to maybe do another convolution? Or solve the problem in an entirely different way?"
   ]
  },
  {
   "cell_type": "code",
   "execution_count": 329,
   "id": "a0122095-a73c-4acb-b2f8-55a260c795a9",
   "metadata": {},
   "outputs": [],
   "source": [
    "potential_gear_map = test_schematic == \"*\""
   ]
  },
  {
   "cell_type": "code",
   "execution_count": 330,
   "id": "5a6cade8-aba4-403d-b91b-f02110903c60",
   "metadata": {},
   "outputs": [
    {
     "data": {
      "text/plain": [
       "array([[0, 0, 0, 0, 0, 0, 0, 0, 0, 0],\n",
       "       [0, 0, 0, 1, 0, 0, 0, 0, 0, 0],\n",
       "       [0, 0, 0, 0, 0, 0, 0, 0, 0, 0],\n",
       "       [0, 0, 0, 0, 0, 0, 0, 0, 0, 0],\n",
       "       [0, 0, 0, 1, 0, 0, 0, 0, 0, 0],\n",
       "       [0, 0, 0, 0, 0, 0, 0, 0, 0, 0],\n",
       "       [0, 0, 0, 0, 0, 0, 0, 0, 0, 0],\n",
       "       [0, 0, 0, 0, 0, 0, 0, 0, 0, 0],\n",
       "       [0, 0, 0, 0, 0, 1, 0, 0, 0, 0],\n",
       "       [0, 0, 0, 0, 0, 0, 0, 0, 0, 0]])"
      ]
     },
     "execution_count": 330,
     "metadata": {},
     "output_type": "execute_result"
    }
   ],
   "source": [
    "potential_gear_map.astype(int)"
   ]
  },
  {
   "cell_type": "code",
   "execution_count": 334,
   "id": "f0b94e95-dcc4-45e2-8da8-3993693986e8",
   "metadata": {},
   "outputs": [],
   "source": [
    "pg = np.argwhere(potential_gear_map)"
   ]
  },
  {
   "cell_type": "code",
   "execution_count": 358,
   "id": "f2db2b31-da6b-4bbf-bc6f-52ee1523a046",
   "metadata": {},
   "outputs": [],
   "source": [
    "valid_coordinates = create_valid_coordinate_map(create_symbol_map(test_schematic))"
   ]
  },
  {
   "cell_type": "code",
   "execution_count": 362,
   "id": "a9d0b92a-f9d4-47de-9ad9-c0a8ebc690ae",
   "metadata": {},
   "outputs": [],
   "source": [
    "valid_numbers = valid_coordinates & create_number_map(test_schematic)"
   ]
  },
  {
   "cell_type": "code",
   "execution_count": 359,
   "id": "80e4f250-288e-4e5d-8dd2-51a36dbe401c",
   "metadata": {},
   "outputs": [],
   "source": [
    "x,y = pg[0]"
   ]
  },
  {
   "cell_type": "code",
   "execution_count": 363,
   "id": "97c4a07e-a943-4e8f-9ad1-d5d805daf12e",
   "metadata": {},
   "outputs": [
    {
     "data": {
      "text/plain": [
       "array([[1, 0, 0],\n",
       "       [0, 0, 0],\n",
       "       [1, 1, 0]])"
      ]
     },
     "execution_count": 363,
     "metadata": {},
     "output_type": "execute_result"
    }
   ],
   "source": [
    "valid_numbers[x-1:x+2, y-1:y+2]"
   ]
  },
  {
   "cell_type": "code",
   "execution_count": 367,
   "id": "9a7cd0df-6700-4f2b-8741-134f891b8547",
   "metadata": {},
   "outputs": [
    {
     "data": {
      "text/plain": [
       "array([[0, 0, 1, 1, 1, 0, 0, 0, 0, 0],\n",
       "       [0, 0, 1, 0, 1, 0, 0, 0, 0, 0],\n",
       "       [0, 0, 1, 1, 1, 1, 1, 1, 0, 0],\n",
       "       [0, 0, 1, 1, 1, 1, 0, 1, 0, 0],\n",
       "       [0, 0, 1, 0, 2, 2, 2, 1, 0, 0],\n",
       "       [0, 0, 1, 1, 2, 0, 1, 0, 0, 0],\n",
       "       [0, 0, 0, 0, 1, 1, 1, 0, 0, 0],\n",
       "       [0, 0, 1, 1, 2, 1, 1, 0, 0, 0],\n",
       "       [0, 0, 1, 0, 2, 0, 1, 0, 0, 0],\n",
       "       [0, 0, 1, 1, 2, 1, 1, 0, 0, 0]])"
      ]
     },
     "execution_count": 367,
     "metadata": {},
     "output_type": "execute_result"
    }
   ],
   "source": [
    "valid_coordinates"
   ]
  },
  {
   "cell_type": "code",
   "execution_count": 368,
   "id": "fe7adfd9-7a1f-4862-b2b1-5f7c76261764",
   "metadata": {},
   "outputs": [
    {
     "data": {
      "text/plain": [
       "array([[0, 0, 1, 0, 0, 0, 0, 0, 0, 0],\n",
       "       [0, 0, 0, 0, 0, 0, 0, 0, 0, 0],\n",
       "       [0, 0, 1, 1, 0, 0, 1, 1, 0, 0],\n",
       "       [0, 0, 0, 0, 0, 0, 0, 0, 0, 0],\n",
       "       [0, 0, 1, 0, 0, 0, 0, 0, 0, 0],\n",
       "       [0, 0, 0, 0, 0, 0, 0, 0, 0, 0],\n",
       "       [0, 0, 0, 0, 1, 0, 0, 0, 0, 0],\n",
       "       [0, 0, 0, 0, 0, 0, 1, 0, 0, 0],\n",
       "       [0, 0, 0, 0, 0, 0, 0, 0, 0, 0],\n",
       "       [0, 0, 1, 1, 0, 1, 1, 0, 0, 0]])"
      ]
     },
     "execution_count": 368,
     "metadata": {},
     "output_type": "execute_result"
    }
   ],
   "source": [
    "valid_numbers"
   ]
  },
  {
   "cell_type": "code",
   "execution_count": null,
   "id": "6586268c-2f49-49ab-b581-46ca8105aa82",
   "metadata": {},
   "outputs": [],
   "source": []
  }
 ],
 "metadata": {
  "kernelspec": {
   "display_name": "Python 3 (ipykernel)",
   "language": "python",
   "name": "python3"
  },
  "language_info": {
   "codemirror_mode": {
    "name": "ipython",
    "version": 3
   },
   "file_extension": ".py",
   "mimetype": "text/x-python",
   "name": "python",
   "nbconvert_exporter": "python",
   "pygments_lexer": "ipython3",
   "version": "3.10.12"
  }
 },
 "nbformat": 4,
 "nbformat_minor": 5
}
