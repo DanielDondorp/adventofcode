{
 "cells": [
  {
   "cell_type": "code",
   "execution_count": 4,
   "id": "401d8149-a799-4765-928d-740b40f55597",
   "metadata": {},
   "outputs": [],
   "source": [
    "import numpy as np\n",
    "import pandas as pd"
   ]
  },
  {
   "cell_type": "code",
   "execution_count": 5,
   "id": "ae41d5c4-5814-4ac9-a662-0ebadce048c0",
   "metadata": {},
   "outputs": [],
   "source": [
    "test_data = '''Time:      7  15   30\n",
    "Distance:  9  40  200'''"
   ]
  },
  {
   "cell_type": "code",
   "execution_count": 14,
   "id": "ac80bc72-7015-4d01-986a-808a20c9287d",
   "metadata": {},
   "outputs": [],
   "source": [
    "data = '''Time:        42     68     69     85\n",
    "Distance:   284   1005   1122   1341'''"
   ]
  },
  {
   "cell_type": "code",
   "execution_count": 19,
   "id": "613f9856-02ef-45df-9e8e-042770e3976e",
   "metadata": {},
   "outputs": [],
   "source": [
    "races = {\"time\":[42,68,69,85], \"distance\":[284,1005,1122,1341]}\n",
    "df = pd.DataFrame.from_dict(races)"
   ]
  },
  {
   "cell_type": "code",
   "execution_count": 20,
   "id": "1a8394fd-94bc-4f73-bff8-6104106e432e",
   "metadata": {},
   "outputs": [],
   "source": [
    "test_races = {\"time\":[7,15,30], \"distance\":[9,40,200]}\n",
    "df_test = pd.DataFrame.from_dict(test_races)"
   ]
  },
  {
   "cell_type": "code",
   "execution_count": 47,
   "id": "a09d77cb-83d6-4e37-a9e8-10e1ebfe8787",
   "metadata": {},
   "outputs": [],
   "source": [
    "def distance(n_push, n_total, record):\n",
    "    return (n_push * (n_total - n_push))>record"
   ]
  },
  {
   "cell_type": "code",
   "execution_count": 51,
   "id": "acd1742c-d38b-4e54-a6f4-2ab25f2ab789",
   "metadata": {},
   "outputs": [],
   "source": [
    "def calculate_ways(df):\n",
    "    total = []\n",
    "    for i, race in df.iterrows():\n",
    "        # print(race)\n",
    "        ways = [distance(n, race.time, race.distance) for n in range(1, race.time+1)]\n",
    "        total.append(sum(ways))\n",
    "    return np.product(total)"
   ]
  },
  {
   "cell_type": "code",
   "execution_count": 53,
   "id": "a8c14cce-028b-414d-a4ee-dffe477c8bf7",
   "metadata": {},
   "outputs": [
    {
     "name": "stdout",
     "output_type": "stream",
     "text": [
      "time         42\n",
      "distance    284\n",
      "Name: 0, dtype: int64\n",
      "time          68\n",
      "distance    1005\n",
      "Name: 1, dtype: int64\n",
      "time          69\n",
      "distance    1122\n",
      "Name: 2, dtype: int64\n",
      "time          85\n",
      "distance    1341\n",
      "Name: 3, dtype: int64\n"
     ]
    },
    {
     "data": {
      "text/plain": [
       "440000"
      ]
     },
     "execution_count": 53,
     "metadata": {},
     "output_type": "execute_result"
    }
   ],
   "source": [
    "calculate_ways(df)"
   ]
  },
  {
   "cell_type": "code",
   "execution_count": 56,
   "id": "66977487-7336-4dd3-99ed-c5390f7f58bb",
   "metadata": {},
   "outputs": [],
   "source": [
    "t=  42686985\n",
    "d=  284100511221341"
   ]
  },
  {
   "cell_type": "code",
   "execution_count": 57,
   "id": "e1b19ff4-3ced-40f9-a733-67e88d7acbd8",
   "metadata": {},
   "outputs": [
    {
     "name": "stdout",
     "output_type": "stream",
     "text": [
      "26187338\n"
     ]
    }
   ],
   "source": [
    "ways = 0\n",
    "for i in range(1,t+1):\n",
    "    if distance(i, t, d):\n",
    "        ways+=1\n",
    "print(ways)"
   ]
  },
  {
   "cell_type": "code",
   "execution_count": null,
   "id": "7c406829-042c-420e-bf0f-d8d19295d57d",
   "metadata": {},
   "outputs": [],
   "source": []
  }
 ],
 "metadata": {
  "kernelspec": {
   "display_name": "Python 3 (ipykernel)",
   "language": "python",
   "name": "python3"
  },
  "language_info": {
   "codemirror_mode": {
    "name": "ipython",
    "version": 3
   },
   "file_extension": ".py",
   "mimetype": "text/x-python",
   "name": "python",
   "nbconvert_exporter": "python",
   "pygments_lexer": "ipython3",
   "version": "3.10.6"
  }
 },
 "nbformat": 4,
 "nbformat_minor": 5
}
