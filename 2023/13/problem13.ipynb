{
 "cells": [
  {
   "cell_type": "code",
   "execution_count": 1,
   "id": "e0f20ed7-8177-424a-8c14-2eb5858c6fab",
   "metadata": {},
   "outputs": [],
   "source": [
    "import numpy as np"
   ]
  },
  {
   "cell_type": "code",
   "execution_count": 2,
   "id": "3550e594-0324-4942-8567-7e7631684076",
   "metadata": {},
   "outputs": [],
   "source": [
    "test_input = '''#.##..##.\n",
    "..#.##.#.\n",
    "##......#\n",
    "##......#\n",
    "..#.##.#.\n",
    "..##..##.\n",
    "#.#.##.#.\n",
    "\n",
    "#...##..#\n",
    "#....#..#\n",
    "..##..###\n",
    "#####.##.\n",
    "#####.##.\n",
    "..##..###\n",
    "#....#..#'''"
   ]
  },
  {
   "cell_type": "code",
   "execution_count": 3,
   "id": "430cc321-a938-482d-a47f-26227ca00bb7",
   "metadata": {},
   "outputs": [],
   "source": [
    "def load_data(input):\n",
    "    input = input.split(\"\\n\\n\")\n",
    "    blocks = []\n",
    "    for block in input:\n",
    "        arr = [[x for x in line] for line in block.split(\"\\n\")]\n",
    "        blocks.append(np.array(arr))\n",
    "    return blocks"
   ]
  },
  {
   "cell_type": "code",
   "execution_count": 4,
   "id": "f17e2050-8f81-4715-8d8d-8b5a3988640b",
   "metadata": {},
   "outputs": [],
   "source": [
    "data = load_data(test_input)"
   ]
  },
  {
   "cell_type": "code",
   "execution_count": 19,
   "id": "bee7f5ea-08f4-4b2a-8b39-4a63fc8e75ba",
   "metadata": {},
   "outputs": [],
   "source": [
    "def find_hor_mirrolines(arr: np.ndarray, dist):\n",
    "    h, w = arr.shape\n",
    "    #go over rows:\n",
    "    for i in range(1, h):\n",
    "        span = np.min([i, len(arr)-i])\n",
    "        arr1 = arr[i-span:i]\n",
    "        arr2 = np.flipud(arr[i:i+span])\n",
    "        if np.sum(arr1 != arr2)==dist:\n",
    "            return True, i\n",
    "    return False, 0\n",
    "\n",
    "def find_vert_mirrorlines(arr:np.ndarray, dist):\n",
    "    arr = np.rot90(arr, k=3)\n",
    "    return find_hor_mirrolines(arr, dist)\n",
    "\n",
    "def find_lines(arr, dist):\n",
    "    h, i = find_hor_mirrolines(arr, dist)\n",
    "    if h:\n",
    "        return(i*100)\n",
    "    else:\n",
    "        v, i = find_vert_mirrorlines(arr, dist)\n",
    "        return(i)\n",
    "\n",
    "def get_answer(input, dist = 0):\n",
    "    return sum([find_lines(block, dist) for block in load_data(input)])"
   ]
  },
  {
   "cell_type": "code",
   "execution_count": 20,
   "id": "2576814b-475e-4134-bf01-ffb4bb474f9f",
   "metadata": {},
   "outputs": [
    {
     "data": {
      "text/plain": [
       "405"
      ]
     },
     "execution_count": 20,
     "metadata": {},
     "output_type": "execute_result"
    }
   ],
   "source": [
    "get_answer(test_input)"
   ]
  },
  {
   "cell_type": "code",
   "execution_count": 21,
   "id": "f5bb3a4b-c8d7-4f2f-81b1-3318ae3c91da",
   "metadata": {},
   "outputs": [],
   "source": [
    "with open(\"./input.txt\", \"r\") as f:\n",
    "    input = f.read()"
   ]
  },
  {
   "cell_type": "code",
   "execution_count": 22,
   "id": "9a96f3ed-2e85-4998-9e55-9eeb99e828be",
   "metadata": {},
   "outputs": [
    {
     "data": {
      "text/plain": [
       "35210"
      ]
     },
     "execution_count": 22,
     "metadata": {},
     "output_type": "execute_result"
    }
   ],
   "source": [
    "get_answer(input)"
   ]
  },
  {
   "cell_type": "code",
   "execution_count": 23,
   "id": "18672d94-3edc-4446-9957-28c389991b2d",
   "metadata": {},
   "outputs": [
    {
     "data": {
      "text/plain": [
       "400"
      ]
     },
     "execution_count": 23,
     "metadata": {},
     "output_type": "execute_result"
    }
   ],
   "source": [
    "get_answer(test_input, 1)"
   ]
  },
  {
   "cell_type": "code",
   "execution_count": 24,
   "id": "4721cb30-284c-45cb-a356-adb1e8bc0933",
   "metadata": {},
   "outputs": [
    {
     "data": {
      "text/plain": [
       "31974"
      ]
     },
     "execution_count": 24,
     "metadata": {},
     "output_type": "execute_result"
    }
   ],
   "source": [
    "get_answer(input, 1)"
   ]
  },
  {
   "cell_type": "code",
   "execution_count": null,
   "id": "f20008e1-9a55-46f7-9129-e59540b055c8",
   "metadata": {},
   "outputs": [],
   "source": []
  }
 ],
 "metadata": {
  "kernelspec": {
   "display_name": "Python 3 (ipykernel)",
   "language": "python",
   "name": "python3"
  },
  "language_info": {
   "codemirror_mode": {
    "name": "ipython",
    "version": 3
   },
   "file_extension": ".py",
   "mimetype": "text/x-python",
   "name": "python",
   "nbconvert_exporter": "python",
   "pygments_lexer": "ipython3",
   "version": "3.10.6"
  }
 },
 "nbformat": 4,
 "nbformat_minor": 5
}
