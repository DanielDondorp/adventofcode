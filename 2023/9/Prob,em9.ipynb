{
 "cells": [
  {
   "cell_type": "code",
   "execution_count": 8,
   "id": "5356b6d0-7b6e-4329-b32c-babc615c582b",
   "metadata": {},
   "outputs": [],
   "source": [
    "import numpy as np\n",
    "\n",
    "test_data = '''0 3 6 9 12 15\n",
    "1 3 6 10 15 21\n",
    "10 13 16 21 30 45'''\n",
    "test_data = test_data.split(\"\\n\")"
   ]
  },
  {
   "cell_type": "code",
   "execution_count": 9,
   "id": "6719f061-a568-451b-a4d3-cb87381706ff",
   "metadata": {},
   "outputs": [],
   "source": [
    "def load_data(data):\n",
    "    data = [[int(d) for d in history.split(\" \")] for history in data]\n",
    "    \n",
    "    return np.array(data)"
   ]
  },
  {
   "cell_type": "code",
   "execution_count": 13,
   "id": "58123825-5f97-4d5d-8708-2e9e2d77e37d",
   "metadata": {},
   "outputs": [],
   "source": [
    "with open(\"./input.txt\", \"r\") as f:\n",
    "    data = f.readlines()\n",
    "    data = [d.strip() for d in data]"
   ]
  },
  {
   "cell_type": "code",
   "execution_count": 14,
   "id": "f2f943f2-6e4a-414b-ad82-158e69138d4a",
   "metadata": {},
   "outputs": [],
   "source": [
    "data = load_data(data)"
   ]
  },
  {
   "cell_type": "code",
   "execution_count": 15,
   "id": "7d1d044b-2782-415b-bdbf-f186f5b33580",
   "metadata": {},
   "outputs": [],
   "source": [
    "test_data = load_data(test_data)"
   ]
  },
  {
   "cell_type": "code",
   "execution_count": 16,
   "id": "403984b0-5804-4666-9715-b193f4503f7f",
   "metadata": {},
   "outputs": [],
   "source": [
    "d1 = test_data[0]"
   ]
  },
  {
   "cell_type": "code",
   "execution_count": 57,
   "id": "0f964583-3e1d-4bfe-9215-0c0c7d6b2f59",
   "metadata": {},
   "outputs": [],
   "source": [
    "def extrapolate_next_value(history):\n",
    "    \n",
    "    #feed forward to find the bottom\n",
    "    diff = history\n",
    "    hists = [history]\n",
    "    while sum(history)!=0:\n",
    "        history = np.diff(history)\n",
    "        hists.append(history)\n",
    "    # print(hists)\n",
    "    #flip the list\n",
    "    hists.reverse()\n",
    "    \n",
    "    #work our way back up to find the next number\n",
    "    num = 0\n",
    "    for i in range(len(hists)-1):\n",
    "        hists[i] = np.concatenate([hists[i],[num]])\n",
    "        num = hists[i][-1] + hists[i+1][-1]\n",
    "    return num"
   ]
  },
  {
   "cell_type": "code",
   "execution_count": 58,
   "id": "35e1c4e2-042f-4170-92b3-767d23e36fb9",
   "metadata": {},
   "outputs": [
    {
     "name": "stdout",
     "output_type": "stream",
     "text": [
      "18\n",
      "28\n",
      "68\n"
     ]
    }
   ],
   "source": [
    "for history in test_data:\n",
    "    print(extrapolate_next_value(history))"
   ]
  },
  {
   "cell_type": "code",
   "execution_count": 59,
   "id": "7343d15b-6393-48cf-9417-5c07834fcc9f",
   "metadata": {},
   "outputs": [
    {
     "data": {
      "text/plain": [
       "114"
      ]
     },
     "execution_count": 59,
     "metadata": {},
     "output_type": "execute_result"
    }
   ],
   "source": [
    "sum([extrapolate_next_value(history) for history in test_data])"
   ]
  },
  {
   "cell_type": "code",
   "execution_count": 56,
   "id": "0ec3442f-025b-494d-b0ee-fe9bedeae476",
   "metadata": {},
   "outputs": [
    {
     "data": {
      "text/plain": [
       "1887980197"
      ]
     },
     "execution_count": 56,
     "metadata": {},
     "output_type": "execute_result"
    }
   ],
   "source": [
    "#solve:\n",
    "sum([extrapolate_next_value(history) for history in data])"
   ]
  },
  {
   "cell_type": "code",
   "execution_count": 71,
   "id": "0781cbe3-23ed-4b8e-bc5d-9874acde04c3",
   "metadata": {},
   "outputs": [],
   "source": [
    "def extrapolate_prev_value(history):\n",
    "    \n",
    "    #feed forward to find the bottom\n",
    "    diff = history\n",
    "    hists = [history]\n",
    "    while sum(history)!=0:\n",
    "        history = np.diff(history)\n",
    "        hists.append(history)\n",
    "    # print(hists)\n",
    "    #flip the list\n",
    "    hists.reverse()\n",
    "    \n",
    "    #work our way back up to find the next number\n",
    "    num = 0\n",
    "    for i in range(len(hists)-1):\n",
    "        hists[i] = np.concatenate([[num],hists[i]])\n",
    "        num = hists[i+1][0] - hists[i][0]\n",
    "    # print(hists)\n",
    "    return num"
   ]
  },
  {
   "cell_type": "code",
   "execution_count": 72,
   "id": "8c774f9d-a85e-486a-840b-359cbcc96622",
   "metadata": {},
   "outputs": [
    {
     "data": {
      "text/plain": [
       "5"
      ]
     },
     "execution_count": 72,
     "metadata": {},
     "output_type": "execute_result"
    }
   ],
   "source": [
    "extrapolate_prev_value(test_data[2])"
   ]
  },
  {
   "cell_type": "code",
   "execution_count": 73,
   "id": "b0132c6e-652d-478c-8e34-fe084bcaac8c",
   "metadata": {},
   "outputs": [
    {
     "data": {
      "text/plain": [
       "990"
      ]
     },
     "execution_count": 73,
     "metadata": {},
     "output_type": "execute_result"
    }
   ],
   "source": [
    "sum([extrapolate_prev_value(history) for history in data])"
   ]
  },
  {
   "cell_type": "code",
   "execution_count": null,
   "id": "4466d0c9-df76-4ef7-8048-c73000889f49",
   "metadata": {},
   "outputs": [],
   "source": []
  }
 ],
 "metadata": {
  "kernelspec": {
   "display_name": "Python 3 (ipykernel)",
   "language": "python",
   "name": "python3"
  },
  "language_info": {
   "codemirror_mode": {
    "name": "ipython",
    "version": 3
   },
   "file_extension": ".py",
   "mimetype": "text/x-python",
   "name": "python",
   "nbconvert_exporter": "python",
   "pygments_lexer": "ipython3",
   "version": "3.10.12"
  }
 },
 "nbformat": 4,
 "nbformat_minor": 5
}
