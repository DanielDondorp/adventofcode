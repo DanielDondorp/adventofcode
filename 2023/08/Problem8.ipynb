{
 "cells": [
  {
   "cell_type": "code",
   "execution_count": 1,
   "id": "72f03f23-8b53-4634-9c9c-a121b449a5fe",
   "metadata": {},
   "outputs": [],
   "source": [
    "import numpy as np\n",
    "\n",
    "with open(\"./input.txt\", \"r\") as f:\n",
    "    data = f.readlines()\n",
    "    data = [x.rstrip() for x in data]"
   ]
  },
  {
   "cell_type": "code",
   "execution_count": 100,
   "id": "94ca941f-75cc-4e55-b91f-ae97ad2fc501",
   "metadata": {},
   "outputs": [],
   "source": [
    "test_data = '''LLR\n",
    "\n",
    "AAA = (BBB, BBB)\n",
    "BBB = (AAA, ZZZ)\n",
    "ZZZ = (ZZZ, ZZZ)'''\n",
    "\n",
    "test_data = test_data.split(\"\\n\")\n",
    "\n",
    "test_data2 = '''LR\n",
    "\n",
    "11A = (11B, XXX)\n",
    "11B = (XXX, 11Z)\n",
    "11Z = (11B, XXX)\n",
    "22A = (22B, XXX)\n",
    "22B = (22C, 22C)\n",
    "22C = (22Z, 22Z)\n",
    "22Z = (22B, 22B)\n",
    "XXX = (XXX, XXX)'''\n",
    "\n",
    "test_data2 = test_data2.split(\"\\n\")"
   ]
  },
  {
   "cell_type": "code",
   "execution_count": 87,
   "id": "6f88c591-a4ad-42af-9ef8-a158517288fa",
   "metadata": {},
   "outputs": [],
   "source": [
    "def convert_direction(direction):\n",
    "    d = direction.split(\"=\")\n",
    "    loc = d[0].strip()\n",
    "    locs = d[-1]\n",
    "    locs = locs.split(\"=\")[-1].strip(\" ()\").replace(\" \", \"\").split(\",\")\n",
    "    return {loc:locs}\n",
    "    \n",
    "\n",
    "def read_data(data):\n",
    "    directions = data[0]\n",
    "    directions = [0 if x==\"L\" else 1 for x in directions]\n",
    "    locations = data[1:]\n",
    "    all_locs = {}\n",
    "    for loc in locations:\n",
    "        if loc:\n",
    "            all_locs.update(convert_direction(loc))\n",
    "    return directions, all_locs\n",
    "            \n",
    "    \n",
    "    \n",
    "    "
   ]
  },
  {
   "cell_type": "code",
   "execution_count": 134,
   "id": "5afb637b-c513-4c66-b7c2-b84d55340aa0",
   "metadata": {},
   "outputs": [],
   "source": [
    "d, l = read_data(test_data)"
   ]
  },
  {
   "cell_type": "code",
   "execution_count": 135,
   "id": "4ce0bdce-12d7-4f54-aede-dfca1430e2d2",
   "metadata": {},
   "outputs": [],
   "source": [
    "def navigate(loc, directions, locs, n_steps = 0):\n",
    "    next_loc = locs[loc][directions[n_steps%len(directions)]]\n",
    "    return next_loc\n"
   ]
  },
  {
   "cell_type": "code",
   "execution_count": 136,
   "id": "b6c8a572-d830-454e-83f8-fd6c30713efa",
   "metadata": {},
   "outputs": [],
   "source": [
    "def get_steps(loc, d, l):\n",
    "    n_steps = 0\n",
    "    while loc != \"ZZZ\":\n",
    "        next_loc= navigate(loc, d, l, n_steps)\n",
    "        loc = next_loc\n",
    "        n_steps +=1\n",
    "    print(n_steps)"
   ]
  },
  {
   "cell_type": "code",
   "execution_count": 137,
   "id": "64fd294e-d44a-4d7f-ae36-56d7e1413c18",
   "metadata": {},
   "outputs": [
    {
     "name": "stdout",
     "output_type": "stream",
     "text": [
      "6\n"
     ]
    }
   ],
   "source": [
    "get_steps(\"AAA\", d, l)"
   ]
  },
  {
   "cell_type": "code",
   "execution_count": 109,
   "id": "fc0168d6-08e8-44b4-b71b-7b0e520b436a",
   "metadata": {},
   "outputs": [
    {
     "name": "stdout",
     "output_type": "stream",
     "text": [
      "12737\n"
     ]
    }
   ],
   "source": [
    "loc = \"AAA\"\n",
    "n_steps = 0\n",
    "while loc != \"ZZZ\":\n",
    "    next_loc= navigate(loc, d, l, n_steps)\n",
    "    loc = next_loc\n",
    "    n_steps +=1\n",
    "print(n_steps)"
   ]
  },
  {
   "cell_type": "markdown",
   "id": "00a48ed7-333f-495b-bcbe-16bcb46508ed",
   "metadata": {},
   "source": [
    "## Part 2"
   ]
  },
  {
   "cell_type": "code",
   "execution_count": 110,
   "id": "c06f5dc2-6b4c-44bf-9180-d76da32b871c",
   "metadata": {},
   "outputs": [],
   "source": [
    "d2, l2 = read_data(test_data2)"
   ]
  },
  {
   "cell_type": "code",
   "execution_count": 111,
   "id": "7ec6d4c5-0475-47ed-9716-b91e71727164",
   "metadata": {},
   "outputs": [
    {
     "data": {
      "text/plain": [
       "{'11A': ['11B', 'XXX'],\n",
       " '11B': ['XXX', '11Z'],\n",
       " '11Z': ['11B', 'XXX'],\n",
       " '22A': ['22B', 'XXX'],\n",
       " '22B': ['22C', '22C'],\n",
       " '22C': ['22Z', '22Z'],\n",
       " '22Z': ['22B', '22B'],\n",
       " 'XXX': ['XXX', 'XXX']}"
      ]
     },
     "execution_count": 111,
     "metadata": {},
     "output_type": "execute_result"
    }
   ],
   "source": [
    "l2"
   ]
  },
  {
   "cell_type": "code",
   "execution_count": 112,
   "id": "56d410c1-bb51-4bb7-9604-35d30f6d02ad",
   "metadata": {},
   "outputs": [],
   "source": [
    "start_locs = [k for k in l2.keys() if k.endswith(\"A\")]"
   ]
  },
  {
   "cell_type": "code",
   "execution_count": 115,
   "id": "372d5100-d80d-4131-8433-f211a79f9c81",
   "metadata": {},
   "outputs": [
    {
     "data": {
      "text/plain": [
       "[0, 1]"
      ]
     },
     "execution_count": 115,
     "metadata": {},
     "output_type": "execute_result"
    }
   ],
   "source": [
    "d2"
   ]
  },
  {
   "cell_type": "code",
   "execution_count": 118,
   "id": "49e5b1af-1a4a-45bc-8a4c-8c73ededbbbb",
   "metadata": {},
   "outputs": [],
   "source": [
    "next_locs = [navigate(loc, d2, l2, 0) for loc in start_locs]"
   ]
  },
  {
   "cell_type": "code",
   "execution_count": 119,
   "id": "f12661c7-9bf5-495b-8c25-795f70ba0350",
   "metadata": {},
   "outputs": [
    {
     "data": {
      "text/plain": [
       "['11B', '22B']"
      ]
     },
     "execution_count": 119,
     "metadata": {},
     "output_type": "execute_result"
    }
   ],
   "source": [
    "next_locs"
   ]
  },
  {
   "cell_type": "code",
   "execution_count": null,
   "id": "abfe86aa-d6d8-4ea5-b6bc-8dcdb633637f",
   "metadata": {},
   "outputs": [],
   "source": [
    "sum([l.endswith(\"Z\") for l "
   ]
  },
  {
   "cell_type": "code",
   "execution_count": 139,
   "id": "9aad6280-e3f4-4ebd-a609-b6957067db0f",
   "metadata": {},
   "outputs": [],
   "source": [
    "def get_steps_to_z(loc, d, l):\n",
    "    n_steps = 0\n",
    "    while not loc.endswith(\"Z\"):\n",
    "        next_loc= navigate(loc, d, l, n_steps)\n",
    "        loc = next_loc\n",
    "        n_steps +=1\n",
    "    return n_steps"
   ]
  },
  {
   "cell_type": "code",
   "execution_count": 145,
   "id": "53b0c4f4-b75a-4522-855a-fc7f40ea3544",
   "metadata": {},
   "outputs": [],
   "source": [
    "d, l = read_data(data)"
   ]
  },
  {
   "cell_type": "code",
   "execution_count": 146,
   "id": "42c0a956-2a51-46a5-bf83-6939e91364f1",
   "metadata": {},
   "outputs": [],
   "source": [
    "start_locs = [k for k in l.keys() if k.endswith(\"A\")]\n",
    "steps = [get_steps_to_z(loc, d, l) for loc in start_locs]"
   ]
  },
  {
   "cell_type": "code",
   "execution_count": 147,
   "id": "1ccc9c0c-8ac4-4363-ba4c-5c63cb945162",
   "metadata": {},
   "outputs": [],
   "source": [
    "from math import lcm"
   ]
  },
  {
   "cell_type": "code",
   "execution_count": 148,
   "id": "f783e898-2f4d-4f42-af1e-353c5841640c",
   "metadata": {},
   "outputs": [
    {
     "data": {
      "text/plain": [
       "9064949303801"
      ]
     },
     "execution_count": 148,
     "metadata": {},
     "output_type": "execute_result"
    }
   ],
   "source": [
    "lcm(*steps)"
   ]
  },
  {
   "cell_type": "code",
   "execution_count": null,
   "id": "0202d18d-a929-4089-ae0a-7a567f6628c0",
   "metadata": {},
   "outputs": [],
   "source": []
  }
 ],
 "metadata": {
  "kernelspec": {
   "display_name": "Python 3 (ipykernel)",
   "language": "python",
   "name": "python3"
  },
  "language_info": {
   "codemirror_mode": {
    "name": "ipython",
    "version": 3
   },
   "file_extension": ".py",
   "mimetype": "text/x-python",
   "name": "python",
   "nbconvert_exporter": "python",
   "pygments_lexer": "ipython3",
   "version": "3.10.6"
  }
 },
 "nbformat": 4,
 "nbformat_minor": 5
}
