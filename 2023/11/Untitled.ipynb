{
 "cells": [
  {
   "cell_type": "code",
   "execution_count": 1,
   "id": "48937e3b-af28-4dcd-9a09-427d7493e623",
   "metadata": {},
   "outputs": [],
   "source": [
    "import numpy as np\n",
    "\n",
    "def load_data(loop):\n",
    "    loop = np.array([[x for x in l] for l in loop])\n",
    "    loop = loop == \"#\"\n",
    "    return loop.astype(int)"
   ]
  },
  {
   "cell_type": "code",
   "execution_count": 2,
   "id": "420c01b7-c503-4511-9b24-c013a493af62",
   "metadata": {},
   "outputs": [],
   "source": [
    "test_input = '''...#......\n",
    ".......#..\n",
    "#.........\n",
    "..........\n",
    "......#...\n",
    ".#........\n",
    ".........#\n",
    "..........\n",
    ".......#..\n",
    "#...#.....'''"
   ]
  },
  {
   "cell_type": "code",
   "execution_count": 3,
   "id": "4df4ce8b-a261-4135-8078-ff9f49eca01b",
   "metadata": {},
   "outputs": [],
   "source": [
    "universe = load_data(test_input.split(\"\\n\"))"
   ]
  },
  {
   "cell_type": "code",
   "execution_count": 4,
   "id": "7ee4d0b7-aa93-447f-bd68-bbc2dafc7855",
   "metadata": {},
   "outputs": [
    {
     "data": {
      "text/plain": [
       "array([[0, 0, 0, 1, 0, 0, 0, 0, 0, 0],\n",
       "       [0, 0, 0, 0, 0, 0, 0, 1, 0, 0],\n",
       "       [1, 0, 0, 0, 0, 0, 0, 0, 0, 0],\n",
       "       [0, 0, 0, 0, 0, 0, 0, 0, 0, 0],\n",
       "       [0, 0, 0, 0, 0, 0, 1, 0, 0, 0],\n",
       "       [0, 1, 0, 0, 0, 0, 0, 0, 0, 0],\n",
       "       [0, 0, 0, 0, 0, 0, 0, 0, 0, 1],\n",
       "       [0, 0, 0, 0, 0, 0, 0, 0, 0, 0],\n",
       "       [0, 0, 0, 0, 0, 0, 0, 1, 0, 0],\n",
       "       [1, 0, 0, 0, 1, 0, 0, 0, 0, 0]])"
      ]
     },
     "execution_count": 4,
     "metadata": {},
     "output_type": "execute_result"
    }
   ],
   "source": [
    "universe"
   ]
  },
  {
   "cell_type": "code",
   "execution_count": 5,
   "id": "1da5cde5-cdfe-448f-b1cd-bc56925c672d",
   "metadata": {},
   "outputs": [],
   "source": [
    "def expand_universe(universe):\n",
    "    n_cols, n_rows = universe.shape\n",
    "\n",
    "    #initialize vertical expansion\n",
    "    row = universe[[0],:]\n",
    "    if np.sum(row)==0:\n",
    "        expansion = np.vstack([row,row])\n",
    "    else:\n",
    "        expansion = row\n",
    "    #expand vertically\n",
    "    for i in range(1, n_rows):\n",
    "        row = universe[[i],:]\n",
    "        if np.sum(row)==0:\n",
    "            expansion = np.vstack([expansion, row, row])\n",
    "        else:\n",
    "            expansion = np.vstack([expansion, row])\n",
    "    universe = expansion.copy()\n",
    "\n",
    "    #initialize horizontal expansion:\n",
    "    col = universe[:,[0]]\n",
    "    if np.sum(col)==0:\n",
    "        expansion = np.hstack([col, col])\n",
    "    else:\n",
    "        expansion = col\n",
    "    \n",
    "    for i in range(1, n_cols):\n",
    "        col = universe[:,[i]]\n",
    "        if np.sum(col)==0:\n",
    "            expansion = np.hstack([expansion, col, col])\n",
    "        else:\n",
    "            expansion = np.hstack([expansion, col])\n",
    "    return expansion\n",
    "        \n",
    "    "
   ]
  },
  {
   "cell_type": "code",
   "execution_count": 6,
   "id": "56314f8e-cf50-4bb0-818b-461c9b46f9de",
   "metadata": {},
   "outputs": [],
   "source": [
    "test_universe = np.array([[1,0,0],[0,0,0],[0,1,0]])"
   ]
  },
  {
   "cell_type": "code",
   "execution_count": 7,
   "id": "e7d6bffc-a9fa-4c7a-a6b2-3fe6c7bfdbcb",
   "metadata": {},
   "outputs": [
    {
     "data": {
      "text/plain": [
       "array([[0, 0, 0, 0, 1, 0, 0, 0, 0, 0, 0, 0, 0],\n",
       "       [0, 0, 0, 0, 0, 0, 0, 0, 0, 1, 0, 0, 0],\n",
       "       [1, 0, 0, 0, 0, 0, 0, 0, 0, 0, 0, 0, 0],\n",
       "       [0, 0, 0, 0, 0, 0, 0, 0, 0, 0, 0, 0, 0],\n",
       "       [0, 0, 0, 0, 0, 0, 0, 0, 0, 0, 0, 0, 0],\n",
       "       [0, 0, 0, 0, 0, 0, 0, 0, 1, 0, 0, 0, 0],\n",
       "       [0, 1, 0, 0, 0, 0, 0, 0, 0, 0, 0, 0, 0],\n",
       "       [0, 0, 0, 0, 0, 0, 0, 0, 0, 0, 0, 0, 1],\n",
       "       [0, 0, 0, 0, 0, 0, 0, 0, 0, 0, 0, 0, 0],\n",
       "       [0, 0, 0, 0, 0, 0, 0, 0, 0, 0, 0, 0, 0],\n",
       "       [0, 0, 0, 0, 0, 0, 0, 0, 0, 1, 0, 0, 0],\n",
       "       [1, 0, 0, 0, 0, 1, 0, 0, 0, 0, 0, 0, 0]])"
      ]
     },
     "execution_count": 7,
     "metadata": {},
     "output_type": "execute_result"
    }
   ],
   "source": [
    "expand_universe(universe)"
   ]
  },
  {
   "cell_type": "code",
   "execution_count": 8,
   "id": "7c14f17f-740b-4c26-8793-3d4da8c673aa",
   "metadata": {},
   "outputs": [],
   "source": [
    "galaxies = np.argwhere(expand_universe(universe))"
   ]
  },
  {
   "cell_type": "code",
   "execution_count": 9,
   "id": "2590a08f-5af7-499c-a17c-08e36bd139f7",
   "metadata": {},
   "outputs": [],
   "source": [
    "from scipy.spatial.distance import pdist, squareform"
   ]
  },
  {
   "cell_type": "code",
   "execution_count": 10,
   "id": "966fb214-8e55-4428-96f7-e131b73c2cc6",
   "metadata": {},
   "outputs": [],
   "source": [
    "dists = pdist(galaxies, \"cityblock\")"
   ]
  },
  {
   "cell_type": "code",
   "execution_count": 11,
   "id": "7fbf1cb4-98f3-4c91-9fc5-ecdc83a39671",
   "metadata": {},
   "outputs": [
    {
     "data": {
      "text/plain": [
       "374.0"
      ]
     },
     "execution_count": 11,
     "metadata": {},
     "output_type": "execute_result"
    }
   ],
   "source": [
    "sum(dists)"
   ]
  },
  {
   "cell_type": "code",
   "execution_count": 12,
   "id": "83b49f9c-00c5-4514-a42e-9e6a426dfef4",
   "metadata": {},
   "outputs": [],
   "source": [
    "with open(\"./input.txt\", \"r\") as f:\n",
    "    real_universe = f.readlines()\n",
    "    real_universe = [x.strip() for x in real_universe]\n",
    "real_universe = load_data(real_universe)"
   ]
  },
  {
   "cell_type": "code",
   "execution_count": 13,
   "id": "5add733d-66cf-44cd-9588-c30ae3b50d30",
   "metadata": {},
   "outputs": [],
   "source": [
    "real_universe_expanded = expand_universe(real_universe)"
   ]
  },
  {
   "cell_type": "code",
   "execution_count": 14,
   "id": "a874f6f4-7169-452e-b28a-a8a47a9bf848",
   "metadata": {},
   "outputs": [],
   "source": [
    "real_galaxies = np.argwhere(real_universe_expanded)"
   ]
  },
  {
   "cell_type": "code",
   "execution_count": 15,
   "id": "d8a65847-e7ca-494c-adc9-03b3cdc90392",
   "metadata": {},
   "outputs": [
    {
     "data": {
      "text/plain": [
       "9684228.0"
      ]
     },
     "execution_count": 15,
     "metadata": {},
     "output_type": "execute_result"
    }
   ],
   "source": [
    "np.sum(pdist(real_galaxies, \"cityblock\"))"
   ]
  },
  {
   "cell_type": "code",
   "execution_count": 16,
   "id": "75ec5193-136c-4ca2-9cd1-58210c11e626",
   "metadata": {},
   "outputs": [
    {
     "data": {
      "text/plain": [
       "5.0"
      ]
     },
     "execution_count": 16,
     "metadata": {},
     "output_type": "execute_result"
    }
   ],
   "source": [
    "np.sum(np.min(dists, axis = 0))"
   ]
  },
  {
   "cell_type": "code",
   "execution_count": 18,
   "id": "eb9c15db-8355-47d6-bf7f-cbdaca129b0d",
   "metadata": {},
   "outputs": [],
   "source": [
    "real_galaxy_coords = np.argwhere(real_universe)"
   ]
  },
  {
   "cell_type": "code",
   "execution_count": 21,
   "id": "7570ae72-1113-48bf-8eb3-a0caf8821517",
   "metadata": {},
   "outputs": [],
   "source": [
    "from itertools import combinations"
   ]
  },
  {
   "cell_type": "code",
   "execution_count": 25,
   "id": "a0ab6bf7-ccdd-406a-9c9b-94d88e784a4b",
   "metadata": {},
   "outputs": [],
   "source": [
    "pairs = [c for c in combinations(real_galaxy_coords, 2)]"
   ]
  },
  {
   "cell_type": "code",
   "execution_count": 28,
   "id": "bc3ac707-57fc-4f41-95b1-7248610e361e",
   "metadata": {},
   "outputs": [],
   "source": [
    "n_cols, n_rows = real_universe.shape"
   ]
  },
  {
   "cell_type": "code",
   "execution_count": 30,
   "id": "6cda004c-0198-44c5-8f26-bb6676026f7e",
   "metadata": {},
   "outputs": [],
   "source": [
    "expanded_row_indices = [i for i in range(n_rows) if np.sum(real_universe[:,i]) == 0]\n",
    "expanded_col_indices = [i for i in range(n_cols) if np.sum(real_universe[i,:]) == 0]"
   ]
  },
  {
   "cell_type": "code",
   "execution_count": 56,
   "id": "e8082ae0-f314-41c6-957a-3c2e12f142fd",
   "metadata": {},
   "outputs": [],
   "source": [
    "def get_dist(pair):\n",
    "    a, b = pair\n",
    "    xrange = np.arange(np.min([a[1], b[1]]), np.max([a[1], b[1]]))\n",
    "    expanded_rows = [r for r in xrange if r in expanded_row_indices]\n",
    "\n",
    "    yrange = np.arange(np.min([a[0], b[0]]), np.max([a[0], b[0]]))\n",
    "    expanded_cols = [c for c in yrange if c in expanded_col_indices]\n",
    "\n",
    "    n_space_to_add = (len(expanded_rows)+len(expanded_cols))*999999\n",
    "    dist = np.sum(np.abs(a-b)) + n_space_to_add\n",
    "    return dist\n",
    "    "
   ]
  },
  {
   "cell_type": "code",
   "execution_count": 57,
   "id": "5af90ede-c1ca-4f5f-aa04-207adc8e3f98",
   "metadata": {},
   "outputs": [
    {
     "data": {
      "text/plain": [
       "483844716556"
      ]
     },
     "execution_count": 57,
     "metadata": {},
     "output_type": "execute_result"
    }
   ],
   "source": [
    "sum(get_dist(pair) for pair in pairs)"
   ]
  },
  {
   "cell_type": "code",
   "execution_count": null,
   "id": "399dc8ca-53da-4c72-a886-abc46699a03e",
   "metadata": {},
   "outputs": [],
   "source": []
  },
  {
   "cell_type": "code",
   "execution_count": null,
   "id": "2f18fe68-9d58-4416-8b85-990cdee5ba88",
   "metadata": {},
   "outputs": [],
   "source": []
  }
 ],
 "metadata": {
  "kernelspec": {
   "display_name": "Python 3 (ipykernel)",
   "language": "python",
   "name": "python3"
  },
  "language_info": {
   "codemirror_mode": {
    "name": "ipython",
    "version": 3
   },
   "file_extension": ".py",
   "mimetype": "text/x-python",
   "name": "python",
   "nbconvert_exporter": "python",
   "pygments_lexer": "ipython3",
   "version": "3.10.6"
  }
 },
 "nbformat": 4,
 "nbformat_minor": 5
}
