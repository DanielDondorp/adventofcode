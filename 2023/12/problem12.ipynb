{
 "cells": [
  {
   "cell_type": "code",
   "execution_count": 24,
   "id": "a6cc965c-6d72-4230-bea4-dfedb4518b91",
   "metadata": {},
   "outputs": [],
   "source": [
    "import numpy as np\n",
    "import functools"
   ]
  },
  {
   "cell_type": "code",
   "execution_count": 25,
   "id": "6c8a7301-cfcf-4b1b-9641-bfd3fc6e4a52",
   "metadata": {},
   "outputs": [],
   "source": [
    "testdata = '''???.### 1,1,3\n",
    ".??..??...?##. 1,1,3\n",
    "?#?#?#?#?#?#?#? 1,3,1,6\n",
    "????.#...#... 4,1,1\n",
    "????.######..#####. 1,6,5\n",
    "?###???????? 3,2,1'''"
   ]
  },
  {
   "cell_type": "code",
   "execution_count": 26,
   "id": "424b043b-a0af-4572-85cc-d82b51060461",
   "metadata": {},
   "outputs": [],
   "source": [
    "testdata = [x.strip().split(\" \") for x in testdata.split(\"\\n\")]"
   ]
  },
  {
   "cell_type": "code",
   "execution_count": 27,
   "id": "edbe984b-e4a0-463f-adfd-5ccbfafeb487",
   "metadata": {},
   "outputs": [],
   "source": [
    "testdata = [[x[0], [int(y) for y in x[1].split(\",\")]] for x in testdata]"
   ]
  },
  {
   "cell_type": "code",
   "execution_count": 28,
   "id": "0ffce120-7f97-4c92-afa0-45a54c0e4289",
   "metadata": {},
   "outputs": [
    {
     "data": {
      "text/plain": [
       "[['???.###', [1, 1, 3]],\n",
       " ['.??..??...?##.', [1, 1, 3]],\n",
       " ['?#?#?#?#?#?#?#?', [1, 3, 1, 6]],\n",
       " ['????.#...#...', [4, 1, 1]],\n",
       " ['????.######..#####.', [1, 6, 5]],\n",
       " ['?###????????', [3, 2, 1]]]"
      ]
     },
     "execution_count": 28,
     "metadata": {},
     "output_type": "execute_result"
    }
   ],
   "source": [
    "testdata"
   ]
  },
  {
   "cell_type": "code",
   "execution_count": 29,
   "id": "5e55aac8-9f49-4549-baee-5c07a7493682",
   "metadata": {},
   "outputs": [],
   "source": [
    "import functools"
   ]
  },
  {
   "cell_type": "code",
   "execution_count": 42,
   "id": "26680667-f115-4c5b-ad17-6be84ca9e496",
   "metadata": {},
   "outputs": [],
   "source": [
    "@functools.cache\n",
    "def get_combinations(record, groups):\n",
    "    #if we run out of groups\n",
    "    if not groups:\n",
    "        #if there are not more damaged springs:\n",
    "        if \"#\" not in record:\n",
    "            return 1\n",
    "        else:\n",
    "        # there are still damaged springs and no more groups to assign to\n",
    "        # so this explored path is incorrect.\n",
    "            return 0\n",
    "    if not record:\n",
    "        #there are groups left but no record to assign to groups\n",
    "        #invalid combo\n",
    "        return 0\n",
    "    next_char = record[0]\n",
    "    group_size = groups[0]\n",
    "    #if the next_char is ., we need to recurse\n",
    "    def separator():\n",
    "        return get_combinations(record[1:], groups)\n",
    "    #if the next_char is #, it needs to be in a contiguous group of size next_group\n",
    "    def damaged_spring():\n",
    "        #try seeing if we can fit n_springs in the group\n",
    "        current_group = record[:group_size]\n",
    "        current_group = current_group.replace(\"?\", \"#\") #assign springs to group unknowns\n",
    "\n",
    "        #if current_group is not just springs now, we arent valid\n",
    "        if current_group != \"#\"*group_size:\n",
    "            return 0\n",
    "        #if we have no more record left\n",
    "        if len(record) == group_size:\n",
    "            if not groups:\n",
    "                return 1\n",
    "            else:\n",
    "            #there are more groups but not more record\n",
    "                return 0\n",
    "        if record[group_size] in \"?.\":\n",
    "            #we can have a separator next so we recurse\n",
    "            return get_combinations(record[group_size+1:], groups[1:])\n",
    "        else:\n",
    "            return 0\n",
    "    \n",
    "    if next_char == \"#\":\n",
    "        combinations = damaged_spring()\n",
    "    elif next_char == \".\":\n",
    "        combinations = separator()\n",
    "    elif next_char == \"?\":\n",
    "        combinations = damaged_spring() + separator()\n",
    "    else:\n",
    "        raise Exception\n",
    "    return combinations"
   ]
  },
  {
   "cell_type": "code",
   "execution_count": 43,
   "id": "e1f2bf0d-acb0-414f-8c44-f5a6220a29ac",
   "metadata": {},
   "outputs": [],
   "source": [
    "row = testdata[0]"
   ]
  },
  {
   "cell_type": "code",
   "execution_count": 44,
   "id": "57ce63d0-c8c9-4266-8b18-8f4bb3f9bfe1",
   "metadata": {},
   "outputs": [
    {
     "data": {
      "text/plain": [
       "['???.###', [1, 1, 3]]"
      ]
     },
     "execution_count": 44,
     "metadata": {},
     "output_type": "execute_result"
    }
   ],
   "source": [
    "row"
   ]
  },
  {
   "cell_type": "code",
   "execution_count": 45,
   "id": "fa34ddb3-5cab-4210-aa2f-b736b4b2aada",
   "metadata": {},
   "outputs": [
    {
     "data": {
      "text/plain": [
       "0"
      ]
     },
     "execution_count": 45,
     "metadata": {},
     "output_type": "execute_result"
    }
   ],
   "source": [
    "get_combinations(row[0], tuple(row[1]))"
   ]
  },
  {
   "cell_type": "code",
   "execution_count": 46,
   "id": "cebedc18-500c-47db-b237-0d88ae9e64a7",
   "metadata": {},
   "outputs": [
    {
     "name": "stdout",
     "output_type": "stream",
     "text": [
      "0\n",
      "4\n",
      "0\n",
      "1\n",
      "4\n",
      "6\n"
     ]
    }
   ],
   "source": [
    "for row in testdata:\n",
    "    print(get_combinations(row[0], tuple(row[1])))"
   ]
  },
  {
   "cell_type": "code",
   "execution_count": 49,
   "id": "6dfab6c8-722c-466c-97f1-33dc0f4a6aea",
   "metadata": {},
   "outputs": [
    {
     "data": {
      "text/plain": [
       "'?##'"
      ]
     },
     "execution_count": 49,
     "metadata": {},
     "output_type": "execute_result"
    }
   ],
   "source": [
    "row[0][:row[1][0]]"
   ]
  },
  {
   "cell_type": "code",
   "execution_count": null,
   "id": "58d19e67-c098-4553-9f26-fb58b742e2a8",
   "metadata": {},
   "outputs": [],
   "source": []
  }
 ],
 "metadata": {
  "kernelspec": {
   "display_name": "Python 3 (ipykernel)",
   "language": "python",
   "name": "python3"
  },
  "language_info": {
   "codemirror_mode": {
    "name": "ipython",
    "version": 3
   },
   "file_extension": ".py",
   "mimetype": "text/x-python",
   "name": "python",
   "nbconvert_exporter": "python",
   "pygments_lexer": "ipython3",
   "version": "3.10.6"
  }
 },
 "nbformat": 4,
 "nbformat_minor": 5
}
