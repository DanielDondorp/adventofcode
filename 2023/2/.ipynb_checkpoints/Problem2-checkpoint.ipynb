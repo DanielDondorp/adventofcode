{
 "cells": [
  {
   "cell_type": "markdown",
   "id": "285207de-7c2f-4746-8c38-656e7202c7eb",
   "metadata": {},
   "source": [
    "## --- Day 2: Cube Conundrum ---\n",
    "You're launched high into the atmosphere! The apex of your trajectory just barely reaches the surface of a large island floating in the sky. You gently land in a fluffy pile of leaves. It's quite cold, but you don't see much snow. An Elf runs over to greet you.\n",
    "\n",
    "The Elf explains that you've arrived at Snow Island and apologizes for the lack of snow. He'll be happy to explain the situation, but it's a bit of a walk, so you have some time. They don't get many visitors up here; would you like to play a game in the meantime?\n",
    "\n",
    "As you walk, the Elf shows you a small bag and some cubes which are either red, green, or blue. Each time you play this game, he will hide a secret number of cubes of each color in the bag, and your goal is to figure out information about the number of cubes.\n",
    "\n",
    "To get information, once a bag has been loaded with cubes, the Elf will reach into the bag, grab a handful of random cubes, show them to you, and then put them back in the bag. He'll do this a few times per game.\n",
    "\n",
    "You play several games and record the information from each game (your puzzle input). Each game is listed with its ID number (like the 11 in Game 11: ...) followed by a semicolon-separated list of subsets of cubes that were revealed from the bag (like 3 red, 5 green, 4 blue).\n",
    "\n",
    "For example, the record of a few games might look like this:\n",
    "\n",
    "```\n",
    "Game 1: 3 blue, 4 red; 1 red, 2 green, 6 blue; 2 green\n",
    "Game 2: 1 blue, 2 green; 3 green, 4 blue, 1 red; 1 green, 1 blue\n",
    "Game 3: 8 green, 6 blue, 20 red; 5 blue, 4 red, 13 green; 5 green, 1 red\n",
    "Game 4: 1 green, 3 red, 6 blue; 3 green, 6 red; 3 green, 15 blue, 14 red\n",
    "Game 5: 6 red, 1 blue, 3 green; 2 blue, 1 red, 2 green\n",
    "```\n",
    "In game 1, three sets of cubes are revealed from the bag (and then put back again). The first set is 3 blue cubes and 4 red cubes; the second set is 1 red cube, 2 green cubes, and 6 blue cubes; the third set is only 2 green cubes.\n",
    "\n",
    "The Elf would first like to know which games would have been possible if the bag contained only 12 red cubes, 13 green cubes, and 14 blue cubes?\n",
    "\n",
    "In the example above, games 1, 2, and 5 would have been possible if the bag had been loaded with that configuration. However, game 3 would have been impossible because at one point the Elf showed you 20 red cubes at once; similarly, game 4 would also have been impossible because the Elf showed you 15 blue cubes at once. If you add up the IDs of the games that would have been possible, you get 8.\n",
    "\n",
    "Determine which games would have been possible if the bag had been loaded with only 12 red cubes, 13 green cubes, and 14 blue cubes. What is the sum of the IDs of those games?"
   ]
  },
  {
   "cell_type": "code",
   "execution_count": 7,
   "id": "7d33f573-31c1-46ac-b7f5-3efb25dcb99f",
   "metadata": {},
   "outputs": [],
   "source": [
    "with open(\"./input.txt\", \"r\") as f:\n",
    "    games = f.readlines()\n",
    "    games = [game.rstrip(\"\\n\") for game in games]"
   ]
  },
  {
   "cell_type": "code",
   "execution_count": 85,
   "id": "0c43d97b-e4ab-4556-b141-12f53f7c96e0",
   "metadata": {},
   "outputs": [],
   "source": [
    "def game_to_dict(game):\n",
    "    _id, sets = game.split(\":\")\n",
    "    _id = int(_id.split(\" \")[-1] )\n",
    "    sets = [[subset.lstrip(\" \") for subset in s.split(\",\")] for s in sets.split(\";\")]\n",
    "    set_dict = {}\n",
    "    for _set in sets:\n",
    "        for s in _set:\n",
    "            n, color = s.split(\" \")\n",
    "            n = int(n)\n",
    "            if color not in set_dict.keys():\n",
    "                set_dict[color] = [n]\n",
    "            else:\n",
    "                set_dict[color].append(n)\n",
    "                \n",
    "    return {\"id\": _id, **set_dict}"
   ]
  },
  {
   "cell_type": "code",
   "execution_count": 86,
   "id": "b3fdea2c-db7b-4406-8b78-2b524c86d1f9",
   "metadata": {},
   "outputs": [],
   "source": [
    "gamedicts = [game_to_dict(game) for game in games]"
   ]
  },
  {
   "cell_type": "code",
   "execution_count": 100,
   "id": "a7e8e461-a9a1-4725-86b7-42aff96030d8",
   "metadata": {},
   "outputs": [],
   "source": [
    "max_red = 12\n",
    "max_green = 13\n",
    "max_blue = 14\n",
    "colors = [\"red\", \"green\", \"blue\"]\n",
    "\n",
    "max_map = {\"red\":12, \"green\":13, \"blue\":14}\n"
   ]
  },
  {
   "cell_type": "code",
   "execution_count": 101,
   "id": "0b15b63d-dc83-4ee5-a206-4a9c81862369",
   "metadata": {},
   "outputs": [],
   "source": [
    "import pandas as pd"
   ]
  },
  {
   "cell_type": "code",
   "execution_count": 102,
   "id": "8b47bd5a-1483-4e7b-8a44-f7ce3a417615",
   "metadata": {},
   "outputs": [],
   "source": [
    "df = pd.DataFrame.from_dict(gamedicts)"
   ]
  },
  {
   "cell_type": "code",
   "execution_count": 103,
   "id": "9d12e16a-59b5-497f-97f2-7a078e6bd5ab",
   "metadata": {},
   "outputs": [
    {
     "data": {
      "text/html": [
       "<div>\n",
       "<style scoped>\n",
       "    .dataframe tbody tr th:only-of-type {\n",
       "        vertical-align: middle;\n",
       "    }\n",
       "\n",
       "    .dataframe tbody tr th {\n",
       "        vertical-align: top;\n",
       "    }\n",
       "\n",
       "    .dataframe thead th {\n",
       "        text-align: right;\n",
       "    }\n",
       "</style>\n",
       "<table border=\"1\" class=\"dataframe\">\n",
       "  <thead>\n",
       "    <tr style=\"text-align: right;\">\n",
       "      <th></th>\n",
       "      <th>id</th>\n",
       "      <th>green</th>\n",
       "      <th>blue</th>\n",
       "      <th>red</th>\n",
       "    </tr>\n",
       "  </thead>\n",
       "  <tbody>\n",
       "    <tr>\n",
       "      <th>0</th>\n",
       "      <td>1</td>\n",
       "      <td>[4, 2, 1, 3, 7]</td>\n",
       "      <td>[7, 2, 5, 9, 9, 2]</td>\n",
       "      <td>[4, 2, 3, 2]</td>\n",
       "    </tr>\n",
       "    <tr>\n",
       "      <th>1</th>\n",
       "      <td>2</td>\n",
       "      <td>[1, 5, 8, 4, 4]</td>\n",
       "      <td>[1, 2, 2, 3, 2]</td>\n",
       "      <td>[2, 1, 1, 3, 2, 3]</td>\n",
       "    </tr>\n",
       "    <tr>\n",
       "      <th>2</th>\n",
       "      <td>3</td>\n",
       "      <td>[9, 15, 3]</td>\n",
       "      <td>[7, 8, 12]</td>\n",
       "      <td>[7, 4, 6]</td>\n",
       "    </tr>\n",
       "    <tr>\n",
       "      <th>3</th>\n",
       "      <td>4</td>\n",
       "      <td>[11, 4, 3]</td>\n",
       "      <td>[4, 1]</td>\n",
       "      <td>[6, 2, 12]</td>\n",
       "    </tr>\n",
       "    <tr>\n",
       "      <th>4</th>\n",
       "      <td>5</td>\n",
       "      <td>[10, 3, 1, 5]</td>\n",
       "      <td>[4, 15, 15, 8]</td>\n",
       "      <td>[9, 11, 2, 8]</td>\n",
       "    </tr>\n",
       "    <tr>\n",
       "      <th>...</th>\n",
       "      <td>...</td>\n",
       "      <td>...</td>\n",
       "      <td>...</td>\n",
       "      <td>...</td>\n",
       "    </tr>\n",
       "    <tr>\n",
       "      <th>95</th>\n",
       "      <td>96</td>\n",
       "      <td>[12, 1, 10]</td>\n",
       "      <td>[1, 3, 2]</td>\n",
       "      <td>[1, 5, 8]</td>\n",
       "    </tr>\n",
       "    <tr>\n",
       "      <th>96</th>\n",
       "      <td>97</td>\n",
       "      <td>[11, 14, 4]</td>\n",
       "      <td>[18, 3, 13]</td>\n",
       "      <td>[7, 6, 1]</td>\n",
       "    </tr>\n",
       "    <tr>\n",
       "      <th>97</th>\n",
       "      <td>98</td>\n",
       "      <td>[2, 4, 2]</td>\n",
       "      <td>[5, 4, 11, 10, 12]</td>\n",
       "      <td>[8, 12, 13, 7, 2, 6]</td>\n",
       "    </tr>\n",
       "    <tr>\n",
       "      <th>98</th>\n",
       "      <td>99</td>\n",
       "      <td>[4, 1, 5]</td>\n",
       "      <td>[2, 9]</td>\n",
       "      <td>[4, 11]</td>\n",
       "    </tr>\n",
       "    <tr>\n",
       "      <th>99</th>\n",
       "      <td>100</td>\n",
       "      <td>[12, 6, 1, 12, 3]</td>\n",
       "      <td>[2, 12, 5, 6, 16]</td>\n",
       "      <td>[1, 1, 1]</td>\n",
       "    </tr>\n",
       "  </tbody>\n",
       "</table>\n",
       "<p>100 rows × 4 columns</p>\n",
       "</div>"
      ],
      "text/plain": [
       "     id              green                blue                   red\n",
       "0     1    [4, 2, 1, 3, 7]  [7, 2, 5, 9, 9, 2]          [4, 2, 3, 2]\n",
       "1     2    [1, 5, 8, 4, 4]     [1, 2, 2, 3, 2]    [2, 1, 1, 3, 2, 3]\n",
       "2     3         [9, 15, 3]          [7, 8, 12]             [7, 4, 6]\n",
       "3     4         [11, 4, 3]              [4, 1]            [6, 2, 12]\n",
       "4     5      [10, 3, 1, 5]      [4, 15, 15, 8]         [9, 11, 2, 8]\n",
       "..  ...                ...                 ...                   ...\n",
       "95   96        [12, 1, 10]           [1, 3, 2]             [1, 5, 8]\n",
       "96   97        [11, 14, 4]         [18, 3, 13]             [7, 6, 1]\n",
       "97   98          [2, 4, 2]  [5, 4, 11, 10, 12]  [8, 12, 13, 7, 2, 6]\n",
       "98   99          [4, 1, 5]              [2, 9]               [4, 11]\n",
       "99  100  [12, 6, 1, 12, 3]   [2, 12, 5, 6, 16]             [1, 1, 1]\n",
       "\n",
       "[100 rows x 4 columns]"
      ]
     },
     "execution_count": 103,
     "metadata": {},
     "output_type": "execute_result"
    }
   ],
   "source": [
    "df"
   ]
  },
  {
   "cell_type": "code",
   "execution_count": 113,
   "id": "660ebb0a-a315-404f-a5f2-232198a5fabc",
   "metadata": {},
   "outputs": [],
   "source": [
    "def is_possible(row):\n",
    "    bools = {c: False for c in colors}\n",
    "    for c in colors:\n",
    "        if row[c]: #if there are and cubes of the color at all\n",
    "            if max(row[c])<=max_map[c]:\n",
    "                bools[c] = True\n",
    "    if sum([bools[c] for c in colors]) < len(colors):\n",
    "        return False #some color wasnt possible\n",
    "            \n",
    "    return True\n",
    "    \n",
    "    "
   ]
  },
  {
   "cell_type": "code",
   "execution_count": 117,
   "id": "e83e34a5-e371-4ac5-bb1e-122ea32e3717",
   "metadata": {},
   "outputs": [],
   "source": [
    "df[\"possible\"] = [is_possible(row.to_dict()) for i, row in df.iterrows()]"
   ]
  },
  {
   "cell_type": "code",
   "execution_count": 119,
   "id": "1a66da11-a440-473e-aeab-414d7c031284",
   "metadata": {},
   "outputs": [
    {
     "data": {
      "text/plain": [
       "2285"
      ]
     },
     "execution_count": 119,
     "metadata": {},
     "output_type": "execute_result"
    }
   ],
   "source": [
    "df[\"id\"][df[\"possible\"]].sum()"
   ]
  },
  {
   "cell_type": "markdown",
   "id": "c3799bac-6bdf-4e60-9e5e-f18200600414",
   "metadata": {},
   "source": [
    "--- Part Two ---\n",
    "The Elf says they've stopped producing snow because they aren't getting any water! He isn't sure why the water stopped; however, he can show you how to get to the water source to check it out for yourself. It's just up ahead!\n",
    "\n",
    "As you continue your walk, the Elf poses a second question: in each game you played, what is the fewest number of cubes of each color that could have been in the bag to make the game possible?\n",
    "\n",
    "Again consider the example games from earlier:\n",
    "``` \n",
    "Game 1: 3 blue, 4 red; 1 red, 2 green, 6 blue; 2 green\n",
    "Game 2: 1 blue, 2 green; 3 green, 4 blue, 1 red; 1 green, 1 blue\n",
    "Game 3: 8 green, 6 blue, 20 red; 5 blue, 4 red, 13 green; 5 green, 1 red\n",
    "Game 4: 1 green, 3 red, 6 blue; 3 green, 6 red; 3 green, 15 blue, 14 red\n",
    "Game 5: 6 red, 1 blue, 3 green; 2 blue, 1 red, 2 green\n",
    "``` \n",
    "In game 1, the game could have been played with as few as 4 red, 2 green, and 6 blue cubes. If any color had even one fewer cube, the game would have been impossible.\n",
    "Game 2 could have been played with a minimum of 1 red, 3 green, and 4 blue cubes.\n",
    "Game 3 must have been played with at least 20 red, 13 green, and 6 blue cubes.\n",
    "Game 4 required at least 14 red, 3 green, and 15 blue cubes.\n",
    "Game 5 needed no fewer than 6 red, 3 green, and 2 blue cubes in the bag.\n",
    "The power of a set of cubes is equal to the numbers of red, green, and blue cubes multiplied together. The power of the minimum set of cubes in game 1 is 48. In games 2-5 it was 12, 1560, 630, and 36, respectively. Adding up these five powers produces the sum 2286.\n",
    "\n",
    "For each game, find the minimum set of cubes that must have been present. What is the sum of the power of these sets?"
   ]
  },
  {
   "cell_type": "code",
   "execution_count": 124,
   "id": "ce0b07f9-39e4-44ff-9a1c-c2bd803ea625",
   "metadata": {},
   "outputs": [],
   "source": [
    "import numpy as np\n",
    "def minimal_set_power(row):\n",
    "    power = np.prod([max(row[c]) for c in colors])\n",
    "    return power\n",
    "    "
   ]
  },
  {
   "cell_type": "code",
   "execution_count": 125,
   "id": "871d3156-168a-4b77-9e03-2c91d95f6779",
   "metadata": {},
   "outputs": [],
   "source": [
    "df[\"powers\"] = [minimal_set_power(row.to_dict()) for i, row in df.iterrows()]"
   ]
  },
  {
   "cell_type": "code",
   "execution_count": 127,
   "id": "118d0ecf-69dd-4a72-8ba1-4b4e85bded60",
   "metadata": {},
   "outputs": [
    {
     "data": {
      "text/plain": [
       "77021"
      ]
     },
     "execution_count": 127,
     "metadata": {},
     "output_type": "execute_result"
    }
   ],
   "source": [
    "df[\"powers\"].sum()"
   ]
  },
  {
   "cell_type": "code",
   "execution_count": null,
   "id": "6dbb1405-241f-4197-9d27-5e85640e7204",
   "metadata": {},
   "outputs": [],
   "source": []
  }
 ],
 "metadata": {
  "kernelspec": {
   "display_name": "Python 3 (ipykernel)",
   "language": "python",
   "name": "python3"
  },
  "language_info": {
   "codemirror_mode": {
    "name": "ipython",
    "version": 3
   },
   "file_extension": ".py",
   "mimetype": "text/x-python",
   "name": "python",
   "nbconvert_exporter": "python",
   "pygments_lexer": "ipython3",
   "version": "3.10.12"
  }
 },
 "nbformat": 4,
 "nbformat_minor": 5
}
