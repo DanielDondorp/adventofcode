{
 "cells": [
  {
   "cell_type": "markdown",
   "id": "d1cf4ca7-2623-476d-854d-431256e90b43",
   "metadata": {},
   "source": [
    "## Day 1: Trebuchet?!\n",
    "\n",
    "Something is wrong with global snow production, and you've been selected to take a look. The Elves have even given you a map; on it, they've used stars to mark the top fifty locations that are likely to be having problems.\n",
    "\n",
    "You've been doing this long enough to know that to restore snow operations, you need to check all fifty stars by December 25th.\n",
    "\n",
    "Collect stars by solving puzzles. Two puzzles will be made available on each day in the Advent calendar; the second puzzle is unlocked when you complete the first. Each puzzle grants one star. Good luck!\n",
    "\n",
    "You try to ask why they can't just use a weather machine (\"not powerful enough\") and where they're even sending you (\"the sky\") and why your map looks mostly blank (\"you sure ask a lot of questions\") and hang on did you just say the sky (\"of course, where do you think snow comes from\") when you realize that the Elves are already loading you into a trebuchet (\"please hold still, we need to strap you in\").\n",
    "\n",
    "As they're making the final adjustments, they discover that their calibration document (your puzzle input) has been amended by a very young Elf who was apparently just excited to show off her art skills. Consequently, the Elves are having trouble reading the values on the document.\n",
    "\n",
    "The newly-improved calibration document consists of lines of text; each line originally contained a specific calibration value that the Elves now need to recover. On each line, the calibration value can be found by combining the first digit and the last digit (in that order) to form a single two-digit number.\n",
    "\n",
    "For example:\n",
    "```\n",
    "1abc2\n",
    "pqr3stu8vwx\n",
    "a1b2c3d4e5f\n",
    "treb7uchet\n",
    "```\n",
    "In this example, the calibration values of these four lines are 12, 38, 15, and 77. Adding these together produces 142.\n",
    "\n",
    "Consider your entire calibration document. What is the sum of all of the calibration values?\n",
    "\n"
   ]
  },
  {
   "cell_type": "code",
   "execution_count": 57,
   "id": "2ccca6f5-b933-489b-b9b4-73117967b4d0",
   "metadata": {},
   "outputs": [],
   "source": [
    "#load data\"\n",
    "with open(\"input.txt\", \"r\") as f:\n",
    "    calibration_values = f.readlines()"
   ]
  },
  {
   "cell_type": "code",
   "execution_count": 58,
   "id": "6ce8ff23-b3e1-4756-82bb-f6dc4ae8b6b6",
   "metadata": {},
   "outputs": [],
   "source": [
    "def calculate_solution(calibration_values):\n",
    "    digits = [[x for x in calibration_value if x.isnumeric()] for calibration_value in calibration_values]\n",
    "    first_last = [[digit[i] for i in [0, -1]] for digit in digits]\n",
    "    return(sum([int(\"\".join(digits)) for digits in first_last]))"
   ]
  },
  {
   "cell_type": "code",
   "execution_count": 59,
   "id": "9e3c3ecc-1827-4782-8795-03af1ab18a32",
   "metadata": {},
   "outputs": [
    {
     "data": {
      "text/plain": [
       "55447"
      ]
     },
     "execution_count": 59,
     "metadata": {},
     "output_type": "execute_result"
    }
   ],
   "source": [
    "calculate_solution(calibration_values)"
   ]
  },
  {
   "cell_type": "markdown",
   "id": "5bf1ab83-9c91-481b-ab64-d8d09c933e65",
   "metadata": {},
   "source": [
    "--- Part Two ---\n",
    "Your calculation isn't quite right. It looks like some of the digits are actually spelled out with letters: one, two, three, four, five, six, seven, eight, and nine also count as valid \"digits\".\n",
    "\n",
    "Equipped with this new information, you now need to find the real first and last digit on each line. For example:\n",
    "\n",
    "``` \n",
    "two1nine\n",
    "eightwothree\n",
    "abcone2threexyz\n",
    "xtwone3four\n",
    "4nineeightseven2\n",
    "zoneight234\n",
    "7pqrstsixteen\n",
    "``` \n",
    "In this example, the calibration values are 29, 83, 13, 24, 42, 14, and 76. Adding these together produces 281.\n",
    "\n",
    "What is the sum of all of the calibration values?"
   ]
  },
  {
   "cell_type": "markdown",
   "id": "b61b036d-5624-4122-a0cc-3b30f3c5de53",
   "metadata": {},
   "source": [
    "### notes:\n",
    "\n",
    "We only have to scan the string until we find either a numeric digit, or a word. This we have to do starting from the beginning, and starting from the last numeric digit. The longest string we have is 5 digits, so we can start at index 4 and look back, and then scan forwards from there. Same with the reverse starting at -5 and work our way back. While we do not have a digitstring or numeric digit in i:i-5 or i:i+5 we creep towards the middle."
   ]
  },
  {
   "cell_type": "code",
   "execution_count": 85,
   "id": "98d0b3fb-bce4-4c5f-9c02-eb0e2db6818a",
   "metadata": {},
   "outputs": [
    {
     "data": {
      "text/plain": [
       "3"
      ]
     },
     "execution_count": 85,
     "metadata": {},
     "output_type": "execute_result"
    }
   ],
   "source": [
    "min([len(value) for value in calibration_values])"
   ]
  },
  {
   "cell_type": "code",
   "execution_count": 110,
   "id": "c60b5752-482d-457b-9fe0-5e4ebf32bee2",
   "metadata": {},
   "outputs": [],
   "source": [
    "digitstrings = (\"one\",\"two\",\"three\",\"four\",\"five\",\"six\",\"seven\",\"eight\",\"nine\")\n",
    "digit_mapping = {x: str(i+1) for i, x in enumerate(digitstrings)}"
   ]
  },
  {
   "cell_type": "code",
   "execution_count": 162,
   "id": "e74cea1f-f3f7-4692-b2e3-6190ae9af397",
   "metadata": {},
   "outputs": [],
   "source": [
    "def find_first_digit(value):\n",
    "    for i in range(len(value)):\n",
    "        if value[i].isnumeric():\n",
    "            first_digit = value[i]\n",
    "            return first_digit\n",
    "        else:\n",
    "            for digit in digitstrings:\n",
    "                if digit in value[:i+1]:\n",
    "                    first_digit = digit_mapping[digit]\n",
    "                    return first_digit\n",
    "def find_last_digit(value):\n",
    "    for i in range(len(value), 0, -1):\n",
    "        i-=1\n",
    "        if value[i].isnumeric():\n",
    "            last_digit = value[i]\n",
    "            return last_digit\n",
    "        else:\n",
    "            for digit in digitstrings:\n",
    "                if digit in value[i:]:\n",
    "                    last_digit = digit_mapping[digit]\n",
    "                    return last_digit"
   ]
  },
  {
   "cell_type": "code",
   "execution_count": 163,
   "id": "9e33ba6c-e985-49ef-9a84-ce5cc8705b7f",
   "metadata": {},
   "outputs": [],
   "source": [
    "def scan_digits(value):\n",
    "    first_digit = find_first_digit(value)\n",
    "    last_digit = find_last_digit(value)\n",
    "    return int(\"\".join([first_digit, last_digit]))"
   ]
  },
  {
   "cell_type": "code",
   "execution_count": 164,
   "id": "f2f7b8b0-c223-4d10-815e-4287102494b7",
   "metadata": {},
   "outputs": [],
   "source": [
    "value = tv"
   ]
  },
  {
   "cell_type": "code",
   "execution_count": 165,
   "id": "12edbf1f-ccb9-48f3-9a65-d3b71db4db66",
   "metadata": {},
   "outputs": [
    {
     "data": {
      "text/plain": [
       "13"
      ]
     },
     "execution_count": 165,
     "metadata": {},
     "output_type": "execute_result"
    }
   ],
   "source": [
    "scan_digits(tv)"
   ]
  },
  {
   "cell_type": "code",
   "execution_count": 166,
   "id": "13c1cb67-a516-4ab1-abf6-14123e0512c0",
   "metadata": {},
   "outputs": [
    {
     "name": "stdout",
     "output_type": "stream",
     "text": [
      "expected: 29, found 29 for value two1nine\n",
      "expected: 83, found 83 for value eightwothree\n",
      "expected: 13, found 13 for value abcone2threexyz\n",
      "expected: 24, found 24 for value xtwone3four\n",
      "expected: 42, found 42 for value 4nineeightseven2\n",
      "expected: 14, found 14 for value zoneight234\n",
      "expected: 76, found 76 for value 7pqrstsixteen\n"
     ]
    }
   ],
   "source": [
    "test_values = ['two1nine','eightwothree','abcone2threexyz','xtwone3four','4nineeightseven2','zoneight234','7pqrstsixteen']\n",
    "test_answers = [29, 83, 13, 24, 42, 14, 76]\n",
    "for tv, ta in zip(test_values, test_answers):\n",
    "    print(f\"expected: {ta}, found {scan_digits(tv)} for value {tv}\")"
   ]
  },
  {
   "cell_type": "code",
   "execution_count": 167,
   "id": "7c89f365-ba90-4252-954b-38d366438984",
   "metadata": {},
   "outputs": [
    {
     "data": {
      "text/plain": [
       "54706"
      ]
     },
     "execution_count": 167,
     "metadata": {},
     "output_type": "execute_result"
    }
   ],
   "source": [
    "sum([scan_digits(value) for value in calibration_values])"
   ]
  }
 ],
 "metadata": {
  "kernelspec": {
   "display_name": "Python 3 (ipykernel)",
   "language": "python",
   "name": "python3"
  },
  "language_info": {
   "codemirror_mode": {
    "name": "ipython",
    "version": 3
   },
   "file_extension": ".py",
   "mimetype": "text/x-python",
   "name": "python",
   "nbconvert_exporter": "python",
   "pygments_lexer": "ipython3",
   "version": "3.10.12"
  }
 },
 "nbformat": 4,
 "nbformat_minor": 5
}
